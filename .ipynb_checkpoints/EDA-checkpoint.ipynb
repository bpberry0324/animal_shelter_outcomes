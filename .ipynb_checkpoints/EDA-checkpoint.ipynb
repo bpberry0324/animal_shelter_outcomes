{
 "cells": [
  {
   "cell_type": "code",
   "execution_count": 1,
   "metadata": {},
   "outputs": [],
   "source": [
    "import pandas as pd\n",
    "import numpy as np\n",
    "import matplotlib.pyplot as plt"
   ]
  },
  {
   "cell_type": "code",
   "execution_count": 2,
   "metadata": {},
   "outputs": [],
   "source": [
    "outcomes = pd.read_csv('datasets/outcomes_initial.csv')\n",
    "intakes = pd.read_csv('datasets/intakes_initial.csv')"
   ]
  },
  {
   "cell_type": "code",
   "execution_count": 3,
   "metadata": {},
   "outputs": [
    {
     "data": {
      "text/html": [
       "<div>\n",
       "<style scoped>\n",
       "    .dataframe tbody tr th:only-of-type {\n",
       "        vertical-align: middle;\n",
       "    }\n",
       "\n",
       "    .dataframe tbody tr th {\n",
       "        vertical-align: top;\n",
       "    }\n",
       "\n",
       "    .dataframe thead th {\n",
       "        text-align: right;\n",
       "    }\n",
       "</style>\n",
       "<table border=\"1\" class=\"dataframe\">\n",
       "  <thead>\n",
       "    <tr style=\"text-align: right;\">\n",
       "      <th></th>\n",
       "      <th>Unnamed: 0</th>\n",
       "      <th>animal_id</th>\n",
       "      <th>name</th>\n",
       "      <th>datetime</th>\n",
       "      <th>date_of_birth</th>\n",
       "      <th>outcome_type</th>\n",
       "      <th>outcome_subtype</th>\n",
       "      <th>animal_type</th>\n",
       "      <th>sex_upon_outcome</th>\n",
       "      <th>age_upon_outcome</th>\n",
       "      <th>breed</th>\n",
       "      <th>color</th>\n",
       "      <th>is_named</th>\n",
       "      <th>year</th>\n",
       "      <th>month</th>\n",
       "      <th>day</th>\n",
       "    </tr>\n",
       "  </thead>\n",
       "  <tbody>\n",
       "    <tr>\n",
       "      <th>52520</th>\n",
       "      <td>52600</td>\n",
       "      <td>A006100</td>\n",
       "      <td>Scamp</td>\n",
       "      <td>2014-12-20 16:35:00</td>\n",
       "      <td>07/09/2007</td>\n",
       "      <td>Return to Owner</td>\n",
       "      <td>Unknown</td>\n",
       "      <td>Dog</td>\n",
       "      <td>Neutered Male</td>\n",
       "      <td>7.0</td>\n",
       "      <td>Spinone Italiano Mix</td>\n",
       "      <td>Yellow/White</td>\n",
       "      <td>1</td>\n",
       "      <td>2014</td>\n",
       "      <td>12</td>\n",
       "      <td>Saturday</td>\n",
       "    </tr>\n",
       "    <tr>\n",
       "      <th>94102</th>\n",
       "      <td>94260</td>\n",
       "      <td>A006100</td>\n",
       "      <td>Scamp</td>\n",
       "      <td>2017-12-07 00:00:00</td>\n",
       "      <td>07/09/2007</td>\n",
       "      <td>Return to Owner</td>\n",
       "      <td>Unknown</td>\n",
       "      <td>Dog</td>\n",
       "      <td>Neutered Male</td>\n",
       "      <td>1.0</td>\n",
       "      <td>Spinone Italiano Mix</td>\n",
       "      <td>Yellow/White</td>\n",
       "      <td>1</td>\n",
       "      <td>2017</td>\n",
       "      <td>12</td>\n",
       "      <td>Thursday</td>\n",
       "    </tr>\n",
       "    <tr>\n",
       "      <th>106847</th>\n",
       "      <td>107021</td>\n",
       "      <td>A006100</td>\n",
       "      <td>Scamp</td>\n",
       "      <td>2014-03-08 17:10:00</td>\n",
       "      <td>07/09/2007</td>\n",
       "      <td>Return to Owner</td>\n",
       "      <td>Unknown</td>\n",
       "      <td>Dog</td>\n",
       "      <td>Neutered Male</td>\n",
       "      <td>6.0</td>\n",
       "      <td>Spinone Italiano Mix</td>\n",
       "      <td>Yellow/White</td>\n",
       "      <td>1</td>\n",
       "      <td>2014</td>\n",
       "      <td>3</td>\n",
       "      <td>Saturday</td>\n",
       "    </tr>\n",
       "    <tr>\n",
       "      <th>36253</th>\n",
       "      <td>36315</td>\n",
       "      <td>A047759</td>\n",
       "      <td>Oreo</td>\n",
       "      <td>2014-04-07 15:12:00</td>\n",
       "      <td>04/02/2004</td>\n",
       "      <td>Transfer</td>\n",
       "      <td>Partner</td>\n",
       "      <td>Dog</td>\n",
       "      <td>Neutered Male</td>\n",
       "      <td>1.0</td>\n",
       "      <td>Dachshund</td>\n",
       "      <td>Tricolor</td>\n",
       "      <td>1</td>\n",
       "      <td>2014</td>\n",
       "      <td>4</td>\n",
       "      <td>Monday</td>\n",
       "    </tr>\n",
       "    <tr>\n",
       "      <th>75599</th>\n",
       "      <td>75718</td>\n",
       "      <td>A134067</td>\n",
       "      <td>Bandit</td>\n",
       "      <td>2013-11-16 11:54:00</td>\n",
       "      <td>10/16/1997</td>\n",
       "      <td>Return to Owner</td>\n",
       "      <td>Unknown</td>\n",
       "      <td>Dog</td>\n",
       "      <td>Neutered Male</td>\n",
       "      <td>1.0</td>\n",
       "      <td>Shetland Sheepdog</td>\n",
       "      <td>Brown/White</td>\n",
       "      <td>1</td>\n",
       "      <td>2013</td>\n",
       "      <td>11</td>\n",
       "      <td>Saturday</td>\n",
       "    </tr>\n",
       "  </tbody>\n",
       "</table>\n",
       "</div>"
      ],
      "text/plain": [
       "        Unnamed: 0 animal_id    name             datetime date_of_birth  \\\n",
       "52520        52600   A006100   Scamp  2014-12-20 16:35:00    07/09/2007   \n",
       "94102        94260   A006100   Scamp  2017-12-07 00:00:00    07/09/2007   \n",
       "106847      107021   A006100   Scamp  2014-03-08 17:10:00    07/09/2007   \n",
       "36253        36315   A047759    Oreo  2014-04-07 15:12:00    04/02/2004   \n",
       "75599        75718   A134067  Bandit  2013-11-16 11:54:00    10/16/1997   \n",
       "\n",
       "           outcome_type outcome_subtype animal_type sex_upon_outcome  \\\n",
       "52520   Return to Owner         Unknown         Dog    Neutered Male   \n",
       "94102   Return to Owner         Unknown         Dog    Neutered Male   \n",
       "106847  Return to Owner         Unknown         Dog    Neutered Male   \n",
       "36253          Transfer         Partner         Dog    Neutered Male   \n",
       "75599   Return to Owner         Unknown         Dog    Neutered Male   \n",
       "\n",
       "        age_upon_outcome                 breed         color  is_named  year  \\\n",
       "52520                7.0  Spinone Italiano Mix  Yellow/White         1  2014   \n",
       "94102                1.0  Spinone Italiano Mix  Yellow/White         1  2017   \n",
       "106847               6.0  Spinone Italiano Mix  Yellow/White         1  2014   \n",
       "36253                1.0             Dachshund      Tricolor         1  2014   \n",
       "75599                1.0     Shetland Sheepdog   Brown/White         1  2013   \n",
       "\n",
       "        month       day  \n",
       "52520      12  Saturday  \n",
       "94102      12  Thursday  \n",
       "106847      3  Saturday  \n",
       "36253       4    Monday  \n",
       "75599      11  Saturday  "
      ]
     },
     "execution_count": 3,
     "metadata": {},
     "output_type": "execute_result"
    }
   ],
   "source": [
    "outcomes.sort_values(by='animal_id').head()"
   ]
  },
  {
   "cell_type": "code",
   "execution_count": 4,
   "metadata": {},
   "outputs": [
    {
     "data": {
      "text/html": [
       "<div>\n",
       "<style scoped>\n",
       "    .dataframe tbody tr th:only-of-type {\n",
       "        vertical-align: middle;\n",
       "    }\n",
       "\n",
       "    .dataframe tbody tr th {\n",
       "        vertical-align: top;\n",
       "    }\n",
       "\n",
       "    .dataframe thead th {\n",
       "        text-align: right;\n",
       "    }\n",
       "</style>\n",
       "<table border=\"1\" class=\"dataframe\">\n",
       "  <thead>\n",
       "    <tr style=\"text-align: right;\">\n",
       "      <th></th>\n",
       "      <th>Unnamed: 0</th>\n",
       "      <th>animal_id</th>\n",
       "      <th>name</th>\n",
       "      <th>datetime</th>\n",
       "      <th>found_location</th>\n",
       "      <th>intake_type</th>\n",
       "      <th>intake_condition</th>\n",
       "      <th>animal_type</th>\n",
       "      <th>sex_upon_intake</th>\n",
       "      <th>age_upon_intake</th>\n",
       "      <th>breed</th>\n",
       "      <th>color</th>\n",
       "      <th>is_named</th>\n",
       "      <th>year</th>\n",
       "      <th>month</th>\n",
       "      <th>day</th>\n",
       "    </tr>\n",
       "  </thead>\n",
       "  <tbody>\n",
       "    <tr>\n",
       "      <th>18504</th>\n",
       "      <td>18611</td>\n",
       "      <td>A006100</td>\n",
       "      <td>Scamp</td>\n",
       "      <td>2017-12-07 14:07:00</td>\n",
       "      <td>Colony Creek And Hunters Trace in Austin (TX)</td>\n",
       "      <td>Stray</td>\n",
       "      <td>Normal</td>\n",
       "      <td>Dog</td>\n",
       "      <td>Neutered Male</td>\n",
       "      <td>1.0</td>\n",
       "      <td>Spinone Italiano Mix</td>\n",
       "      <td>Yellow/White</td>\n",
       "      <td>1</td>\n",
       "      <td>2017</td>\n",
       "      <td>12</td>\n",
       "      <td>Thursday</td>\n",
       "    </tr>\n",
       "    <tr>\n",
       "      <th>83530</th>\n",
       "      <td>84062</td>\n",
       "      <td>A006100</td>\n",
       "      <td>Scamp</td>\n",
       "      <td>2014-03-07 14:26:00</td>\n",
       "      <td>8700 Research in Austin (TX)</td>\n",
       "      <td>Public Assist</td>\n",
       "      <td>Normal</td>\n",
       "      <td>Dog</td>\n",
       "      <td>Neutered Male</td>\n",
       "      <td>6.0</td>\n",
       "      <td>Spinone Italiano Mix</td>\n",
       "      <td>Yellow/White</td>\n",
       "      <td>1</td>\n",
       "      <td>2014</td>\n",
       "      <td>3</td>\n",
       "      <td>Friday</td>\n",
       "    </tr>\n",
       "    <tr>\n",
       "      <th>3958</th>\n",
       "      <td>3981</td>\n",
       "      <td>A006100</td>\n",
       "      <td>Scamp</td>\n",
       "      <td>2014-12-19 10:21:00</td>\n",
       "      <td>8700 Research Blvd in Austin (TX)</td>\n",
       "      <td>Public Assist</td>\n",
       "      <td>Normal</td>\n",
       "      <td>Dog</td>\n",
       "      <td>Neutered Male</td>\n",
       "      <td>7.0</td>\n",
       "      <td>Spinone Italiano Mix</td>\n",
       "      <td>Yellow/White</td>\n",
       "      <td>1</td>\n",
       "      <td>2014</td>\n",
       "      <td>12</td>\n",
       "      <td>Friday</td>\n",
       "    </tr>\n",
       "    <tr>\n",
       "      <th>64916</th>\n",
       "      <td>65320</td>\n",
       "      <td>A047759</td>\n",
       "      <td>Oreo</td>\n",
       "      <td>2014-04-02 15:55:00</td>\n",
       "      <td>Austin (TX)</td>\n",
       "      <td>Owner Surrender</td>\n",
       "      <td>Normal</td>\n",
       "      <td>Dog</td>\n",
       "      <td>Neutered Male</td>\n",
       "      <td>1.0</td>\n",
       "      <td>Dachshund</td>\n",
       "      <td>Tricolor</td>\n",
       "      <td>1</td>\n",
       "      <td>2014</td>\n",
       "      <td>4</td>\n",
       "      <td>Wednesday</td>\n",
       "    </tr>\n",
       "    <tr>\n",
       "      <th>88293</th>\n",
       "      <td>88854</td>\n",
       "      <td>A134067</td>\n",
       "      <td>Bandit</td>\n",
       "      <td>2013-11-16 09:02:00</td>\n",
       "      <td>12034 Research Blvd in Austin (TX)</td>\n",
       "      <td>Public Assist</td>\n",
       "      <td>Injured</td>\n",
       "      <td>Dog</td>\n",
       "      <td>Neutered Male</td>\n",
       "      <td>1.0</td>\n",
       "      <td>Shetland Sheepdog</td>\n",
       "      <td>Brown/White</td>\n",
       "      <td>1</td>\n",
       "      <td>2013</td>\n",
       "      <td>11</td>\n",
       "      <td>Saturday</td>\n",
       "    </tr>\n",
       "  </tbody>\n",
       "</table>\n",
       "</div>"
      ],
      "text/plain": [
       "       Unnamed: 0 animal_id    name             datetime  \\\n",
       "18504       18611   A006100   Scamp  2017-12-07 14:07:00   \n",
       "83530       84062   A006100   Scamp  2014-03-07 14:26:00   \n",
       "3958         3981   A006100   Scamp  2014-12-19 10:21:00   \n",
       "64916       65320   A047759    Oreo  2014-04-02 15:55:00   \n",
       "88293       88854   A134067  Bandit  2013-11-16 09:02:00   \n",
       "\n",
       "                                      found_location      intake_type  \\\n",
       "18504  Colony Creek And Hunters Trace in Austin (TX)            Stray   \n",
       "83530                   8700 Research in Austin (TX)    Public Assist   \n",
       "3958               8700 Research Blvd in Austin (TX)    Public Assist   \n",
       "64916                                    Austin (TX)  Owner Surrender   \n",
       "88293             12034 Research Blvd in Austin (TX)    Public Assist   \n",
       "\n",
       "      intake_condition animal_type sex_upon_intake  age_upon_intake  \\\n",
       "18504           Normal         Dog   Neutered Male              1.0   \n",
       "83530           Normal         Dog   Neutered Male              6.0   \n",
       "3958            Normal         Dog   Neutered Male              7.0   \n",
       "64916           Normal         Dog   Neutered Male              1.0   \n",
       "88293          Injured         Dog   Neutered Male              1.0   \n",
       "\n",
       "                      breed         color  is_named  year  month        day  \n",
       "18504  Spinone Italiano Mix  Yellow/White         1  2017     12   Thursday  \n",
       "83530  Spinone Italiano Mix  Yellow/White         1  2014      3     Friday  \n",
       "3958   Spinone Italiano Mix  Yellow/White         1  2014     12     Friday  \n",
       "64916             Dachshund      Tricolor         1  2014      4  Wednesday  \n",
       "88293     Shetland Sheepdog   Brown/White         1  2013     11   Saturday  "
      ]
     },
     "execution_count": 4,
     "metadata": {},
     "output_type": "execute_result"
    }
   ],
   "source": [
    "intakes.sort_values(by='animal_id').head()"
   ]
  },
  {
   "cell_type": "markdown",
   "metadata": {},
   "source": [
    "# Exploratoty Data Analysis"
   ]
  },
  {
   "cell_type": "code",
   "execution_count": 5,
   "metadata": {},
   "outputs": [
    {
     "name": "stdout",
     "output_type": "stream",
     "text": [
      "<class 'pandas.core.frame.DataFrame'>\n",
      "RangeIndex: 128838 entries, 0 to 128837\n",
      "Data columns (total 16 columns):\n",
      " #   Column            Non-Null Count   Dtype  \n",
      "---  ------            --------------   -----  \n",
      " 0   Unnamed: 0        128838 non-null  int64  \n",
      " 1   animal_id         128838 non-null  object \n",
      " 2   name              89214 non-null   object \n",
      " 3   datetime          128838 non-null  object \n",
      " 4   found_location    128838 non-null  object \n",
      " 5   intake_type       128838 non-null  object \n",
      " 6   intake_condition  128838 non-null  object \n",
      " 7   animal_type       128838 non-null  object \n",
      " 8   sex_upon_intake   128838 non-null  object \n",
      " 9   age_upon_intake   128838 non-null  float64\n",
      " 10  breed             128838 non-null  object \n",
      " 11  color             128838 non-null  object \n",
      " 12  is_named          128838 non-null  int64  \n",
      " 13  year              128838 non-null  int64  \n",
      " 14  month             128838 non-null  int64  \n",
      " 15  day               128838 non-null  object \n",
      "dtypes: float64(1), int64(4), object(11)\n",
      "memory usage: 15.7+ MB\n"
     ]
    }
   ],
   "source": [
    "intakes.info()"
   ]
  },
  {
   "cell_type": "code",
   "execution_count": 6,
   "metadata": {},
   "outputs": [
    {
     "name": "stdout",
     "output_type": "stream",
     "text": [
      "<class 'pandas.core.frame.DataFrame'>\n",
      "RangeIndex: 129432 entries, 0 to 129431\n",
      "Data columns (total 16 columns):\n",
      " #   Column            Non-Null Count   Dtype  \n",
      "---  ------            --------------   -----  \n",
      " 0   Unnamed: 0        129432 non-null  int64  \n",
      " 1   animal_id         129432 non-null  object \n",
      " 2   name              89489 non-null   object \n",
      " 3   datetime          129432 non-null  object \n",
      " 4   date_of_birth     129432 non-null  object \n",
      " 5   outcome_type      129432 non-null  object \n",
      " 6   outcome_subtype   129432 non-null  object \n",
      " 7   animal_type       129432 non-null  object \n",
      " 8   sex_upon_outcome  129432 non-null  object \n",
      " 9   age_upon_outcome  129432 non-null  float64\n",
      " 10  breed             129432 non-null  object \n",
      " 11  color             129432 non-null  object \n",
      " 12  is_named          129432 non-null  int64  \n",
      " 13  year              129432 non-null  int64  \n",
      " 14  month             129432 non-null  int64  \n",
      " 15  day               129432 non-null  object \n",
      "dtypes: float64(1), int64(4), object(11)\n",
      "memory usage: 15.8+ MB\n"
     ]
    }
   ],
   "source": [
    "outcomes.info()"
   ]
  },
  {
   "cell_type": "code",
   "execution_count": 7,
   "metadata": {},
   "outputs": [
    {
     "data": {
      "text/html": [
       "<div>\n",
       "<style scoped>\n",
       "    .dataframe tbody tr th:only-of-type {\n",
       "        vertical-align: middle;\n",
       "    }\n",
       "\n",
       "    .dataframe tbody tr th {\n",
       "        vertical-align: top;\n",
       "    }\n",
       "\n",
       "    .dataframe thead th {\n",
       "        text-align: right;\n",
       "    }\n",
       "</style>\n",
       "<table border=\"1\" class=\"dataframe\">\n",
       "  <thead>\n",
       "    <tr style=\"text-align: right;\">\n",
       "      <th></th>\n",
       "      <th>Unnamed: 0</th>\n",
       "      <th>age_upon_intake</th>\n",
       "      <th>is_named</th>\n",
       "      <th>year</th>\n",
       "      <th>month</th>\n",
       "    </tr>\n",
       "  </thead>\n",
       "  <tbody>\n",
       "    <tr>\n",
       "      <th>count</th>\n",
       "      <td>128838.000000</td>\n",
       "      <td>128838.000000</td>\n",
       "      <td>128838.000000</td>\n",
       "      <td>128838.000000</td>\n",
       "      <td>128838.000000</td>\n",
       "    </tr>\n",
       "    <tr>\n",
       "      <th>mean</th>\n",
       "      <td>64821.903344</td>\n",
       "      <td>1.613594</td>\n",
       "      <td>0.692451</td>\n",
       "      <td>2016.872809</td>\n",
       "      <td>6.585231</td>\n",
       "    </tr>\n",
       "    <tr>\n",
       "      <th>std</th>\n",
       "      <td>37426.884437</td>\n",
       "      <td>1.984060</td>\n",
       "      <td>0.461481</td>\n",
       "      <td>2.173692</td>\n",
       "      <td>3.267842</td>\n",
       "    </tr>\n",
       "    <tr>\n",
       "      <th>min</th>\n",
       "      <td>0.000000</td>\n",
       "      <td>0.003000</td>\n",
       "      <td>0.000000</td>\n",
       "      <td>2013.000000</td>\n",
       "      <td>1.000000</td>\n",
       "    </tr>\n",
       "    <tr>\n",
       "      <th>25%</th>\n",
       "      <td>32408.250000</td>\n",
       "      <td>0.167000</td>\n",
       "      <td>0.000000</td>\n",
       "      <td>2015.000000</td>\n",
       "      <td>4.000000</td>\n",
       "    </tr>\n",
       "    <tr>\n",
       "      <th>50%</th>\n",
       "      <td>64818.500000</td>\n",
       "      <td>1.000000</td>\n",
       "      <td>1.000000</td>\n",
       "      <td>2017.000000</td>\n",
       "      <td>7.000000</td>\n",
       "    </tr>\n",
       "    <tr>\n",
       "      <th>75%</th>\n",
       "      <td>97234.750000</td>\n",
       "      <td>2.000000</td>\n",
       "      <td>1.000000</td>\n",
       "      <td>2019.000000</td>\n",
       "      <td>9.000000</td>\n",
       "    </tr>\n",
       "    <tr>\n",
       "      <th>max</th>\n",
       "      <td>129676.000000</td>\n",
       "      <td>9.000000</td>\n",
       "      <td>1.000000</td>\n",
       "      <td>2021.000000</td>\n",
       "      <td>12.000000</td>\n",
       "    </tr>\n",
       "  </tbody>\n",
       "</table>\n",
       "</div>"
      ],
      "text/plain": [
       "          Unnamed: 0  age_upon_intake       is_named           year  \\\n",
       "count  128838.000000    128838.000000  128838.000000  128838.000000   \n",
       "mean    64821.903344         1.613594       0.692451    2016.872809   \n",
       "std     37426.884437         1.984060       0.461481       2.173692   \n",
       "min         0.000000         0.003000       0.000000    2013.000000   \n",
       "25%     32408.250000         0.167000       0.000000    2015.000000   \n",
       "50%     64818.500000         1.000000       1.000000    2017.000000   \n",
       "75%     97234.750000         2.000000       1.000000    2019.000000   \n",
       "max    129676.000000         9.000000       1.000000    2021.000000   \n",
       "\n",
       "               month  \n",
       "count  128838.000000  \n",
       "mean        6.585231  \n",
       "std         3.267842  \n",
       "min         1.000000  \n",
       "25%         4.000000  \n",
       "50%         7.000000  \n",
       "75%         9.000000  \n",
       "max        12.000000  "
      ]
     },
     "execution_count": 7,
     "metadata": {},
     "output_type": "execute_result"
    }
   ],
   "source": [
    "intakes.describe()"
   ]
  },
  {
   "cell_type": "code",
   "execution_count": 8,
   "metadata": {
    "scrolled": true
   },
   "outputs": [
    {
     "data": {
      "text/html": [
       "<div>\n",
       "<style scoped>\n",
       "    .dataframe tbody tr th:only-of-type {\n",
       "        vertical-align: middle;\n",
       "    }\n",
       "\n",
       "    .dataframe tbody tr th {\n",
       "        vertical-align: top;\n",
       "    }\n",
       "\n",
       "    .dataframe thead th {\n",
       "        text-align: right;\n",
       "    }\n",
       "</style>\n",
       "<table border=\"1\" class=\"dataframe\">\n",
       "  <thead>\n",
       "    <tr style=\"text-align: right;\">\n",
       "      <th></th>\n",
       "      <th>Unnamed: 0</th>\n",
       "      <th>age_upon_outcome</th>\n",
       "      <th>is_named</th>\n",
       "      <th>year</th>\n",
       "      <th>month</th>\n",
       "    </tr>\n",
       "  </thead>\n",
       "  <tbody>\n",
       "    <tr>\n",
       "      <th>count</th>\n",
       "      <td>129432.000000</td>\n",
       "      <td>129432.000000</td>\n",
       "      <td>129432.000000</td>\n",
       "      <td>129432.000000</td>\n",
       "      <td>129432.000000</td>\n",
       "    </tr>\n",
       "    <tr>\n",
       "      <th>mean</th>\n",
       "      <td>64820.794525</td>\n",
       "      <td>1.634999</td>\n",
       "      <td>0.691398</td>\n",
       "      <td>2016.860730</td>\n",
       "      <td>6.690679</td>\n",
       "    </tr>\n",
       "    <tr>\n",
       "      <th>std</th>\n",
       "      <td>37424.255200</td>\n",
       "      <td>1.972881</td>\n",
       "      <td>0.461918</td>\n",
       "      <td>2.176509</td>\n",
       "      <td>3.333041</td>\n",
       "    </tr>\n",
       "    <tr>\n",
       "      <th>min</th>\n",
       "      <td>0.000000</td>\n",
       "      <td>0.003000</td>\n",
       "      <td>0.000000</td>\n",
       "      <td>2013.000000</td>\n",
       "      <td>1.000000</td>\n",
       "    </tr>\n",
       "    <tr>\n",
       "      <th>25%</th>\n",
       "      <td>32415.750000</td>\n",
       "      <td>0.250000</td>\n",
       "      <td>0.000000</td>\n",
       "      <td>2015.000000</td>\n",
       "      <td>4.000000</td>\n",
       "    </tr>\n",
       "    <tr>\n",
       "      <th>50%</th>\n",
       "      <td>64814.500000</td>\n",
       "      <td>1.000000</td>\n",
       "      <td>1.000000</td>\n",
       "      <td>2017.000000</td>\n",
       "      <td>7.000000</td>\n",
       "    </tr>\n",
       "    <tr>\n",
       "      <th>75%</th>\n",
       "      <td>97240.250000</td>\n",
       "      <td>2.000000</td>\n",
       "      <td>1.000000</td>\n",
       "      <td>2019.000000</td>\n",
       "      <td>10.000000</td>\n",
       "    </tr>\n",
       "    <tr>\n",
       "      <th>max</th>\n",
       "      <td>129665.000000</td>\n",
       "      <td>9.000000</td>\n",
       "      <td>1.000000</td>\n",
       "      <td>2021.000000</td>\n",
       "      <td>12.000000</td>\n",
       "    </tr>\n",
       "  </tbody>\n",
       "</table>\n",
       "</div>"
      ],
      "text/plain": [
       "          Unnamed: 0  age_upon_outcome       is_named           year  \\\n",
       "count  129432.000000     129432.000000  129432.000000  129432.000000   \n",
       "mean    64820.794525          1.634999       0.691398    2016.860730   \n",
       "std     37424.255200          1.972881       0.461918       2.176509   \n",
       "min         0.000000          0.003000       0.000000    2013.000000   \n",
       "25%     32415.750000          0.250000       0.000000    2015.000000   \n",
       "50%     64814.500000          1.000000       1.000000    2017.000000   \n",
       "75%     97240.250000          2.000000       1.000000    2019.000000   \n",
       "max    129665.000000          9.000000       1.000000    2021.000000   \n",
       "\n",
       "               month  \n",
       "count  129432.000000  \n",
       "mean        6.690679  \n",
       "std         3.333041  \n",
       "min         1.000000  \n",
       "25%         4.000000  \n",
       "50%         7.000000  \n",
       "75%        10.000000  \n",
       "max        12.000000  "
      ]
     },
     "execution_count": 8,
     "metadata": {},
     "output_type": "execute_result"
    }
   ],
   "source": [
    "outcomes.describe()"
   ]
  },
  {
   "cell_type": "markdown",
   "metadata": {},
   "source": [
    "## Distribution of Age"
   ]
  },
  {
   "cell_type": "code",
   "execution_count": 9,
   "metadata": {},
   "outputs": [
    {
     "data": {
      "text/plain": [
       "Text(0, 0.5, 'frequency')"
      ]
     },
     "execution_count": 9,
     "metadata": {},
     "output_type": "execute_result"
    },
    {
     "data": {
      "image/png": "[encoded data removed]",
      "text/plain": [
       "<Figure size 1008x432 with 2 Axes>"
      ]
     },
     "metadata": {
      "needs_background": "light"
     },
     "output_type": "display_data"
    }
   ],
   "source": [
    "# intakes.groupby(['age_upon_intake']).count()\n",
    "plt.figure(figsize = (14, 6))\n",
    "\n",
    "plt.subplot(1, 2, 1)\n",
    "intakes['age_upon_intake'].hist(bins = 100, grid = False, xlabelsize = 12, ylabelsize = 12)\n",
    "plt.title('distribution of Age - intake', fontsize = 18, pad = 12)\n",
    "plt.xlabel(\"Age\", fontsize = 15)\n",
    "plt.ylabel(\"frequency\",fontsize = 15)\n",
    "\n",
    "plt.subplot(1, 2, 2)\n",
    "outcomes['age_upon_outcome'].hist(bins = 100, grid = False, xlabelsize = 12, ylabelsize = 12)\n",
    "plt.title('distribution of Age - outcome', fontsize = 18, pad = 12)\n",
    "plt.xlabel(\"Age\", fontsize = 15)\n",
    "plt.ylabel(\"frequency\",fontsize = 15)"
   ]
  },
  {
   "cell_type": "markdown",
   "metadata": {},
   "source": [
    "## Distribution of Sex"
   ]
  },
  {
   "cell_type": "code",
   "execution_count": 10,
   "metadata": {
    "scrolled": false
   },
   "outputs": [
    {
     "data": {
      "text/plain": [
       "Text(0, 0.5, 'frequency')"
      ]
     },
     "execution_count": 10,
     "metadata": {},
     "output_type": "execute_result"
    },
    {
     "data": {
      "image/png": "[encoded data removed]",
      "text/plain": [
       "<Figure size 1008x432 with 2 Axes>"
      ]
     },
     "metadata": {
      "needs_background": "light"
     },
     "output_type": "display_data"
    }
   ],
   "source": [
    "plt.figure(figsize = (14, 6))\n",
    "\n",
    "plt.subplot(1, 2, 1)\n",
    "intakes['sex_upon_intake'].hist(bins = 20, grid = False, xlabelsize = 12, ylabelsize = 12)\n",
    "plt.title('distribution of sex - intake', fontsize = 18, pad = 12)\n",
    "plt.xlabel(\"Sex\", fontsize = 15)\n",
    "plt.xticks(rotation=45)\n",
    "plt.ylabel(\"frequency\",fontsize = 15)\n",
    "\n",
    "plt.subplot(1, 2, 2)\n",
    "outcomes['sex_upon_outcome'].hist(bins = 20, grid = False, xlabelsize = 12, ylabelsize = 12)\n",
    "plt.title('distribution of sex - outcome', fontsize = 18, pad = 12)\n",
    "plt.xlabel(\"Sex\", fontsize = 15)\n",
    "plt.xticks(rotation=45)\n",
    "plt.ylabel(\"frequency\",fontsize = 15)"
   ]
  },
  {
   "cell_type": "markdown",
   "metadata": {},
   "source": [
    "## Most Frequent Colors"
   ]
  },
  {
   "cell_type": "code",
   "execution_count": 11,
   "metadata": {},
   "outputs": [
    {
     "data": {
      "text/plain": [
       "color\n",
       "Black/White    13470\n",
       "Black          10779\n",
       "Brown Tabby     7358\n",
       "Name: animal_id, dtype: int64"
      ]
     },
     "execution_count": 11,
     "metadata": {},
     "output_type": "execute_result"
    }
   ],
   "source": [
    "intakes.groupby(['color']).count().sort_values(by = 'animal_id', ascending= False)['animal_id'][:3]"
   ]
  },
  {
   "cell_type": "code",
   "execution_count": 12,
   "metadata": {},
   "outputs": [
    {
     "data": {
      "text/plain": [
       "color\n",
       "Black/White    13557\n",
       "Black          10848\n",
       "Brown Tabby     7376\n",
       "Name: animal_id, dtype: int64"
      ]
     },
     "execution_count": 12,
     "metadata": {},
     "output_type": "execute_result"
    }
   ],
   "source": [
    "outcomes.groupby(['color']).count().sort_values(by = 'animal_id', ascending= False)['animal_id'][:3]"
   ]
  },
  {
   "cell_type": "markdown",
   "metadata": {},
   "source": [
    "## Most Frequent Animal Type"
   ]
  },
  {
   "cell_type": "code",
   "execution_count": 13,
   "metadata": {},
   "outputs": [
    {
     "data": {
      "text/plain": [
       "animal_type\n",
       "Dog          72763\n",
       "Cat          48578\n",
       "Other         6866\n",
       "Bird           608\n",
       "Livestock       23\n",
       "Name: animal_id, dtype: int64"
      ]
     },
     "execution_count": 13,
     "metadata": {},
     "output_type": "execute_result"
    }
   ],
   "source": [
    "intakes.groupby(['animal_type']).count().sort_values(by = 'animal_id', ascending= False)['animal_id']"
   ]
  },
  {
   "cell_type": "code",
   "execution_count": 14,
   "metadata": {},
   "outputs": [
    {
     "data": {
      "text/plain": [
       "animal_type\n",
       "Dog          73068\n",
       "Cat          48844\n",
       "Other         6889\n",
       "Bird           610\n",
       "Livestock       21\n",
       "Name: animal_id, dtype: int64"
      ]
     },
     "execution_count": 14,
     "metadata": {},
     "output_type": "execute_result"
    }
   ],
   "source": [
    "outcomes.groupby(['animal_type']).count().sort_values(by = 'animal_id', ascending= False)['animal_id']"
   ]
  },
  {
   "cell_type": "markdown",
   "metadata": {},
   "source": [
    "## Most Frequent Breeds - Top 10"
   ]
  },
  {
   "cell_type": "code",
   "execution_count": 15,
   "metadata": {},
   "outputs": [
    {
     "data": {
      "text/plain": [
       "breed\n",
       "Domestic Shorthair Mix      31113\n",
       "Domestic Shorthair           8678\n",
       "Pit Bull Mix                 8559\n",
       "Labrador Retriever Mix       7001\n",
       "Chihuahua Shorthair Mix      6252\n",
       "Domestic Medium Hair Mix     3145\n",
       "German Shepherd Mix          3091\n",
       "Bat Mix                      1749\n",
       "Bat                          1618\n",
       "Pit Bull                     1563\n",
       "Name: animal_id, dtype: int64"
      ]
     },
     "execution_count": 15,
     "metadata": {},
     "output_type": "execute_result"
    }
   ],
   "source": [
    "intakes.groupby(['breed']).count().sort_values(by = 'animal_id', ascending= False)['animal_id'][:10]"
   ]
  },
  {
   "cell_type": "code",
   "execution_count": 16,
   "metadata": {},
   "outputs": [
    {
     "data": {
      "text/plain": [
       "breed\n",
       "Domestic Shorthair Mix      31588\n",
       "Pit Bull Mix                 8646\n",
       "Domestic Shorthair           8422\n",
       "Labrador Retriever Mix       7071\n",
       "Chihuahua Shorthair Mix      6325\n",
       "Domestic Medium Hair Mix     3183\n",
       "German Shepherd Mix          3110\n",
       "Bat Mix                      1753\n",
       "Bat                          1617\n",
       "Domestic Longhair Mix        1561\n",
       "Name: animal_id, dtype: int64"
      ]
     },
     "execution_count": 16,
     "metadata": {},
     "output_type": "execute_result"
    }
   ],
   "source": [
    "outcomes.groupby(['breed']).count().sort_values(by = 'animal_id', ascending= False)['animal_id'][:10]"
   ]
  },
  {
   "cell_type": "markdown",
   "metadata": {},
   "source": [
    "## Top 3 - Rare Dog Breeds"
   ]
  },
  {
   "cell_type": "code",
   "execution_count": 17,
   "metadata": {},
   "outputs": [
    {
     "data": {
      "text/plain": [
       "breed\n",
       "Affenpinscher                      1\n",
       "Golden Retriever/Cocker Spaniel    1\n",
       "Golden Retriever/Catahoula         1\n",
       "Golden Retriever/Brittany          1\n",
       "Golden Retriever/Border Terrier    1\n",
       "Name: animal_id, dtype: int64"
      ]
     },
     "execution_count": 17,
     "metadata": {},
     "output_type": "execute_result"
    }
   ],
   "source": [
    "intakes[intakes['animal_type']=='Dog'].groupby(['breed']).count().sort_values(by = 'animal_id', ascending= True)['animal_id'][:5]"
   ]
  },
  {
   "cell_type": "code",
   "execution_count": 18,
   "metadata": {},
   "outputs": [
    {
     "data": {
      "text/plain": [
       "breed\n",
       "Affenpinscher                      1\n",
       "Golden Retriever/Catahoula         1\n",
       "Golden Retriever/Brittany          1\n",
       "Golden Retriever/Border Terrier    1\n",
       "Golden Retriever/Bearded Collie    1\n",
       "Name: animal_id, dtype: int64"
      ]
     },
     "execution_count": 18,
     "metadata": {},
     "output_type": "execute_result"
    }
   ],
   "source": [
    "outcomes[outcomes['animal_type']=='Dog'].groupby(['breed']).count().sort_values(by = 'animal_id', ascending= True)['animal_id'][:5]"
   ]
  },
  {
   "cell_type": "markdown",
   "metadata": {},
   "source": [
    "## Annual Distribution "
   ]
  },
  {
   "cell_type": "code",
   "execution_count": 19,
   "metadata": {},
   "outputs": [
    {
     "data": {
      "text/plain": [
       "Text(0, 0.5, 'frequency')"
      ]
     },
     "execution_count": 19,
     "metadata": {},
     "output_type": "execute_result"
    },
    {
     "data": {
      "image/png": "[encoded data removed]",
      "text/plain": [
       "<Figure size 1008x432 with 2 Axes>"
      ]
     },
     "metadata": {
      "needs_background": "light"
     },
     "output_type": "display_data"
    }
   ],
   "source": [
    "plt.figure(figsize = (14, 6))\n",
    "\n",
    "plt.subplot(1, 2, 1)\n",
    "intakes['year'].hist(bins = 24, grid = False, xlabelsize = 12, ylabelsize = 12)\n",
    "plt.title('distribution of Annual -intake', fontsize = 18, pad = 12)\n",
    "plt.xlabel(\"Year\", fontsize = 15)\n",
    "plt.ylabel(\"frequency\",fontsize = 15)\n",
    "\n",
    "plt.subplot(1, 2, 2)\n",
    "outcomes['year'].hist(bins = 24, grid = False, xlabelsize = 12, ylabelsize = 12)\n",
    "plt.title('distribution of Annual -outcome', fontsize = 18, pad = 12)\n",
    "plt.xlabel(\"year\", fontsize = 15)\n",
    "plt.ylabel(\"frequency\",fontsize = 15)"
   ]
  },
  {
   "cell_type": "markdown",
   "metadata": {},
   "source": [
    "## Monthly Distribution"
   ]
  },
  {
   "cell_type": "code",
   "execution_count": 20,
   "metadata": {},
   "outputs": [
    {
     "data": {
      "text/plain": [
       "Text(0, 0.5, 'frequency')"
      ]
     },
     "execution_count": 20,
     "metadata": {},
     "output_type": "execute_result"
    },
    {
     "data": {
      "image/png": "[encoded data removed]",
      "text/plain": [
       "<Figure size 1008x432 with 2 Axes>"
      ]
     },
     "metadata": {
      "needs_background": "light"
     },
     "output_type": "display_data"
    }
   ],
   "source": [
    "plt.figure(figsize = (14, 6))\n",
    "\n",
    "plt.subplot(1, 2, 1)\n",
    "intakes['month'].hist(bins = 24, grid = False, xlabelsize = 12, ylabelsize = 12)\n",
    "plt.title('distribution of monthly-intake', fontsize = 18, pad = 12)\n",
    "plt.xlabel(\"month\", fontsize = 15)\n",
    "plt.ylabel(\"frequency\",fontsize = 15)\n",
    "\n",
    "plt.subplot(1, 2, 2)\n",
    "outcomes['month'].hist(bins = 24, grid = False, xlabelsize = 12, ylabelsize = 12)\n",
    "plt.title('distribution of monthly-outcome', fontsize = 18, pad = 12)\n",
    "plt.xlabel(\"month\", fontsize = 15)\n",
    "plt.ylabel(\"frequency\",fontsize = 15)"
   ]
  },
  {
   "cell_type": "markdown",
   "metadata": {},
   "source": [
    "## Daily Distribution"
   ]
  },
  {
   "cell_type": "code",
   "execution_count": 21,
   "metadata": {
    "scrolled": false
   },
   "outputs": [
    {
     "data": {
      "text/plain": [
       "Text(0, 0.5, 'frequency')"
      ]
     },
     "execution_count": 21,
     "metadata": {},
     "output_type": "execute_result"
    },
    {
     "data": {
      "image/png": "[encoded data removed]",
      "text/plain": [
       "<Figure size 1008x432 with 2 Axes>"
      ]
     },
     "metadata": {
      "needs_background": "light"
     },
     "output_type": "display_data"
    }
   ],
   "source": [
    "plt.figure(figsize = (14, 6))\n",
    "plt.subplot(1, 2, 1)\n",
    "intakes['day'].hist(bins = 24, grid = False, xlabelsize = 12, ylabelsize = 12)\n",
    "plt.title('distribution of daily-intake', fontsize = 18, pad = 12)\n",
    "plt.xlabel(\"day\", fontsize = 15)\n",
    "plt.xticks(rotation=45)\n",
    "plt.ylabel(\"frequency\",fontsize = 15)\n",
    "\n",
    "plt.subplot(1, 2, 2)\n",
    "outcomes['day'].hist(bins = 24, grid = False, xlabelsize = 12, ylabelsize = 12)\n",
    "plt.title('distribution of daily-outcome', fontsize = 18, pad = 12)\n",
    "plt.xlabel(\"day\", fontsize = 15)\n",
    "plt.xticks(rotation=45)\n",
    "plt.ylabel(\"frequency\",fontsize = 15)"
   ]
  },
  {
   "cell_type": "markdown",
   "metadata": {},
   "source": [
    "## Most Frequent Names - Top 5"
   ]
  },
  {
   "cell_type": "code",
   "execution_count": 22,
   "metadata": {},
   "outputs": [
    {
     "data": {
      "text/plain": [
       "name\n",
       "Max      528\n",
       "Bella    475\n",
       "Luna     407\n",
       "Rocky    382\n",
       "Daisy    339\n",
       "Name: animal_id, dtype: int64"
      ]
     },
     "execution_count": 22,
     "metadata": {},
     "output_type": "execute_result"
    }
   ],
   "source": [
    "intakes[intakes['animal_type']=='Dog'].groupby(['name']).count().sort_values(by = 'animal_id', ascending= False)['animal_id'][:5]"
   ]
  },
  {
   "cell_type": "code",
   "execution_count": 23,
   "metadata": {
    "scrolled": true
   },
   "outputs": [
    {
     "data": {
      "text/plain": [
       "name\n",
       "Luna       106\n",
       "Bella       74\n",
       "Kitty       72\n",
       "Charlie     69\n",
       "Shadow      64\n",
       "Name: animal_id, dtype: int64"
      ]
     },
     "execution_count": 23,
     "metadata": {},
     "output_type": "execute_result"
    }
   ],
   "source": [
    "intakes[intakes['animal_type']=='Cat'].groupby(['name']).count().sort_values(by = 'animal_id', ascending= False)['animal_id'][:5]"
   ]
  },
  {
   "cell_type": "markdown",
   "metadata": {},
   "source": [
    "## Distribution of Abnormal Intake conditions"
   ]
  },
  {
   "cell_type": "code",
   "execution_count": 24,
   "metadata": {},
   "outputs": [
    {
     "data": {
      "text/plain": [
       "<matplotlib.axes._subplots.AxesSubplot at 0x165c6a88948>"
      ]
     },
     "execution_count": 24,
     "metadata": {},
     "output_type": "execute_result"
    },
    {
     "data": {
      "image/png": "[encoded data removed]",
      "text/plain": [
       "<Figure size 432x288 with 1 Axes>"
      ]
     },
     "metadata": {
      "needs_background": "light"
     },
     "output_type": "display_data"
    }
   ],
   "source": [
    "intakes[intakes['intake_condition']!='Normal'].groupby(['intake_condition']).count().sort_values(by = 'animal_id', ascending= False)['animal_id'].plot(kind='bar')\n"
   ]
  },
  {
   "cell_type": "code",
   "execution_count": 25,
   "metadata": {},
   "outputs": [
    {
     "data": {
      "text/plain": [
       "<matplotlib.axes._subplots.AxesSubplot at 0x165c6a77848>"
      ]
     },
     "execution_count": 25,
     "metadata": {},
     "output_type": "execute_result"
    },
    {
     "data": {
      "image/png": "[encoded data removed]",
      "text/plain": [
       "<Figure size 432x288 with 1 Axes>"
      ]
     },
     "metadata": {
      "needs_background": "light"
     },
     "output_type": "display_data"
    }
   ],
   "source": [
    "intakes[(intakes['intake_condition']!='Normal') & (intakes['animal_type']=='Dog') ].groupby(['intake_condition']).count().sort_values(by = 'animal_id', ascending= False)['animal_id'].plot(kind='bar',title='Intake condition - Dogs ')"
   ]
  },
  {
   "cell_type": "markdown",
   "metadata": {},
   "source": [
    "## Distribution of Intake Type"
   ]
  },
  {
   "cell_type": "code",
   "execution_count": 26,
   "metadata": {},
   "outputs": [
    {
     "data": {
      "text/plain": [
       "<matplotlib.axes._subplots.AxesSubplot at 0x165c9fc5a08>"
      ]
     },
     "execution_count": 26,
     "metadata": {},
     "output_type": "execute_result"
    },
    {
     "data": {
      "image/png": "[encoded data removed]",
      "text/plain": [
       "<Figure size 432x288 with 1 Axes>"
      ]
     },
     "metadata": {
      "needs_background": "light"
     },
     "output_type": "display_data"
    }
   ],
   "source": [
    "intakes.groupby(['intake_type']).count().sort_values(by = 'animal_id', ascending= False)['animal_id'].plot(kind='bar',title='Intake type - Dogs ')"
   ]
  },
  {
   "cell_type": "code",
   "execution_count": 27,
   "metadata": {},
   "outputs": [
    {
     "data": {
      "text/plain": [
       "<matplotlib.axes._subplots.AxesSubplot at 0x165ce96ef48>"
      ]
     },
     "execution_count": 27,
     "metadata": {},
     "output_type": "execute_result"
    },
    {
     "data": {
      "image/png": "[encoded data removed]",
      "text/plain": [
       "<Figure size 432x288 with 1 Axes>"
      ]
     },
     "metadata": {
      "needs_background": "light"
     },
     "output_type": "display_data"
    }
   ],
   "source": [
    "intakes[intakes['animal_type']=='Cat' ].groupby(['intake_type']).count().sort_values(by = 'animal_id', ascending= False)['animal_id'].plot(kind='bar',title='Intake Type - Cats')"
   ]
  },
  {
   "cell_type": "code",
   "execution_count": null,
   "metadata": {},
   "outputs": [],
   "source": []
  }
 ],
 "metadata": {
  "kernelspec": {
   "display_name": "Python 3",
   "language": "python",
   "name": "python3"
  },
  "language_info": {
   "codemirror_mode": {
    "name": "ipython",
    "version": 3
   },
   "file_extension": ".py",
   "mimetype": "text/x-python",
   "name": "python",
   "nbconvert_exporter": "python",
   "pygments_lexer": "ipython3",
   "version": "3.7.6"
  }
 },
 "nbformat": 4,
 "nbformat_minor": 4
}
