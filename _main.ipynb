{
 "cells": [
  {
   "cell_type": "markdown",
   "id": "1dccf4e2-ed3b-4784-aab4-29e0d8d72d87",
   "metadata": {},
   "source": [
    "# On Animal Outcomes in Austin Shelters"
   ]
  },
  {
   "cell_type": "markdown",
   "id": "2435fb52-683e-4ebf-94ba-0da81ef56546",
   "metadata": {},
   "source": [
    "This survey evaluates the potential to predict adoption outcomes for animals entering the Austin Animal Center shelter system and examines the implications of these findings."
   ]
  },
  {
   "cell_type": "markdown",
   "id": "c21f7a8e-0f88-4158-9ad3-1c6f6507baeb",
   "metadata": {},
   "source": [
    "### Table of Contents:\n",
    "\n",
    "- Part I: Introduction\n",
    "- Part II: Preprocessing Summary\n",
    "- Part III: Predictive Models and Relevant Findings\n",
    "- Part IV: Conclusion"
   ]
  },
  {
   "cell_type": "markdown",
   "id": "7f23204a-5b03-4391-b18d-56412a05edb5",
   "metadata": {},
   "source": [
    "## Part I: Introduction\n",
    "\n",
    "Pet shelters by their nature face enormous pressure to care for and to effect the ultimate wellbeing of animals brought into their care, and to save as many animals as possible. One challenge this creates is capacity management, as shelters have limited space and resources to allocate for this purpose. For these reason, a thorough understanding of the shelter system and of outcome likelihoods for the animals in question is necessary for the fulfillment of its central mission, because it allows a shelter to manage capacity efficiently, both to maximize the potential for adopting out certain animals quickly and for better planning to help as many \"hard cases\" as circumstances allow.\n",
    "\n",
    "This project seeks primarily to meet this need through the development of the strongest model possible in terms of its predictive power as related to an animal's ultimate outcome (i.e. whether or not an animal will be adopted). With such a model fine-tuned to the needs of this or that shelter, how many more animals might saved and found forever homes?"
   ]
  },
  {
   "cell_type": "markdown",
   "id": "c3016cfa-f38a-4813-939b-4052a060bf38",
   "metadata": {},
   "source": [
    "## Part II: Preprocessing Summary\n",
    "\n",
    "The process began with two datasets taken from the Austin Animal Center, one for intake information (or an animal's information upon being brought into the shelter system) and one for outcome information (information pertaining to an animal's being adopted, returned to owner, euthanized, and so on). \n",
    "\n",
    "The first step of preprocessing was to omit problematic/erroneous entries from each dataset. Then columns entered as strings were converted where possible to more model-friendly numeric values, and many features were engineered to experiment with anything that might prove useful for the predictive model. The final step was to merge the Intakes and Outcomes datasets, so that each stay of an animal at last consisted of a single entry in the final dataframe.\n",
    "\n",
    "This process is recorded in `01_initial_cleaning.ipynb`, `02_initial_eda.ipynb`, and `03_master_data_prep.ipynb` in the `appendices/appendix_01_preprocessing` folder.\n",
    "\n",
    "Once the datasets were merged this allowed for additional exploration, found in `04_additional_eda.ipynb` in the same folder."
   ]
  },
  {
   "cell_type": "markdown",
   "id": "afd80e27-b89d-4e50-8a16-b06b4cbf6754",
   "metadata": {},
   "source": [
    "## Part III: Predictive Models and Relevant Findings\n",
    "\n",
    "The final model as it exists in the corresponding StreamLit app filters information entered by the user first based on `intake_type` (that is, the circumstances surrounding an animal's being brought into the shelter), and this determines which version of the model will fit the data when predicting whether or not the animal in question will be adopted. During the modeling process, this allowed for the most accurate results.\n",
    "\n",
    "A more detailed notebook accounting for all the nuances of the model is named `01_models.ipynb` and is found in `appendices/appendix_02_modeling`.\n",
    "\n",
    "As mentioned elsewhere, This notebook does not by itself reflect the robust comprehensiveness of the project team's efforts to find the most apropos model(s) possible. Much time went into attempting the construction of a model that predicted the duration of an animal's stay before their being adopted, but results were weak, at least for these datasets. Additionally, the team fit the data to multiclass predictive models, and these performed consistently well, but were of somewhat less relevance to the project at hand.\n",
    "\n",
    "Many of these exhaustive efforts are recording in the collection of notebooks gathered in the `scrap` folder."
   ]
  },
  {
   "cell_type": "markdown",
   "id": "6e2dc0d9-11ec-4b2e-8d0f-7faf605bb38f",
   "metadata": {},
   "source": [
    "Below is a demonstration of the model's functionality using entries for perhaps one of the most salient intake types--that is, strays.\n",
    "\n",
    "Imports, setting the random seed, and dataset read-in:"
   ]
  },
  {
   "cell_type": "code",
   "execution_count": 2,
   "id": "0e840725-97d7-420a-a11b-f18934316aad",
   "metadata": {},
   "outputs": [],
   "source": [
    "import pandas as pd\n",
    "import numpy as np\n",
    "\n",
    "import matplotlib.pyplot as plt\n",
    "import seaborn as sns\n",
    "\n",
    "import pickle\n",
    "\n",
    "from sklearn.preprocessing import StandardScaler\n",
    "from sklearn.linear_model import Ridge, Lasso, ElasticNet, LinearRegression, RidgeCV, LassoCV, ElasticNetCV, LogisticRegression\n",
    "from sklearn.model_selection import cross_val_score, train_test_split\n",
    "from sklearn.preprocessing import OneHotEncoder, StandardScaler\n",
    "from sklearn.pipeline import Pipeline\n",
    "from sklearn.ensemble import GradientBoostingClassifier\n",
    "from sklearn.metrics import plot_confusion_matrix, classification_report\n",
    "\n",
    "np.random.seed(13)\n",
    "df = pd.read_csv('datasets/model_frame.csv')"
   ]
  },
  {
   "cell_type": "markdown",
   "id": "67bfe981-0399-431f-9caf-0392f4e2be04",
   "metadata": {},
   "source": [
    "Binarization of the target column and some cleanup:"
   ]
  },
  {
   "cell_type": "code",
   "execution_count": 3,
   "id": "0e5ffdbd-4c0a-4bef-8032-ecc0ab6d495d",
   "metadata": {},
   "outputs": [],
   "source": [
    "df['adopted'] = (df['outcome_type'] == 'Adoption').map({True: 1, False:0})\n",
    "\n",
    "df.drop(columns=['outcome_type'], inplace=True)\n",
    "df['month_in'] = df['month_in'].astype(str)"
   ]
  },
  {
   "cell_type": "markdown",
   "id": "3e54961e-36c5-4403-91cb-0da59f3cd1f8",
   "metadata": {},
   "source": [
    "One-hot encoding has a large role in the final model as a result of the many categorical features that needed conversion to be made meaningful. Below, categorical features are encoded and the dataset is re-merged:"
   ]
  },
  {
   "cell_type": "code",
   "execution_count": 4,
   "id": "ee6eb943-61a2-4f80-9b22-2bec1f491915",
   "metadata": {},
   "outputs": [],
   "source": [
    "# get our numeric columns\n",
    "numeric = df.select_dtypes(exclude=object)\n",
    "\n",
    "# get our categorical columns\n",
    "categorical = df.select_dtypes([object])\n",
    "\n",
    "# preserve the names of our categorical data\n",
    "categorical_fnames = categorical.dtypes.keys() # preserve the names\n",
    "\n",
    "# make sure you are importing one hot encoder, or this function will not work\n",
    "enc = OneHotEncoder(sparse=False)\n",
    "\n",
    "# categorical is now an array of arrays \n",
    "categorical = enc.fit_transform(categorical) \n",
    "\n",
    "dummy_cat_names = enc.get_feature_names(categorical_fnames)\n",
    "\n",
    "categorical_df = pd.DataFrame(categorical, columns=dummy_cat_names)\n",
    "\n",
    "df = pd.concat([numeric, categorical_df], axis=1)"
   ]
  },
  {
   "cell_type": "markdown",
   "id": "50e63260-4f7e-40ed-9e93-39ec6d82d733",
   "metadata": {},
   "source": [
    "Dataframe filters to include only animals brought in as strays:"
   ]
  },
  {
   "cell_type": "code",
   "execution_count": 5,
   "id": "1ba48845-57e9-467b-9b4f-743b5fdcf4b4",
   "metadata": {},
   "outputs": [],
   "source": [
    "model_df = df[df['intake_type_Stray'] == 1]\n",
    "model_df.reset_index(inplace=True, drop=True)"
   ]
  },
  {
   "cell_type": "markdown",
   "id": "e40efdb2-5480-4ba9-944a-898cb12fa9ad",
   "metadata": {},
   "source": [
    "Baseline accuracy score in the cell below:"
   ]
  },
  {
   "cell_type": "code",
   "execution_count": 6,
   "id": "afd42ae9-3b74-4d6e-a17a-a38fc9cbee47",
   "metadata": {},
   "outputs": [
    {
     "name": "stdout",
     "output_type": "stream",
     "text": [
      "0    0.550385\n",
      "1    0.449615\n",
      "Name: adopted, dtype: float64\n"
     ]
    }
   ],
   "source": [
    "print(model_df['adopted'].value_counts(normalize=True))"
   ]
  },
  {
   "cell_type": "markdown",
   "id": "b619bb28-b6d7-4b97-8910-d682cb4ca296",
   "metadata": {},
   "source": [
    "Features are divvied up as inputs or as the target variable:"
   ]
  },
  {
   "cell_type": "code",
   "execution_count": 7,
   "id": "5df81464-9828-4764-8d3c-9391fe0946a9",
   "metadata": {},
   "outputs": [],
   "source": [
    "features = (model_df.drop(columns = ['adopted']).columns)\n",
    "X = model_df[features]\n",
    "y = model_df['adopted']"
   ]
  },
  {
   "cell_type": "markdown",
   "id": "73131df3-b446-40d3-a47f-8ff637d97b0d",
   "metadata": {},
   "source": [
    "A standard train-test-split:"
   ]
  },
  {
   "cell_type": "code",
   "execution_count": 8,
   "id": "e5855759-c001-4579-9c48-67fa854dbe76",
   "metadata": {},
   "outputs": [],
   "source": [
    "X_train, X_test, y_train, y_test = train_test_split(X, y, random_state = 42, stratify=y)"
   ]
  },
  {
   "cell_type": "markdown",
   "id": "6ddde608-4155-4428-a707-6412251d0979",
   "metadata": {},
   "source": [
    "A pipeline scales the training data and fits it to our final Gradient Boost Classifier model:"
   ]
  },
  {
   "cell_type": "code",
   "execution_count": 9,
   "id": "60082c95-9454-4d0c-ad46-07995aab2da1",
   "metadata": {},
   "outputs": [
    {
     "data": {
      "text/plain": [
       "Pipeline(steps=[('scaler', StandardScaler()),\n",
       "                ('gbc', GradientBoostingClassifier(random_state=13))])"
      ]
     },
     "execution_count": 9,
     "metadata": {},
     "output_type": "execute_result"
    }
   ],
   "source": [
    "pipe_params = [\n",
    "  ('scaler', StandardScaler()),\n",
    "  ('gbc', GradientBoostingClassifier(random_state=13))\n",
    "]\n",
    "stray_pipe = Pipeline(pipe_params)\n",
    "stray_pipe.fit(X_train, y_train)"
   ]
  },
  {
   "cell_type": "markdown",
   "id": "5ba9e212-f9cb-4fb7-886a-f6796d7285e9",
   "metadata": {},
   "source": [
    "Training and test scores show that the model is fit well and outperforms the baseline by a mile. Mission accomplished."
   ]
  },
  {
   "cell_type": "code",
   "execution_count": 10,
   "id": "7b79b9e5-5188-4d6c-8010-94cd73136e5f",
   "metadata": {},
   "outputs": [
    {
     "name": "stdout",
     "output_type": "stream",
     "text": [
      "Training Score:  0.8328847084442293\n",
      "Testing Score:  0.8286077212720592\n"
     ]
    }
   ],
   "source": [
    "print('Training Score: ', stray_pipe.score(X_train, y_train))\n",
    "print('Testing Score: ', stray_pipe.score(X_test, y_test))"
   ]
  },
  {
   "cell_type": "markdown",
   "id": "508d7217-83e0-48fc-8c9e-0d3e759c73ea",
   "metadata": {},
   "source": [
    "For good measure, a final confusion matrix to outline the model's performance:"
   ]
  },
  {
   "cell_type": "code",
   "execution_count": 11,
   "id": "c1a59796-a8a6-4ff3-8775-2af707644a80",
   "metadata": {},
   "outputs": [
    {
     "name": "stdout",
     "output_type": "stream",
     "text": [
      "              precision    recall  f1-score   support\n",
      "\n",
      "           0       0.92      0.76      0.83     12132\n",
      "           1       0.75      0.92      0.83      9911\n",
      "\n",
      "    accuracy                           0.83     22043\n",
      "   macro avg       0.84      0.84      0.83     22043\n",
      "weighted avg       0.84      0.83      0.83     22043\n",
      "\n"
     ]
    },
    {
     "data": {
      "image/png": "[encoded data removed]",
      "text/plain": [
       "<Figure size 432x288 with 2 Axes>"
      ]
     },
     "metadata": {
      "needs_background": "light"
     },
     "output_type": "display_data"
    }
   ],
   "source": [
    "plot_confusion_matrix(stray_pipe, X_test, y_test);\n",
    "print(classification_report(y_test, stray_pipe.predict(X_test)))"
   ]
  },
  {
   "cell_type": "markdown",
   "id": "c1493e81-9c69-4734-98d6-720abd6f1e93",
   "metadata": {},
   "source": [
    "## Part IV: Conclusion\n",
    "\n",
    "Ultimately, the project team was successful in crafting a model that performs well above the baseline when predicting whether or not an animal is adopted. Key variables include duration of stay and animal age. As the duration of stay increases, so too does likelihood of adoption. As age increases, adoption likelihood decreases."
   ]
  }
 ],
 "metadata": {
  "kernelspec": {
   "display_name": "Python 3",
   "language": "python",
   "name": "python3"
  },
  "language_info": {
   "codemirror_mode": {
    "name": "ipython",
    "version": 3
   },
   "file_extension": ".py",
   "mimetype": "text/x-python",
   "name": "python",
   "nbconvert_exporter": "python",
   "pygments_lexer": "ipython3",
   "version": "3.8.8"
  }
 },
 "nbformat": 4,
 "nbformat_minor": 5
}
