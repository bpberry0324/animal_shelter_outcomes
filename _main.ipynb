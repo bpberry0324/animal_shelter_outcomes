{
 "cells": [
  {
   "cell_type": "markdown",
   "id": "1dccf4e2-ed3b-4784-aab4-29e0d8d72d87",
   "metadata": {},
   "source": [
    "# On Animal Outcomes in Austin Shelters"
   ]
  },
  {
   "cell_type": "markdown",
   "id": "2435fb52-683e-4ebf-94ba-0da81ef56546",
   "metadata": {},
   "source": [
    "Problem statement paragraph/blurb goes here."
   ]
  },
  {
   "cell_type": "markdown",
   "id": "c21f7a8e-0f88-4158-9ad3-1c6f6507baeb",
   "metadata": {},
   "source": [
    "### Table of Contents:\n",
    "\n",
    "- Part I: Introduction\n",
    "- Part II: Preprocessing Summary\n",
    "- Part III: EDA Summary\n",
    "- Part IV: Predictive Models and Relevant Findings\n",
    "- Part V: Streamlit App Summary\n",
    "- Part VI: Conclusion"
   ]
  },
  {
   "cell_type": "markdown",
   "id": "7f23204a-5b03-4391-b18d-56412a05edb5",
   "metadata": {},
   "source": [
    "## Part I: Introduction"
   ]
  },
  {
   "cell_type": "markdown",
   "id": "c3016cfa-f38a-4813-939b-4052a060bf38",
   "metadata": {},
   "source": [
    "## Part II: Preprocessing Summary"
   ]
  },
  {
   "cell_type": "markdown",
   "id": "d53eab03-4ba1-485d-a71a-710858243fc6",
   "metadata": {},
   "source": [
    "## Part III: EDA Summary"
   ]
  },
  {
   "cell_type": "markdown",
   "id": "afd80e27-b89d-4e50-8a16-b06b4cbf6754",
   "metadata": {},
   "source": [
    "## Part IV: Predictive Models and Relevant Findings"
   ]
  },
  {
   "cell_type": "markdown",
   "id": "0c56232c-8b9f-4efc-8d09-76b9cebadc8b",
   "metadata": {},
   "source": [
    "## Part V: Streamlit App Summary"
   ]
  },
  {
   "cell_type": "markdown",
   "id": "c1493e81-9c69-4734-98d6-720abd6f1e93",
   "metadata": {},
   "source": [
    "## Part VI: Conclusion"
   ]
  }
 ],
 "metadata": {
  "kernelspec": {
   "display_name": "Python 3",
   "language": "python",
   "name": "python3"
  },
  "language_info": {
   "codemirror_mode": {
    "name": "ipython",
    "version": 3
   },
   "file_extension": ".py",
   "mimetype": "text/x-python",
   "name": "python",
   "nbconvert_exporter": "python",
   "pygments_lexer": "ipython3",
   "version": "3.8.8"
  }
 },
 "nbformat": 4,
 "nbformat_minor": 5
}
