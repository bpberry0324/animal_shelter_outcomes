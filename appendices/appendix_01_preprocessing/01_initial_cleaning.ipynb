{
 "cells": [
  {
   "cell_type": "code",
   "execution_count": 1,
   "metadata": {},
   "outputs": [],
   "source": [
    "import pandas as pd\n",
    "import numpy as np"
   ]
  },
  {
   "cell_type": "code",
<<<<<<< HEAD
   "execution_count": 2,
=======
   "execution_count": 32,
   "id": "bac425ab-05b0-4d9e-a7b2-31f72f8600c5",
>>>>>>> beb4f4fbdc341db8751dde550b53934b998b4649
   "metadata": {},
   "outputs": [],
   "source": [
    "outcomes = pd.read_csv('../../datasets/Austin_Animal_Center_Outcomes.csv')\n",
    "intakes = pd.read_csv('../../datasets/Austin_Animal_Center_Intakes.csv')"
<<<<<<< HEAD
   ]
  },
  {
   "cell_type": "code",
   "execution_count": 33,
   "id": "d43f7ff2-b011-471c-993d-1805df8ab428",
   "metadata": {},
   "outputs": [
    {
     "data": {
      "text/html": [
       "<div>\n",
       "<style scoped>\n",
       "    .dataframe tbody tr th:only-of-type {\n",
       "        vertical-align: middle;\n",
       "    }\n",
       "\n",
       "    .dataframe tbody tr th {\n",
       "        vertical-align: top;\n",
       "    }\n",
       "\n",
       "    .dataframe thead th {\n",
       "        text-align: right;\n",
       "    }\n",
       "</style>\n",
       "<table border=\"1\" class=\"dataframe\">\n",
       "  <thead>\n",
       "    <tr style=\"text-align: right;\">\n",
       "      <th></th>\n",
       "      <th>Animal ID</th>\n",
       "      <th>Name</th>\n",
       "      <th>DateTime</th>\n",
       "      <th>MonthYear</th>\n",
       "      <th>Found Location</th>\n",
       "      <th>Intake Type</th>\n",
       "      <th>Intake Condition</th>\n",
       "      <th>Animal Type</th>\n",
       "      <th>Sex upon Intake</th>\n",
       "      <th>Age upon Intake</th>\n",
       "      <th>Breed</th>\n",
       "      <th>Color</th>\n",
       "    </tr>\n",
       "  </thead>\n",
       "  <tbody>\n",
       "    <tr>\n",
       "      <th>0</th>\n",
       "      <td>A786884</td>\n",
       "      <td>*Brock</td>\n",
       "      <td>01/03/2019 04:19:00 PM</td>\n",
       "      <td>01/03/2019 04:19:00 PM</td>\n",
       "      <td>2501 Magin Meadow Dr in Austin (TX)</td>\n",
       "      <td>Stray</td>\n",
       "      <td>Normal</td>\n",
       "      <td>Dog</td>\n",
       "      <td>Neutered Male</td>\n",
       "      <td>2 years</td>\n",
       "      <td>Beagle Mix</td>\n",
       "      <td>Tricolor</td>\n",
       "    </tr>\n",
       "    <tr>\n",
       "      <th>1</th>\n",
       "      <td>A706918</td>\n",
       "      <td>Belle</td>\n",
       "      <td>07/05/2015 12:59:00 PM</td>\n",
       "      <td>07/05/2015 12:59:00 PM</td>\n",
       "      <td>9409 Bluegrass Dr in Austin (TX)</td>\n",
       "      <td>Stray</td>\n",
       "      <td>Normal</td>\n",
       "      <td>Dog</td>\n",
       "      <td>Spayed Female</td>\n",
       "      <td>8 years</td>\n",
       "      <td>English Springer Spaniel</td>\n",
       "      <td>White/Liver</td>\n",
       "    </tr>\n",
       "    <tr>\n",
       "      <th>2</th>\n",
       "      <td>A724273</td>\n",
       "      <td>Runster</td>\n",
       "      <td>04/14/2016 06:43:00 PM</td>\n",
       "      <td>04/14/2016 06:43:00 PM</td>\n",
       "      <td>2818 Palomino Trail in Austin (TX)</td>\n",
       "      <td>Stray</td>\n",
       "      <td>Normal</td>\n",
       "      <td>Dog</td>\n",
       "      <td>Intact Male</td>\n",
       "      <td>11 months</td>\n",
       "      <td>Basenji Mix</td>\n",
       "      <td>Sable/White</td>\n",
       "    </tr>\n",
       "    <tr>\n",
       "      <th>3</th>\n",
       "      <td>A665644</td>\n",
       "      <td>NaN</td>\n",
       "      <td>10/21/2013 07:59:00 AM</td>\n",
       "      <td>10/21/2013 07:59:00 AM</td>\n",
       "      <td>Austin (TX)</td>\n",
       "      <td>Stray</td>\n",
       "      <td>Sick</td>\n",
       "      <td>Cat</td>\n",
       "      <td>Intact Female</td>\n",
       "      <td>4 weeks</td>\n",
       "      <td>Domestic Shorthair Mix</td>\n",
       "      <td>Calico</td>\n",
       "    </tr>\n",
       "    <tr>\n",
       "      <th>4</th>\n",
       "      <td>A682524</td>\n",
       "      <td>Rio</td>\n",
       "      <td>06/29/2014 10:38:00 AM</td>\n",
       "      <td>06/29/2014 10:38:00 AM</td>\n",
       "      <td>800 Grove Blvd in Austin (TX)</td>\n",
       "      <td>Stray</td>\n",
       "      <td>Normal</td>\n",
       "      <td>Dog</td>\n",
       "      <td>Neutered Male</td>\n",
       "      <td>4 years</td>\n",
       "      <td>Doberman Pinsch/Australian Cattle Dog</td>\n",
       "      <td>Tan/Gray</td>\n",
       "    </tr>\n",
       "    <tr>\n",
       "      <th>5</th>\n",
       "      <td>A743852</td>\n",
       "      <td>Odin</td>\n",
       "      <td>02/18/2017 12:46:00 PM</td>\n",
       "      <td>02/18/2017 12:46:00 PM</td>\n",
       "      <td>Austin (TX)</td>\n",
       "      <td>Owner Surrender</td>\n",
       "      <td>Normal</td>\n",
       "      <td>Dog</td>\n",
       "      <td>Neutered Male</td>\n",
       "      <td>2 years</td>\n",
       "      <td>Labrador Retriever Mix</td>\n",
       "      <td>Chocolate</td>\n",
       "    </tr>\n",
       "  </tbody>\n",
       "</table>\n",
       "</div>"
      ],
      "text/plain": [
       "  Animal ID     Name                DateTime               MonthYear  \\\n",
       "0   A786884   *Brock  01/03/2019 04:19:00 PM  01/03/2019 04:19:00 PM   \n",
       "1   A706918    Belle  07/05/2015 12:59:00 PM  07/05/2015 12:59:00 PM   \n",
       "2   A724273  Runster  04/14/2016 06:43:00 PM  04/14/2016 06:43:00 PM   \n",
       "3   A665644      NaN  10/21/2013 07:59:00 AM  10/21/2013 07:59:00 AM   \n",
       "4   A682524      Rio  06/29/2014 10:38:00 AM  06/29/2014 10:38:00 AM   \n",
       "5   A743852     Odin  02/18/2017 12:46:00 PM  02/18/2017 12:46:00 PM   \n",
       "\n",
       "                        Found Location      Intake Type Intake Condition  \\\n",
       "0  2501 Magin Meadow Dr in Austin (TX)            Stray           Normal   \n",
       "1     9409 Bluegrass Dr in Austin (TX)            Stray           Normal   \n",
       "2   2818 Palomino Trail in Austin (TX)            Stray           Normal   \n",
       "3                          Austin (TX)            Stray             Sick   \n",
       "4        800 Grove Blvd in Austin (TX)            Stray           Normal   \n",
       "5                          Austin (TX)  Owner Surrender           Normal   \n",
       "\n",
       "  Animal Type Sex upon Intake Age upon Intake  \\\n",
       "0         Dog   Neutered Male         2 years   \n",
       "1         Dog   Spayed Female         8 years   \n",
       "2         Dog     Intact Male       11 months   \n",
       "3         Cat   Intact Female         4 weeks   \n",
       "4         Dog   Neutered Male         4 years   \n",
       "5         Dog   Neutered Male         2 years   \n",
       "\n",
       "                                   Breed        Color  \n",
       "0                             Beagle Mix     Tricolor  \n",
       "1               English Springer Spaniel  White/Liver  \n",
       "2                            Basenji Mix  Sable/White  \n",
       "3                 Domestic Shorthair Mix       Calico  \n",
       "4  Doberman Pinsch/Australian Cattle Dog     Tan/Gray  \n",
       "5                 Labrador Retriever Mix    Chocolate  "
      ]
     },
     "execution_count": 33,
     "metadata": {},
     "output_type": "execute_result"
    }
   ],
   "source": [
    "intakes.head(6)"
   ]
  },
  {
   "cell_type": "code",
   "execution_count": 36,
   "id": "e5eec80e-daec-4fa6-84f1-976cea3822fc",
   "metadata": {},
   "outputs": [
    {
     "data": {
      "text/plain": [
       "array(['Tricolor', 'White/Liver', 'Sable/White', 'Calico', 'Tan/Gray',\n",
       "       'Chocolate', 'Black', 'Black/White', 'Cream Tabby', 'White/Tan',\n",
       "       'Brown/White', 'Brown Tabby/White', 'Brown Tabby', 'Torbie',\n",
       "       'Tan/White', 'Brown', 'White/Black', 'Blue', 'White',\n",
       "       'Brown Brindle/White', 'Gray Tabby', 'Tan', 'Chocolate/Brown',\n",
       "       'White/Gray', 'Tortie', 'Black/Gray', 'Brown Merle',\n",
       "       'Orange Tabby', 'White/Blue', 'Sable/Tan', 'Brown/Black',\n",
       "       'Black/Tricolor', 'Black/Brown Brindle', 'Gray/Black',\n",
       "       'Blue Tabby', 'Yellow', 'White/Cream', 'Cream Tabby/White',\n",
       "       'Black/Tan', 'Blue/White', 'Black/Brown', 'Brown/Yellow',\n",
       "       'White/Brown', 'Cream/White', 'Gray', 'Orange Tabby/White',\n",
       "       'Brown Tiger/White', 'Brown Tabby/Black', 'Chocolate/White',\n",
       "       'Tan/Black', 'Chocolate/Tan', 'White/Brown Tabby', 'Buff/White',\n",
       "       'Cream', 'Tricolor/Brown', 'Gray/White', 'Gray/Yellow',\n",
       "       'Fawn/White', 'Red/White', 'Blue Tabby/White', 'Lynx Point',\n",
       "       'Blue Merle', 'Brown Brindle', 'White/Brown Brindle', 'Red',\n",
       "       'Blue Tiger/White', 'Black Brindle', 'Cream/Black', 'Calico/White',\n",
       "       'Blue Cream/White', 'Black Brindle/White', 'Chocolate Point',\n",
       "       'Black/Black', 'Red/Black', 'Buff', 'Gold/White', 'Black/Buff',\n",
       "       'Tan/Brown', 'Brown/Tan', 'Black/Blue', 'Silver', 'Black Tabby',\n",
       "       'Black Smoke', 'Cream/Brown', 'Red Tick', 'Silver Tabby',\n",
       "       'Tricolor/White', 'Black Smoke/White', 'Gray Tabby/Black',\n",
       "       'Blue Merle/White', 'Sable', 'Black/Blue Tick', 'Tan/Blue Merle',\n",
       "       'Seal Point/White', 'White/Buff', 'Brown/Silver', 'Gray/Tan',\n",
       "       'Fawn', 'Apricot', 'White/Tricolor', 'Brown Tiger',\n",
       "       'Lynx Point/Gray', 'Blue/Tan', 'Blue Cream', 'White/Yellow',\n",
       "       'Seal Point', 'Red Merle', 'Cream/Tan', 'Torbie/White',\n",
       "       'White/Chocolate', 'White/Red', 'Tan/Tricolor',\n",
       "       'Brown Merle/Chocolate', 'Tortie/White', 'Lilac Point',\n",
       "       'Gray/Pink', 'Gold', 'Blue Merle/Cream', 'Fawn/Black',\n",
       "       'Gray/Orange', 'Brown Tabby/Orange', 'Brown/Tricolor',\n",
       "       'Lynx Point/Tan', 'Flame Point', 'Brown Merle/White',\n",
       "       'Cream Tabby/Orange Tabby', 'Orange/White', 'Blue Merle/Red',\n",
       "       'Red/Brown', 'Blue Tick', 'White/Blue Tabby', 'Black/Yellow',\n",
       "       'Blue Point', 'Brown/Brown', 'Tortie/Blue Cream', 'Silver/Cream',\n",
       "       'Blue Tick/Black', 'Red Merle/White', 'Sable/Brown',\n",
       "       'Gray Tabby/White', 'White/Cream Tabby', 'Lynx Point/White',\n",
       "       'Tricolor/Black', 'Sable/Black', 'Tortie Point', 'Gray/Cream',\n",
       "       'Brown/Gray', 'Torbie/Calico', 'White/Blue Merle', 'Gray/Brown',\n",
       "       'Gray/Gray', 'Red Merle/Black', 'White/Orange', 'Yellow/White',\n",
       "       'White/Black Brindle', 'Orange', 'White/Orange Tabby',\n",
       "       'White/Brown Merle', 'Gold/Brown', 'Tan/Buff', 'Red Tick/Tricolor',\n",
       "       'Black/Red', 'Black Tabby/White', 'Silver/Brown', 'Silver/Tan',\n",
       "       'Silver Tabby/White', 'Gold/Gold', 'Red Tick/White',\n",
       "       'Chocolate/Tricolor', 'Calico/Black', 'Brown Brindle/Black',\n",
       "       'Tan/Silver', 'Chocolate/Cream', 'Agouti/Gray',\n",
       "       'Lynx Point/Tortie Point', 'Liver/White', 'Black/Cream',\n",
       "       'Tan/Cream', 'Silver/Black', 'Red/Tan', 'Brown Brindle/Brown',\n",
       "       'Yellow/Black', 'Gold/Black', 'Orange Tabby/Cream', 'Blue/Black',\n",
       "       'White/Black Tabby', 'Black/Chocolate', 'Tricolor/Brown Merle',\n",
       "       'Tan/Tan', 'White/Black Tiger', 'Blue/Gray', 'Brown/Red',\n",
       "       'Blue/Tricolor', 'Brown Brindle/Blue', 'Chocolate/Brown Brindle',\n",
       "       'Yellow Brindle/White', 'Blue Tick/Tan', 'Brown/Fawn',\n",
       "       'Black Brindle/Brown', 'Tricolor/Brown Brindle',\n",
       "       'Red Tick/Brown Brindle', 'White/Fawn', 'Black/Silver',\n",
       "       'Fawn/Tricolor', 'Red/Red Tick', 'Blue Tick/Brown', 'White/White',\n",
       "       'Calico/Brown Tabby', 'Yellow Brindle', 'Sable/Cream',\n",
       "       'Gray/Silver', 'Black/Brown Tabby', 'Green', 'Brown/Pink',\n",
       "       'Red/Cream', 'Silver Lynx Point/Gray', 'Apricot/Tricolor',\n",
       "       'Tricolor/Red Tick', 'Cream/Silver', 'Silver Lynx Point',\n",
       "       'Tan/Fawn', 'Brown Tabby/Gray', 'White/Silver', 'Brown/Chocolate',\n",
       "       'Blue Merle/Tan', 'Black/Fawn', 'Gray/Red', 'Green/Yellow',\n",
       "       'Brown/Brown Merle', 'White/Silver Tabby', 'Gray/Brown Brindle',\n",
       "       'Red/Silver', 'Blue Tabby/Cream', 'Sable/Gray', 'Gray/Tortie',\n",
       "       'Calico Point', 'Blue/Brown', 'Blue Merle/Black',\n",
       "       'White/Gray Tabby', 'Black Brindle/Black', 'Brown Tabby/Brown',\n",
       "       'Blue Tabby/Buff', 'Blue Smoke', 'Blue/Cream', 'Silver/Orange',\n",
       "       'Tan/Brown Brindle', 'Brown/Cream', 'Brown Brindle/Tan',\n",
       "       'Buff/Yellow', 'Calico Point/White', 'Buff/Tan', 'Red/Gray',\n",
       "       'Black/Black Brindle', 'White/Tortie', 'Pink', 'Yellow/Green',\n",
       "       'Green/Red', 'Chocolate Point/White', 'Brown/Brown Tabby',\n",
       "       'Red/Yellow', 'Black/Blue Merle', 'Silver/Red', 'Apricot/White',\n",
       "       'White/Calico', 'Silver/Gray', 'White/Chocolate Point',\n",
       "       'Yellow/Tan', 'Tan/Gold', 'Brown/Brown Brindle',\n",
       "       'Brown Merle/Brown Tabby', 'Chocolate/Liver Tick', 'Tortie/Black',\n",
       "       'Blue Tick/White', 'Orange/Brown', 'Gold/Yellow',\n",
       "       'Blue Merle/Brown', 'Brown Tabby/Calico', 'White/Yellow Brindle',\n",
       "       'Silver/White', 'Sable/Red Merle', 'Cream/Red', 'Chocolate/Black',\n",
       "       'Orange/Orange Tabby', 'White/Red Merle', 'White/Seal Point',\n",
       "       'Black/Orange', 'White/Blue Tick', 'Brown Brindle/Blue Tick',\n",
       "       'Blue Tiger', 'Buff/Brown', 'Buff/Black', 'Tricolor/Silver',\n",
       "       'Tricolor/Tan', 'Blue/Tortie', 'White/Green', 'Lilac Point/White',\n",
       "       'Liver Tick', 'Agouti', 'Torbie/Gray', 'Black/Black Smoke',\n",
       "       'White/Red Tick', 'Blue Merle/Tricolor', 'Torbie/Blue Cream',\n",
       "       'Black/Gold', 'Blue Tabby/Tortie', 'Gray/Blue Merle',\n",
       "       'Tortie/Gray', 'Blue Tabby/Brown', 'Cream/Brown Merle',\n",
       "       'Brown Tabby/Cream', 'Brown/Green', 'Blue Tabby/Orange',\n",
       "       'Tricolor/Blue Tick', 'Red/Buff', 'Tortie/Orange', 'Tan/Red',\n",
       "       'Yellow/Orange Tabby', 'Sable/Buff', 'Tricolor/Blue Merle',\n",
       "       'Blue Tick/Tricolor', 'Liver/Chocolate', 'Sable/Red',\n",
       "       'Black/Gray Tabby', 'Black Smoke/Brown Tabby', 'Cream/Seal Point',\n",
       "       'Torbie/Brown Tabby', 'Gray/Blue', 'White/Brown Tiger',\n",
       "       'Tortie/Tortie', 'Brown/Buff', 'Brown Tabby/Brown Tabby',\n",
       "       'White/Black Smoke', 'White/Lynx Point', 'Blue/Brown Brindle',\n",
       "       'Apricot/Brown', 'Tan/Blue', 'Brown/Orange', 'Tricolor/Blue',\n",
       "       'Cream/Gray', 'Brown Brindle/Red Tick', 'Black/Green',\n",
       "       'Tricolor/Gray', 'Red Tick/Brown', 'Brown/Black Tabby',\n",
       "       'Blue/Yellow Brindle', 'Orange/Tan', 'Liver', 'Cream/Yellow',\n",
       "       'Fawn/Tan', 'Tortie Point/Lynx Point', 'Buff/Red',\n",
       "       'Chocolate/Gray', 'Gray/Gray Tabby', 'Black/Yellow Brindle',\n",
       "       'Gold/Gray', 'Tortie Point/Seal Point', 'Black/Seal Point',\n",
       "       'Fawn/Blue', 'Yellow/Gray', 'Silver/Silver Tabby',\n",
       "       'Blue Cream/Tortie', 'Gray/Gold', 'Brown Tabby/Silver',\n",
       "       'Yellow/Orange', 'Brown/Red Tick', 'Black Tabby/Orange',\n",
       "       'Black Smoke/Black Tiger', 'Fawn/Chocolate', 'Black Tiger/White',\n",
       "       'Torbie/Brown', 'Chocolate/Gold', 'Red Tick/Tan',\n",
       "       'Calico/Tricolor', 'Red/Tricolor', 'Chocolate/Fawn', 'Gray/Green',\n",
       "       'Blue/Silver', 'Red/Red Merle', 'Yellow/Cream', 'Blue/Orange',\n",
       "       'Chocolate/Red', 'Tortie Point/White', 'Calico/Brown',\n",
       "       'Brown/Blue Merle', 'Black Tabby/Black', 'Brown Merle/Black',\n",
       "       'Brown Tabby/Tortie', 'Yellow Brindle/Blue', 'Green/Orange',\n",
       "       'Cream/Blue Point', 'Gray/Tricolor', 'Cream Tiger', 'White/Gold',\n",
       "       'Tan/Red Tick', 'Fawn/Brown', 'Blue Point/White', 'Tan/Red Merle',\n",
       "       'Calico/Calico', 'Brown Merle/Tan', 'White/Liver Tick',\n",
       "       'Blue Cream/Blue Tiger', 'Black/Pink', 'Blue Smoke/White',\n",
       "       'Cream Tiger/Brown Tabby', 'Red Tick/Red', 'Liver/Tan',\n",
       "       'Chocolate/Chocolate', 'Tortie/Brown', 'Gray Tabby/Orange',\n",
       "       'Red/Gold', 'Fawn/Gray', 'Blue Tabby/Tan', 'Tortie/Calico',\n",
       "       'Orange Tabby/Brown', 'Blue Merle/Red Merle', 'Lilac Point/Cream',\n",
       "       'Tan/Apricot', 'Brown Merle/Brown', 'Blue Cream/Blue Tabby',\n",
       "       'Black/Brown Merle', 'Silver Tabby/Black', 'Torbie/Blue Tabby',\n",
       "       'Blue/Black Brindle', 'Tan/Yellow', 'Black/Black Tabby',\n",
       "       'Blue/Blue', 'Brown Tabby/Black Tabby', 'Gold/Tan',\n",
       "       'Flame Point/White', 'Brown Brindle/Tricolor', 'Blue Tabby/Black',\n",
       "       'Green/Brown', 'Green/White', 'White/Blue Cream',\n",
       "       'Tan/Brown Merle', 'Orange Tiger', 'Buff/Cream',\n",
       "       'Seal Point/Brown', 'White/Pink', 'Brown Brindle/Gray',\n",
       "       'Black Brindle/Brown Brindle', 'White/Apricot', 'Red Merle/Tan',\n",
       "       'Orange Tabby/Orange', 'Orange/Black', 'Tortie/Blue',\n",
       "       'Blue Tick/Red', 'Blue/Calico', 'Chocolate/Brown Merle',\n",
       "       'White/Gray Tiger', 'Torbie/Black', 'Brown Merle/Gray',\n",
       "       'Tricolor/Orange', 'Calico/Gray Tabby', 'Blue Tabby/Blue Cream',\n",
       "       'Lynx Point/Blue', 'Orange/Gray', 'Red Tick/Black', 'Gray/Buff',\n",
       "       'Lilac Point/Gray', 'Liver Tick/White', 'Brown Tabby/Blue',\n",
       "       'Blue Tick/Brown Brindle', 'Black Tabby/Gray', 'Green/Gray',\n",
       "       'Yellow/Red', 'Seal Point/Cream', 'White/Lilac Point',\n",
       "       'Flame Point/Cream', 'Agouti/White', 'Cream/Tricolor',\n",
       "       'Black Brindle/Blue Tick', 'Cream Tabby/Cream Tabby',\n",
       "       'Seal Point/Buff', 'Black Tiger', 'Calico/Orange Tabby',\n",
       "       'Gray Tabby/Gray', 'White/Blue Tiger', 'Gray Tabby/Brown Tabby',\n",
       "       'Green/Blue', 'Black/Tortie', 'Calico/Blue Cream',\n",
       "       'Tan/Yellow Brindle', 'Buff/Gray', 'Brown Brindle/Brown Merle',\n",
       "       'Orange Tabby/Black', 'Blue/Yellow', 'Red Tick/Blue Tick',\n",
       "       'Yellow/Brown', 'Gold/Cream', 'Chocolate/Brown Tabby',\n",
       "       'Tortie/Black Smoke', 'Red/Red', 'Orange/Blue', 'Seal Point/Gray',\n",
       "       'Liver/Buff', 'Gold/Silver', 'Brown Tabby/Agouti',\n",
       "       'Red/Brown Brindle', 'Brown/Black Smoke', 'Red/Green',\n",
       "       'Tricolor/Red', 'Brown/Black Brindle', 'White/Flame Point',\n",
       "       'Brown/Red Merle', 'Calico/Orange', 'Red Tick/Brown Merle',\n",
       "       'Silver/Chocolate', 'Orange Tabby/Orange Tabby',\n",
       "       'Brown Tabby/Lynx Point', 'Cream/Blue', 'Blue Tick/Red Tick',\n",
       "       'Green/Silver', 'Tricolor/Calico', 'Liver/Liver Tick',\n",
       "       'Black Smoke/Brown', 'Brown Tabby/Black Brindle',\n",
       "       'Red Merle/Brown Merle', 'Blue Smoke/Brown', 'Blue Merle/Gray',\n",
       "       'Brown/Blue', 'Calico/Blue Tabby', 'Black/Silver Tabby',\n",
       "       'Tan/Chocolate Point', 'Cream/Red Tick', 'White/Agouti',\n",
       "       'Cream/Orange', 'Blue Smoke/Gray', 'Brown/Apricot',\n",
       "       'Tortie Point/Cream', 'Black Smoke/Gray', 'Silver/Blue',\n",
       "       'Fawn/Brown Brindle', 'Black Smoke/Chocolate', 'Blue/Green',\n",
       "       'Gold/Buff', 'Black Brindle/Blue', 'Orange Tabby/Apricot',\n",
       "       'Green/Black', 'Blue Cream/Buff', 'Lynx Point/Gray Tabby',\n",
       "       'Blue Point/Cream', 'Brown Brindle/Blue Cream',\n",
       "       'Tricolor/Chocolate', 'Ruddy/Cream', 'Gray/Fawn',\n",
       "       'Chocolate/Red Tick', 'Brown Tiger/Brown', 'Cream Tabby/Orange',\n",
       "       'Black Brindle/Tan', 'Brown Merle/Blue Merle',\n",
       "       'Blue Merle/Blue Merle', 'Brown/Liver',\n",
       "       'Orange Tabby/Tortie Point', 'White/Calico Point',\n",
       "       'Agouti/Brown Tabby', 'Chocolate Point/Cream', 'Lilac Point/Black',\n",
       "       'Yellow/Yellow', 'Brown Brindle/Liver Tick', 'Torbie/Silver Tabby',\n",
       "       'Brown Brindle/Brown Brindle', 'Calico Point/Lynx Point',\n",
       "       'Chocolate/Yellow', 'Chocolate/Blue Tick', 'Yellow/Blue',\n",
       "       'Brown Tabby/Orange Tabby', 'Lynx Point/Brown Tabby',\n",
       "       'Tricolor/Cream', 'Cream/Cream', 'Black Smoke/Black',\n",
       "       'Silver Lynx Point/White', 'Red/Blue', 'Lynx Point/Cream',\n",
       "       'Tan/Cream Tabby', 'Fawn/Cream', 'Calico Point/Gray',\n",
       "       'Black Smoke/Blue Tick', 'Blue Merle/Brown Brindle', 'Brown/Gold',\n",
       "       'Tortie/Blue Tabby', 'Agouti/Cream', 'Tortie Point/Blue',\n",
       "       'Tortie/Gold', 'Black Tabby/Gray Tabby', 'Brown Tabby/Gray Tabby',\n",
       "       'Tricolor/Tricolor', 'Red Merle/Red Merle', 'Red Merle/Tricolor',\n",
       "       'Chocolate/Seal Point', 'Cream/Gold', 'Brown/Seal Point',\n",
       "       'Gray Tabby/Brown', 'Brown Brindle/Black Brindle',\n",
       "       'Red Tick/Orange', 'Liver/Blue', 'Calico/Gray', 'Red Merle/Brown',\n",
       "       'Green/Gold', 'Red Tick/Blue', 'Blue Tiger/Tan', 'Brown Tabby/Red',\n",
       "       'Black Smoke/Black Tabby'], dtype=object)"
      ]
     },
     "execution_count": 36,
     "metadata": {},
     "output_type": "execute_result"
    }
   ],
   "source": [
    "intakes['Color'].unique()"
=======
>>>>>>> d6ddb04497c7cd50f914314511a2aa100f8f544d
   ]
  },
  {
   "cell_type": "code",
   "execution_count": 3,
   "metadata": {},
   "outputs": [
    {
     "data": {
      "text/html": [
       "<div>\n",
       "<style scoped>\n",
       "    .dataframe tbody tr th:only-of-type {\n",
       "        vertical-align: middle;\n",
       "    }\n",
       "\n",
       "    .dataframe tbody tr th {\n",
       "        vertical-align: top;\n",
       "    }\n",
       "\n",
       "    .dataframe thead th {\n",
       "        text-align: right;\n",
       "    }\n",
       "</style>\n",
       "<table border=\"1\" class=\"dataframe\">\n",
       "  <thead>\n",
       "    <tr style=\"text-align: right;\">\n",
       "      <th></th>\n",
       "      <th>Animal ID</th>\n",
       "      <th>Name</th>\n",
       "      <th>DateTime</th>\n",
       "      <th>MonthYear</th>\n",
       "      <th>Date of Birth</th>\n",
       "      <th>Outcome Type</th>\n",
       "      <th>Outcome Subtype</th>\n",
       "      <th>Animal Type</th>\n",
       "      <th>Sex upon Outcome</th>\n",
       "      <th>Age upon Outcome</th>\n",
       "      <th>Breed</th>\n",
       "      <th>Color</th>\n",
       "    </tr>\n",
       "  </thead>\n",
       "  <tbody>\n",
       "    <tr>\n",
       "      <th>0</th>\n",
       "      <td>A794011</td>\n",
       "      <td>Chunk</td>\n",
       "      <td>05/08/2019 06:20:00 PM</td>\n",
       "      <td>05/08/2019 06:20:00 PM</td>\n",
       "      <td>05/02/2017</td>\n",
       "      <td>Rto-Adopt</td>\n",
       "      <td>NaN</td>\n",
       "      <td>Cat</td>\n",
       "      <td>Neutered Male</td>\n",
       "      <td>2 years</td>\n",
       "      <td>Domestic Shorthair Mix</td>\n",
       "      <td>Brown Tabby/White</td>\n",
       "    </tr>\n",
       "    <tr>\n",
       "      <th>1</th>\n",
       "      <td>A776359</td>\n",
       "      <td>Gizmo</td>\n",
       "      <td>07/18/2018 04:02:00 PM</td>\n",
       "      <td>07/18/2018 04:02:00 PM</td>\n",
       "      <td>07/12/2017</td>\n",
       "      <td>Adoption</td>\n",
       "      <td>NaN</td>\n",
       "      <td>Dog</td>\n",
       "      <td>Neutered Male</td>\n",
       "      <td>1 year</td>\n",
       "      <td>Chihuahua Shorthair Mix</td>\n",
       "      <td>White/Brown</td>\n",
       "    </tr>\n",
       "    <tr>\n",
       "      <th>2</th>\n",
       "      <td>A821648</td>\n",
       "      <td>NaN</td>\n",
       "      <td>08/16/2020 11:38:00 AM</td>\n",
       "      <td>08/16/2020 11:38:00 AM</td>\n",
       "      <td>08/16/2019</td>\n",
       "      <td>Euthanasia</td>\n",
       "      <td>NaN</td>\n",
       "      <td>Other</td>\n",
       "      <td>Unknown</td>\n",
       "      <td>1 year</td>\n",
       "      <td>Raccoon</td>\n",
       "      <td>Gray</td>\n",
       "    </tr>\n",
       "    <tr>\n",
       "      <th>3</th>\n",
       "      <td>A720371</td>\n",
       "      <td>Moose</td>\n",
       "      <td>02/13/2016 05:59:00 PM</td>\n",
       "      <td>02/13/2016 05:59:00 PM</td>\n",
       "      <td>10/08/2015</td>\n",
       "      <td>Adoption</td>\n",
       "      <td>NaN</td>\n",
       "      <td>Dog</td>\n",
       "      <td>Neutered Male</td>\n",
       "      <td>4 months</td>\n",
       "      <td>Anatol Shepherd/Labrador Retriever</td>\n",
       "      <td>Buff</td>\n",
       "    </tr>\n",
       "    <tr>\n",
       "      <th>4</th>\n",
       "      <td>A674754</td>\n",
       "      <td>NaN</td>\n",
       "      <td>03/18/2014 11:47:00 AM</td>\n",
       "      <td>03/18/2014 11:47:00 AM</td>\n",
       "      <td>03/12/2014</td>\n",
       "      <td>Transfer</td>\n",
       "      <td>Partner</td>\n",
       "      <td>Cat</td>\n",
       "      <td>Intact Male</td>\n",
       "      <td>6 days</td>\n",
       "      <td>Domestic Shorthair Mix</td>\n",
       "      <td>Orange Tabby</td>\n",
       "    </tr>\n",
       "  </tbody>\n",
       "</table>\n",
       "</div>"
      ],
      "text/plain": [
       "  Animal ID   Name                DateTime               MonthYear  \\\n",
       "0   A794011  Chunk  05/08/2019 06:20:00 PM  05/08/2019 06:20:00 PM   \n",
       "1   A776359  Gizmo  07/18/2018 04:02:00 PM  07/18/2018 04:02:00 PM   \n",
       "2   A821648    NaN  08/16/2020 11:38:00 AM  08/16/2020 11:38:00 AM   \n",
       "3   A720371  Moose  02/13/2016 05:59:00 PM  02/13/2016 05:59:00 PM   \n",
       "4   A674754    NaN  03/18/2014 11:47:00 AM  03/18/2014 11:47:00 AM   \n",
       "\n",
       "  Date of Birth Outcome Type Outcome Subtype Animal Type Sex upon Outcome  \\\n",
       "0    05/02/2017    Rto-Adopt             NaN         Cat    Neutered Male   \n",
       "1    07/12/2017     Adoption             NaN         Dog    Neutered Male   \n",
       "2    08/16/2019   Euthanasia             NaN       Other          Unknown   \n",
       "3    10/08/2015     Adoption             NaN         Dog    Neutered Male   \n",
       "4    03/12/2014     Transfer         Partner         Cat      Intact Male   \n",
       "\n",
       "  Age upon Outcome                               Breed              Color  \n",
       "0          2 years              Domestic Shorthair Mix  Brown Tabby/White  \n",
       "1           1 year             Chihuahua Shorthair Mix        White/Brown  \n",
       "2           1 year                             Raccoon               Gray  \n",
       "3         4 months  Anatol Shepherd/Labrador Retriever               Buff  \n",
       "4           6 days              Domestic Shorthair Mix       Orange Tabby  "
      ]
     },
     "execution_count": 3,
     "metadata": {},
     "output_type": "execute_result"
    }
   ],
   "source": [
    "outcomes.head()"
   ]
  },
  {
   "cell_type": "code",
   "execution_count": 4,
   "metadata": {},
   "outputs": [
    {
     "data": {
      "text/html": [
       "<div>\n",
       "<style scoped>\n",
       "    .dataframe tbody tr th:only-of-type {\n",
       "        vertical-align: middle;\n",
       "    }\n",
       "\n",
       "    .dataframe tbody tr th {\n",
       "        vertical-align: top;\n",
       "    }\n",
       "\n",
       "    .dataframe thead th {\n",
       "        text-align: right;\n",
       "    }\n",
       "</style>\n",
       "<table border=\"1\" class=\"dataframe\">\n",
       "  <thead>\n",
       "    <tr style=\"text-align: right;\">\n",
       "      <th></th>\n",
       "      <th>Animal ID</th>\n",
       "      <th>Name</th>\n",
       "      <th>DateTime</th>\n",
       "      <th>MonthYear</th>\n",
       "      <th>Found Location</th>\n",
       "      <th>Intake Type</th>\n",
       "      <th>Intake Condition</th>\n",
       "      <th>Animal Type</th>\n",
       "      <th>Sex upon Intake</th>\n",
       "      <th>Age upon Intake</th>\n",
       "      <th>Breed</th>\n",
       "      <th>Color</th>\n",
       "    </tr>\n",
       "  </thead>\n",
       "  <tbody>\n",
       "    <tr>\n",
       "      <th>0</th>\n",
       "      <td>A786884</td>\n",
       "      <td>*Brock</td>\n",
       "      <td>01/03/2019 04:19:00 PM</td>\n",
       "      <td>01/03/2019 04:19:00 PM</td>\n",
       "      <td>2501 Magin Meadow Dr in Austin (TX)</td>\n",
       "      <td>Stray</td>\n",
       "      <td>Normal</td>\n",
       "      <td>Dog</td>\n",
       "      <td>Neutered Male</td>\n",
       "      <td>2 years</td>\n",
       "      <td>Beagle Mix</td>\n",
       "      <td>Tricolor</td>\n",
       "    </tr>\n",
       "    <tr>\n",
       "      <th>1</th>\n",
       "      <td>A706918</td>\n",
       "      <td>Belle</td>\n",
       "      <td>07/05/2015 12:59:00 PM</td>\n",
       "      <td>07/05/2015 12:59:00 PM</td>\n",
       "      <td>9409 Bluegrass Dr in Austin (TX)</td>\n",
       "      <td>Stray</td>\n",
       "      <td>Normal</td>\n",
       "      <td>Dog</td>\n",
       "      <td>Spayed Female</td>\n",
       "      <td>8 years</td>\n",
       "      <td>English Springer Spaniel</td>\n",
       "      <td>White/Liver</td>\n",
       "    </tr>\n",
       "    <tr>\n",
       "      <th>2</th>\n",
       "      <td>A724273</td>\n",
       "      <td>Runster</td>\n",
       "      <td>04/14/2016 06:43:00 PM</td>\n",
       "      <td>04/14/2016 06:43:00 PM</td>\n",
       "      <td>2818 Palomino Trail in Austin (TX)</td>\n",
       "      <td>Stray</td>\n",
       "      <td>Normal</td>\n",
       "      <td>Dog</td>\n",
       "      <td>Intact Male</td>\n",
       "      <td>11 months</td>\n",
       "      <td>Basenji Mix</td>\n",
       "      <td>Sable/White</td>\n",
       "    </tr>\n",
       "    <tr>\n",
       "      <th>3</th>\n",
       "      <td>A665644</td>\n",
       "      <td>NaN</td>\n",
       "      <td>10/21/2013 07:59:00 AM</td>\n",
       "      <td>10/21/2013 07:59:00 AM</td>\n",
       "      <td>Austin (TX)</td>\n",
       "      <td>Stray</td>\n",
       "      <td>Sick</td>\n",
       "      <td>Cat</td>\n",
       "      <td>Intact Female</td>\n",
       "      <td>4 weeks</td>\n",
       "      <td>Domestic Shorthair Mix</td>\n",
       "      <td>Calico</td>\n",
       "    </tr>\n",
       "    <tr>\n",
       "      <th>4</th>\n",
       "      <td>A682524</td>\n",
       "      <td>Rio</td>\n",
       "      <td>06/29/2014 10:38:00 AM</td>\n",
       "      <td>06/29/2014 10:38:00 AM</td>\n",
       "      <td>800 Grove Blvd in Austin (TX)</td>\n",
       "      <td>Stray</td>\n",
       "      <td>Normal</td>\n",
       "      <td>Dog</td>\n",
       "      <td>Neutered Male</td>\n",
       "      <td>4 years</td>\n",
       "      <td>Doberman Pinsch/Australian Cattle Dog</td>\n",
       "      <td>Tan/Gray</td>\n",
       "    </tr>\n",
       "  </tbody>\n",
       "</table>\n",
       "</div>"
      ],
      "text/plain": [
       "  Animal ID     Name                DateTime               MonthYear  \\\n",
       "0   A786884   *Brock  01/03/2019 04:19:00 PM  01/03/2019 04:19:00 PM   \n",
       "1   A706918    Belle  07/05/2015 12:59:00 PM  07/05/2015 12:59:00 PM   \n",
       "2   A724273  Runster  04/14/2016 06:43:00 PM  04/14/2016 06:43:00 PM   \n",
       "3   A665644      NaN  10/21/2013 07:59:00 AM  10/21/2013 07:59:00 AM   \n",
       "4   A682524      Rio  06/29/2014 10:38:00 AM  06/29/2014 10:38:00 AM   \n",
       "\n",
       "                        Found Location Intake Type Intake Condition  \\\n",
       "0  2501 Magin Meadow Dr in Austin (TX)       Stray           Normal   \n",
       "1     9409 Bluegrass Dr in Austin (TX)       Stray           Normal   \n",
       "2   2818 Palomino Trail in Austin (TX)       Stray           Normal   \n",
       "3                          Austin (TX)       Stray             Sick   \n",
       "4        800 Grove Blvd in Austin (TX)       Stray           Normal   \n",
       "\n",
       "  Animal Type Sex upon Intake Age upon Intake  \\\n",
       "0         Dog   Neutered Male         2 years   \n",
       "1         Dog   Spayed Female         8 years   \n",
       "2         Dog     Intact Male       11 months   \n",
       "3         Cat   Intact Female         4 weeks   \n",
       "4         Dog   Neutered Male         4 years   \n",
       "\n",
       "                                   Breed        Color  \n",
       "0                             Beagle Mix     Tricolor  \n",
       "1               English Springer Spaniel  White/Liver  \n",
       "2                            Basenji Mix  Sable/White  \n",
       "3                 Domestic Shorthair Mix       Calico  \n",
       "4  Doberman Pinsch/Australian Cattle Dog     Tan/Gray  "
      ]
     },
     "execution_count": 4,
     "metadata": {},
     "output_type": "execute_result"
    }
   ],
   "source": [
    "intakes.head()"
   ]
  },
  {
   "cell_type": "code",
   "execution_count": 5,
   "metadata": {},
   "outputs": [
    {
     "data": {
      "text/plain": [
       "array(['2 years', '1 year', '4 months', '6 days', '7 years', '2 months',\n",
       "       '2 days', '3 weeks', '9 months', '4 weeks', '2 weeks', '3 months',\n",
       "       '9 years', '10 years', '6 months', '8 years', '3 years',\n",
       "       '7 months', '6 years', '4 years', '1 month', '12 years', '5 years',\n",
       "       '1 weeks', '5 months', '5 days', '15 years', '11 months',\n",
       "       '10 months', '4 days', '16 years', '1 day', '8 months', '11 years',\n",
       "       '13 years', '1 week', '14 years', '3 days', '0 years', '5 weeks',\n",
       "       '17 years', '18 years', '20 years', '22 years', '-2 years',\n",
       "       '19 years', '23 years', '24 years', '-1 years', '25 years',\n",
       "       '21 years', '-3 years', nan], dtype=object)"
      ]
     },
     "execution_count": 5,
     "metadata": {},
     "output_type": "execute_result"
    }
   ],
   "source": [
    "outcomes['Age upon Outcome'].unique()"
   ]
  },
  {
   "cell_type": "code",
   "execution_count": 6,
   "metadata": {},
   "outputs": [],
   "source": [
    "outcomes = outcomes[~(outcomes['Age upon Outcome'] == '0 years')]"
   ]
  },
  {
   "cell_type": "code",
   "execution_count": 7,
   "metadata": {},
   "outputs": [],
   "source": [
    "outcomes = outcomes[~(outcomes['Age upon Outcome'] == '-1 years')]"
   ]
  },
  {
   "cell_type": "code",
   "execution_count": 8,
   "metadata": {},
   "outputs": [],
   "source": [
    "outcomes = outcomes[~(outcomes['Age upon Outcome'] == '-2 years')]"
   ]
  },
  {
   "cell_type": "code",
   "execution_count": 9,
   "metadata": {},
   "outputs": [],
   "source": [
    "outcomes = outcomes[~(outcomes['Age upon Outcome'] == '-3 years')]"
   ]
  },
  {
   "cell_type": "code",
   "execution_count": 10,
   "metadata": {},
   "outputs": [],
   "source": [
    "outcomes = outcomes[~(outcomes['Age upon Outcome'].isnull())]"
   ]
  },
  {
   "cell_type": "code",
   "execution_count": 11,
   "metadata": {},
   "outputs": [
    {
     "data": {
      "text/plain": [
       "(129455, 12)"
      ]
     },
     "execution_count": 11,
     "metadata": {},
     "output_type": "execute_result"
    }
   ],
   "source": [
    "outcomes.shape"
   ]
  },
  {
   "cell_type": "code",
   "execution_count": 12,
   "metadata": {},
   "outputs": [
    {
     "data": {
      "text/plain": [
       "array(['2 years', '8 years', '11 months', '4 weeks', '4 years', '6 years',\n",
       "       '5 months', '14 years', '1 month', '2 months', '18 years',\n",
       "       '4 months', '1 year', '6 months', '3 years', '4 days', '1 day',\n",
       "       '5 years', '2 weeks', '15 years', '7 years', '3 weeks', '3 months',\n",
       "       '12 years', '1 week', '9 months', '10 years', '10 months',\n",
       "       '7 months', '9 years', '8 months', '1 weeks', '5 days', '2 days',\n",
       "       '11 years', '0 years', '17 years', '3 days', '13 years', '5 weeks',\n",
       "       '19 years', '6 days', '16 years', '20 years', '-1 years',\n",
       "       '22 years', '23 years', '-2 years', '21 years', '-3 years',\n",
       "       '25 years', '24 years'], dtype=object)"
      ]
     },
     "execution_count": 12,
     "metadata": {},
     "output_type": "execute_result"
    }
   ],
   "source": [
    "intakes['Age upon Intake'].unique()"
   ]
  },
  {
   "cell_type": "code",
   "execution_count": 13,
   "metadata": {},
   "outputs": [],
   "source": [
    "intakes = intakes[~(intakes['Age upon Intake'] == '0 years')]"
   ]
  },
  {
   "cell_type": "code",
   "execution_count": 14,
   "metadata": {},
   "outputs": [],
   "source": [
    "intakes = intakes[~(intakes['Age upon Intake'] == '-1 years')]"
   ]
  },
  {
   "cell_type": "code",
   "execution_count": 15,
   "metadata": {},
   "outputs": [],
   "source": [
    "intakes = intakes[~(intakes['Age upon Intake'] == '-2 years')]"
   ]
  },
  {
   "cell_type": "code",
   "execution_count": 16,
   "metadata": {},
   "outputs": [],
   "source": [
    "intakes = intakes[~(intakes['Age upon Intake'] == '-3 years')]"
   ]
  },
  {
   "cell_type": "code",
   "execution_count": 17,
   "metadata": {},
   "outputs": [],
   "source": [
    "intakes = intakes[~(intakes['Age upon Intake'].isnull())]"
   ]
  },
  {
   "cell_type": "code",
   "execution_count": 18,
   "metadata": {},
   "outputs": [],
   "source": [
    "outcomes.columns = outcomes.columns.str.lower().str.replace(' ', '_')"
   ]
  },
  {
   "cell_type": "code",
   "execution_count": 19,
   "metadata": {},
   "outputs": [
    {
     "data": {
      "text/plain": [
       "Index(['animal_id', 'name', 'datetime', 'monthyear', 'date_of_birth',\n",
       "       'outcome_type', 'outcome_subtype', 'animal_type', 'sex_upon_outcome',\n",
       "       'age_upon_outcome', 'breed', 'color'],\n",
       "      dtype='object')"
      ]
     },
     "execution_count": 19,
     "metadata": {},
     "output_type": "execute_result"
    }
   ],
   "source": [
    "outcomes.columns"
   ]
  },
  {
   "cell_type": "code",
   "execution_count": 20,
   "metadata": {},
   "outputs": [],
   "source": [
    "intakes.columns = intakes.columns.str.lower().str.replace(' ', '_')"
   ]
  },
  {
   "cell_type": "code",
   "execution_count": 21,
   "metadata": {},
   "outputs": [
    {
     "data": {
      "text/plain": [
       "Index(['animal_id', 'name', 'datetime', 'monthyear', 'found_location',\n",
       "       'intake_type', 'intake_condition', 'animal_type', 'sex_upon_intake',\n",
       "       'age_upon_intake', 'breed', 'color'],\n",
       "      dtype='object')"
      ]
     },
     "execution_count": 21,
     "metadata": {},
     "output_type": "execute_result"
    }
   ],
   "source": [
    "intakes.columns"
   ]
  },
  {
   "cell_type": "code",
   "execution_count": 22,
   "metadata": {},
   "outputs": [],
   "source": [
    "def clean_age(age):\n",
    "    \"\"\"\n",
    "        Takes a string form of age, and transforms into an a floating point number.\n",
    "    \"\"\"\n",
    "    age_f = age.split(' ')\n",
    "    if (age_f[1] == 'day' or age_f[1] == 'days'):\n",
    "        return round(float(age_f[0])/365, 3)\n",
    "    elif (age_f[1] == 'week' or age_f[1] == 'weeks'):\n",
    "        return round(float(age_f[0])/52.143, 3)\n",
    "    elif (age_f[1] == 'month' or age_f[1] == 'months'):\n",
    "        return round(float(age_f[0])/12,3)\n",
    "    else:\n",
    "        return age[0]"
   ]
  },
  {
   "cell_type": "code",
   "execution_count": 23,
   "metadata": {},
   "outputs": [],
   "source": [
    "outcomes['age_upon_outcome'] = outcomes['age_upon_outcome'].apply(clean_age).astype(float)"
   ]
  },
  {
   "cell_type": "code",
   "execution_count": 24,
   "metadata": {},
   "outputs": [
    {
     "data": {
      "text/plain": [
       "animal_id            object\n",
       "name                 object\n",
       "datetime             object\n",
       "monthyear            object\n",
       "date_of_birth        object\n",
       "outcome_type         object\n",
       "outcome_subtype      object\n",
       "animal_type          object\n",
       "sex_upon_outcome     object\n",
       "age_upon_outcome    float64\n",
       "breed                object\n",
       "color                object\n",
       "dtype: object"
      ]
     },
     "execution_count": 24,
     "metadata": {},
     "output_type": "execute_result"
    }
   ],
   "source": [
    "outcomes.dtypes"
   ]
  },
  {
   "cell_type": "code",
   "execution_count": 25,
   "metadata": {},
   "outputs": [],
   "source": [
    "intakes['age_upon_intake'] = intakes['age_upon_intake'].apply(clean_age).astype(float)"
   ]
  },
  {
   "cell_type": "code",
   "execution_count": 26,
   "metadata": {},
   "outputs": [],
   "source": [
    "outcomes['is_named'] = outcomes['name'].notnull().astype(int)"
   ]
  },
  {
   "cell_type": "code",
   "execution_count": 27,
   "metadata": {},
   "outputs": [],
   "source": [
    "intakes['is_named'] = intakes['name'].notnull().astype(int)"
   ]
  },
  {
   "cell_type": "code",
   "execution_count": 28,
   "metadata": {},
   "outputs": [
    {
     "data": {
      "text/plain": [
       "animal_id            object\n",
       "name                 object\n",
       "datetime             object\n",
       "monthyear            object\n",
       "date_of_birth        object\n",
       "outcome_type         object\n",
       "outcome_subtype      object\n",
       "animal_type          object\n",
       "sex_upon_outcome     object\n",
       "age_upon_outcome    float64\n",
       "breed                object\n",
       "color                object\n",
       "is_named              int64\n",
       "dtype: object"
      ]
     },
     "execution_count": 28,
     "metadata": {},
     "output_type": "execute_result"
    }
   ],
   "source": [
    "outcomes.dtypes"
   ]
  },
  {
   "cell_type": "code",
   "execution_count": 29,
   "metadata": {},
   "outputs": [
    {
     "data": {
      "text/plain": [
       "animal_id            object\n",
       "name                 object\n",
       "datetime             object\n",
       "monthyear            object\n",
       "found_location       object\n",
       "intake_type          object\n",
       "intake_condition     object\n",
       "animal_type          object\n",
       "sex_upon_intake      object\n",
       "age_upon_intake     float64\n",
       "breed                object\n",
       "color                object\n",
       "is_named              int64\n",
       "dtype: object"
      ]
     },
     "execution_count": 29,
     "metadata": {},
     "output_type": "execute_result"
    }
   ],
   "source": [
    "intakes.dtypes"
   ]
  },
  {
   "cell_type": "code",
   "execution_count": 30,
   "metadata": {},
   "outputs": [],
   "source": [
    "outcomes.drop(columns=['monthyear'], axis = 1, inplace = True)"
   ]
  },
  {
   "cell_type": "code",
   "execution_count": 31,
   "metadata": {},
   "outputs": [],
   "source": [
    "intakes.drop(columns=['monthyear'], axis = 1, inplace = True)"
   ]
  },
  {
   "cell_type": "code",
   "execution_count": 32,
   "metadata": {},
   "outputs": [],
   "source": [
    "outcomes['outcome_subtype'].replace(np.nan, 'Unknown', inplace = True)"
   ]
  },
  {
   "cell_type": "code",
   "execution_count": 33,
   "metadata": {},
   "outputs": [],
   "source": [
    "outcomes = outcomes[~(outcomes['outcome_type'].isnull())]"
   ]
  },
  {
   "cell_type": "code",
   "execution_count": 34,
   "metadata": {},
   "outputs": [
    {
     "data": {
      "text/plain": [
       "Dog          73068\n",
       "Cat          48844\n",
       "Other         6889\n",
       "Bird           610\n",
       "Livestock       21\n",
       "Name: animal_type, dtype: int64"
      ]
     },
     "execution_count": 34,
     "metadata": {},
     "output_type": "execute_result"
    }
   ],
   "source": [
    "outcomes['animal_type'].value_counts()"
   ]
  },
  {
   "cell_type": "code",
   "execution_count": 35,
   "metadata": {},
   "outputs": [
    {
     "data": {
      "text/plain": [
       "Dog          72763\n",
       "Cat          48578\n",
       "Other         6866\n",
       "Bird           608\n",
       "Livestock       23\n",
       "Name: animal_type, dtype: int64"
      ]
     },
     "execution_count": 35,
     "metadata": {},
     "output_type": "execute_result"
    }
   ],
   "source": [
    "intakes['animal_type'].value_counts()"
   ]
  },
  {
   "cell_type": "code",
   "execution_count": 36,
   "metadata": {},
   "outputs": [],
   "source": [
    "outcomes['sex_upon_outcome'].replace(np.nan, 'Unknown', inplace = True)"
   ]
  },
  {
   "cell_type": "code",
   "execution_count": 37,
   "metadata": {},
   "outputs": [],
   "source": [
    "intakes['sex_upon_intake'].replace(np.nan, 'Unknown', inplace = True)"
   ]
  },
  {
   "cell_type": "code",
   "execution_count": 38,
   "metadata": {},
   "outputs": [],
   "source": [
    "outcomes['datetime'] = pd.to_datetime(outcomes['datetime'])"
   ]
  },
  {
   "cell_type": "code",
   "execution_count": 39,
   "metadata": {},
   "outputs": [],
   "source": [
    "intakes['datetime'] = pd.to_datetime(intakes['datetime'])"
   ]
  },
  {
   "cell_type": "code",
   "execution_count": 40,
   "metadata": {},
   "outputs": [],
   "source": [
    "outcomes['year'] = outcomes['datetime'].apply(lambda x: x.year)"
   ]
  },
  {
   "cell_type": "code",
   "execution_count": 41,
   "metadata": {},
   "outputs": [],
   "source": [
    "intakes['year'] = intakes['datetime'].apply(lambda x: x.year)"
   ]
  },
  {
   "cell_type": "code",
   "execution_count": 42,
   "metadata": {},
   "outputs": [],
   "source": [
    "outcomes['month'] = outcomes['datetime'].apply(lambda x: x.month)"
   ]
  },
  {
   "cell_type": "code",
   "execution_count": 43,
   "metadata": {},
   "outputs": [],
   "source": [
    "intakes['month'] = intakes['datetime'].apply(lambda x: x.month)"
   ]
  },
  {
   "cell_type": "code",
   "execution_count": 44,
   "metadata": {},
   "outputs": [],
   "source": [
    "outcomes['day'] = outcomes['datetime'].apply(lambda x: x.day_name())"
   ]
  },
  {
   "cell_type": "code",
<<<<<<< HEAD
   "execution_count": 28,
=======
   "execution_count": 45,
   "metadata": {},
   "outputs": [],
   "source": [
    "intakes['day'] = intakes['datetime'].apply(lambda x: x.day_name())"
   ]
  },
  {
   "cell_type": "code",
   "execution_count": 46,
<<<<<<< HEAD
=======
>>>>>>> d6ddb04497c7cd50f914314511a2aa100f8f544d
   "id": "c4e978ea-1682-41cd-9eb0-16af2528de75",
>>>>>>> beb4f4fbdc341db8751dde550b53934b998b4649
   "metadata": {},
   "outputs": [
    {
     "data": {
      "text/html": [
       "<div>\n",
       "<style scoped>\n",
       "    .dataframe tbody tr th:only-of-type {\n",
       "        vertical-align: middle;\n",
       "    }\n",
       "\n",
       "    .dataframe tbody tr th {\n",
       "        vertical-align: top;\n",
       "    }\n",
       "\n",
       "    .dataframe thead th {\n",
       "        text-align: right;\n",
       "    }\n",
       "</style>\n",
       "<table border=\"1\" class=\"dataframe\">\n",
       "  <thead>\n",
       "    <tr style=\"text-align: right;\">\n",
       "      <th></th>\n",
       "      <th>animal_id</th>\n",
       "      <th>name</th>\n",
       "      <th>datetime</th>\n",
       "      <th>date_of_birth</th>\n",
       "      <th>outcome_type</th>\n",
       "      <th>outcome_subtype</th>\n",
       "      <th>animal_type</th>\n",
       "      <th>sex_upon_outcome</th>\n",
       "      <th>age_upon_outcome</th>\n",
       "      <th>breed</th>\n",
       "      <th>color</th>\n",
       "      <th>is_named</th>\n",
       "      <th>year</th>\n",
       "      <th>month</th>\n",
       "      <th>day</th>\n",
       "    </tr>\n",
       "  </thead>\n",
       "  <tbody>\n",
       "    <tr>\n",
       "      <th>0</th>\n",
       "      <td>A794011</td>\n",
       "      <td>Chunk</td>\n",
       "      <td>2019-05-08 18:20:00</td>\n",
       "      <td>05/02/2017</td>\n",
       "      <td>Rto-Adopt</td>\n",
       "      <td>Unknown</td>\n",
       "      <td>Cat</td>\n",
       "      <td>Neutered Male</td>\n",
       "      <td>2.000</td>\n",
       "      <td>Domestic Shorthair Mix</td>\n",
       "      <td>Brown Tabby/White</td>\n",
       "      <td>1</td>\n",
       "      <td>2019</td>\n",
       "      <td>5</td>\n",
       "      <td>Wednesday</td>\n",
       "    </tr>\n",
       "    <tr>\n",
       "      <th>1</th>\n",
       "      <td>A776359</td>\n",
       "      <td>Gizmo</td>\n",
       "      <td>2018-07-18 16:02:00</td>\n",
       "      <td>07/12/2017</td>\n",
       "      <td>Adoption</td>\n",
       "      <td>Unknown</td>\n",
       "      <td>Dog</td>\n",
       "      <td>Neutered Male</td>\n",
       "      <td>1.000</td>\n",
       "      <td>Chihuahua Shorthair Mix</td>\n",
       "      <td>White/Brown</td>\n",
       "      <td>1</td>\n",
       "      <td>2018</td>\n",
       "      <td>7</td>\n",
       "      <td>Wednesday</td>\n",
       "    </tr>\n",
       "    <tr>\n",
       "      <th>2</th>\n",
       "      <td>A821648</td>\n",
       "      <td>NaN</td>\n",
       "      <td>2020-08-16 11:38:00</td>\n",
       "      <td>08/16/2019</td>\n",
       "      <td>Euthanasia</td>\n",
       "      <td>Unknown</td>\n",
       "      <td>Other</td>\n",
       "      <td>Unknown</td>\n",
       "      <td>1.000</td>\n",
       "      <td>Raccoon</td>\n",
       "      <td>Gray</td>\n",
       "      <td>0</td>\n",
       "      <td>2020</td>\n",
       "      <td>8</td>\n",
       "      <td>Sunday</td>\n",
       "    </tr>\n",
       "    <tr>\n",
       "      <th>3</th>\n",
       "      <td>A720371</td>\n",
       "      <td>Moose</td>\n",
       "      <td>2016-02-13 17:59:00</td>\n",
       "      <td>10/08/2015</td>\n",
       "      <td>Adoption</td>\n",
       "      <td>Unknown</td>\n",
       "      <td>Dog</td>\n",
       "      <td>Neutered Male</td>\n",
       "      <td>0.333</td>\n",
       "      <td>Anatol Shepherd/Labrador Retriever</td>\n",
       "      <td>Buff</td>\n",
       "      <td>1</td>\n",
       "      <td>2016</td>\n",
       "      <td>2</td>\n",
       "      <td>Saturday</td>\n",
       "    </tr>\n",
       "    <tr>\n",
       "      <th>4</th>\n",
       "      <td>A674754</td>\n",
       "      <td>NaN</td>\n",
       "      <td>2014-03-18 11:47:00</td>\n",
       "      <td>03/12/2014</td>\n",
       "      <td>Transfer</td>\n",
       "      <td>Partner</td>\n",
       "      <td>Cat</td>\n",
       "      <td>Intact Male</td>\n",
       "      <td>0.016</td>\n",
       "      <td>Domestic Shorthair Mix</td>\n",
       "      <td>Orange Tabby</td>\n",
       "      <td>0</td>\n",
       "      <td>2014</td>\n",
       "      <td>3</td>\n",
       "      <td>Tuesday</td>\n",
       "    </tr>\n",
       "    <tr>\n",
       "      <th>...</th>\n",
       "      <td>...</td>\n",
       "      <td>...</td>\n",
       "      <td>...</td>\n",
       "      <td>...</td>\n",
       "      <td>...</td>\n",
       "      <td>...</td>\n",
       "      <td>...</td>\n",
       "      <td>...</td>\n",
       "      <td>...</td>\n",
       "      <td>...</td>\n",
       "      <td>...</td>\n",
       "      <td>...</td>\n",
       "      <td>...</td>\n",
       "      <td>...</td>\n",
       "      <td>...</td>\n",
       "    </tr>\n",
       "    <tr>\n",
       "      <th>129661</th>\n",
       "      <td>A840148</td>\n",
       "      <td>A840148</td>\n",
       "      <td>2021-08-08 09:37:00</td>\n",
       "      <td>08/03/2019</td>\n",
       "      <td>Transfer</td>\n",
       "      <td>Partner</td>\n",
       "      <td>Cat</td>\n",
       "      <td>Intact Female</td>\n",
       "      <td>2.000</td>\n",
       "      <td>Domestic Shorthair Mix</td>\n",
       "      <td>Tortie</td>\n",
       "      <td>1</td>\n",
       "      <td>2021</td>\n",
       "      <td>8</td>\n",
       "      <td>Sunday</td>\n",
       "    </tr>\n",
       "    <tr>\n",
       "      <th>129662</th>\n",
       "      <td>A839770</td>\n",
       "      <td>Samantha</td>\n",
       "      <td>2021-08-07 15:35:00</td>\n",
       "      <td>07/27/2020</td>\n",
       "      <td>Adoption</td>\n",
       "      <td>Unknown</td>\n",
       "      <td>Cat</td>\n",
       "      <td>Spayed Female</td>\n",
       "      <td>1.000</td>\n",
       "      <td>Domestic Medium Hair Mix</td>\n",
       "      <td>Brown Tabby</td>\n",
       "      <td>1</td>\n",
       "      <td>2021</td>\n",
       "      <td>8</td>\n",
       "      <td>Saturday</td>\n",
       "    </tr>\n",
       "    <tr>\n",
       "      <th>129663</th>\n",
       "      <td>A840210</td>\n",
       "      <td>NaN</td>\n",
       "      <td>2021-08-08 11:00:00</td>\n",
       "      <td>08/04/2018</td>\n",
       "      <td>Transfer</td>\n",
       "      <td>Partner</td>\n",
       "      <td>Dog</td>\n",
       "      <td>Intact Female</td>\n",
       "      <td>3.000</td>\n",
       "      <td>Maltese Mix</td>\n",
       "      <td>White</td>\n",
       "      <td>0</td>\n",
       "      <td>2021</td>\n",
       "      <td>8</td>\n",
       "      <td>Sunday</td>\n",
       "    </tr>\n",
       "    <tr>\n",
       "      <th>129664</th>\n",
       "      <td>A840163</td>\n",
       "      <td>A840163</td>\n",
       "      <td>2021-08-08 10:14:00</td>\n",
       "      <td>06/11/2021</td>\n",
       "      <td>Euthanasia</td>\n",
       "      <td>Suffering</td>\n",
       "      <td>Dog</td>\n",
       "      <td>Intact Male</td>\n",
       "      <td>0.083</td>\n",
       "      <td>Labrador Retriever</td>\n",
       "      <td>White/Brown</td>\n",
       "      <td>1</td>\n",
       "      <td>2021</td>\n",
       "      <td>8</td>\n",
       "      <td>Sunday</td>\n",
       "    </tr>\n",
       "    <tr>\n",
       "      <th>129665</th>\n",
       "      <td>A835420</td>\n",
       "      <td>Little Joe</td>\n",
       "      <td>2021-08-07 10:38:00</td>\n",
       "      <td>04/20/2021</td>\n",
       "      <td>Adoption</td>\n",
       "      <td>Foster</td>\n",
       "      <td>Cat</td>\n",
       "      <td>Intact Male</td>\n",
       "      <td>0.250</td>\n",
       "      <td>Domestic Shorthair</td>\n",
       "      <td>Brown Tabby</td>\n",
       "      <td>1</td>\n",
       "      <td>2021</td>\n",
       "      <td>8</td>\n",
       "      <td>Saturday</td>\n",
       "    </tr>\n",
       "  </tbody>\n",
       "</table>\n",
       "<p>129432 rows × 15 columns</p>\n",
       "</div>"
      ],
      "text/plain": [
       "       animal_id        name            datetime date_of_birth outcome_type  \\\n",
       "0        A794011       Chunk 2019-05-08 18:20:00    05/02/2017    Rto-Adopt   \n",
       "1        A776359       Gizmo 2018-07-18 16:02:00    07/12/2017     Adoption   \n",
       "2        A821648         NaN 2020-08-16 11:38:00    08/16/2019   Euthanasia   \n",
       "3        A720371       Moose 2016-02-13 17:59:00    10/08/2015     Adoption   \n",
       "4        A674754         NaN 2014-03-18 11:47:00    03/12/2014     Transfer   \n",
       "...          ...         ...                 ...           ...          ...   \n",
       "129661   A840148     A840148 2021-08-08 09:37:00    08/03/2019     Transfer   \n",
       "129662   A839770    Samantha 2021-08-07 15:35:00    07/27/2020     Adoption   \n",
       "129663   A840210         NaN 2021-08-08 11:00:00    08/04/2018     Transfer   \n",
       "129664   A840163     A840163 2021-08-08 10:14:00    06/11/2021   Euthanasia   \n",
       "129665   A835420  Little Joe 2021-08-07 10:38:00    04/20/2021     Adoption   \n",
       "\n",
       "       outcome_subtype animal_type sex_upon_outcome  age_upon_outcome  \\\n",
       "0              Unknown         Cat    Neutered Male             2.000   \n",
       "1              Unknown         Dog    Neutered Male             1.000   \n",
       "2              Unknown       Other          Unknown             1.000   \n",
       "3              Unknown         Dog    Neutered Male             0.333   \n",
       "4              Partner         Cat      Intact Male             0.016   \n",
       "...                ...         ...              ...               ...   \n",
       "129661         Partner         Cat    Intact Female             2.000   \n",
       "129662         Unknown         Cat    Spayed Female             1.000   \n",
       "129663         Partner         Dog    Intact Female             3.000   \n",
       "129664       Suffering         Dog      Intact Male             0.083   \n",
       "129665          Foster         Cat      Intact Male             0.250   \n",
       "\n",
       "                                     breed              color  is_named  year  \\\n",
       "0                   Domestic Shorthair Mix  Brown Tabby/White         1  2019   \n",
       "1                  Chihuahua Shorthair Mix        White/Brown         1  2018   \n",
       "2                                  Raccoon               Gray         0  2020   \n",
       "3       Anatol Shepherd/Labrador Retriever               Buff         1  2016   \n",
       "4                   Domestic Shorthair Mix       Orange Tabby         0  2014   \n",
       "...                                    ...                ...       ...   ...   \n",
       "129661              Domestic Shorthair Mix             Tortie         1  2021   \n",
       "129662            Domestic Medium Hair Mix        Brown Tabby         1  2021   \n",
       "129663                         Maltese Mix              White         0  2021   \n",
       "129664                  Labrador Retriever        White/Brown         1  2021   \n",
       "129665                  Domestic Shorthair        Brown Tabby         1  2021   \n",
       "\n",
       "        month        day  \n",
       "0           5  Wednesday  \n",
       "1           7  Wednesday  \n",
       "2           8     Sunday  \n",
       "3           2   Saturday  \n",
       "4           3    Tuesday  \n",
       "...       ...        ...  \n",
       "129661      8     Sunday  \n",
       "129662      8   Saturday  \n",
       "129663      8     Sunday  \n",
       "129664      8     Sunday  \n",
       "129665      8   Saturday  \n",
       "\n",
       "[129432 rows x 15 columns]"
      ]
     },
<<<<<<< HEAD
     "execution_count": 28,
=======
     "execution_count": 46,
>>>>>>> d6ddb04497c7cd50f914314511a2aa100f8f544d
     "metadata": {},
     "output_type": "execute_result"
    }
   ],
   "source": [
    "outcomes"
   ]
  },
  {
   "cell_type": "code",
<<<<<<< HEAD
   "execution_count": 31,
   "id": "b37e9bc8-22e5-445c-b4ad-bc9bd2c378c0",
=======
   "execution_count": 47,
   "metadata": {},
   "outputs": [
    {
     "data": {
      "text/plain": [
       "Index(['animal_id', 'name', 'datetime', 'found_location', 'intake_type',\n",
       "       'intake_condition', 'animal_type', 'sex_upon_intake', 'age_upon_intake',\n",
       "       'breed', 'color', 'is_named', 'year', 'month', 'day'],\n",
       "      dtype='object')"
      ]
     },
     "execution_count": 47,
     "metadata": {},
     "output_type": "execute_result"
    }
   ],
   "source": [
    "intakes.columns"
   ]
  },
  {
   "cell_type": "code",
   "execution_count": 48,
<<<<<<< HEAD
=======
   "id": "0b71b632-5349-41f0-8e0f-515bff715368",
>>>>>>> d6ddb04497c7cd50f914314511a2aa100f8f544d
>>>>>>> beb4f4fbdc341db8751dde550b53934b998b4649
   "metadata": {},
   "outputs": [
    {
     "data": {
      "text/plain": [
<<<<<<< HEAD
       "(2673,)"
      ]
     },
     "execution_count": 31,
=======
       "animal_id                   object\n",
       "name                        object\n",
       "datetime            datetime64[ns]\n",
       "date_of_birth               object\n",
       "outcome_type                object\n",
       "outcome_subtype             object\n",
       "animal_type                 object\n",
       "sex_upon_outcome            object\n",
       "age_upon_outcome           float64\n",
       "breed                       object\n",
       "color                       object\n",
       "is_named                     int64\n",
       "year                         int64\n",
       "month                        int64\n",
       "day                         object\n",
       "dtype: object"
      ]
     },
     "execution_count": 48,
>>>>>>> d6ddb04497c7cd50f914314511a2aa100f8f544d
     "metadata": {},
     "output_type": "execute_result"
    }
   ],
   "source": [
<<<<<<< HEAD
    "outcomes['breed'].unique().shape"
=======
    "outcomes.dtypes"
   ]
  },
  {
   "cell_type": "code",
   "execution_count": 49,
   "metadata": {},
   "outputs": [
    {
     "data": {
      "text/plain": [
       "animal_id                   object\n",
       "name                        object\n",
       "datetime            datetime64[ns]\n",
       "found_location              object\n",
       "intake_type                 object\n",
       "intake_condition            object\n",
       "animal_type                 object\n",
       "sex_upon_intake             object\n",
       "age_upon_intake            float64\n",
       "breed                       object\n",
       "color                       object\n",
       "is_named                     int64\n",
       "year                         int64\n",
       "month                        int64\n",
       "day                         object\n",
       "dtype: object"
      ]
     },
     "execution_count": 49,
     "metadata": {},
     "output_type": "execute_result"
    }
   ],
   "source": [
    "intakes.dtypes"
   ]
  },
  {
   "cell_type": "code",
   "execution_count": 50,
   "metadata": {},
   "outputs": [
    {
     "data": {
      "text/plain": [
       "0"
      ]
     },
     "execution_count": 50,
     "metadata": {},
     "output_type": "execute_result"
    }
   ],
   "source": [
    "outcomes['breed'].isnull().sum()"
   ]
  },
  {
   "cell_type": "code",
   "execution_count": 51,
   "metadata": {},
   "outputs": [
    {
     "data": {
      "text/plain": [
       "0"
      ]
     },
     "execution_count": 51,
     "metadata": {},
     "output_type": "execute_result"
    }
   ],
   "source": [
    "intakes['breed'].isnull().sum()"
   ]
  },
  {
   "cell_type": "code",
   "execution_count": 52,
   "metadata": {},
   "outputs": [
    {
     "data": {
      "text/plain": [
       "Domestic Shorthair Mix                       31588\n",
       "Pit Bull Mix                                  8646\n",
       "Domestic Shorthair                            8422\n",
       "Labrador Retriever Mix                        7071\n",
       "Chihuahua Shorthair Mix                       6325\n",
       "                                             ...  \n",
       "Flat Coat Retriever/Australian Cattle Dog        1\n",
       "Chickadee Mix                                    1\n",
       "Smooth Fox Terrier/Rat Terrier                   1\n",
       "Maltese/Yorkshire                                1\n",
       "Chinese Sharpei/Bull Terrier                     1\n",
       "Name: breed, Length: 2673, dtype: int64"
      ]
     },
     "execution_count": 52,
     "metadata": {},
     "output_type": "execute_result"
    }
   ],
   "source": [
    "outcomes['breed'].value_counts()"
   ]
  },
  {
   "cell_type": "code",
   "execution_count": 53,
   "metadata": {},
   "outputs": [
    {
     "data": {
      "text/plain": [
       "Domestic Shorthair Mix                   31113\n",
       "Domestic Shorthair                        8678\n",
       "Pit Bull Mix                              8559\n",
       "Labrador Retriever Mix                    7001\n",
       "Chihuahua Shorthair Mix                   6252\n",
       "                                         ...  \n",
       "Anatol Shepherd/Belgian Malinois             1\n",
       "Basenji/Beagle                               1\n",
       "Wire Hair Fox Terrier/German Shepherd        1\n",
       "Brittany/Cocker Spaniel                      1\n",
       "Hovawart Mix                                 1\n",
       "Name: breed, Length: 2663, dtype: int64"
      ]
     },
     "execution_count": 53,
     "metadata": {},
     "output_type": "execute_result"
    }
   ],
   "source": [
    "intakes['breed'].value_counts()"
   ]
  },
  {
   "cell_type": "code",
   "execution_count": 54,
   "metadata": {},
   "outputs": [
    {
     "data": {
      "text/plain": [
       "0"
      ]
     },
     "execution_count": 54,
     "metadata": {},
     "output_type": "execute_result"
    }
   ],
   "source": [
    "outcomes['color'].isnull().sum()"
   ]
  },
  {
   "cell_type": "code",
   "execution_count": 55,
   "metadata": {},
   "outputs": [
    {
     "data": {
      "text/plain": [
       "0"
      ]
     },
     "execution_count": 55,
     "metadata": {},
     "output_type": "execute_result"
    }
   ],
   "source": [
    "intakes['color'].isnull().sum()"
   ]
  },
  {
   "cell_type": "code",
   "execution_count": 56,
   "metadata": {},
   "outputs": [
    {
     "data": {
      "text/plain": [
       "Black/White              13557\n",
       "Black                    10848\n",
       "Brown Tabby               7376\n",
       "Brown                     5649\n",
       "White                     4531\n",
       "                         ...  \n",
       "Brown/Black Tabby            1\n",
       "Cream/Blue Point             1\n",
       "Brown Tiger/Brown            1\n",
       "Orange Tabby/Black           1\n",
       "Chocolate/Brown Merle        1\n",
       "Name: color, Length: 605, dtype: int64"
      ]
     },
     "execution_count": 56,
     "metadata": {},
     "output_type": "execute_result"
    }
   ],
   "source": [
    "outcomes['color'].value_counts()"
   ]
  },
  {
   "cell_type": "code",
   "execution_count": 57,
   "metadata": {},
   "outputs": [
    {
     "data": {
      "text/plain": [
       "Black/White              13470\n",
       "Black                    10779\n",
       "Brown Tabby               7358\n",
       "Brown                     5626\n",
       "White                     4493\n",
       "                         ...  \n",
       "Gray Tabby/Orange            1\n",
       "Cream/Blue Point             1\n",
       "Brown Tiger/Brown            1\n",
       "Orange Tabby/Black           1\n",
       "Chocolate/Brown Merle        1\n",
       "Name: color, Length: 600, dtype: int64"
      ]
     },
     "execution_count": 57,
     "metadata": {},
     "output_type": "execute_result"
    }
   ],
   "source": [
    "intakes['color'].value_counts()"
   ]
  },
  {
   "cell_type": "code",
   "execution_count": 58,
   "metadata": {},
   "outputs": [],
   "source": [
    "outcomes.to_csv('../../datasets/outcomes_initial.csv')\n",
    "intakes.to_csv('../../datasets/intakes_initial.csv')"
>>>>>>> d6ddb04497c7cd50f914314511a2aa100f8f544d
   ]
  }
 ],
 "metadata": {
  "kernelspec": {
   "display_name": "Python 3",
   "language": "python",
   "name": "python3"
  },
  "language_info": {
   "codemirror_mode": {
    "name": "ipython",
    "version": 3
   },
   "file_extension": ".py",
   "mimetype": "text/x-python",
   "name": "python",
   "nbconvert_exporter": "python",
   "pygments_lexer": "ipython3",
   "version": "3.8.5"
  }
 },
 "nbformat": 4,
 "nbformat_minor": 5
}
