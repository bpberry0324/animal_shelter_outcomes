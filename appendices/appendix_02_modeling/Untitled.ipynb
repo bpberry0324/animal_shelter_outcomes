{
 "cells": [
  {
   "cell_type": "markdown",
   "id": "ae920a7e-10f6-4349-9e9a-97d0d1813b6b",
   "metadata": {},
   "source": [
    "Test notebook to generate modeling folder in GitHub repository."
   ]
  },
  {
   "cell_type": "code",
   "execution_count": null,
   "id": "912a2573-b176-449d-aba5-b61deefc1fa8",
   "metadata": {},
   "outputs": [],
   "source": []
  }
 ],
 "metadata": {
  "kernelspec": {
   "display_name": "Python 3",
   "language": "python",
   "name": "python3"
  },
  "language_info": {
   "codemirror_mode": {
    "name": "ipython",
    "version": 3
   },
   "file_extension": ".py",
   "mimetype": "text/x-python",
   "name": "python",
   "nbconvert_exporter": "python",
   "pygments_lexer": "ipython3",
   "version": "3.8.8"
  }
 },
 "nbformat": 4,
 "nbformat_minor": 5
}
