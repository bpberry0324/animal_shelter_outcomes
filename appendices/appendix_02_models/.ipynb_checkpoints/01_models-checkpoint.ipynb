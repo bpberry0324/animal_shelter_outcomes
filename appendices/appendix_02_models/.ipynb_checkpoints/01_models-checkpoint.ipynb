{
  "nbformat": 4,
  "nbformat_minor": 0,
  "metadata": {
    "colab": {
      "name": "evan_clean_model.ipynb",
      "provenance": [],
      "collapsed_sections": [
        "99Cxy7EyhXSp",
        "VtTXOzXIiNW0",
        "vaFhfY10ihKN",
        "_whpAc3FjiQr",
        "O9W9wMJAjq4l",
        "YWD8ewcgjvDO",
        "SOxUf9dEpCO2",
        "Jyajs4QgpHH5",
        "57xmJABJplMd",
        "covoAKg_qEkT",
        "-kNc75UcqJqB",
        "SevlPQVGqMOh"
      ],
      "toc_visible": true,
      "machine_shape": "hm"
    },
    "kernelspec": {
      "name": "python3",
      "display_name": "Python 3"
    },
    "language_info": {
      "name": "python"
    }
  },
  "cells": [
    {
      "cell_type": "code",
      "metadata": {
        "id": "bge5hSvDG8Hl"
      },
      "source": [
        "import pandas as pd\n",
        "import numpy as np\n",
        "\n",
        "import matplotlib.pyplot as plt\n",
        "import seaborn as sns\n",
        "\n",
        "import pickle\n",
        "\n",
        "from sklearn.preprocessing import StandardScaler\n",
        "from sklearn.linear_model import Ridge, Lasso, ElasticNet, LinearRegression, RidgeCV, LassoCV, ElasticNetCV, LogisticRegression\n",
        "from sklearn.model_selection import cross_val_score, train_test_split\n",
        "from sklearn.preprocessing import OneHotEncoder, StandardScaler\n",
        "from sklearn.pipeline import Pipeline\n",
        "from sklearn.ensemble import GradientBoostingClassifier\n",
        "from sklearn.metrics import plot_confusion_matrix, classification_report"
      ],
      "execution_count": null,
      "outputs": []
    },
    {
      "cell_type": "code",
      "metadata": {
        "id": "UTflTdlZHGWl"
      },
      "source": [
        "df = pd.read_csv('https://raw.githubusercontent.com/bpberry0324/animal_shelter_outcomes/main/datasets/katie-animals_w_outcome.csv')"
      ],
      "execution_count": null,
      "outputs": []
    },
    {
      "cell_type": "markdown",
      "metadata": {
        "id": "PxN6vq61HYBq"
      },
      "source": [
        "# Cleaning"
      ]
    },
    {
      "cell_type": "code",
      "metadata": {
        "id": "8tgGQYGJHKhf"
      },
      "source": [
        "df['adopted'] = (df['outcome_type'] == 'Adoption').map({True: 1, False:0})\n",
        "\n",
        "df.drop(columns=['outcome_type'], inplace=True)\n",
        "df['month_in'] = df['month_in'].astype(str)"
      ],
      "execution_count": null,
      "outputs": []
    },
    {
      "cell_type": "markdown",
      "metadata": {
        "id": "AnWB119sH2o4"
      },
      "source": [
        "# One Hot Encoding Data Frame"
      ]
    },
    {
      "cell_type": "markdown",
      "metadata": {
        "id": "rx6WQJl9r6Jc"
      },
      "source": [
        "The goal of one hot encoding is to ensure that we can maintain the consitency of encoding our variables when we are using our app. We do not drop first because our models are not inherently concerned with interpretability, so there is no need. It is also easier for us to split our data when we do it this way."
      ]
    },
    {
      "cell_type": "code",
      "metadata": {
        "id": "YjMZMrVAIoX-"
      },
      "source": [
        "# get our numeric columns\n",
        "numeric = df.select_dtypes(exclude=object)\n",
        "\n",
        "# get our categorical columns\n",
        "categorical = df.select_dtypes([object])\n",
        "\n",
        "# preserve the names of our categorical data\n",
        "categorical_fnames = categorical.dtypes.keys() # preserve the names\n",
        "\n",
        "# make sure you are importing one hot encoder, or this function will not work\n",
        "enc = OneHotEncoder(sparse=False)\n",
        "\n",
        "# categorical is now an array of arrays \n",
        "categorical = enc.fit_transform(categorical) \n",
        "\n",
        "dummy_cat_names = enc.get_feature_names(categorical_fnames)\n",
        "\n",
        "categorical_df = pd.DataFrame(categorical, columns=dummy_cat_names)\n",
        "\n",
        "df = pd.concat([numeric, categorical_df], axis=1)"
      ],
      "execution_count": null,
      "outputs": []
    },
    {
      "cell_type": "code",
      "metadata": {
        "id": "dY7gIcMNmaXe"
      },
      "source": [
        "pickle.dump(enc, open('/content/drive/MyDrive/Colab Notebooks/group_proj_models/input_encoder.pkl','wb'))"
      ],
      "execution_count": null,
      "outputs": []
    },
    {
      "cell_type": "markdown",
      "metadata": {
        "id": "lvZx6kcxLcAC"
      },
      "source": [
        "# Strays\n"
      ]
    },
    {
      "cell_type": "markdown",
      "metadata": {
        "id": "vPyXaoAesQ2U"
      },
      "source": [
        "Strays are our most common class, and we use Gradient boosting because it consistently performs better than other models with minimal hyper param tuning. "
      ]
    },
    {
      "cell_type": "code",
      "metadata": {
        "id": "uGEzu3Y9bWqE"
      },
      "source": [
        "model_df = df[df['intake_type_Stray'] == 1]\n",
        "model_df.reset_index(inplace=True, drop=True)"
      ],
      "execution_count": null,
      "outputs": []
    },
    {
      "cell_type": "markdown",
      "metadata": {
        "id": "fapJGFCfb98L"
      },
      "source": [
        "## Baseline"
      ]
    },
    {
      "cell_type": "code",
      "metadata": {
        "colab": {
          "base_uri": "https://localhost:8080/"
        },
        "id": "9maotSVrb7NH",
        "outputId": "72fe7541-4ec8-4ef2-dceb-dc2b47339dcb"
      },
      "source": [
        "print(model_df['adopted'].value_counts(normalize=True))"
      ],
      "execution_count": null,
      "outputs": [
        {
          "output_type": "stream",
          "text": [
            "0    0.550385\n",
            "1    0.449615\n",
            "Name: adopted, dtype: float64\n"
          ],
          "name": "stdout"
        }
      ]
    },
    {
      "cell_type": "markdown",
      "metadata": {
        "id": "5CnvIsDDcFnb"
      },
      "source": [
        "## Model"
      ]
    },
    {
      "cell_type": "code",
      "metadata": {
        "id": "hcmiQimrLNHc"
      },
      "source": [
        "features = (model_df.drop(columns = ['adopted']).columns)\n",
        "X = model_df[features]\n",
        "y = model_df['adopted']"
      ],
      "execution_count": null,
      "outputs": []
    },
    {
      "cell_type": "code",
      "metadata": {
        "id": "2z93IM2vLlkF"
      },
      "source": [
        "X_train, X_test, y_train, y_test = train_test_split(X, y, random_state = 42, stratify=y)"
      ],
      "execution_count": null,
      "outputs": []
    },
    {
      "cell_type": "code",
      "metadata": {
        "colab": {
          "base_uri": "https://localhost:8080/"
        },
        "id": "3LRgBDdWMP93",
        "outputId": "5b6fa417-184d-408d-9f1b-c8f8d30ed59d"
      },
      "source": [
        "pipe_params = [\n",
        "  ('scaler', StandardScaler()),\n",
        "  ('gbc', GradientBoostingClassifier(random_state=13))\n",
        "]\n",
        "stray_pipe = Pipeline(pipe_params)\n",
        "stray_pipe.fit(X_train, y_train)"
      ],
      "execution_count": null,
      "outputs": [
        {
          "output_type": "execute_result",
          "data": {
            "text/plain": [
              "Pipeline(memory=None,\n",
              "         steps=[('scaler',\n",
              "                 StandardScaler(copy=True, with_mean=True, with_std=True)),\n",
              "                ('gbc',\n",
              "                 GradientBoostingClassifier(ccp_alpha=0.0,\n",
              "                                            criterion='friedman_mse', init=None,\n",
              "                                            learning_rate=0.1, loss='deviance',\n",
              "                                            max_depth=3, max_features=None,\n",
              "                                            max_leaf_nodes=None,\n",
              "                                            min_impurity_decrease=0.0,\n",
              "                                            min_impurity_split=None,\n",
              "                                            min_samples_leaf=1,\n",
              "                                            min_samples_split=2,\n",
              "                                            min_weight_fraction_leaf=0.0,\n",
              "                                            n_estimators=100,\n",
              "                                            n_iter_no_change=None,\n",
              "                                            presort='deprecated',\n",
              "                                            random_state=13, subsample=1.0,\n",
              "                                            tol=0.0001, validation_fraction=0.1,\n",
              "                                            verbose=0, warm_start=False))],\n",
              "         verbose=False)"
            ]
          },
          "metadata": {},
          "execution_count": 10
        }
      ]
    },
    {
      "cell_type": "markdown",
      "metadata": {
        "id": "3DQSLRuSdrGu"
      },
      "source": [
        "### Scores"
      ]
    },
    {
      "cell_type": "code",
      "metadata": {
        "colab": {
          "base_uri": "https://localhost:8080/"
        },
        "id": "Dg9Mxbv8Lzf5",
        "outputId": "18a06229-9edb-4bb6-e11c-c3f358b0e449"
      },
      "source": [
        "print('Training Score: ', stray_pipe.score(X_train, y_train))\n",
        "print('Testing Score: ', stray_pipe.score(X_test, y_test))"
      ],
      "execution_count": null,
      "outputs": [
        {
          "output_type": "stream",
          "text": [
            "Training Score:  0.8328847084442293\n",
            "Testing Score:  0.8286077212720592\n"
          ],
          "name": "stdout"
        }
      ]
    },
    {
      "cell_type": "code",
      "metadata": {
        "colab": {
          "base_uri": "https://localhost:8080/",
          "height": 444
        },
        "id": "1_M7ApNrkUjX",
        "outputId": "2431e802-359d-4a5f-ef8f-ac43ed4493a9"
      },
      "source": [
        "plot_confusion_matrix(stray_pipe, X_test, y_test);\n",
        "print(classification_report(y_test, stray_pipe.predict(X_test)))"
      ],
      "execution_count": null,
      "outputs": [
        {
          "output_type": "stream",
          "text": [
            "              precision    recall  f1-score   support\n",
            "\n",
            "           0       0.92      0.76      0.83     12132\n",
            "           1       0.75      0.92      0.83      9911\n",
            "\n",
            "    accuracy                           0.83     22043\n",
            "   macro avg       0.84      0.84      0.83     22043\n",
            "weighted avg       0.84      0.83      0.83     22043\n",
            "\n"
          ],
          "name": "stdout"
        },
        {
          "output_type": "display_data",
          "data": {
            "image/png": "[encoded data removed]",
            "text/plain": [
              "<Figure size 432x288 with 2 Axes>"
            ]
          },
          "metadata": {
            "needs_background": "light"
          }
        }
      ]
    },
    {
      "cell_type": "markdown",
      "metadata": {
        "id": "afAM47SgvQWt"
      },
      "source": [
        "### Pickling"
      ]
    },
    {
      "cell_type": "code",
      "metadata": {
        "id": "3NIdtPI-vT6O"
      },
      "source": [
        "pickle.dump(stray_pipe, open('/content/drive/MyDrive/Colab Notebooks/group_proj_models/stray_pipe.pkl','wb'))"
      ],
      "execution_count": null,
      "outputs": []
    },
    {
      "cell_type": "markdown",
      "metadata": {
        "id": "JhNPkKIOaOmM"
      },
      "source": [
        "# Owner Surrenders"
      ]
    },
    {
      "cell_type": "markdown",
      "metadata": {
        "id": "vxpqvSCwskm4"
      },
      "source": [
        "Nothing too special here."
      ]
    },
    {
      "cell_type": "code",
      "metadata": {
        "id": "j-E0ZpbXegRL"
      },
      "source": [
        "model_df = df[df['intake_type_Owner Surrender'] == 1]\n",
        "model_df.reset_index(inplace=True, drop=True)"
      ],
      "execution_count": null,
      "outputs": []
    },
    {
      "cell_type": "markdown",
      "metadata": {
        "id": "viEVvC37e_gu"
      },
      "source": [
        "## Baseline"
      ]
    },
    {
      "cell_type": "code",
      "metadata": {
        "colab": {
          "base_uri": "https://localhost:8080/"
        },
        "id": "dtawAN3Ietq-",
        "outputId": "491a9f72-fefb-4ded-9476-29296ae827d4"
      },
      "source": [
        "print(model_df['adopted'].value_counts(normalize=True))"
      ],
      "execution_count": null,
      "outputs": [
        {
          "output_type": "stream",
          "text": [
            "1    0.633628\n",
            "0    0.366372\n",
            "Name: adopted, dtype: float64\n"
          ],
          "name": "stdout"
        }
      ]
    },
    {
      "cell_type": "markdown",
      "metadata": {
        "id": "qHnMnzn5fEu5"
      },
      "source": [
        "## Model"
      ]
    },
    {
      "cell_type": "code",
      "metadata": {
        "colab": {
          "base_uri": "https://localhost:8080/"
        },
        "id": "iYK8pEfSaYWq",
        "outputId": "d97ae35d-3c03-494c-9213-fed24bd083ed"
      },
      "source": [
        "features = (model_df.drop(columns = ['adopted']).columns)\n",
        "X = model_df[features]\n",
        "y = model_df['adopted']\n",
        "X_train, X_test, y_train, y_test = train_test_split(X, y, random_state = 42, stratify=y)\n",
        "\n",
        "pipe_params = [\n",
        "               ('scaler', StandardScaler()),\n",
        "               ('gbc', GradientBoostingClassifier(random_state=13))\n",
        "]\n",
        "surrender_pipe = Pipeline(pipe_params)\n",
        "surrender_pipe.fit(X_train, y_train)"
      ],
      "execution_count": null,
      "outputs": [
        {
          "output_type": "execute_result",
          "data": {
            "text/plain": [
              "Pipeline(memory=None,\n",
              "         steps=[('scaler',\n",
              "                 StandardScaler(copy=True, with_mean=True, with_std=True)),\n",
              "                ('gbc',\n",
              "                 GradientBoostingClassifier(ccp_alpha=0.0,\n",
              "                                            criterion='friedman_mse', init=None,\n",
              "                                            learning_rate=0.1, loss='deviance',\n",
              "                                            max_depth=3, max_features=None,\n",
              "                                            max_leaf_nodes=None,\n",
              "                                            min_impurity_decrease=0.0,\n",
              "                                            min_impurity_split=None,\n",
              "                                            min_samples_leaf=1,\n",
              "                                            min_samples_split=2,\n",
              "                                            min_weight_fraction_leaf=0.0,\n",
              "                                            n_estimators=100,\n",
              "                                            n_iter_no_change=None,\n",
              "                                            presort='deprecated',\n",
              "                                            random_state=13, subsample=1.0,\n",
              "                                            tol=0.0001, validation_fraction=0.1,\n",
              "                                            verbose=0, warm_start=False))],\n",
              "         verbose=False)"
            ]
          },
          "metadata": {},
          "execution_count": 16
        }
      ]
    },
    {
      "cell_type": "markdown",
      "metadata": {
        "id": "TZGyaq8nfbxb"
      },
      "source": [
        "### Scores"
      ]
    },
    {
      "cell_type": "code",
      "metadata": {
        "colab": {
          "base_uri": "https://localhost:8080/"
        },
        "id": "ePvLhbjGffWP",
        "outputId": "b2461874-60bb-4341-de98-8fe237ff5928"
      },
      "source": [
        "print('Training Score: ', surrender_pipe.score(X_train, y_train))\n",
        "print('Testing Score: ', surrender_pipe.score(X_test, y_test))"
      ],
      "execution_count": null,
      "outputs": [
        {
          "output_type": "stream",
          "text": [
            "Training Score:  0.7386721208307111\n",
            "Testing Score:  0.733364794714488\n"
          ],
          "name": "stdout"
        }
      ]
    },
    {
      "cell_type": "code",
      "metadata": {
        "colab": {
          "base_uri": "https://localhost:8080/",
          "height": 444
        },
        "id": "ZvO4iZd_kNKk",
        "outputId": "e2ce3e3d-f33e-46af-ba60-f5a94cbbc65e"
      },
      "source": [
        "plot_confusion_matrix(surrender_pipe, X_test, y_test);\n",
        "print(classification_report(y_test, surrender_pipe.predict(X_test)))"
      ],
      "execution_count": null,
      "outputs": [
        {
          "output_type": "stream",
          "text": [
            "              precision    recall  f1-score   support\n",
            "\n",
            "           0       0.79      0.37      0.51      2329\n",
            "           1       0.72      0.94      0.82      4028\n",
            "\n",
            "    accuracy                           0.73      6357\n",
            "   macro avg       0.75      0.66      0.66      6357\n",
            "weighted avg       0.75      0.73      0.70      6357\n",
            "\n"
          ],
          "name": "stdout"
        },
        {
          "output_type": "display_data",
          "data": {
            "image/png": "[encoded data removed]",
            "text/plain": [
              "<Figure size 432x288 with 2 Axes>"
            ]
          },
          "metadata": {
            "needs_background": "light"
          }
        }
      ]
    },
    {
      "cell_type": "markdown",
      "metadata": {
        "id": "sCIBQU1PxBUm"
      },
      "source": [
        "### Pickling\n"
      ]
    },
    {
      "cell_type": "code",
      "metadata": {
        "id": "kVq9OUUkvmt6"
      },
      "source": [
        "pickle.dump(surrender_pipe, open('/content/drive/MyDrive/Colab Notebooks/group_proj_models/ownersurrender_pipe.pkl','wb'))"
      ],
      "execution_count": null,
      "outputs": []
    },
    {
      "cell_type": "markdown",
      "metadata": {
        "id": "JdNeLhfkhAvG"
      },
      "source": [
        "# Public Assist"
      ]
    },
    {
      "cell_type": "code",
      "metadata": {
        "id": "fk9tslGLhMfs"
      },
      "source": [
        "model_df = df[df['intake_type_Public Assist'] == 1]\n",
        "model_df.reset_index(inplace=True, drop=True)"
      ],
      "execution_count": null,
      "outputs": []
    },
    {
      "cell_type": "markdown",
      "metadata": {
        "id": "99Cxy7EyhXSp"
      },
      "source": [
        "## Baseline"
      ]
    },
    {
      "cell_type": "code",
      "metadata": {
        "colab": {
          "base_uri": "https://localhost:8080/"
        },
        "id": "MsFSXHfihTTT",
        "outputId": "67d50664-f889-4eea-f7f3-e9b8c26a50ed"
      },
      "source": [
        "print(model_df['adopted'].value_counts(normalize=True))"
      ],
      "execution_count": null,
      "outputs": [
        {
          "output_type": "stream",
          "text": [
            "0    0.85573\n",
            "1    0.14427\n",
            "Name: adopted, dtype: float64\n"
          ],
          "name": "stdout"
        }
      ]
    },
    {
      "cell_type": "markdown",
      "metadata": {
        "id": "VtTXOzXIiNW0"
      },
      "source": [
        "## Model"
      ]
    },
    {
      "cell_type": "code",
      "metadata": {
        "colab": {
          "base_uri": "https://localhost:8080/"
        },
        "id": "sMAXv98UiPk8",
        "outputId": "02221e12-5228-43be-cfdb-fae85b35398b"
      },
      "source": [
        "features = (model_df.drop(columns = ['adopted']).columns)\n",
        "X = model_df[features]\n",
        "y = model_df['adopted']\n",
        "\n",
        "X_train, X_test, y_train, y_test = train_test_split(X, y, random_state = 42, stratify=y)\n",
        "\n",
        "pipe_params = [\n",
        "               ('scaler', StandardScaler()),\n",
        "               ('gbc', GradientBoostingClassifier(random_state=13))\n",
        "]\n",
        "passist_pipe = Pipeline(pipe_params)\n",
        "passist_pipe.fit(X_train, y_train)"
      ],
      "execution_count": null,
      "outputs": [
        {
          "output_type": "execute_result",
          "data": {
            "text/plain": [
              "Pipeline(memory=None,\n",
              "         steps=[('scaler',\n",
              "                 StandardScaler(copy=True, with_mean=True, with_std=True)),\n",
              "                ('gbc',\n",
              "                 GradientBoostingClassifier(ccp_alpha=0.0,\n",
              "                                            criterion='friedman_mse', init=None,\n",
              "                                            learning_rate=0.1, loss='deviance',\n",
              "                                            max_depth=3, max_features=None,\n",
              "                                            max_leaf_nodes=None,\n",
              "                                            min_impurity_decrease=0.0,\n",
              "                                            min_impurity_split=None,\n",
              "                                            min_samples_leaf=1,\n",
              "                                            min_samples_split=2,\n",
              "                                            min_weight_fraction_leaf=0.0,\n",
              "                                            n_estimators=100,\n",
              "                                            n_iter_no_change=None,\n",
              "                                            presort='deprecated',\n",
              "                                            random_state=13, subsample=1.0,\n",
              "                                            tol=0.0001, validation_fraction=0.1,\n",
              "                                            verbose=0, warm_start=False))],\n",
              "         verbose=False)"
            ]
          },
          "metadata": {},
          "execution_count": 22
        }
      ]
    },
    {
      "cell_type": "markdown",
      "metadata": {
        "id": "vaFhfY10ihKN"
      },
      "source": [
        "### Scores"
      ]
    },
    {
      "cell_type": "code",
      "metadata": {
        "colab": {
          "base_uri": "https://localhost:8080/"
        },
        "id": "JTOXZuQyig3d",
        "outputId": "3eaf4fc6-20f3-46f8-dfb3-0be107247ad3"
      },
      "source": [
        "print('Training Score: ', passist_pipe.score(X_train, y_train))\n",
        "print('Testing Score: ', passist_pipe.score(X_test, y_test))"
      ],
      "execution_count": null,
      "outputs": [
        {
          "output_type": "stream",
          "text": [
            "Training Score:  0.9071599862966769\n",
            "Testing Score:  0.9003083247687564\n"
          ],
          "name": "stdout"
        }
      ]
    },
    {
      "cell_type": "code",
      "metadata": {
        "colab": {
          "base_uri": "https://localhost:8080/",
          "height": 447
        },
        "id": "yBfGiiHjj67I",
        "outputId": "c88831a2-220c-4e53-f12a-10e6fe87e6dc"
      },
      "source": [
        "plot_confusion_matrix(passist_pipe, X_test, y_test);\n",
        "print(classification_report(y_test, passist_pipe.predict(X_test)))"
      ],
      "execution_count": null,
      "outputs": [
        {
          "output_type": "stream",
          "text": [
            "              precision    recall  f1-score   support\n",
            "\n",
            "           0       0.92      0.97      0.94      1665\n",
            "           1       0.72      0.50      0.59       281\n",
            "\n",
            "    accuracy                           0.90      1946\n",
            "   macro avg       0.82      0.73      0.77      1946\n",
            "weighted avg       0.89      0.90      0.89      1946\n",
            "\n"
          ],
          "name": "stdout"
        },
        {
          "output_type": "display_data",
          "data": {
            "image/png": "[encoded data removed]",
            "text/plain": [
              "<Figure size 432x288 with 2 Axes>"
            ]
          },
          "metadata": {
            "needs_background": "light"
          }
        }
      ]
    },
    {
      "cell_type": "markdown",
      "metadata": {
        "id": "LZhYjUToxGEB"
      },
      "source": [
        "### Pickling"
      ]
    },
    {
      "cell_type": "code",
      "metadata": {
        "id": "EZBo44opxIwu"
      },
      "source": [
        "pickle.dump(passist_pipe, open('/content/drive/MyDrive/Colab Notebooks/group_proj_models/pubassist_pipe.pkl','wb'))"
      ],
      "execution_count": null,
      "outputs": []
    },
    {
      "cell_type": "markdown",
      "metadata": {
        "id": "u2_eLND-jEMy"
      },
      "source": [
        "# Euthanasia Requests"
      ]
    },
    {
      "cell_type": "markdown",
      "metadata": {
        "id": "pbnapsL3jBhC"
      },
      "source": [
        "Euthanasia Requests are another troublesome quality in our data. Since we are predicting adoptions, we may be outside the general scope of the goal of the Animal Shelter when they deal with Euthanasia Requests. Bootstrapping and tuning did not improve our model in any significant way."
      ]
    },
    {
      "cell_type": "code",
      "metadata": {
        "id": "78rCJZH0jKo4"
      },
      "source": [
        "model_df = df[df['intake_type_Euthanasia Request'] == 1]\n",
        "model_df.reset_index(inplace=True, drop=True)"
      ],
      "execution_count": null,
      "outputs": []
    },
    {
      "cell_type": "markdown",
      "metadata": {
        "id": "_whpAc3FjiQr"
      },
      "source": [
        "## Baseline"
      ]
    },
    {
      "cell_type": "code",
      "metadata": {
        "colab": {
          "base_uri": "https://localhost:8080/"
        },
        "id": "KV7IrN8Wjlv3",
        "outputId": "5bd380aa-ed2a-47c3-afd6-85aefe675ce3"
      },
      "source": [
        "print(model_df['adopted'].value_counts(normalize=True))"
      ],
      "execution_count": null,
      "outputs": [
        {
          "output_type": "stream",
          "text": [
            "0    0.945525\n",
            "1    0.054475\n",
            "Name: adopted, dtype: float64\n"
          ],
          "name": "stdout"
        }
      ]
    },
    {
      "cell_type": "markdown",
      "metadata": {
        "id": "O9W9wMJAjq4l"
      },
      "source": [
        "## Model"
      ]
    },
    {
      "cell_type": "code",
      "metadata": {
        "colab": {
          "base_uri": "https://localhost:8080/"
        },
        "id": "OiOMSKwLjoyO",
        "outputId": "1a5cfdcb-eabb-4d03-c182-fb22791db3f7"
      },
      "source": [
        "features = (model_df.drop(columns = ['adopted']).columns)\n",
        "X = model_df[features]\n",
        "y = model_df['adopted']\n",
        "\n",
        "X_train, X_test, y_train, y_test = train_test_split(X, y, random_state = 42, stratify=y)\n",
        "\n",
        "pipe_params = [\n",
        "               ('scaler', StandardScaler()),\n",
        "               ('gbc', GradientBoostingClassifier(random_state=13))\n",
        "]\n",
        "euth_req_pipe = Pipeline(pipe_params)\n",
        "euth_req_pipe.fit(X_train, y_train)"
      ],
      "execution_count": null,
      "outputs": [
        {
          "output_type": "execute_result",
          "data": {
            "text/plain": [
              "Pipeline(memory=None,\n",
              "         steps=[('scaler',\n",
              "                 StandardScaler(copy=True, with_mean=True, with_std=True)),\n",
              "                ('gbc',\n",
              "                 GradientBoostingClassifier(ccp_alpha=0.0,\n",
              "                                            criterion='friedman_mse', init=None,\n",
              "                                            learning_rate=0.1, loss='deviance',\n",
              "                                            max_depth=3, max_features=None,\n",
              "                                            max_leaf_nodes=None,\n",
              "                                            min_impurity_decrease=0.0,\n",
              "                                            min_impurity_split=None,\n",
              "                                            min_samples_leaf=1,\n",
              "                                            min_samples_split=2,\n",
              "                                            min_weight_fraction_leaf=0.0,\n",
              "                                            n_estimators=100,\n",
              "                                            n_iter_no_change=None,\n",
              "                                            presort='deprecated',\n",
              "                                            random_state=13, subsample=1.0,\n",
              "                                            tol=0.0001, validation_fraction=0.1,\n",
              "                                            verbose=0, warm_start=False))],\n",
              "         verbose=False)"
            ]
          },
          "metadata": {},
          "execution_count": 30
        }
      ]
    },
    {
      "cell_type": "markdown",
      "metadata": {
        "id": "YWD8ewcgjvDO"
      },
      "source": [
        "### Scores"
      ]
    },
    {
      "cell_type": "code",
      "metadata": {
        "colab": {
          "base_uri": "https://localhost:8080/"
        },
        "id": "MPNI1AZJjyes",
        "outputId": "df507b99-d0f5-4904-be13-c781d69ce11d"
      },
      "source": [
        "print('Training Score: ', euth_req_pipe.score(X_train, y_train))\n",
        "print('Testing Score: ', euth_req_pipe.score(X_test, y_test))"
      ],
      "execution_count": null,
      "outputs": [
        {
          "output_type": "stream",
          "text": [
            "Training Score:  1.0\n",
            "Testing Score:  0.9538461538461539\n"
          ],
          "name": "stdout"
        }
      ]
    },
    {
      "cell_type": "code",
      "metadata": {
        "colab": {
          "base_uri": "https://localhost:8080/",
          "height": 445
        },
        "id": "Y5A1p2J9io1v",
        "outputId": "7636fc3f-ddb1-4cdb-decb-628459b53a13"
      },
      "source": [
        "plot_confusion_matrix(euth_req_pipe, X_test, y_test);\n",
        "print(classification_report(y_test, euth_req_pipe.predict(X_test)))"
      ],
      "execution_count": null,
      "outputs": [
        {
          "output_type": "stream",
          "text": [
            "              precision    recall  f1-score   support\n",
            "\n",
            "           0       0.95      1.00      0.98        61\n",
            "           1       1.00      0.25      0.40         4\n",
            "\n",
            "    accuracy                           0.95        65\n",
            "   macro avg       0.98      0.62      0.69        65\n",
            "weighted avg       0.96      0.95      0.94        65\n",
            "\n"
          ],
          "name": "stdout"
        },
        {
          "output_type": "display_data",
          "data": {
            "image/png": "[encoded data removed]",
            "text/plain": [
              "<Figure size 432x288 with 2 Axes>"
            ]
          },
          "metadata": {
            "needs_background": "light"
          }
        }
      ]
    },
    {
      "cell_type": "markdown",
      "metadata": {
        "id": "GBCJrvr0yqWQ"
      },
      "source": [
        "### Pickling"
      ]
    },
    {
      "cell_type": "code",
      "metadata": {
        "id": "QnRyg7l2yt2a"
      },
      "source": [
        "pickle.dump(euth_req_pipe, open('/content/drive/MyDrive/Colab Notebooks/group_proj_models/euth_pipe.pkl','wb'))"
      ],
      "execution_count": null,
      "outputs": []
    },
    {
      "cell_type": "markdown",
      "metadata": {
        "id": "e2cWruPCouX3"
      },
      "source": [
        "# Wildlife"
      ]
    },
    {
      "cell_type": "markdown",
      "metadata": {
        "id": "kRmr76yPiBI8"
      },
      "source": [
        "The wildlife model is having a difficult time figuring out when an animal gets adopted, we simply have too few positive cases of Wildlife getting adopted to produce meaningful results. Bagging (Bootstrapping) did not yield better results, and actually fit our model too perfectly to our training set. Based on the amount of information, and the likelihood of a wild animal getting adopted, we probably would need to get more data then we currently have to determine what goes into wildlife adoptions.\n",
        "\n",
        "Also since we changed our problem to predicting adoptions, we may have inadvertently changed the scope of what the Animal Shelter does with wildlife. It may be too naive of us to assume that the goal of the Animal Shelter is to get their wildlife adopted."
      ]
    },
    {
      "cell_type": "code",
      "metadata": {
        "id": "UhPZu-rDo2O_"
      },
      "source": [
        "model_df = df[df['intake_type_Wildlife'] == 1]\n",
        "model_df.reset_index(inplace=True, drop=True)"
      ],
      "execution_count": null,
      "outputs": []
    },
    {
      "cell_type": "markdown",
      "metadata": {
        "id": "SOxUf9dEpCO2"
      },
      "source": [
        "## Baseline"
      ]
    },
    {
      "cell_type": "code",
      "metadata": {
        "colab": {
          "base_uri": "https://localhost:8080/"
        },
        "id": "RgmKV-R6o-h8",
        "outputId": "9583e985-6993-44f5-8c9c-e1a95e0d84be"
      },
      "source": [
        "print(model_df['adopted'].value_counts(normalize=True))"
      ],
      "execution_count": null,
      "outputs": [
        {
          "output_type": "stream",
          "text": [
            "0    0.998618\n",
            "1    0.001382\n",
            "Name: adopted, dtype: float64\n"
          ],
          "name": "stdout"
        }
      ]
    },
    {
      "cell_type": "markdown",
      "metadata": {
        "id": "Jyajs4QgpHH5"
      },
      "source": [
        "## Model"
      ]
    },
    {
      "cell_type": "code",
      "metadata": {
        "colab": {
          "base_uri": "https://localhost:8080/"
        },
        "id": "e0js5t-jpIWE",
        "outputId": "31e2ae78-ec2d-4c72-dd97-7c56b14515d8"
      },
      "source": [
        "features = (model_df.drop(columns = ['adopted']).columns)\n",
        "X = model_df[features]\n",
        "y = model_df['adopted']\n",
        "\n",
        "X_train, X_test, y_train, y_test = train_test_split(X, y, random_state = 42, stratify=y)\n",
        "\n",
        "pipe_params = [\n",
        "               ('scaler', StandardScaler()),\n",
        "               ('gbc', GradientBoostingClassifier(random_state=13, learning_rate=.01))\n",
        "]\n",
        "wildlife_pipe = Pipeline(pipe_params)\n",
        "wildlife_pipe.fit(X_train, y_train)"
      ],
      "execution_count": null,
      "outputs": [
        {
          "output_type": "execute_result",
          "data": {
            "text/plain": [
              "Pipeline(memory=None,\n",
              "         steps=[('scaler',\n",
              "                 StandardScaler(copy=True, with_mean=True, with_std=True)),\n",
              "                ('gbc',\n",
              "                 GradientBoostingClassifier(ccp_alpha=0.0,\n",
              "                                            criterion='friedman_mse', init=None,\n",
              "                                            learning_rate=0.01, loss='deviance',\n",
              "                                            max_depth=3, max_features=None,\n",
              "                                            max_leaf_nodes=None,\n",
              "                                            min_impurity_decrease=0.0,\n",
              "                                            min_impurity_split=None,\n",
              "                                            min_samples_leaf=1,\n",
              "                                            min_samples_split=2,\n",
              "                                            min_weight_fraction_leaf=0.0,\n",
              "                                            n_estimators=100,\n",
              "                                            n_iter_no_change=None,\n",
              "                                            presort='deprecated',\n",
              "                                            random_state=13, subsample=1.0,\n",
              "                                            tol=0.0001, validation_fraction=0.1,\n",
              "                                            verbose=0, warm_start=False))],\n",
              "         verbose=False)"
            ]
          },
          "metadata": {},
          "execution_count": 36
        }
      ]
    },
    {
      "cell_type": "markdown",
      "metadata": {
        "id": "57xmJABJplMd"
      },
      "source": [
        "### Scores"
      ]
    },
    {
      "cell_type": "code",
      "metadata": {
        "colab": {
          "base_uri": "https://localhost:8080/"
        },
        "id": "eokQtSDFpnSN",
        "outputId": "7ab01c7a-a204-4885-dc1d-b608fd2359bc"
      },
      "source": [
        "print('Training Score: ', wildlife_pipe.score(X_train, y_train))\n",
        "print('Testing Score: ', wildlife_pipe.score(X_test, y_test))"
      ],
      "execution_count": null,
      "outputs": [
        {
          "output_type": "stream",
          "text": [
            "Training Score:  1.0\n",
            "Testing Score:  0.9984214680347278\n"
          ],
          "name": "stdout"
        }
      ]
    },
    {
      "cell_type": "code",
      "metadata": {
        "colab": {
          "base_uri": "https://localhost:8080/",
          "height": 501
        },
        "id": "Ko6y2Z4NfTrr",
        "outputId": "24d8b9c7-d3a1-4e1a-be87-030aec62a41c"
      },
      "source": [
        "plot_confusion_matrix(wildlife_pipe, X_test, y_test);\n",
        "print(classification_report(y_test, wildlife_pipe.predict(X_test)))"
      ],
      "execution_count": null,
      "outputs": [
        {
          "output_type": "stream",
          "text": [
            "              precision    recall  f1-score   support\n",
            "\n",
            "           0       1.00      1.00      1.00      1265\n",
            "           1       0.00      0.00      0.00         2\n",
            "\n",
            "    accuracy                           1.00      1267\n",
            "   macro avg       0.50      0.50      0.50      1267\n",
            "weighted avg       1.00      1.00      1.00      1267\n",
            "\n"
          ],
          "name": "stdout"
        },
        {
          "output_type": "stream",
          "text": [
            "/usr/local/lib/python3.7/dist-packages/sklearn/metrics/_classification.py:1272: UndefinedMetricWarning: Precision and F-score are ill-defined and being set to 0.0 in labels with no predicted samples. Use `zero_division` parameter to control this behavior.\n",
            "  _warn_prf(average, modifier, msg_start, len(result))\n"
          ],
          "name": "stderr"
        },
        {
          "output_type": "display_data",
          "data": {
            "image/png": "[encoded data removed]",
            "text/plain": [
              "<Figure size 432x288 with 2 Axes>"
            ]
          },
          "metadata": {
            "needs_background": "light"
          }
        }
      ]
    },
    {
      "cell_type": "markdown",
      "metadata": {
        "id": "CykDLglQoFHQ"
      },
      "source": [
        "### Pickling"
      ]
    },
    {
      "cell_type": "code",
      "metadata": {
        "id": "8US5xmcmoEzJ"
      },
      "source": [
        "pickle.dump(euth_req_pipe, open('/content/drive/MyDrive/Colab Notebooks/group_proj_models/wlife_pipe.pkl','wb'))"
      ],
      "execution_count": null,
      "outputs": []
    },
    {
      "cell_type": "markdown",
      "metadata": {
        "id": "AhcVeZaCp5r7"
      },
      "source": [
        "# Abandoned"
      ]
    },
    {
      "cell_type": "markdown",
      "metadata": {
        "id": "ZvVVsofLnwyv"
      },
      "source": [
        "After tuning for hyper parameters we were not necessarily able to improve accuracy, but we were able to reduce overfitting"
      ]
    },
    {
      "cell_type": "code",
      "metadata": {
        "id": "UR4aEotvp_Rr"
      },
      "source": [
        "model_df = df[df['intake_type_Abandoned'] == 1]\n",
        "model_df.reset_index(inplace=True, drop=True)"
      ],
      "execution_count": null,
      "outputs": []
    },
    {
      "cell_type": "markdown",
      "metadata": {
        "id": "covoAKg_qEkT"
      },
      "source": [
        "## Baseline"
      ]
    },
    {
      "cell_type": "code",
      "metadata": {
        "colab": {
          "base_uri": "https://localhost:8080/"
        },
        "id": "5wUczkbjqELA",
        "outputId": "ded0d974-c05a-4b1a-cf49-57babc7dfcc7"
      },
      "source": [
        "print(model_df['adopted'].value_counts(normalize=True))"
      ],
      "execution_count": null,
      "outputs": [
        {
          "output_type": "stream",
          "text": [
            "0    0.504525\n",
            "1    0.495475\n",
            "Name: adopted, dtype: float64\n"
          ],
          "name": "stdout"
        }
      ]
    },
    {
      "cell_type": "markdown",
      "metadata": {
        "id": "-kNc75UcqJqB"
      },
      "source": [
        "## Model"
      ]
    },
    {
      "cell_type": "code",
      "metadata": {
        "colab": {
          "base_uri": "https://localhost:8080/"
        },
        "id": "u5u0tfzIqLCm",
        "outputId": "38fcb9c6-4497-49ce-c3c9-530a7b32d195"
      },
      "source": [
        "features = (model_df.drop(columns = ['adopted']).columns)\n",
        "X = model_df[features]\n",
        "y = model_df['adopted']\n",
        "\n",
        "X_train, X_test, y_train, y_test = train_test_split(X, y, random_state = 42, stratify=y)\n",
        "\n",
        "pipe_params = [\n",
        "               ('scaler', StandardScaler()),\n",
        "               ('gbc', GradientBoostingClassifier(max_features=1000,learning_rate=.001,random_state=13))\n",
        "]\n",
        "abandoned_pipe = Pipeline(pipe_params)\n",
        "abandoned_pipe.fit(X_train, y_train)"
      ],
      "execution_count": null,
      "outputs": [
        {
          "output_type": "execute_result",
          "data": {
            "text/plain": [
              "Pipeline(memory=None,\n",
              "         steps=[('scaler',\n",
              "                 StandardScaler(copy=True, with_mean=True, with_std=True)),\n",
              "                ('gbc',\n",
              "                 GradientBoostingClassifier(ccp_alpha=0.0,\n",
              "                                            criterion='friedman_mse', init=None,\n",
              "                                            learning_rate=0.001,\n",
              "                                            loss='deviance', max_depth=3,\n",
              "                                            max_features=1000,\n",
              "                                            max_leaf_nodes=None,\n",
              "                                            min_impurity_decrease=0.0,\n",
              "                                            min_impurity_split=None,\n",
              "                                            min_samples_leaf=1,\n",
              "                                            min_samples_split=2,\n",
              "                                            min_weight_fraction_leaf=0.0,\n",
              "                                            n_estimators=100,\n",
              "                                            n_iter_no_change=None,\n",
              "                                            presort='deprecated',\n",
              "                                            random_state=13, subsample=1.0,\n",
              "                                            tol=0.0001, validation_fraction=0.1,\n",
              "                                            verbose=0, warm_start=False))],\n",
              "         verbose=False)"
            ]
          },
          "metadata": {},
          "execution_count": 49
        }
      ]
    },
    {
      "cell_type": "markdown",
      "metadata": {
        "id": "SevlPQVGqMOh"
      },
      "source": [
        "### Scores"
      ]
    },
    {
      "cell_type": "code",
      "metadata": {
        "colab": {
          "base_uri": "https://localhost:8080/"
        },
        "id": "F2gPGSw2qOVD",
        "outputId": "99203607-a7b8-427c-a63c-4856757872b2"
      },
      "source": [
        "print('Training Score: ', abandoned_pipe.score(X_train, y_train))\n",
        "print('Testing Score: ', abandoned_pipe.score(X_test, y_test))"
      ],
      "execution_count": null,
      "outputs": [
        {
          "output_type": "stream",
          "text": [
            "Training Score:  0.8731117824773413\n",
            "Testing Score:  0.8288288288288288\n"
          ],
          "name": "stdout"
        }
      ]
    },
    {
      "cell_type": "code",
      "metadata": {
        "colab": {
          "base_uri": "https://localhost:8080/",
          "height": 444
        },
        "id": "Q3R2MOVdeliS",
        "outputId": "a11dd3a6-93a7-4324-8abd-b8d665c72da7"
      },
      "source": [
        "plot_confusion_matrix(abandoned_pipe, X_test, y_test);\n",
        "print(classification_report(y_test, abandoned_pipe.predict(X_test)))"
      ],
      "execution_count": null,
      "outputs": [
        {
          "output_type": "stream",
          "text": [
            "              precision    recall  f1-score   support\n",
            "\n",
            "           0       0.95      0.70      0.80        56\n",
            "           1       0.76      0.96      0.85        55\n",
            "\n",
            "    accuracy                           0.83       111\n",
            "   macro avg       0.85      0.83      0.83       111\n",
            "weighted avg       0.86      0.83      0.83       111\n",
            "\n"
          ],
          "name": "stdout"
        },
        {
          "output_type": "display_data",
          "data": {
            "image/png": "[encoded data removed]",
            "text/plain": [
              "<Figure size 432x288 with 2 Axes>"
            ]
          },
          "metadata": {
            "needs_background": "light"
          }
        }
      ]
    },
    {
      "cell_type": "markdown",
      "metadata": {
        "id": "GYqiuDCCoPTE"
      },
      "source": [
        "### Pickling"
      ]
    },
    {
      "cell_type": "code",
      "metadata": {
        "id": "At8Aa9lxoSgZ"
      },
      "source": [
        "pickle.dump(euth_req_pipe, open('/content/drive/MyDrive/Colab Notebooks/group_proj_models/abandoned_pipe.pkl','wb'))"
      ],
      "execution_count": null,
      "outputs": []
    },
    {
      "cell_type": "markdown",
      "metadata": {
        "id": "8YQwV85OyXUC"
      },
      "source": [
        "# Pickle Dump for Streamlit App"
      ]
    },
    {
      "cell_type": "code",
      "metadata": {
        "id": "o8p0Xlr0oYhK"
      },
      "source": [
        "pkl_df = pd.read_csv('https://raw.githubusercontent.com/bpberry0324/animal_shelter_outcomes/main/datasets/katie-animals_w_outcome.csv')"
      ],
      "execution_count": null,
      "outputs": []
    },
    {
      "cell_type": "code",
      "metadata": {
        "id": "fBOk012dyfqH"
      },
      "source": [
        "pickle.dump(pkl_df['color'].unique(), open('/content/drive/MyDrive/Colab Notebooks/group_proj_models/animal_color_list.pkl','wb'))\n",
        "pickle.dump(pkl_df['animal_type'].unique(), open('/content/drive/MyDrive/Colab Notebooks/group_proj_models/animal_type_list.pkl','wb'))\n",
        "pickle.dump(pkl_df['breed'].unique(), open('/content/drive/MyDrive/Colab Notebooks/group_proj_models/animal_breed_list.pkl','wb'))\n",
        "pickle.dump(pkl_df['intake_condition'].unique(), open('/content/drive/MyDrive/Colab Notebooks/group_proj_models/intake_cond_list.pkl','wb'))"
      ],
      "execution_count": null,
      "outputs": []
    }
  ]
}