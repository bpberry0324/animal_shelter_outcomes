{
 "cells": [
  {
   "cell_type": "code",
   "execution_count": 1,
   "id": "2d0e9236-0f7b-4351-8ca5-07f9426213ae",
   "metadata": {},
   "outputs": [],
   "source": [
    "import pandas as pd"
   ]
  },
  {
   "cell_type": "code",
   "execution_count": 3,
   "id": "06dd6b19-cc64-4f56-93c8-3727cf3f8707",
   "metadata": {},
   "outputs": [],
   "source": [
    "outcomes = pd.read_csv('./../datasets/outcomes_initial.csv')\n",
    "intakes = pd.read_csv('./../datasets/intakes_initial.csv')"
   ]
  },
  {
   "cell_type": "code",
   "execution_count": null,
   "id": "fe7acf55-7244-4c08-b01c-ba21c6fe0d02",
   "metadata": {},
   "outputs": [],
   "source": []
  }
 ],
 "metadata": {
  "kernelspec": {
   "display_name": "Python 3",
   "language": "python",
   "name": "python3"
  },
  "language_info": {
   "codemirror_mode": {
    "name": "ipython",
    "version": 3
   },
   "file_extension": ".py",
   "mimetype": "text/x-python",
   "name": "python",
   "nbconvert_exporter": "python",
   "pygments_lexer": "ipython3",
   "version": "3.8.8"
  }
 },
 "nbformat": 4,
 "nbformat_minor": 5
}
