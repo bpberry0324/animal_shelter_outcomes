{
 "cells": [
  {
   "cell_type": "code",
   "execution_count": 1,
   "id": "cb84f75f-30f1-436b-b64a-c222d2103f6f",
   "metadata": {},
   "outputs": [],
   "source": [
    "import pandas as pd\n",
    "import numpy as np"
   ]
  },
  {
   "cell_type": "code",
   "execution_count": 3,
   "id": "bac425ab-05b0-4d9e-a7b2-31f72f8600c5",
   "metadata": {},
   "outputs": [],
   "source": [
    "outcomes = pd.read_csv('./../datasets/Austin_Animal_Center_Outcomes.csv')\n",
    "intakes = pd.read_csv('./../datasets/Austin_Animal_Center_Intakes.csv')"
   ]
  },
  {
   "cell_type": "code",
   "execution_count": 3,
   "id": "589a6256-6b0f-48a6-879a-c486204853e4",
   "metadata": {},
   "outputs": [
    {
     "data": {
      "text/html": [
       "<div>\n",
       "<style scoped>\n",
       "    .dataframe tbody tr th:only-of-type {\n",
       "        vertical-align: middle;\n",
       "    }\n",
       "\n",
       "    .dataframe tbody tr th {\n",
       "        vertical-align: top;\n",
       "    }\n",
       "\n",
       "    .dataframe thead th {\n",
       "        text-align: right;\n",
       "    }\n",
       "</style>\n",
       "<table border=\"1\" class=\"dataframe\">\n",
       "  <thead>\n",
       "    <tr style=\"text-align: right;\">\n",
       "      <th></th>\n",
       "      <th>Animal ID</th>\n",
       "      <th>Name</th>\n",
       "      <th>DateTime</th>\n",
       "      <th>MonthYear</th>\n",
       "      <th>Date of Birth</th>\n",
       "      <th>Outcome Type</th>\n",
       "      <th>Outcome Subtype</th>\n",
       "      <th>Animal Type</th>\n",
       "      <th>Sex upon Outcome</th>\n",
       "      <th>Age upon Outcome</th>\n",
       "      <th>Breed</th>\n",
       "      <th>Color</th>\n",
       "    </tr>\n",
       "  </thead>\n",
       "  <tbody>\n",
       "    <tr>\n",
       "      <th>0</th>\n",
       "      <td>A794011</td>\n",
       "      <td>Chunk</td>\n",
       "      <td>05/08/2019 06:20:00 PM</td>\n",
       "      <td>05/08/2019 06:20:00 PM</td>\n",
       "      <td>05/02/2017</td>\n",
       "      <td>Rto-Adopt</td>\n",
       "      <td>NaN</td>\n",
       "      <td>Cat</td>\n",
       "      <td>Neutered Male</td>\n",
       "      <td>2 years</td>\n",
       "      <td>Domestic Shorthair Mix</td>\n",
       "      <td>Brown Tabby/White</td>\n",
       "    </tr>\n",
       "    <tr>\n",
       "      <th>1</th>\n",
       "      <td>A776359</td>\n",
       "      <td>Gizmo</td>\n",
       "      <td>07/18/2018 04:02:00 PM</td>\n",
       "      <td>07/18/2018 04:02:00 PM</td>\n",
       "      <td>07/12/2017</td>\n",
       "      <td>Adoption</td>\n",
       "      <td>NaN</td>\n",
       "      <td>Dog</td>\n",
       "      <td>Neutered Male</td>\n",
       "      <td>1 year</td>\n",
       "      <td>Chihuahua Shorthair Mix</td>\n",
       "      <td>White/Brown</td>\n",
       "    </tr>\n",
       "    <tr>\n",
       "      <th>2</th>\n",
       "      <td>A821648</td>\n",
       "      <td>NaN</td>\n",
       "      <td>08/16/2020 11:38:00 AM</td>\n",
       "      <td>08/16/2020 11:38:00 AM</td>\n",
       "      <td>08/16/2019</td>\n",
       "      <td>Euthanasia</td>\n",
       "      <td>NaN</td>\n",
       "      <td>Other</td>\n",
       "      <td>Unknown</td>\n",
       "      <td>1 year</td>\n",
       "      <td>Raccoon</td>\n",
       "      <td>Gray</td>\n",
       "    </tr>\n",
       "    <tr>\n",
       "      <th>3</th>\n",
       "      <td>A720371</td>\n",
       "      <td>Moose</td>\n",
       "      <td>02/13/2016 05:59:00 PM</td>\n",
       "      <td>02/13/2016 05:59:00 PM</td>\n",
       "      <td>10/08/2015</td>\n",
       "      <td>Adoption</td>\n",
       "      <td>NaN</td>\n",
       "      <td>Dog</td>\n",
       "      <td>Neutered Male</td>\n",
       "      <td>4 months</td>\n",
       "      <td>Anatol Shepherd/Labrador Retriever</td>\n",
       "      <td>Buff</td>\n",
       "    </tr>\n",
       "    <tr>\n",
       "      <th>4</th>\n",
       "      <td>A674754</td>\n",
       "      <td>NaN</td>\n",
       "      <td>03/18/2014 11:47:00 AM</td>\n",
       "      <td>03/18/2014 11:47:00 AM</td>\n",
       "      <td>03/12/2014</td>\n",
       "      <td>Transfer</td>\n",
       "      <td>Partner</td>\n",
       "      <td>Cat</td>\n",
       "      <td>Intact Male</td>\n",
       "      <td>6 days</td>\n",
       "      <td>Domestic Shorthair Mix</td>\n",
       "      <td>Orange Tabby</td>\n",
       "    </tr>\n",
       "  </tbody>\n",
       "</table>\n",
       "</div>"
      ],
      "text/plain": [
       "  Animal ID   Name                DateTime               MonthYear  \\\n",
       "0   A794011  Chunk  05/08/2019 06:20:00 PM  05/08/2019 06:20:00 PM   \n",
       "1   A776359  Gizmo  07/18/2018 04:02:00 PM  07/18/2018 04:02:00 PM   \n",
       "2   A821648    NaN  08/16/2020 11:38:00 AM  08/16/2020 11:38:00 AM   \n",
       "3   A720371  Moose  02/13/2016 05:59:00 PM  02/13/2016 05:59:00 PM   \n",
       "4   A674754    NaN  03/18/2014 11:47:00 AM  03/18/2014 11:47:00 AM   \n",
       "\n",
       "  Date of Birth Outcome Type Outcome Subtype Animal Type Sex upon Outcome  \\\n",
       "0    05/02/2017    Rto-Adopt             NaN         Cat    Neutered Male   \n",
       "1    07/12/2017     Adoption             NaN         Dog    Neutered Male   \n",
       "2    08/16/2019   Euthanasia             NaN       Other          Unknown   \n",
       "3    10/08/2015     Adoption             NaN         Dog    Neutered Male   \n",
       "4    03/12/2014     Transfer         Partner         Cat      Intact Male   \n",
       "\n",
       "  Age upon Outcome                               Breed              Color  \n",
       "0          2 years              Domestic Shorthair Mix  Brown Tabby/White  \n",
       "1           1 year             Chihuahua Shorthair Mix        White/Brown  \n",
       "2           1 year                             Raccoon               Gray  \n",
       "3         4 months  Anatol Shepherd/Labrador Retriever               Buff  \n",
       "4           6 days              Domestic Shorthair Mix       Orange Tabby  "
      ]
     },
     "execution_count": 3,
     "metadata": {},
     "output_type": "execute_result"
    }
   ],
   "source": [
    "outcomes.head()"
   ]
  },
  {
   "cell_type": "code",
   "execution_count": 4,
   "id": "c726ad3e-276a-424a-a177-e384887918ec",
   "metadata": {},
   "outputs": [
    {
     "data": {
      "text/html": [
       "<div>\n",
       "<style scoped>\n",
       "    .dataframe tbody tr th:only-of-type {\n",
       "        vertical-align: middle;\n",
       "    }\n",
       "\n",
       "    .dataframe tbody tr th {\n",
       "        vertical-align: top;\n",
       "    }\n",
       "\n",
       "    .dataframe thead th {\n",
       "        text-align: right;\n",
       "    }\n",
       "</style>\n",
       "<table border=\"1\" class=\"dataframe\">\n",
       "  <thead>\n",
       "    <tr style=\"text-align: right;\">\n",
       "      <th></th>\n",
       "      <th>Animal ID</th>\n",
       "      <th>Name</th>\n",
       "      <th>DateTime</th>\n",
       "      <th>MonthYear</th>\n",
       "      <th>Found Location</th>\n",
       "      <th>Intake Type</th>\n",
       "      <th>Intake Condition</th>\n",
       "      <th>Animal Type</th>\n",
       "      <th>Sex upon Intake</th>\n",
       "      <th>Age upon Intake</th>\n",
       "      <th>Breed</th>\n",
       "      <th>Color</th>\n",
       "    </tr>\n",
       "  </thead>\n",
       "  <tbody>\n",
       "    <tr>\n",
       "      <th>0</th>\n",
       "      <td>A786884</td>\n",
       "      <td>*Brock</td>\n",
       "      <td>01/03/2019 04:19:00 PM</td>\n",
       "      <td>01/03/2019 04:19:00 PM</td>\n",
       "      <td>2501 Magin Meadow Dr in Austin (TX)</td>\n",
       "      <td>Stray</td>\n",
       "      <td>Normal</td>\n",
       "      <td>Dog</td>\n",
       "      <td>Neutered Male</td>\n",
       "      <td>2 years</td>\n",
       "      <td>Beagle Mix</td>\n",
       "      <td>Tricolor</td>\n",
       "    </tr>\n",
       "    <tr>\n",
       "      <th>1</th>\n",
       "      <td>A706918</td>\n",
       "      <td>Belle</td>\n",
       "      <td>07/05/2015 12:59:00 PM</td>\n",
       "      <td>07/05/2015 12:59:00 PM</td>\n",
       "      <td>9409 Bluegrass Dr in Austin (TX)</td>\n",
       "      <td>Stray</td>\n",
       "      <td>Normal</td>\n",
       "      <td>Dog</td>\n",
       "      <td>Spayed Female</td>\n",
       "      <td>8 years</td>\n",
       "      <td>English Springer Spaniel</td>\n",
       "      <td>White/Liver</td>\n",
       "    </tr>\n",
       "    <tr>\n",
       "      <th>2</th>\n",
       "      <td>A724273</td>\n",
       "      <td>Runster</td>\n",
       "      <td>04/14/2016 06:43:00 PM</td>\n",
       "      <td>04/14/2016 06:43:00 PM</td>\n",
       "      <td>2818 Palomino Trail in Austin (TX)</td>\n",
       "      <td>Stray</td>\n",
       "      <td>Normal</td>\n",
       "      <td>Dog</td>\n",
       "      <td>Intact Male</td>\n",
       "      <td>11 months</td>\n",
       "      <td>Basenji Mix</td>\n",
       "      <td>Sable/White</td>\n",
       "    </tr>\n",
       "    <tr>\n",
       "      <th>3</th>\n",
       "      <td>A665644</td>\n",
       "      <td>NaN</td>\n",
       "      <td>10/21/2013 07:59:00 AM</td>\n",
       "      <td>10/21/2013 07:59:00 AM</td>\n",
       "      <td>Austin (TX)</td>\n",
       "      <td>Stray</td>\n",
       "      <td>Sick</td>\n",
       "      <td>Cat</td>\n",
       "      <td>Intact Female</td>\n",
       "      <td>4 weeks</td>\n",
       "      <td>Domestic Shorthair Mix</td>\n",
       "      <td>Calico</td>\n",
       "    </tr>\n",
       "    <tr>\n",
       "      <th>4</th>\n",
       "      <td>A682524</td>\n",
       "      <td>Rio</td>\n",
       "      <td>06/29/2014 10:38:00 AM</td>\n",
       "      <td>06/29/2014 10:38:00 AM</td>\n",
       "      <td>800 Grove Blvd in Austin (TX)</td>\n",
       "      <td>Stray</td>\n",
       "      <td>Normal</td>\n",
       "      <td>Dog</td>\n",
       "      <td>Neutered Male</td>\n",
       "      <td>4 years</td>\n",
       "      <td>Doberman Pinsch/Australian Cattle Dog</td>\n",
       "      <td>Tan/Gray</td>\n",
       "    </tr>\n",
       "  </tbody>\n",
       "</table>\n",
       "</div>"
      ],
      "text/plain": [
       "  Animal ID     Name                DateTime               MonthYear  \\\n",
       "0   A786884   *Brock  01/03/2019 04:19:00 PM  01/03/2019 04:19:00 PM   \n",
       "1   A706918    Belle  07/05/2015 12:59:00 PM  07/05/2015 12:59:00 PM   \n",
       "2   A724273  Runster  04/14/2016 06:43:00 PM  04/14/2016 06:43:00 PM   \n",
       "3   A665644      NaN  10/21/2013 07:59:00 AM  10/21/2013 07:59:00 AM   \n",
       "4   A682524      Rio  06/29/2014 10:38:00 AM  06/29/2014 10:38:00 AM   \n",
       "\n",
       "                        Found Location Intake Type Intake Condition  \\\n",
       "0  2501 Magin Meadow Dr in Austin (TX)       Stray           Normal   \n",
       "1     9409 Bluegrass Dr in Austin (TX)       Stray           Normal   \n",
       "2   2818 Palomino Trail in Austin (TX)       Stray           Normal   \n",
       "3                          Austin (TX)       Stray             Sick   \n",
       "4        800 Grove Blvd in Austin (TX)       Stray           Normal   \n",
       "\n",
       "  Animal Type Sex upon Intake Age upon Intake  \\\n",
       "0         Dog   Neutered Male         2 years   \n",
       "1         Dog   Spayed Female         8 years   \n",
       "2         Dog     Intact Male       11 months   \n",
       "3         Cat   Intact Female         4 weeks   \n",
       "4         Dog   Neutered Male         4 years   \n",
       "\n",
       "                                   Breed        Color  \n",
       "0                             Beagle Mix     Tricolor  \n",
       "1               English Springer Spaniel  White/Liver  \n",
       "2                            Basenji Mix  Sable/White  \n",
       "3                 Domestic Shorthair Mix       Calico  \n",
       "4  Doberman Pinsch/Australian Cattle Dog     Tan/Gray  "
      ]
     },
     "execution_count": 4,
     "metadata": {},
     "output_type": "execute_result"
    }
   ],
   "source": [
    "intakes.head()"
   ]
  },
  {
   "cell_type": "code",
   "execution_count": 5,
   "id": "67e4c49f-b974-46f4-8890-ee38825ea5f5",
   "metadata": {},
   "outputs": [
    {
     "data": {
      "text/plain": [
       "array(['2 years', '1 year', '4 months', '6 days', '7 years', '2 months',\n",
       "       '2 days', '3 weeks', '9 months', '4 weeks', '2 weeks', '3 months',\n",
       "       '9 years', '10 years', '6 months', '8 years', '3 years',\n",
       "       '7 months', '6 years', '4 years', '1 month', '12 years', '5 years',\n",
       "       '1 weeks', '5 months', '5 days', '15 years', '11 months',\n",
       "       '10 months', '4 days', '16 years', '1 day', '8 months', '11 years',\n",
       "       '13 years', '1 week', '14 years', '3 days', '0 years', '5 weeks',\n",
       "       '17 years', '18 years', '20 years', '22 years', '-2 years',\n",
       "       '19 years', '23 years', '24 years', '-1 years', '25 years',\n",
       "       '21 years', '-3 years', nan], dtype=object)"
      ]
     },
     "execution_count": 5,
     "metadata": {},
     "output_type": "execute_result"
    }
   ],
   "source": [
    "outcomes['Age upon Outcome'].unique()"
   ]
  },
  {
   "cell_type": "code",
   "execution_count": 6,
   "id": "ae5521c1-b872-4832-a505-88b64c149656",
   "metadata": {},
   "outputs": [],
   "source": [
    "outcomes = outcomes[~(outcomes['Age upon Outcome'] == '0 years')]"
   ]
  },
  {
   "cell_type": "code",
   "execution_count": 7,
   "id": "d382b349-0157-4f1e-90e2-34bc75d93eab",
   "metadata": {},
   "outputs": [],
   "source": [
    "outcomes = outcomes[~(outcomes['Age upon Outcome'] == '-1 years')]"
   ]
  },
  {
   "cell_type": "code",
   "execution_count": 8,
   "id": "b07491c2-c6a5-4316-bee8-45be51419ee2",
   "metadata": {},
   "outputs": [],
   "source": [
    "outcomes = outcomes[~(outcomes['Age upon Outcome'] == '-2 years')]"
   ]
  },
  {
   "cell_type": "code",
   "execution_count": 9,
   "id": "b7345447-491b-4c85-93ef-0692bce79f51",
   "metadata": {},
   "outputs": [],
   "source": [
    "outcomes = outcomes[~(outcomes['Age upon Outcome'] == '-3 years')]"
   ]
  },
  {
   "cell_type": "code",
   "execution_count": 10,
   "id": "e78237dd-7b35-49b8-bb43-171aaf57ca3d",
   "metadata": {},
   "outputs": [],
   "source": [
    "outcomes = outcomes[~(outcomes['Age upon Outcome'].isnull())]"
   ]
  },
  {
   "cell_type": "code",
   "execution_count": 11,
   "id": "554637d3-1b12-413f-b74d-8f5585207d04",
   "metadata": {},
   "outputs": [
    {
     "data": {
      "text/plain": [
       "(129455, 12)"
      ]
     },
     "execution_count": 11,
     "metadata": {},
     "output_type": "execute_result"
    }
   ],
   "source": [
    "outcomes.shape"
   ]
  },
  {
   "cell_type": "code",
   "execution_count": 12,
   "id": "f5ad4437-c287-43ab-bd80-96fcb95f52f7",
   "metadata": {},
   "outputs": [
    {
     "data": {
      "text/plain": [
       "array(['2 years', '8 years', '11 months', '4 weeks', '4 years', '6 years',\n",
       "       '5 months', '14 years', '1 month', '2 months', '18 years',\n",
       "       '4 months', '1 year', '6 months', '3 years', '4 days', '1 day',\n",
       "       '5 years', '2 weeks', '15 years', '7 years', '3 weeks', '3 months',\n",
       "       '12 years', '1 week', '9 months', '10 years', '10 months',\n",
       "       '7 months', '9 years', '8 months', '1 weeks', '5 days', '2 days',\n",
       "       '11 years', '0 years', '17 years', '3 days', '13 years', '5 weeks',\n",
       "       '19 years', '6 days', '16 years', '20 years', '-1 years',\n",
       "       '22 years', '23 years', '-2 years', '21 years', '-3 years',\n",
       "       '25 years', '24 years'], dtype=object)"
      ]
     },
     "execution_count": 12,
     "metadata": {},
     "output_type": "execute_result"
    }
   ],
   "source": [
    "intakes['Age upon Intake'].unique()"
   ]
  },
  {
   "cell_type": "code",
   "execution_count": 13,
   "id": "420b2125-4264-4f8e-b7b5-7f60c8faf896",
   "metadata": {},
   "outputs": [],
   "source": [
    "intakes = intakes[~(intakes['Age upon Intake'] == '0 years')]"
   ]
  },
  {
   "cell_type": "code",
   "execution_count": 14,
   "id": "8f6596d3-c1ee-4d7d-b10b-c89dc6a9981c",
   "metadata": {},
   "outputs": [],
   "source": [
    "intakes = intakes[~(intakes['Age upon Intake'] == '-1 years')]"
   ]
  },
  {
   "cell_type": "code",
   "execution_count": 15,
   "id": "884ce9fd-0ebd-4db8-b2fd-5f44c8f4cbe4",
   "metadata": {},
   "outputs": [],
   "source": [
    "intakes = intakes[~(intakes['Age upon Intake'] == '-2 years')]"
   ]
  },
  {
   "cell_type": "code",
   "execution_count": 16,
   "id": "a8150f13-4a0e-4574-8405-ee10ba3ee0ec",
   "metadata": {},
   "outputs": [],
   "source": [
    "intakes = intakes[~(intakes['Age upon Intake'] == '-3 years')]"
   ]
  },
  {
   "cell_type": "code",
   "execution_count": 17,
   "id": "f4d26c10-fc9f-45ac-a574-b82c2b1b4b8a",
   "metadata": {},
   "outputs": [],
   "source": [
    "intakes = intakes[~(intakes['Age upon Intake'].isnull())]"
   ]
  },
  {
   "cell_type": "code",
   "execution_count": 18,
   "id": "c36bc9e4-280c-47b8-b182-72f7ffba10ee",
   "metadata": {},
   "outputs": [],
   "source": [
    "outcomes.columns = outcomes.columns.str.lower().str.replace(' ', '_')"
   ]
  },
  {
   "cell_type": "code",
   "execution_count": 19,
   "id": "751dd235-b280-428f-9bea-c53cfd51123b",
   "metadata": {},
   "outputs": [
    {
     "data": {
      "text/plain": [
       "Index(['animal_id', 'name', 'datetime', 'monthyear', 'date_of_birth',\n",
       "       'outcome_type', 'outcome_subtype', 'animal_type', 'sex_upon_outcome',\n",
       "       'age_upon_outcome', 'breed', 'color'],\n",
       "      dtype='object')"
      ]
     },
     "execution_count": 19,
     "metadata": {},
     "output_type": "execute_result"
    }
   ],
   "source": [
    "outcomes.columns"
   ]
  },
  {
   "cell_type": "code",
   "execution_count": 20,
   "id": "37f1d773-fbdf-4c9e-9f0d-9da07aa05f38",
   "metadata": {},
   "outputs": [],
   "source": [
    "intakes.columns = intakes.columns.str.lower().str.replace(' ', '_')"
   ]
  },
  {
   "cell_type": "code",
   "execution_count": 21,
   "id": "7db93fed-fd1a-4c41-b9bd-0816f6fab628",
   "metadata": {},
   "outputs": [
    {
     "data": {
      "text/plain": [
       "Index(['animal_id', 'name', 'datetime', 'monthyear', 'found_location',\n",
       "       'intake_type', 'intake_condition', 'animal_type', 'sex_upon_intake',\n",
       "       'age_upon_intake', 'breed', 'color'],\n",
       "      dtype='object')"
      ]
     },
     "execution_count": 21,
     "metadata": {},
     "output_type": "execute_result"
    }
   ],
   "source": [
    "intakes.columns"
   ]
  },
  {
   "cell_type": "code",
   "execution_count": 22,
   "id": "ea32cfa2-3acd-473e-aff8-da08feda7789",
   "metadata": {},
   "outputs": [],
   "source": [
    "def clean_age(age):\n",
    "    \"\"\"\n",
    "        Takes a string form of age, and transforms into an a floating point number.\n",
    "    \"\"\"\n",
    "    age_f = age.split(' ')\n",
    "    if (age_f[1] == 'day' or age_f[1] == 'days'):\n",
    "        return round(float(age_f[0])/365, 3)\n",
    "    elif (age_f[1] == 'week' or age_f[1] == 'weeks'):\n",
    "        return round(float(age_f[0])/52.143, 3)\n",
    "    elif (age_f[1] == 'month' or age_f[1] == 'months'):\n",
    "        return round(float(age_f[0])/12,3)\n",
    "    else:\n",
    "        return age[0]"
   ]
  },
  {
   "cell_type": "code",
   "execution_count": 23,
   "id": "7fbccc54-7fa3-44c6-b139-2071fc771df2",
   "metadata": {},
   "outputs": [],
   "source": [
    "outcomes['age_upon_outcome'] = outcomes['age_upon_outcome'].apply(clean_age).astype(float)"
   ]
  },
  {
   "cell_type": "code",
   "execution_count": 24,
   "id": "b6d27422-14a2-4e5b-98ff-b336d641c9fe",
   "metadata": {},
   "outputs": [
    {
     "data": {
      "text/plain": [
       "animal_id            object\n",
       "name                 object\n",
       "datetime             object\n",
       "monthyear            object\n",
       "date_of_birth        object\n",
       "outcome_type         object\n",
       "outcome_subtype      object\n",
       "animal_type          object\n",
       "sex_upon_outcome     object\n",
       "age_upon_outcome    float64\n",
       "breed                object\n",
       "color                object\n",
       "dtype: object"
      ]
     },
     "execution_count": 24,
     "metadata": {},
     "output_type": "execute_result"
    }
   ],
   "source": [
    "outcomes.dtypes"
   ]
  },
  {
   "cell_type": "code",
   "execution_count": 25,
   "id": "3f6d05fd-d31c-4f01-89c2-6a3541faccb2",
   "metadata": {},
   "outputs": [],
   "source": [
    "intakes['age_upon_intake'] = intakes['age_upon_intake'].apply(clean_age).astype(float)"
   ]
  },
  {
   "cell_type": "code",
   "execution_count": 26,
   "id": "ab3f3445-c3b2-4238-8e33-32215416187c",
   "metadata": {},
   "outputs": [],
   "source": [
    "outcomes['is_named'] = outcomes['name'].notnull().astype(int)"
   ]
  },
  {
   "cell_type": "code",
   "execution_count": 27,
   "id": "635e635d-6ce3-40e0-83ca-2e17fc9eaf79",
   "metadata": {},
   "outputs": [],
   "source": [
    "intakes['is_named'] = intakes['name'].notnull().astype(int)"
   ]
  },
  {
   "cell_type": "code",
   "execution_count": 28,
   "id": "71ca49b6-aa16-4c20-af63-6ad02e892cb6",
   "metadata": {},
   "outputs": [
    {
     "data": {
      "text/plain": [
       "animal_id            object\n",
       "name                 object\n",
       "datetime             object\n",
       "monthyear            object\n",
       "date_of_birth        object\n",
       "outcome_type         object\n",
       "outcome_subtype      object\n",
       "animal_type          object\n",
       "sex_upon_outcome     object\n",
       "age_upon_outcome    float64\n",
       "breed                object\n",
       "color                object\n",
       "is_named              int64\n",
       "dtype: object"
      ]
     },
     "execution_count": 28,
     "metadata": {},
     "output_type": "execute_result"
    }
   ],
   "source": [
    "outcomes.dtypes"
   ]
  },
  {
   "cell_type": "code",
   "execution_count": 29,
   "id": "0900e490-650f-47b3-aa84-1ef103ea4f4b",
   "metadata": {},
   "outputs": [
    {
     "data": {
      "text/plain": [
       "animal_id            object\n",
       "name                 object\n",
       "datetime             object\n",
       "monthyear            object\n",
       "found_location       object\n",
       "intake_type          object\n",
       "intake_condition     object\n",
       "animal_type          object\n",
       "sex_upon_intake      object\n",
       "age_upon_intake     float64\n",
       "breed                object\n",
       "color                object\n",
       "is_named              int64\n",
       "dtype: object"
      ]
     },
     "execution_count": 29,
     "metadata": {},
     "output_type": "execute_result"
    }
   ],
   "source": [
    "intakes.dtypes"
   ]
  },
  {
   "cell_type": "code",
   "execution_count": 30,
   "id": "7832f01a-33c3-479b-b073-06b6e73ced12",
   "metadata": {},
   "outputs": [],
   "source": [
    "outcomes.drop(columns=['monthyear'], axis = 1, inplace = True)"
   ]
  },
  {
   "cell_type": "code",
   "execution_count": 31,
   "id": "f407eb85-ef7a-4538-8e78-bda249afa9b0",
   "metadata": {},
   "outputs": [],
   "source": [
    "intakes.drop(columns=['monthyear'], axis = 1, inplace = True)"
   ]
  },
  {
   "cell_type": "code",
   "execution_count": 32,
   "id": "b9ce917b-0fea-474c-8cb3-3c4678128ecc",
   "metadata": {},
   "outputs": [],
   "source": [
    "outcomes['outcome_subtype'].replace(np.nan, 'Unknown', inplace = True)"
   ]
  },
  {
   "cell_type": "code",
   "execution_count": 33,
   "id": "be86a75f-c370-4491-aab3-378991639c5d",
   "metadata": {},
   "outputs": [],
   "source": [
    "outcomes = outcomes[~(outcomes['outcome_type'].isnull())]"
   ]
  },
  {
   "cell_type": "code",
   "execution_count": 34,
   "id": "c27e85c7-1389-4058-a904-f090e7e4474b",
   "metadata": {},
   "outputs": [
    {
     "data": {
      "text/plain": [
       "Dog          73068\n",
       "Cat          48844\n",
       "Other         6889\n",
       "Bird           610\n",
       "Livestock       21\n",
       "Name: animal_type, dtype: int64"
      ]
     },
     "execution_count": 34,
     "metadata": {},
     "output_type": "execute_result"
    }
   ],
   "source": [
    "outcomes['animal_type'].value_counts()"
   ]
  },
  {
   "cell_type": "code",
   "execution_count": 35,
   "id": "f7f352cc-612e-446a-b295-3dc997edfc54",
   "metadata": {},
   "outputs": [
    {
     "data": {
      "text/plain": [
       "Dog          72763\n",
       "Cat          48578\n",
       "Other         6866\n",
       "Bird           608\n",
       "Livestock       23\n",
       "Name: animal_type, dtype: int64"
      ]
     },
     "execution_count": 35,
     "metadata": {},
     "output_type": "execute_result"
    }
   ],
   "source": [
    "intakes['animal_type'].value_counts()"
   ]
  },
  {
   "cell_type": "code",
   "execution_count": 36,
   "id": "fc236d29-2e12-4568-9c3b-92f3da45b17d",
   "metadata": {},
   "outputs": [],
   "source": [
    "outcomes['sex_upon_outcome'].replace(np.nan, 'Unknown', inplace = True)"
   ]
  },
  {
   "cell_type": "code",
   "execution_count": 37,
   "id": "572ac0c8-febb-4f70-bbb2-47a688d71171",
   "metadata": {},
   "outputs": [],
   "source": [
    "intakes['sex_upon_intake'].replace(np.nan, 'Unknown', inplace = True)"
   ]
  },
  {
   "cell_type": "code",
   "execution_count": 38,
   "id": "c3b90934-610e-4730-a50b-a6b7abff8264",
   "metadata": {},
   "outputs": [],
   "source": [
    "outcomes['datetime'] = pd.to_datetime(outcomes['datetime'])"
   ]
  },
  {
   "cell_type": "code",
   "execution_count": 39,
   "id": "8d4f96a1-cb68-455f-bd99-3c0754b57246",
   "metadata": {},
   "outputs": [],
   "source": [
    "intakes['datetime'] = pd.to_datetime(intakes['datetime'])"
   ]
  },
  {
   "cell_type": "code",
   "execution_count": 40,
   "id": "9cf8f1cd-1fa8-4ea4-aa7a-acc9f82bf280",
   "metadata": {},
   "outputs": [],
   "source": [
    "outcomes['year'] = outcomes['datetime'].apply(lambda x: x.year)"
   ]
  },
  {
   "cell_type": "code",
   "execution_count": 41,
   "id": "4bc0eeae-f00d-468b-89bd-64a7df5befd3",
   "metadata": {},
   "outputs": [],
   "source": [
    "intakes['year'] = intakes['datetime'].apply(lambda x: x.year)"
   ]
  },
  {
   "cell_type": "code",
   "execution_count": 42,
   "id": "badda6b7-261b-4330-9f70-bef95ac05d5d",
   "metadata": {},
   "outputs": [],
   "source": [
    "outcomes['month'] = outcomes['datetime'].apply(lambda x: x.month)"
   ]
  },
  {
   "cell_type": "code",
   "execution_count": 43,
   "id": "76eef9e5-6461-4eb6-a82f-d81f8664a1de",
   "metadata": {},
   "outputs": [],
   "source": [
    "intakes['month'] = intakes['datetime'].apply(lambda x: x.month)"
   ]
  },
  {
   "cell_type": "code",
   "execution_count": 44,
   "id": "fd4c59ee-39f0-4efc-8074-8821824ff73c",
   "metadata": {},
   "outputs": [],
   "source": [
    "outcomes['day'] = outcomes['datetime'].apply(lambda x: x.day_name())"
   ]
  },
  {
   "cell_type": "code",
   "execution_count": 45,
   "id": "b67ec568-32ff-415c-89cc-3fea207631eb",
   "metadata": {},
   "outputs": [],
   "source": [
    "intakes['day'] = intakes['datetime'].apply(lambda x: x.day_name())"
   ]
  },
  {
   "cell_type": "code",
   "execution_count": 46,
   "id": "c4e978ea-1682-41cd-9eb0-16af2528de75",
   "metadata": {},
   "outputs": [
    {
     "data": {
      "text/plain": [
       "Index(['animal_id', 'name', 'datetime', 'date_of_birth', 'outcome_type',\n",
       "       'outcome_subtype', 'animal_type', 'sex_upon_outcome',\n",
       "       'age_upon_outcome', 'breed', 'color', 'is_named', 'year', 'month',\n",
       "       'day'],\n",
       "      dtype='object')"
      ]
     },
     "execution_count": 46,
     "metadata": {},
     "output_type": "execute_result"
    }
   ],
   "source": [
    "outcomes.columns"
   ]
  },
  {
   "cell_type": "code",
   "execution_count": 47,
   "id": "c59a41b3-94a1-4f61-80d8-31a73d0b9fd1",
   "metadata": {},
   "outputs": [
    {
     "data": {
      "text/plain": [
       "Index(['animal_id', 'name', 'datetime', 'found_location', 'intake_type',\n",
       "       'intake_condition', 'animal_type', 'sex_upon_intake', 'age_upon_intake',\n",
       "       'breed', 'color', 'is_named', 'year', 'month', 'day'],\n",
       "      dtype='object')"
      ]
     },
     "execution_count": 47,
     "metadata": {},
     "output_type": "execute_result"
    }
   ],
   "source": [
    "intakes.columns"
   ]
  },
  {
   "cell_type": "code",
   "execution_count": 48,
   "id": "0b71b632-5349-41f0-8e0f-515bff715368",
   "metadata": {},
   "outputs": [
    {
     "data": {
      "text/plain": [
       "animal_id                   object\n",
       "name                        object\n",
       "datetime            datetime64[ns]\n",
       "date_of_birth               object\n",
       "outcome_type                object\n",
       "outcome_subtype             object\n",
       "animal_type                 object\n",
       "sex_upon_outcome            object\n",
       "age_upon_outcome           float64\n",
       "breed                       object\n",
       "color                       object\n",
       "is_named                     int64\n",
       "year                         int64\n",
       "month                        int64\n",
       "day                         object\n",
       "dtype: object"
      ]
     },
     "execution_count": 48,
     "metadata": {},
     "output_type": "execute_result"
    }
   ],
   "source": [
    "outcomes.dtypes"
   ]
  },
  {
   "cell_type": "code",
   "execution_count": 49,
   "id": "c50e1571-9891-468c-aac0-b60cb567c626",
   "metadata": {},
   "outputs": [
    {
     "data": {
      "text/plain": [
       "animal_id                   object\n",
       "name                        object\n",
       "datetime            datetime64[ns]\n",
       "found_location              object\n",
       "intake_type                 object\n",
       "intake_condition            object\n",
       "animal_type                 object\n",
       "sex_upon_intake             object\n",
       "age_upon_intake            float64\n",
       "breed                       object\n",
       "color                       object\n",
       "is_named                     int64\n",
       "year                         int64\n",
       "month                        int64\n",
       "day                         object\n",
       "dtype: object"
      ]
     },
     "execution_count": 49,
     "metadata": {},
     "output_type": "execute_result"
    }
   ],
   "source": [
    "intakes.dtypes"
   ]
  },
  {
   "cell_type": "code",
   "execution_count": 50,
   "id": "0108b83b-894a-4ebc-bc4c-a7e5f5d0f3c6",
   "metadata": {},
   "outputs": [
    {
     "data": {
      "text/plain": [
       "0"
      ]
     },
     "execution_count": 50,
     "metadata": {},
     "output_type": "execute_result"
    }
   ],
   "source": [
    "outcomes['breed'].isnull().sum()"
   ]
  },
  {
   "cell_type": "code",
   "execution_count": 51,
   "id": "748eaf0e-4e71-46fb-9499-19e78851c64a",
   "metadata": {},
   "outputs": [
    {
     "data": {
      "text/plain": [
       "0"
      ]
     },
     "execution_count": 51,
     "metadata": {},
     "output_type": "execute_result"
    }
   ],
   "source": [
    "intakes['breed'].isnull().sum()"
   ]
  },
  {
   "cell_type": "code",
   "execution_count": 52,
   "id": "bddbbc4f-0a87-4a50-94d2-cd11350f263e",
   "metadata": {},
   "outputs": [
    {
     "data": {
      "text/plain": [
       "Domestic Shorthair Mix                       31588\n",
       "Pit Bull Mix                                  8646\n",
       "Domestic Shorthair                            8422\n",
       "Labrador Retriever Mix                        7071\n",
       "Chihuahua Shorthair Mix                       6325\n",
       "                                             ...  \n",
       "Flat Coat Retriever/Australian Cattle Dog        1\n",
       "Chickadee Mix                                    1\n",
       "Smooth Fox Terrier/Rat Terrier                   1\n",
       "Maltese/Yorkshire                                1\n",
       "Chinese Sharpei/Bull Terrier                     1\n",
       "Name: breed, Length: 2673, dtype: int64"
      ]
     },
     "execution_count": 52,
     "metadata": {},
     "output_type": "execute_result"
    }
   ],
   "source": [
    "outcomes['breed'].value_counts()"
   ]
  },
  {
   "cell_type": "code",
   "execution_count": 53,
   "id": "6ac80b07-eb60-4f17-86eb-fe3c2bd066c2",
   "metadata": {},
   "outputs": [
    {
     "data": {
      "text/plain": [
       "Domestic Shorthair Mix                   31113\n",
       "Domestic Shorthair                        8678\n",
       "Pit Bull Mix                              8559\n",
       "Labrador Retriever Mix                    7001\n",
       "Chihuahua Shorthair Mix                   6252\n",
       "                                         ...  \n",
       "Anatol Shepherd/Belgian Malinois             1\n",
       "Basenji/Beagle                               1\n",
       "Wire Hair Fox Terrier/German Shepherd        1\n",
       "Brittany/Cocker Spaniel                      1\n",
       "Hovawart Mix                                 1\n",
       "Name: breed, Length: 2663, dtype: int64"
      ]
     },
     "execution_count": 53,
     "metadata": {},
     "output_type": "execute_result"
    }
   ],
   "source": [
    "intakes['breed'].value_counts()"
   ]
  },
  {
   "cell_type": "code",
   "execution_count": 54,
   "id": "01067887-3be1-4b8a-a075-8030009ab6a3",
   "metadata": {},
   "outputs": [
    {
     "data": {
      "text/plain": [
       "0"
      ]
     },
     "execution_count": 54,
     "metadata": {},
     "output_type": "execute_result"
    }
   ],
   "source": [
    "outcomes['color'].isnull().sum()"
   ]
  },
  {
   "cell_type": "code",
   "execution_count": 55,
   "id": "a3ac786f-9935-49ba-814f-a48bc061c85a",
   "metadata": {},
   "outputs": [
    {
     "data": {
      "text/plain": [
       "0"
      ]
     },
     "execution_count": 55,
     "metadata": {},
     "output_type": "execute_result"
    }
   ],
   "source": [
    "intakes['color'].isnull().sum()"
   ]
  },
  {
   "cell_type": "code",
   "execution_count": 56,
   "id": "f0d2866b-63f8-4904-8ad3-88f10bb9737e",
   "metadata": {},
   "outputs": [
    {
     "data": {
      "text/plain": [
       "Black/White              13557\n",
       "Black                    10848\n",
       "Brown Tabby               7376\n",
       "Brown                     5649\n",
       "White                     4531\n",
       "                         ...  \n",
       "Brown/Black Tabby            1\n",
       "Cream/Blue Point             1\n",
       "Brown Tiger/Brown            1\n",
       "Orange Tabby/Black           1\n",
       "Chocolate/Brown Merle        1\n",
       "Name: color, Length: 605, dtype: int64"
      ]
     },
     "execution_count": 56,
     "metadata": {},
     "output_type": "execute_result"
    }
   ],
   "source": [
    "outcomes['color'].value_counts()"
   ]
  },
  {
   "cell_type": "code",
   "execution_count": 57,
   "id": "14735d1e-ac72-4082-b380-1164217634b4",
   "metadata": {},
   "outputs": [
    {
     "data": {
      "text/plain": [
       "Black/White              13470\n",
       "Black                    10779\n",
       "Brown Tabby               7358\n",
       "Brown                     5626\n",
       "White                     4493\n",
       "                         ...  \n",
       "Gray Tabby/Orange            1\n",
       "Cream/Blue Point             1\n",
       "Brown Tiger/Brown            1\n",
       "Orange Tabby/Black           1\n",
       "Chocolate/Brown Merle        1\n",
       "Name: color, Length: 600, dtype: int64"
      ]
     },
     "execution_count": 57,
     "metadata": {},
     "output_type": "execute_result"
    }
   ],
   "source": [
    "intakes['color'].value_counts()"
   ]
  },
  {
   "cell_type": "code",
   "execution_count": 58,
   "id": "501df063-35ec-46b9-9f35-4bd80b9e91fd",
   "metadata": {},
   "outputs": [],
   "source": [
    "outcomes.to_csv('../../datasets/outcomes_initial.csv')\n",
    "intakes.to_csv('../../datasets/intakes_initial.csv')"
   ]
  }
 ],
 "metadata": {
  "kernelspec": {
   "display_name": "Python 3",
   "language": "python",
   "name": "python3"
  },
  "language_info": {
   "codemirror_mode": {
    "name": "ipython",
    "version": 3
   },
   "file_extension": ".py",
   "mimetype": "text/x-python",
   "name": "python",
   "nbconvert_exporter": "python",
   "pygments_lexer": "ipython3",
   "version": "3.8.8"
  }
 },
 "nbformat": 4,
 "nbformat_minor": 5
}
