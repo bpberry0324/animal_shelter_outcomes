{
 "cells": [
  {
   "cell_type": "code",
   "execution_count": 113,
   "id": "4023d00d-3763-4bb5-95dd-64a46bd7f9a5",
   "metadata": {},
   "outputs": [],
   "source": [
    "import pandas as pd\n",
    "import numpy as np\n",
    "pd.options.mode.chained_assignment = None\n",
    "\n",
    "import matplotlib.pyplot as plt\n",
    "import seaborn as sns\n",
    "\n",
    "from sklearn.preprocessing import StandardScaler, PolynomialFeatures\n",
    "from sklearn.linear_model import Ridge, Lasso, ElasticNet, LinearRegression, RidgeCV, LassoCV, ElasticNetCV, LogisticRegression\n",
    "from sklearn.model_selection import cross_val_score, train_test_split\n",
    "from sklearn.preprocessing import OneHotEncoder"
   ]
  },
  {
   "cell_type": "markdown",
   "id": "120631b0-fa8f-4f3f-92b6-033c0c997575",
   "metadata": {},
   "source": [
    "# I. Data Cleaning"
   ]
  },
  {
   "cell_type": "code",
   "execution_count": 172,
   "id": "cca30595-33bd-428e-85fe-24fe35ef07c2",
   "metadata": {},
   "outputs": [
    {
     "data": {
      "text/html": [
       "<div>\n",
       "<style scoped>\n",
       "    .dataframe tbody tr th:only-of-type {\n",
       "        vertical-align: middle;\n",
       "    }\n",
       "\n",
       "    .dataframe tbody tr th {\n",
       "        vertical-align: top;\n",
       "    }\n",
       "\n",
       "    .dataframe thead th {\n",
       "        text-align: right;\n",
       "    }\n",
       "</style>\n",
       "<table border=\"1\" class=\"dataframe\">\n",
       "  <thead>\n",
       "    <tr style=\"text-align: right;\">\n",
       "      <th></th>\n",
       "      <th>animal_type</th>\n",
       "      <th>color</th>\n",
       "      <th>breed</th>\n",
       "      <th>intake_type</th>\n",
       "      <th>intake_condition</th>\n",
       "      <th>month_in</th>\n",
       "      <th>day_in</th>\n",
       "      <th>prev_adoption</th>\n",
       "      <th>prev_transfer</th>\n",
       "      <th>prev_ret_to_owner</th>\n",
       "      <th>...</th>\n",
       "      <th>prev_disposal</th>\n",
       "      <th>prev_missing</th>\n",
       "      <th>age_upon_intake</th>\n",
       "      <th>is_named_in</th>\n",
       "      <th>mix</th>\n",
       "      <th>sex</th>\n",
       "      <th>is_neutered</th>\n",
       "      <th>days_in_shelter</th>\n",
       "      <th>age_type</th>\n",
       "      <th>adopted</th>\n",
       "    </tr>\n",
       "  </thead>\n",
       "  <tbody>\n",
       "    <tr>\n",
       "      <th>0</th>\n",
       "      <td>Dog</td>\n",
       "      <td>yellow white</td>\n",
       "      <td>spinone italiano mix</td>\n",
       "      <td>Public Assist</td>\n",
       "      <td>Normal</td>\n",
       "      <td>12</td>\n",
       "      <td>Friday</td>\n",
       "      <td>0</td>\n",
       "      <td>0</td>\n",
       "      <td>1</td>\n",
       "      <td>...</td>\n",
       "      <td>0</td>\n",
       "      <td>0</td>\n",
       "      <td>7.0</td>\n",
       "      <td>1</td>\n",
       "      <td>1</td>\n",
       "      <td>Male</td>\n",
       "      <td>Neutered/Spayed</td>\n",
       "      <td>1</td>\n",
       "      <td>6 Years-10 Years</td>\n",
       "      <td>0</td>\n",
       "    </tr>\n",
       "    <tr>\n",
       "      <th>1</th>\n",
       "      <td>Dog</td>\n",
       "      <td>yellow white</td>\n",
       "      <td>spinone italiano mix</td>\n",
       "      <td>Public Assist</td>\n",
       "      <td>Normal</td>\n",
       "      <td>3</td>\n",
       "      <td>Friday</td>\n",
       "      <td>0</td>\n",
       "      <td>0</td>\n",
       "      <td>0</td>\n",
       "      <td>...</td>\n",
       "      <td>0</td>\n",
       "      <td>0</td>\n",
       "      <td>6.0</td>\n",
       "      <td>1</td>\n",
       "      <td>1</td>\n",
       "      <td>Male</td>\n",
       "      <td>Neutered/Spayed</td>\n",
       "      <td>1</td>\n",
       "      <td>2 Years-6 Years</td>\n",
       "      <td>0</td>\n",
       "    </tr>\n",
       "    <tr>\n",
       "      <th>2</th>\n",
       "      <td>Dog</td>\n",
       "      <td>tricolor</td>\n",
       "      <td>dachshund</td>\n",
       "      <td>Owner Surrender</td>\n",
       "      <td>Normal</td>\n",
       "      <td>4</td>\n",
       "      <td>Wednesday</td>\n",
       "      <td>0</td>\n",
       "      <td>0</td>\n",
       "      <td>0</td>\n",
       "      <td>...</td>\n",
       "      <td>0</td>\n",
       "      <td>0</td>\n",
       "      <td>1.0</td>\n",
       "      <td>1</td>\n",
       "      <td>0</td>\n",
       "      <td>Male</td>\n",
       "      <td>Neutered/Spayed</td>\n",
       "      <td>4</td>\n",
       "      <td>6 Months-2 Years</td>\n",
       "      <td>0</td>\n",
       "    </tr>\n",
       "    <tr>\n",
       "      <th>3</th>\n",
       "      <td>Dog</td>\n",
       "      <td>brown white</td>\n",
       "      <td>sheepdog shetland</td>\n",
       "      <td>Public Assist</td>\n",
       "      <td>Injured</td>\n",
       "      <td>11</td>\n",
       "      <td>Saturday</td>\n",
       "      <td>0</td>\n",
       "      <td>0</td>\n",
       "      <td>0</td>\n",
       "      <td>...</td>\n",
       "      <td>0</td>\n",
       "      <td>0</td>\n",
       "      <td>1.0</td>\n",
       "      <td>1</td>\n",
       "      <td>0</td>\n",
       "      <td>Male</td>\n",
       "      <td>Neutered/Spayed</td>\n",
       "      <td>0</td>\n",
       "      <td>6 Months-2 Years</td>\n",
       "      <td>0</td>\n",
       "    </tr>\n",
       "    <tr>\n",
       "      <th>4</th>\n",
       "      <td>Dog</td>\n",
       "      <td>white black</td>\n",
       "      <td>retriever labrador bull pit</td>\n",
       "      <td>Stray</td>\n",
       "      <td>Aged</td>\n",
       "      <td>11</td>\n",
       "      <td>Saturday</td>\n",
       "      <td>0</td>\n",
       "      <td>0</td>\n",
       "      <td>0</td>\n",
       "      <td>...</td>\n",
       "      <td>0</td>\n",
       "      <td>0</td>\n",
       "      <td>1.0</td>\n",
       "      <td>1</td>\n",
       "      <td>0</td>\n",
       "      <td>Female</td>\n",
       "      <td>Neutered/Spayed</td>\n",
       "      <td>0</td>\n",
       "      <td>6 Months-2 Years</td>\n",
       "      <td>0</td>\n",
       "    </tr>\n",
       "  </tbody>\n",
       "</table>\n",
       "<p>5 rows × 21 columns</p>\n",
       "</div>"
      ],
      "text/plain": [
       "  animal_type         color                        breed      intake_type  \\\n",
       "0         Dog  yellow white         spinone italiano mix    Public Assist   \n",
       "1         Dog  yellow white         spinone italiano mix    Public Assist   \n",
       "2         Dog      tricolor                    dachshund  Owner Surrender   \n",
       "3         Dog   brown white            sheepdog shetland    Public Assist   \n",
       "4         Dog   white black  retriever labrador bull pit            Stray   \n",
       "\n",
       "  intake_condition  month_in     day_in  prev_adoption  prev_transfer  \\\n",
       "0           Normal        12     Friday              0              0   \n",
       "1           Normal         3     Friday              0              0   \n",
       "2           Normal         4  Wednesday              0              0   \n",
       "3          Injured        11   Saturday              0              0   \n",
       "4             Aged        11   Saturday              0              0   \n",
       "\n",
       "   prev_ret_to_owner  ...  prev_disposal  prev_missing  age_upon_intake  \\\n",
       "0                  1  ...              0             0              7.0   \n",
       "1                  0  ...              0             0              6.0   \n",
       "2                  0  ...              0             0              1.0   \n",
       "3                  0  ...              0             0              1.0   \n",
       "4                  0  ...              0             0              1.0   \n",
       "\n",
       "   is_named_in  mix     sex      is_neutered days_in_shelter  \\\n",
       "0            1    1    Male  Neutered/Spayed               1   \n",
       "1            1    1    Male  Neutered/Spayed               1   \n",
       "2            1    0    Male  Neutered/Spayed               4   \n",
       "3            1    0    Male  Neutered/Spayed               0   \n",
       "4            1    0  Female  Neutered/Spayed               0   \n",
       "\n",
       "           age_type adopted  \n",
       "0  6 Years-10 Years       0  \n",
       "1   2 Years-6 Years       0  \n",
       "2  6 Months-2 Years       0  \n",
       "3  6 Months-2 Years       0  \n",
       "4  6 Months-2 Years       0  \n",
       "\n",
       "[5 rows x 21 columns]"
      ]
     },
     "execution_count": 172,
     "metadata": {},
     "output_type": "execute_result"
    }
   ],
   "source": [
    "df.head()"
   ]
  },
  {
   "cell_type": "code",
   "execution_count": 206,
   "id": "1fe9e078-2231-4a16-aba0-bd4d1e6a16eb",
   "metadata": {},
   "outputs": [],
   "source": [
    "df = pd.read_csv('katie-animals_w_outcome.csv')"
   ]
  },
  {
   "cell_type": "code",
   "execution_count": 207,
   "id": "2533e837-cc32-44f6-a6a2-381a4a067330",
   "metadata": {},
   "outputs": [],
   "source": [
    "dog = df[df['animal_type']== 'Dog']\n",
    "cat = df[df['animal_type']== 'Cat']"
   ]
  },
  {
   "cell_type": "code",
   "execution_count": 208,
   "id": "1c3b060b-c117-4f93-b7fa-f2703736d62f",
   "metadata": {},
   "outputs": [],
   "source": [
    "df['adopted'] = (df['outcome_type'] == 'Adoption').map({True: 1, False:0})"
   ]
  },
  {
   "cell_type": "code",
   "execution_count": 209,
   "id": "0ec7a05d-7451-4a88-bcfb-28a2a31cae34",
   "metadata": {},
   "outputs": [],
   "source": [
    "df.drop(columns=['outcome_type'], inplace=True)"
   ]
  },
  {
   "cell_type": "markdown",
   "id": "94c0d59c-0c7d-4a3f-8de2-24baef8dea0f",
   "metadata": {},
   "source": [
    "# II. EDA"
   ]
  },
  {
   "cell_type": "code",
   "execution_count": 210,
   "id": "d2bfffc7-a92e-4533-ad58-c4b7b994baad",
   "metadata": {},
   "outputs": [
    {
     "data": {
      "text/plain": [
       "0    70028\n",
       "1    57116\n",
       "Name: adopted, dtype: int64"
      ]
     },
     "execution_count": 210,
     "metadata": {},
     "output_type": "execute_result"
    }
   ],
   "source": [
    "df['adopted'].value_counts()"
   ]
  },
  {
   "cell_type": "code",
   "execution_count": 211,
   "id": "e935f9fa-da3f-40fb-aaf8-32c2277e334f",
   "metadata": {},
   "outputs": [
    {
     "data": {
      "image/png": "[encoded data removed]",
      "text/plain": [
       "<Figure size 432x288 with 1 Axes>"
      ]
     },
     "metadata": {
      "needs_background": "light"
     },
     "output_type": "display_data"
    }
   ],
   "source": [
    "sns.countplot(x=\"adopted\", data = df).set_title('Count of Adopted vs. Not Adopted Animals (All Animals)');"
   ]
  },
  {
   "cell_type": "code",
   "execution_count": 212,
   "id": "ad7117ad-52a8-455b-8482-455d42f19784",
   "metadata": {},
   "outputs": [
    {
     "data": {
      "image/png": "[encoded data removed]",
      "text/plain": [
       "<Figure size 864x864 with 1 Axes>"
      ]
     },
     "metadata": {
      "needs_background": "light"
     },
     "output_type": "display_data"
    }
   ],
   "source": [
    "plt.figure(figsize=(12,12))\n",
    "sns.countplot(x=\"intake_type\", data = df).set_title('Intake Types');"
   ]
  },
  {
   "cell_type": "markdown",
   "id": "3156e3a8-ba62-44cb-8a4d-80207225d3e7",
   "metadata": {},
   "source": [
    "### Creating Stray DataFrame"
   ]
  },
  {
   "cell_type": "code",
   "execution_count": 213,
   "id": "a0830ddd-8e19-47ea-b62f-1bd615717661",
   "metadata": {},
   "outputs": [],
   "source": [
    "stray = df[df['intake_type']== 'Stray']"
   ]
  },
  {
   "cell_type": "code",
   "execution_count": 214,
   "id": "7debf751-504b-4c35-b1e6-d574a8cd23a3",
   "metadata": {},
   "outputs": [],
   "source": [
    "stray.reset_index(inplace=True)"
   ]
  },
  {
   "cell_type": "code",
   "execution_count": 215,
   "id": "d192b6b6-61ae-4057-b8ac-a5d25f69ffc7",
   "metadata": {},
   "outputs": [
    {
     "data": {
      "text/plain": [
       "(88171, 22)"
      ]
     },
     "execution_count": 215,
     "metadata": {},
     "output_type": "execute_result"
    }
   ],
   "source": [
    "stray.shape"
   ]
  },
  {
   "cell_type": "code",
   "execution_count": 216,
   "id": "024f656b-a6a6-432b-a445-42eb31d90390",
   "metadata": {},
   "outputs": [
    {
     "data": {
      "image/png": "[encoded data removed]",
      "text/plain": [
       "<Figure size 432x288 with 1 Axes>"
      ]
     },
     "metadata": {
      "needs_background": "light"
     },
     "output_type": "display_data"
    }
   ],
   "source": [
    "sns.countplot(x=\"adopted\", data = stray).set_title('Count of Adopted vs. Not Adopted Animals (Strays)');"
   ]
  },
  {
   "cell_type": "code",
   "execution_count": 217,
   "id": "efd12ed9-dfd1-41ce-94a9-b061bf7f8b6a",
   "metadata": {},
   "outputs": [
    {
     "data": {
      "text/plain": [
       "Dog          50064\n",
       "Cat          36916\n",
       "Other          873\n",
       "Bird           300\n",
       "Livestock       18\n",
       "Name: animal_type, dtype: int64"
      ]
     },
     "execution_count": 217,
     "metadata": {},
     "output_type": "execute_result"
    }
   ],
   "source": [
    "stray['animal_type'].value_counts()"
   ]
  },
  {
   "cell_type": "markdown",
   "id": "f286dfd9-6356-411f-9b8b-c6581af2d086",
   "metadata": {},
   "source": [
    "### Understanding Data Types"
   ]
  },
  {
   "cell_type": "code",
   "execution_count": 218,
   "id": "7b61d054-72c5-475e-bef5-a301250b0fda",
   "metadata": {},
   "outputs": [
    {
     "name": "stdout",
     "output_type": "stream",
     "text": [
      "The numerical columns are: Index(['index', 'month_in', 'prev_adoption', 'prev_transfer',\n",
      "       'prev_ret_to_owner', 'prev_rto_adopt', 'prev_disposal', 'prev_missing',\n",
      "       'age_upon_intake', 'is_named_in', 'mix', 'days_in_shelter', 'adopted'],\n",
      "      dtype='object').\n",
      "The categorical columns are: Index(['animal_type', 'color', 'breed', 'intake_type', 'intake_condition',\n",
      "       'day_in', 'sex', 'is_neutered', 'age_type'],\n",
      "      dtype='object').\n"
     ]
    }
   ],
   "source": [
    "num_cols = stray.select_dtypes(exclude='object').columns\n",
    "cat_cols = stray.select_dtypes(include='object').columns\n",
    "\n",
    "print(f'The numerical columns are: {num_cols}.')\n",
    "print(f'The categorical columns are: {cat_cols}.')"
   ]
  },
  {
   "cell_type": "code",
   "execution_count": 219,
   "id": "777223a9-4db9-41ef-934a-42e30f694c7c",
   "metadata": {},
   "outputs": [],
   "source": [
    "stray['month_in'] = stray['month_in'].astype(str)"
   ]
  },
  {
   "cell_type": "markdown",
   "id": "f0e97417-f262-4faf-8864-a6258ea7c208",
   "metadata": {},
   "source": [
    "### Further Investigating"
   ]
  },
  {
   "cell_type": "code",
   "execution_count": 220,
   "id": "9091c529-9cd2-49fc-b339-3c32a2d9497c",
   "metadata": {},
   "outputs": [
    {
     "name": "stdout",
     "output_type": "stream",
     "text": [
      "Dog          50064\n",
      "Cat          36916\n",
      "Other          873\n",
      "Bird           300\n",
      "Livestock       18\n",
      "Name: animal_type, dtype: int64\n",
      "white black            11729\n",
      "black                   7715\n",
      "brown tabby             5777\n",
      "brown white             4573\n",
      "tan white               3951\n",
      "                       ...  \n",
      "gray tabby orange          1\n",
      "seal point buff            1\n",
      "blue chocolate tick        1\n",
      "chocolate gray             1\n",
      "seal point black           1\n",
      "Name: color, Length: 352, dtype: int64\n",
      "domestic shorthair mix             24102\n",
      "domestic shorthair                  6425\n",
      "pit bull mix                        5666\n",
      "retriever labrador mix              5041\n",
      "chihuahua shorthair mix             4415\n",
      "                                   ...  \n",
      "coyote mix                             1\n",
      "keeshond                               1\n",
      "wire fox hair dachshund terrier        1\n",
      "great pyrenees husky alaskan           1\n",
      "saluki labrador retriever              1\n",
      "Name: breed, Length: 1781, dtype: int64\n",
      "Stray    88171\n",
      "Name: intake_type, dtype: int64\n",
      "Normal      76355\n",
      "Injured      5400\n",
      "Nursing      2958\n",
      "Sick         2822\n",
      "Aged          267\n",
      "Other         129\n",
      "Feral          98\n",
      "Medical        80\n",
      "Pregnant       53\n",
      "Behavior        9\n",
      "Name: intake_condition, dtype: int64\n",
      "Monday       13517\n",
      "Wednesday    13056\n",
      "Saturday     12894\n",
      "Tuesday      12849\n",
      "Thursday     12364\n",
      "Friday       12217\n",
      "Sunday       11274\n",
      "Name: day_in, dtype: int64\n",
      "Female    44513\n",
      "Male      43658\n",
      "Name: sex, dtype: int64\n",
      "Intact             65341\n",
      "Neutered/Spayed    22830\n",
      "Name: is_neutered, dtype: int64\n",
      "< 6 Months          38009\n",
      "6 Months-2 Years    35474\n",
      "2 Years-6 Years     11262\n",
      "6 Years-10 Years     3426\n",
      "Name: age_type, dtype: int64\n"
     ]
    }
   ],
   "source": [
    "for col in cat_cols:\n",
    "    print(stray[col].value_counts())"
   ]
  },
  {
   "cell_type": "code",
   "execution_count": 221,
   "id": "dec5b34c-488c-44a0-afbd-e50e79381886",
   "metadata": {},
   "outputs": [
    {
     "name": "stdout",
     "output_type": "stream",
     "text": [
      "animal_type\n",
      "Bird         0.333333\n",
      "Cat          0.413154\n",
      "Dog          0.479646\n",
      "Livestock    0.444444\n",
      "Other        0.309278\n",
      "Name: adopted, dtype: float64\n",
      "color\n",
      "agouti                  0.500000\n",
      "agouti cream            0.000000\n",
      "apricot                 0.437500\n",
      "black                   0.412054\n",
      "black buff              0.500000\n",
      "                          ...   \n",
      "yellow gray             0.444444\n",
      "yellow orange           0.333333\n",
      "yellow orange tabby     0.000000\n",
      "yellow white            0.496000\n",
      "yellow white brindle    0.574468\n",
      "Name: adopted, Length: 352, dtype: float64\n",
      "breed\n",
      "abyssinian                       0.500000\n",
      "abyssinian domestic shorthair    1.000000\n",
      "abyssinian mix                   0.571429\n",
      "affenpinscher                    1.000000\n",
      "affenpinscher border terrier     1.000000\n",
      "                                   ...   \n",
      "yorkshire silky terrier          0.250000\n",
      "yorkshire terrier                0.206186\n",
      "yorkshire terrier dachshund      0.500000\n",
      "yorkshire terrier havanese       1.000000\n",
      "yorkshire terrier papillon       0.000000\n",
      "Name: adopted, Length: 1781, dtype: float64\n",
      "intake_type\n",
      "Stray    0.449615\n",
      "Name: adopted, dtype: float64\n",
      "intake_condition\n",
      "Aged        0.157303\n",
      "Behavior    0.333333\n",
      "Feral       0.265306\n",
      "Injured     0.317222\n",
      "Medical     0.450000\n",
      "Normal      0.473892\n",
      "Nursing     0.292765\n",
      "Other       0.294574\n",
      "Pregnant    0.415094\n",
      "Sick        0.252658\n",
      "Name: adopted, dtype: float64\n",
      "day_in\n",
      "Friday       0.454449\n",
      "Monday       0.449212\n",
      "Saturday     0.457112\n",
      "Sunday       0.433209\n",
      "Thursday     0.445406\n",
      "Tuesday      0.447194\n",
      "Wednesday    0.458640\n",
      "Name: adopted, dtype: float64\n",
      "sex\n",
      "Female    0.436906\n",
      "Male      0.462573\n",
      "Name: adopted, dtype: float64\n",
      "is_neutered\n",
      "Intact             0.523959\n",
      "Neutered/Spayed    0.236837\n",
      "Name: adopted, dtype: float64\n",
      "age_type\n",
      "2 Years-6 Years     0.324898\n",
      "6 Months-2 Years    0.406579\n",
      "6 Years-10 Years    0.272037\n",
      "< 6 Months          0.542740\n",
      "Name: adopted, dtype: float64\n"
     ]
    }
   ],
   "source": [
    "for col in cat_cols:\n",
    "    temp = stray['adopted'].groupby(stray[col]).mean()\n",
    "    print(temp)"
   ]
  },
  {
   "cell_type": "markdown",
   "id": "8fd6bf8f-6122-45b7-8768-f6835b230814",
   "metadata": {},
   "source": [
    "### Bar Charts"
   ]
  },
  {
   "cell_type": "code",
   "execution_count": 222,
   "id": "81a6a325-0a33-45ea-899c-2a10c9fb42c9",
   "metadata": {},
   "outputs": [],
   "source": [
    "interest_cols = ['animal_type', 'intake_condition', 'day_in', 'month_in','sex','is_neutered', 'age_type']"
   ]
  },
  {
   "cell_type": "code",
   "execution_count": 223,
   "id": "fc410210-626f-4506-a5b5-eb1cc9990acd",
   "metadata": {},
   "outputs": [
    {
     "data": {
      "image/png": "[encoded data removed]",
      "text/plain": [
       "<Figure size 864x720 with 1 Axes>"
      ]
     },
     "metadata": {
      "needs_background": "light"
     },
     "output_type": "display_data"
    },
    {
     "data": {
      "image/png": "[encoded data removed]",
      "text/plain": [
       "<Figure size 864x720 with 1 Axes>"
      ]
     },
     "metadata": {
      "needs_background": "light"
     },
     "output_type": "display_data"
    },
    {
     "data": {
      "image/png": "[encoded data removed]",
      "text/plain": [
       "<Figure size 864x720 with 1 Axes>"
      ]
     },
     "metadata": {
      "needs_background": "light"
     },
     "output_type": "display_data"
    },
    {
     "data": {
      "image/png": "[encoded data removed]",
      "text/plain": [
       "<Figure size 864x720 with 1 Axes>"
      ]
     },
     "metadata": {
      "needs_background": "light"
     },
     "output_type": "display_data"
    },
    {
     "data": {
      "image/png": "[encoded data removed]",
      "text/plain": [
       "<Figure size 864x720 with 1 Axes>"
      ]
     },
     "metadata": {
      "needs_background": "light"
     },
     "output_type": "display_data"
    },
    {
     "data": {
      "image/png": "[encoded data removed]",
      "text/plain": [
       "<Figure size 864x720 with 1 Axes>"
      ]
     },
     "metadata": {
      "needs_background": "light"
     },
     "output_type": "display_data"
    },
    {
     "data": {
      "image/png": "[encoded data removed]",
      "text/plain": [
       "<Figure size 864x720 with 1 Axes>"
      ]
     },
     "metadata": {
      "needs_background": "light"
     },
     "output_type": "display_data"
    }
   ],
   "source": [
    "for col in interest_cols:\n",
    "    col_series = stray['adopted'].groupby(stray[col]).mean()\n",
    "    index = [index for index,value in col_series.items()]\n",
    "    mean = [value for index,value in col_series.items()]\n",
    "    plt.figure(figsize=(12,10))\n",
    "    plt.bar(index,mean)\n",
    "    plt.xticks(rotation=45)\n",
    "    plt.axhline(y=stray['adopted'].mean(), color='indianred')\n",
    "    plt.xlabel(col)\n",
    "    plt.ylabel('Percent of Strays Adopted')\n",
    "    plt.show();"
   ]
  },
  {
   "cell_type": "markdown",
   "id": "bd26a262-1abc-43ce-b86b-384a56d92aba",
   "metadata": {},
   "source": [
    "### Heatmap"
   ]
  },
  {
   "cell_type": "code",
   "execution_count": 224,
   "id": "0b82fb57-4b6a-4b59-b99f-40f3c4298e35",
   "metadata": {},
   "outputs": [
    {
     "data": {
      "image/png": "[encoded data removed]",
      "text/plain": [
       "<Figure size 432x288 with 2 Axes>"
      ]
     },
     "metadata": {
      "needs_background": "light"
     },
     "output_type": "display_data"
    }
   ],
   "source": [
    "# Heatmap BEFORE getting dummies\n",
    "sns.heatmap(stray.corr()[['adopted']].sort_values('adopted', ascending=False), annot=True);"
   ]
  },
  {
   "cell_type": "markdown",
   "id": "487dbbf1-eedb-451a-a99c-1d659acee6ab",
   "metadata": {},
   "source": [
    "The null correlations are of interest to me. I will investigate this further."
   ]
  },
  {
   "cell_type": "code",
   "execution_count": 225,
   "id": "bdd9970a-33ca-46b8-8536-fb40153a503a",
   "metadata": {},
   "outputs": [
    {
     "name": "stdout",
     "output_type": "stream",
     "text": [
      "0    88171\n",
      "Name: prev_disposal, dtype: int64\n"
     ]
    }
   ],
   "source": [
    "print(stray['prev_disposal'].value_counts())"
   ]
  },
  {
   "cell_type": "code",
   "execution_count": 226,
   "id": "63783b8a-362b-4b92-af61-900491eba7e2",
   "metadata": {},
   "outputs": [],
   "source": [
    "stray.drop(columns=['prev_disposal'], inplace=True)"
   ]
  },
  {
   "cell_type": "code",
   "execution_count": 227,
   "id": "707ca1e2-69c1-4c2d-a57c-2c717ae562c8",
   "metadata": {},
   "outputs": [],
   "source": [
    "stray.drop(columns=['intake_type'], inplace=True)"
   ]
  },
  {
   "cell_type": "markdown",
   "id": "a9dbb51e-6cf2-4b4f-9213-4ddb5e568276",
   "metadata": {},
   "source": [
    "### One Hot Encoding"
   ]
  },
  {
   "cell_type": "code",
   "execution_count": 228,
   "id": "cc93f1c6-7508-4aca-b5e7-c154af412164",
   "metadata": {},
   "outputs": [
    {
     "data": {
      "text/plain": [
       "index                  int64\n",
       "animal_type           object\n",
       "color                 object\n",
       "breed                 object\n",
       "intake_condition      object\n",
       "month_in              object\n",
       "day_in                object\n",
       "prev_adoption          int64\n",
       "prev_transfer          int64\n",
       "prev_ret_to_owner      int64\n",
       "prev_rto_adopt         int64\n",
       "prev_missing           int64\n",
       "age_upon_intake      float64\n",
       "is_named_in            int64\n",
       "mix                    int64\n",
       "sex                   object\n",
       "is_neutered           object\n",
       "days_in_shelter        int64\n",
       "age_type              object\n",
       "adopted                int64\n",
       "dtype: object"
      ]
     },
     "execution_count": 228,
     "metadata": {},
     "output_type": "execute_result"
    }
   ],
   "source": [
    "stray.dtypes"
   ]
  },
  {
   "cell_type": "code",
   "execution_count": 229,
   "id": "219a49ae-1644-48a8-ba13-8d5c3ac8f105",
   "metadata": {},
   "outputs": [
    {
     "data": {
      "text/html": [
       "<div>\n",
       "<style scoped>\n",
       "    .dataframe tbody tr th:only-of-type {\n",
       "        vertical-align: middle;\n",
       "    }\n",
       "\n",
       "    .dataframe tbody tr th {\n",
       "        vertical-align: top;\n",
       "    }\n",
       "\n",
       "    .dataframe thead th {\n",
       "        text-align: right;\n",
       "    }\n",
       "</style>\n",
       "<table border=\"1\" class=\"dataframe\">\n",
       "  <thead>\n",
       "    <tr style=\"text-align: right;\">\n",
       "      <th></th>\n",
       "      <th>index</th>\n",
       "      <th>animal_type</th>\n",
       "      <th>color</th>\n",
       "      <th>breed</th>\n",
       "      <th>intake_condition</th>\n",
       "      <th>month_in</th>\n",
       "      <th>day_in</th>\n",
       "      <th>prev_adoption</th>\n",
       "      <th>prev_transfer</th>\n",
       "      <th>prev_ret_to_owner</th>\n",
       "      <th>prev_rto_adopt</th>\n",
       "      <th>prev_missing</th>\n",
       "      <th>age_upon_intake</th>\n",
       "      <th>is_named_in</th>\n",
       "      <th>mix</th>\n",
       "      <th>sex</th>\n",
       "      <th>is_neutered</th>\n",
       "      <th>days_in_shelter</th>\n",
       "      <th>age_type</th>\n",
       "      <th>adopted</th>\n",
       "    </tr>\n",
       "  </thead>\n",
       "  <tbody>\n",
       "    <tr>\n",
       "      <th>0</th>\n",
       "      <td>4</td>\n",
       "      <td>Dog</td>\n",
       "      <td>white black</td>\n",
       "      <td>retriever labrador bull pit</td>\n",
       "      <td>Aged</td>\n",
       "      <td>11</td>\n",
       "      <td>Saturday</td>\n",
       "      <td>0</td>\n",
       "      <td>0</td>\n",
       "      <td>0</td>\n",
       "      <td>0</td>\n",
       "      <td>0</td>\n",
       "      <td>1.0</td>\n",
       "      <td>1</td>\n",
       "      <td>0</td>\n",
       "      <td>Female</td>\n",
       "      <td>Neutered/Spayed</td>\n",
       "      <td>0</td>\n",
       "      <td>6 Months-2 Years</td>\n",
       "      <td>0</td>\n",
       "    </tr>\n",
       "    <tr>\n",
       "      <th>1</th>\n",
       "      <td>5</td>\n",
       "      <td>Dog</td>\n",
       "      <td>gray black</td>\n",
       "      <td>schnauzer miniature mix</td>\n",
       "      <td>Normal</td>\n",
       "      <td>11</td>\n",
       "      <td>Friday</td>\n",
       "      <td>0</td>\n",
       "      <td>0</td>\n",
       "      <td>0</td>\n",
       "      <td>0</td>\n",
       "      <td>0</td>\n",
       "      <td>1.0</td>\n",
       "      <td>1</td>\n",
       "      <td>1</td>\n",
       "      <td>Female</td>\n",
       "      <td>Intact</td>\n",
       "      <td>0</td>\n",
       "      <td>6 Months-2 Years</td>\n",
       "      <td>0</td>\n",
       "    </tr>\n",
       "    <tr>\n",
       "      <th>2</th>\n",
       "      <td>6</td>\n",
       "      <td>Dog</td>\n",
       "      <td>brown white</td>\n",
       "      <td>mix lhasa apso</td>\n",
       "      <td>Normal</td>\n",
       "      <td>9</td>\n",
       "      <td>Monday</td>\n",
       "      <td>0</td>\n",
       "      <td>0</td>\n",
       "      <td>0</td>\n",
       "      <td>0</td>\n",
       "      <td>0</td>\n",
       "      <td>1.0</td>\n",
       "      <td>1</td>\n",
       "      <td>1</td>\n",
       "      <td>Male</td>\n",
       "      <td>Neutered/Spayed</td>\n",
       "      <td>0</td>\n",
       "      <td>6 Months-2 Years</td>\n",
       "      <td>0</td>\n",
       "    </tr>\n",
       "    <tr>\n",
       "      <th>3</th>\n",
       "      <td>7</td>\n",
       "      <td>Bird</td>\n",
       "      <td>gray white</td>\n",
       "      <td>dove mix</td>\n",
       "      <td>Normal</td>\n",
       "      <td>4</td>\n",
       "      <td>Wednesday</td>\n",
       "      <td>0</td>\n",
       "      <td>0</td>\n",
       "      <td>0</td>\n",
       "      <td>0</td>\n",
       "      <td>0</td>\n",
       "      <td>1.0</td>\n",
       "      <td>0</td>\n",
       "      <td>1</td>\n",
       "      <td>Female</td>\n",
       "      <td>Neutered/Spayed</td>\n",
       "      <td>0</td>\n",
       "      <td>6 Months-2 Years</td>\n",
       "      <td>0</td>\n",
       "    </tr>\n",
       "    <tr>\n",
       "      <th>4</th>\n",
       "      <td>9</td>\n",
       "      <td>Dog</td>\n",
       "      <td>brown white</td>\n",
       "      <td>sheepdog shetland mix</td>\n",
       "      <td>Normal</td>\n",
       "      <td>9</td>\n",
       "      <td>Friday</td>\n",
       "      <td>0</td>\n",
       "      <td>0</td>\n",
       "      <td>0</td>\n",
       "      <td>0</td>\n",
       "      <td>0</td>\n",
       "      <td>1.0</td>\n",
       "      <td>1</td>\n",
       "      <td>1</td>\n",
       "      <td>Female</td>\n",
       "      <td>Neutered/Spayed</td>\n",
       "      <td>0</td>\n",
       "      <td>6 Months-2 Years</td>\n",
       "      <td>0</td>\n",
       "    </tr>\n",
       "  </tbody>\n",
       "</table>\n",
       "</div>"
      ],
      "text/plain": [
       "   index animal_type        color                        breed  \\\n",
       "0      4         Dog  white black  retriever labrador bull pit   \n",
       "1      5         Dog   gray black      schnauzer miniature mix   \n",
       "2      6         Dog  brown white               mix lhasa apso   \n",
       "3      7        Bird   gray white                     dove mix   \n",
       "4      9         Dog  brown white        sheepdog shetland mix   \n",
       "\n",
       "  intake_condition month_in     day_in  prev_adoption  prev_transfer  \\\n",
       "0             Aged       11   Saturday              0              0   \n",
       "1           Normal       11     Friday              0              0   \n",
       "2           Normal        9     Monday              0              0   \n",
       "3           Normal        4  Wednesday              0              0   \n",
       "4           Normal        9     Friday              0              0   \n",
       "\n",
       "   prev_ret_to_owner  prev_rto_adopt  prev_missing  age_upon_intake  \\\n",
       "0                  0               0             0              1.0   \n",
       "1                  0               0             0              1.0   \n",
       "2                  0               0             0              1.0   \n",
       "3                  0               0             0              1.0   \n",
       "4                  0               0             0              1.0   \n",
       "\n",
       "   is_named_in  mix     sex      is_neutered  days_in_shelter  \\\n",
       "0            1    0  Female  Neutered/Spayed                0   \n",
       "1            1    1  Female           Intact                0   \n",
       "2            1    1    Male  Neutered/Spayed                0   \n",
       "3            0    1  Female  Neutered/Spayed                0   \n",
       "4            1    1  Female  Neutered/Spayed                0   \n",
       "\n",
       "           age_type  adopted  \n",
       "0  6 Months-2 Years        0  \n",
       "1  6 Months-2 Years        0  \n",
       "2  6 Months-2 Years        0  \n",
       "3  6 Months-2 Years        0  \n",
       "4  6 Months-2 Years        0  "
      ]
     },
     "execution_count": 229,
     "metadata": {},
     "output_type": "execute_result"
    }
   ],
   "source": [
    "stray.head()"
   ]
  },
  {
   "cell_type": "code",
   "execution_count": 230,
   "id": "edbc2e6b-1cdf-4408-8d3c-f0cbb71d3209",
   "metadata": {},
   "outputs": [
    {
     "data": {
      "text/plain": [
       "index                  int64\n",
       "animal_type           object\n",
       "color                 object\n",
       "breed                 object\n",
       "intake_condition      object\n",
       "month_in              object\n",
       "day_in                object\n",
       "prev_adoption          int64\n",
       "prev_transfer          int64\n",
       "prev_ret_to_owner      int64\n",
       "prev_rto_adopt         int64\n",
       "prev_missing           int64\n",
       "age_upon_intake      float64\n",
       "is_named_in            int64\n",
       "mix                    int64\n",
       "sex                   object\n",
       "is_neutered           object\n",
       "days_in_shelter        int64\n",
       "age_type              object\n",
       "adopted                int64\n",
       "dtype: object"
      ]
     },
     "execution_count": 230,
     "metadata": {},
     "output_type": "execute_result"
    }
   ],
   "source": [
    "stray.dtypes"
   ]
  },
  {
   "cell_type": "code",
   "execution_count": 241,
   "id": "9d8f0b34-6b80-4d98-b119-64e3660649f0",
   "metadata": {},
   "outputs": [],
   "source": [
    "def onehot_dataframe(df):\n",
    "    '''\n",
    "\n",
    "    Takes in a dataframe, and returns a dataframe that will be similar to the \n",
    "    get_dummies from pandas.\n",
    "    YOU MUST HAVE ONE HOT ENCODER IMPORTED FOR THIS TO WORK!\n",
    "    '''\n",
    "\n",
    "    # get our numeric columns\n",
    "    numeric = df.select_dtypes(exclude=object)\n",
    "\n",
    "    # get our categorical columns\n",
    "    categorical = df.select_dtypes([object])\n",
    "\n",
    "    # preserve the names of our categorical data\n",
    "    categorical_fnames = categorical.dtypes.keys() # preserve the names\n",
    "\n",
    "    # make sure you are importing one hot encoder, or this function will not work\n",
    "    enc = OneHotEncoder(drop='first',sparse=False)\n",
    "\n",
    "    # categorical is now an array of arrays \n",
    "    categorical = enc.fit_transform(categorical) \n",
    "\n",
    "    dummy_cat_names = enc.get_feature_names(categorical_fnames)\n",
    "\n",
    "    categorical_df = pd.DataFrame(categorical, columns=dummy_cat_names)\n",
    "\n",
    "    return pd.concat([numeric, categorical_df], axis=1)  "
   ]
  },
  {
   "cell_type": "code",
   "execution_count": 242,
   "id": "446276b9-cac7-46b5-a61c-c83f099815c2",
   "metadata": {},
   "outputs": [],
   "source": [
    "stray_ohe = onehot_dataframe(stray)"
   ]
  },
  {
   "cell_type": "code",
   "execution_count": 243,
   "id": "80849d68-1a83-4be6-95c9-b43717310ce6",
   "metadata": {},
   "outputs": [],
   "source": [
    "stray_ohe.drop(columns='index', inplace=True)"
   ]
  },
  {
   "cell_type": "markdown",
   "id": "c30429fc-bfa1-4634-ab5b-8829db657c9c",
   "metadata": {},
   "source": [
    "# III. Modeling"
   ]
  },
  {
   "cell_type": "markdown",
   "id": "990daf09-d35e-45cf-a3c3-c3a245735584",
   "metadata": {},
   "source": [
    "### Baseline"
   ]
  },
  {
   "cell_type": "code",
   "execution_count": 247,
   "id": "deb34482-bd14-4206-bcb3-0bc251620b53",
   "metadata": {},
   "outputs": [
    {
     "data": {
      "text/plain": [
       "0    0.550385\n",
       "1    0.449615\n",
       "Name: adopted, dtype: float64"
      ]
     },
     "execution_count": 247,
     "metadata": {},
     "output_type": "execute_result"
    }
   ],
   "source": [
    "stray_ohe['adopted'].value_counts(normalize=True)"
   ]
  },
  {
   "cell_type": "code",
   "execution_count": 69,
   "id": "66a8d9e7-a2e6-4186-9fa6-0bd81289c22c",
   "metadata": {},
   "outputs": [],
   "source": [
    "import numpy as np\n",
    "import pandas as pd\n",
    "import matplotlib.pyplot as plt\n",
    "import seaborn as sns\n",
    "from sklearn.model_selection import train_test_split\n",
    "from sklearn import preprocessing\n",
    "from sklearn.preprocessing import StandardScaler\n",
    "from sklearn.pipeline import Pipeline\n",
    "from sklearn.linear_model import LogisticRegression\n",
    "from sklearn.tree import DecisionTreeClassifier\n",
    "from sklearn.ensemble import RandomForestClassifier\n",
    "from sklearn.svm import SVC\n",
    "from sklearn.svm import LinearSVC\n",
    "from sklearn.model_selection import GridSearchCV\n",
    "from sklearn.model_selection import cross_val_score\n",
    "from sklearn.metrics import precision_score, recall_score, confusion_matrix, classification_report, accuracy_score, f1_score, ConfusionMatrixDisplay\n",
    "from sklearn import metrics\n",
    "from sklearn.metrics import roc_curve, auc, roc_auc_score\n",
    "from sklearn.neighbors import KNeighborsClassifier\n",
    "from sklearn.ensemble import RandomForestClassifier, AdaBoostClassifier, GradientBoostingClassifier, ExtraTreesClassifier\n",
    "from xgboost import XGBClassifier\n",
    "from sklearn.naive_bayes import BernoulliNB, MultinomialNB"
   ]
  },
  {
   "cell_type": "code",
   "execution_count": 26,
   "id": "5607b5d2-9fac-42f4-8e1b-4737a13531c4",
   "metadata": {},
   "outputs": [],
   "source": [
    "def rmse(predictions, targets):\n",
    "    return np.sqrt(((predictions - targets) ** 2).mean())"
   ]
  },
  {
   "cell_type": "code",
   "execution_count": 248,
   "id": "7c86cd28-3049-4a35-a797-72a691cbfb00",
   "metadata": {},
   "outputs": [],
   "source": [
    "features = (stray_ohe.drop(columns = ['adopted']).columns)\n",
    "X = stray_ohe[features]\n",
    "y = stray_ohe['adopted']"
   ]
  },
  {
   "cell_type": "code",
   "execution_count": 249,
   "id": "98c486ff-4db3-4dc4-b079-be571fe8e0d0",
   "metadata": {},
   "outputs": [],
   "source": [
    "X_train, X_test, y_train, y_test = train_test_split(X, y, random_state = 42, stratify=y)"
   ]
  },
  {
   "cell_type": "code",
   "execution_count": 250,
   "id": "c9be3f5f-8eea-41b6-95c8-3164c01a923d",
   "metadata": {},
   "outputs": [],
   "source": [
    "from sklearn.preprocessing import StandardScaler\n",
    "\n",
    "# Instantiate\n",
    "scaler = StandardScaler()\n",
    "\n",
    "X_train_sc = scaler.fit_transform(X_train)\n",
    "X_test_sc = scaler.transform(X_test)"
   ]
  },
  {
   "cell_type": "code",
   "execution_count": 251,
   "id": "eae54ed5-c995-4bc3-b3b4-202de9e4dfd1",
   "metadata": {},
   "outputs": [],
   "source": [
    "def pipe(model):\n",
    "    #instantiate model\n",
    "    model = model()\n",
    "    #fit to scaled data\n",
    "    model.fit(X_train_sc, y_train)\n",
    "    \n",
    "    #make predictions\n",
    "    predictions = model.predict(X_test_sc)\n",
    "\n",
    "    #print results\n",
    "    print(f'{model} training score: {model.score(X_train_sc, y_train)}')\n",
    "    print(f'{model} testing score: {model.score(X_test_sc, y_test)}')\n",
    "\n",
    "    return"
   ]
  },
  {
   "cell_type": "code",
   "execution_count": 252,
   "id": "15b93868-0e12-44a7-8c10-ba2215159888",
   "metadata": {},
   "outputs": [
    {
     "name": "stderr",
     "output_type": "stream",
     "text": [
      "/Users/ksylvia/opt/anaconda3/lib/python3.8/site-packages/sklearn/linear_model/_logistic.py:763: ConvergenceWarning: lbfgs failed to converge (status=1):\n",
      "STOP: TOTAL NO. of ITERATIONS REACHED LIMIT.\n",
      "\n",
      "Increase the number of iterations (max_iter) or scale the data as shown in:\n",
      "    https://scikit-learn.org/stable/modules/preprocessing.html\n",
      "Please also refer to the documentation for alternative solver options:\n",
      "    https://scikit-learn.org/stable/modules/linear_model.html#logistic-regression\n",
      "  n_iter_i = _check_optimize_result(\n"
     ]
    },
    {
     "name": "stdout",
     "output_type": "stream",
     "text": [
      "LogisticRegression() training score: 0.7741652552625212\n",
      "LogisticRegression() testing score: 0.7572018327813819\n"
     ]
    }
   ],
   "source": [
    "pipe(LogisticRegression)"
   ]
  },
  {
   "cell_type": "code",
   "execution_count": 253,
   "id": "f9233696-1d1f-4a4b-b443-3548082b76b0",
   "metadata": {},
   "outputs": [
    {
     "name": "stdout",
     "output_type": "stream",
     "text": [
      "DecisionTreeClassifier() training score: 0.9992438906363417\n",
      "DecisionTreeClassifier() testing score: 0.798484779748673\n"
     ]
    }
   ],
   "source": [
    "pipe(DecisionTreeClassifier)"
   ]
  },
  {
   "cell_type": "code",
   "execution_count": 254,
   "id": "252d1508-d0cf-470f-9811-ab5e21958fee",
   "metadata": {},
   "outputs": [
    {
     "name": "stdout",
     "output_type": "stream",
     "text": [
      "AdaBoostClassifier() training score: 0.8230704089039439\n",
      "AdaBoostClassifier() testing score: 0.8181282039649775\n"
     ]
    }
   ],
   "source": [
    "pipe(AdaBoostClassifier)"
   ]
  },
  {
   "cell_type": "code",
   "execution_count": 255,
   "id": "3bda373e-1fe9-4903-bc8b-4d7fa835b7bc",
   "metadata": {},
   "outputs": [
    {
     "name": "stdout",
     "output_type": "stream",
     "text": [
      "GradientBoostingClassifier() training score: 0.8329754415678684\n",
      "GradientBoostingClassifier() testing score: 0.8286530871478474\n"
     ]
    }
   ],
   "source": [
    "pipe(GradientBoostingClassifier)"
   ]
  },
  {
   "cell_type": "code",
   "execution_count": 256,
   "id": "6f4982ac-a9f6-4a89-89e4-414686be0a2c",
   "metadata": {},
   "outputs": [
    {
     "name": "stdout",
     "output_type": "stream",
     "text": [
      "RandomForestClassifier() training score: 0.9992438906363417\n",
      "RandomForestClassifier() testing score: 0.8319647960803883\n"
     ]
    }
   ],
   "source": [
    "pipe(RandomForestClassifier)"
   ]
  },
  {
   "cell_type": "code",
   "execution_count": 260,
   "id": "a6bcd588-1db6-4e96-8521-3e1b94909884",
   "metadata": {},
   "outputs": [],
   "source": [
    "gbc = GradientBoostingClassifier()\n",
    "\n",
    "gbc.fit(X_train_sc, y_train)\n",
    "\n",
    "#make predictions\n",
    "preds = gbc.predict(X_test_sc)\n"
   ]
  },
  {
   "cell_type": "code",
   "execution_count": 261,
   "id": "e8e558e5-05f2-4051-bf14-212ecffa74e2",
   "metadata": {},
   "outputs": [
    {
     "name": "stdout",
     "output_type": "stream",
     "text": [
      "              precision    recall  f1-score   support\n",
      "\n",
      "           0       0.92      0.76      0.83     12132\n",
      "           1       0.76      0.92      0.83      9911\n",
      "\n",
      "    accuracy                           0.83     22043\n",
      "   macro avg       0.84      0.84      0.83     22043\n",
      "weighted avg       0.84      0.83      0.83     22043\n",
      "\n",
      "[[9188 2944]\n",
      " [ 833 9078]]\n"
     ]
    }
   ],
   "source": [
    "print(classification_report(y_test,preds))\n",
    "print(confusion_matrix(y_test, preds))"
   ]
  },
  {
   "cell_type": "code",
   "execution_count": 263,
   "id": "60269169-ef1c-4f43-81d7-b9373e8100a9",
   "metadata": {},
   "outputs": [
    {
     "data": {
      "image/png": "[encoded data removed]",
      "text/plain": [
       "<Figure size 432x288 with 2 Axes>"
      ]
     },
     "metadata": {
      "needs_background": "light"
     },
     "output_type": "display_data"
    }
   ],
   "source": [
    "cm = confusion_matrix(y_test, preds)\n",
    "\n",
    "ConfusionMatrixDisplay(cm, display_labels=gbc.classes_).plot(cmap='Blues');"
   ]
  }
 ],
 "metadata": {
  "kernelspec": {
   "display_name": "Python 3",
   "language": "python",
   "name": "python3"
  },
  "language_info": {
   "codemirror_mode": {
    "name": "ipython",
    "version": 3
   },
   "file_extension": ".py",
   "mimetype": "text/x-python",
   "name": "python",
   "nbconvert_exporter": "python",
   "pygments_lexer": "ipython3",
   "version": "3.8.8"
  }
 },
 "nbformat": 4,
 "nbformat_minor": 5
}
