{
 "cells": [
  {
   "cell_type": "code",
   "execution_count": 2,
   "metadata": {
    "id": "oHvYCqOCT9tb"
   },
   "outputs": [],
   "source": [
    "import pandas as pd\n",
    "import numpy as np\n",
    "import matplotlib.pyplot as plt\n",
    "\n",
    "from sklearn.preprocessing import StandardScaler, LabelEncoder\n",
    "from sklearn.model_selection import train_test_split\n",
    "from sklearn.metrics import accuracy_score\n",
    "from sklearn.tree import export_graphviz\n",
    "\n",
    "from tensorflow.keras.models import Sequential\n",
    "from tensorflow.keras.layers import Dense, Dropout, BatchNormalization\n",
    "from tensorflow.keras.optimizers import Adam\n",
    "from tensorflow.keras.callbacks import EarlyStopping\n",
    "from tensorflow.keras.regularizers import l2\n",
    "\n",
    "from keras.utils import np_utils"
   ]
  },
  {
   "cell_type": "code",
   "execution_count": null,
   "metadata": {
    "id": "hTFUR4KNUDcf"
   },
   "outputs": [],
   "source": [
    "nn_frame = pd.read_csv('/content/drive/MyDrive/Colab Notebooks/group_project/datasets/model_frame.csv')"
   ]
  },
  {
   "cell_type": "code",
   "execution_count": null,
   "metadata": {
    "id": "y3TOR7EHVYLy"
   },
   "outputs": [],
   "source": [
    "nn_frame = nn_frame.drop(columns=['tracking_id'])"
   ]
  },
  {
   "cell_type": "code",
   "execution_count": null,
   "metadata": {
    "id": "Kvf1NjJ4UD-e"
   },
   "outputs": [],
   "source": [
    "X = nn_frame.drop(columns=['outcome_type','outcome_subtype'])\n",
    "y = nn_frame['outcome_type']\n",
    "\n",
    "# making our label categorical\n",
    "encoder = LabelEncoder()\n",
    "encoded_y = encoder.fit_transform(y)\n",
    "y = np_utils.to_categorical(encoded_y)"
   ]
  },
  {
   "cell_type": "code",
   "execution_count": null,
   "metadata": {
    "id": "MeArz5m_UmF3"
   },
   "outputs": [],
   "source": [
    "X_train, X_test, y_train, y_test = train_test_split(X, y, random_state=13, stratify=y)\n",
    "sc = StandardScaler()\n",
    "X_train_sc = sc.fit_transform(X_train)\n",
    "X_test_sc = sc.transform(X_test)"
   ]
  },
  {
   "cell_type": "code",
   "execution_count": null,
   "metadata": {
    "id": "xGemxYWwUnP0"
   },
   "outputs": [],
   "source": [
    "def baseline_nn():\n",
    "  model = Sequential()\n",
    "  #model.add(BatchNormalization(input_dim=X_train.shape[1],))\n",
    "\n",
    "  model.add(Dense(1024\t, activation='relu',input_dim=X_train.shape[1],kernel_regularizer=l2(.001)))\n",
    "  model.add(Dropout(0.25))\n",
    "\n",
    "  model.add(Dense(1024, activation='relu'))\n",
    "  model.add(Dropout(0.25))\n",
    "\n",
    "  model.add(Dense(2048\t, activation='relu'))\n",
    "  model.add(Dropout(0.25))\n",
    "\n",
    "  model.add(Dense(1024, activation='relu'))\n",
    "  model.add(Dropout(0.25))\n",
    "\n",
    "  model.add(Dense(1024, activation='relu'))\n",
    "  model.add(Dropout(0.25))\n",
    "\n",
    "  model.add(Dense(9, activation='softmax'))\n",
    "  model.compile(loss='categorical_crossentropy', optimizer='adam', metrics=['accuracy'])\n",
    "  return model"
   ]
  },
  {
   "cell_type": "code",
   "execution_count": null,
   "metadata": {
    "colab": {
     "base_uri": "https://localhost:8080/"
    },
    "id": "4t7frDLeW1fd",
    "outputId": "4e3c6389-3173-4a80-8b42-dcb5ecacae32"
   },
   "outputs": [
    {
     "name": "stdout",
     "output_type": "stream",
     "text": [
      "Epoch 1/40\n",
      "5996/5996 [==============================] - 158s 26ms/step - loss: 1.2441 - accuracy: 0.6718 - val_loss: 1.1916 - val_accuracy: 0.6882\n",
      "Epoch 2/40\n",
      "5996/5996 [==============================] - 158s 26ms/step - loss: 1.1782 - accuracy: 0.6941 - val_loss: 1.1533 - val_accuracy: 0.7046\n",
      "Epoch 3/40\n",
      "5996/5996 [==============================] - 157s 26ms/step - loss: 1.1427 - accuracy: 0.6986 - val_loss: 1.0806 - val_accuracy: 0.7080\n",
      "Epoch 4/40\n",
      "5996/5996 [==============================] - 158s 26ms/step - loss: 1.0958 - accuracy: 0.7021 - val_loss: 1.0623 - val_accuracy: 0.7064\n",
      "Epoch 5/40\n",
      "5996/5996 [==============================] - 158s 26ms/step - loss: 1.0689 - accuracy: 0.7034 - val_loss: 1.0200 - val_accuracy: 0.7090\n",
      "Epoch 6/40\n",
      "5996/5996 [==============================] - 158s 26ms/step - loss: 1.0430 - accuracy: 0.7057 - val_loss: 0.9993 - val_accuracy: 0.7145\n",
      "Epoch 7/40\n",
      "5996/5996 [==============================] - 162s 27ms/step - loss: 1.0289 - accuracy: 0.7069 - val_loss: 1.0013 - val_accuracy: 0.7101\n",
      "Epoch 8/40\n",
      "5996/5996 [==============================] - 156s 26ms/step - loss: 1.0166 - accuracy: 0.7061 - val_loss: 0.9717 - val_accuracy: 0.7146\n",
      "Epoch 9/40\n",
      "5996/5996 [==============================] - 159s 27ms/step - loss: 1.0011 - accuracy: 0.7086 - val_loss: 0.9524 - val_accuracy: 0.7128\n",
      "Epoch 10/40\n",
      "5996/5996 [==============================] - 158s 26ms/step - loss: 0.9894 - accuracy: 0.7080 - val_loss: 0.9512 - val_accuracy: 0.7144\n",
      "Epoch 11/40\n",
      "5996/5996 [==============================] - 157s 26ms/step - loss: 0.9861 - accuracy: 0.7064 - val_loss: 0.9538 - val_accuracy: 0.7135\n",
      "Epoch 12/40\n",
      "5996/5996 [==============================] - 155s 26ms/step - loss: 0.9763 - accuracy: 0.7080 - val_loss: 0.9379 - val_accuracy: 0.7139\n",
      "Epoch 13/40\n",
      "5996/5996 [==============================] - 149s 25ms/step - loss: 0.9767 - accuracy: 0.7069 - val_loss: 0.9257 - val_accuracy: 0.7169\n",
      "Epoch 14/40\n",
      "5996/5996 [==============================] - 149s 25ms/step - loss: 0.9651 - accuracy: 0.7085 - val_loss: 0.9307 - val_accuracy: 0.7140\n",
      "Epoch 15/40\n",
      "5996/5996 [==============================] - 151s 25ms/step - loss: 0.9666 - accuracy: 0.7073 - val_loss: 0.9256 - val_accuracy: 0.7159\n",
      "Epoch 16/40\n",
      "5996/5996 [==============================] - 154s 26ms/step - loss: 0.9587 - accuracy: 0.7084 - val_loss: 0.9203 - val_accuracy: 0.7184\n",
      "Epoch 17/40\n",
      "5996/5996 [==============================] - 159s 26ms/step - loss: 0.9559 - accuracy: 0.7106 - val_loss: 0.9246 - val_accuracy: 0.7196\n",
      "Epoch 18/40\n",
      "5996/5996 [==============================] - 151s 25ms/step - loss: 0.9539 - accuracy: 0.7085 - val_loss: 0.9160 - val_accuracy: 0.7154\n",
      "Epoch 19/40\n",
      "5996/5996 [==============================] - 151s 25ms/step - loss: 0.9544 - accuracy: 0.7076 - val_loss: 0.9167 - val_accuracy: 0.7138\n",
      "Epoch 20/40\n",
      "5996/5996 [==============================] - 152s 25ms/step - loss: 0.9542 - accuracy: 0.7098 - val_loss: 0.9033 - val_accuracy: 0.7201\n",
      "Epoch 21/40\n",
      "5996/5996 [==============================] - 152s 25ms/step - loss: 0.9490 - accuracy: 0.7088 - val_loss: 0.9189 - val_accuracy: 0.7179\n",
      "Epoch 22/40\n",
      "5996/5996 [==============================] - 154s 26ms/step - loss: 0.9537 - accuracy: 0.7094 - val_loss: 0.9092 - val_accuracy: 0.7186\n",
      "Epoch 23/40\n",
      "5996/5996 [==============================] - 155s 26ms/step - loss: 0.9454 - accuracy: 0.7094 - val_loss: 0.9189 - val_accuracy: 0.7164\n",
      "Epoch 24/40\n",
      "5996/5996 [==============================] - 156s 26ms/step - loss: 0.9551 - accuracy: 0.7074 - val_loss: 0.9106 - val_accuracy: 0.7188\n",
      "Epoch 00024: early stopping\n"
     ]
    }
   ],
   "source": [
    "model = baseline_nn()\n",
    "early_stop = EarlyStopping(monitor='val_loss', min_delta=0, patience=4, \n",
    "                           verbose=1, mode='auto')\n",
    "history = model.fit(X_train_sc, y_train, validation_data=(X_test_sc, y_test),epochs=40, batch_size=16, callbacks=[early_stop])"
   ]
  },
  {
   "cell_type": "code",
   "execution_count": null,
   "metadata": {
    "id": "zn1GzmxOXxnT"
   },
   "outputs": [],
   "source": [
    "train_loss = history.history['loss']\n",
    "test_loss = history.history['val_loss']\n",
    "plt.figure(figsize=(12, 8))\n",
    "plt.plot(train_loss, label='Training loss', color='violet')\n",
    "plt.plot(test_loss, label='Testing loss', color='lavender')\n",
    "plt.legend();"
   ]
  },
  {
   "cell_type": "code",
   "execution_count": null,
   "metadata": {
    "id": "rxkeB-RUYpTI"
   },
   "outputs": [],
   "source": []
  }
 ],
 "metadata": {
  "accelerator": "TPU",
  "colab": {
   "machine_shape": "hm",
   "name": "EvanTestBox.ipynb",
   "provenance": []
  },
  "kernelspec": {
   "display_name": "Python 3",
   "language": "python",
   "name": "python3"
  },
  "language_info": {
   "codemirror_mode": {
    "name": "ipython",
    "version": 3
   },
   "file_extension": ".py",
   "mimetype": "text/x-python",
   "name": "python",
   "nbconvert_exporter": "python",
   "pygments_lexer": "ipython3",
   "version": "3.8.8"
  }
 },
 "nbformat": 4,
 "nbformat_minor": 4
}
