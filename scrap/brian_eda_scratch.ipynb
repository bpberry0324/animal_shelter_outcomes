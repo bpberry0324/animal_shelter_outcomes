{
  "nbformat": 4,
  "nbformat_minor": 0,
  "metadata": {
    "colab": {
      "name": "brian -eda2.ipynb",
      "provenance": [],
      "collapsed_sections": []
    },
    "kernelspec": {
      "name": "python3",
      "display_name": "Python 3"
    },
    "language_info": {
      "name": "python"
    }
  },
  "cells": [
    {
      "cell_type": "code",
      "metadata": {
        "id": "7W7XYYwn-cts"
      },
      "source": [
        "import pandas as pd\n",
        "import numpy as np"
      ],
      "execution_count": null,
      "outputs": []
    },
    {
      "cell_type": "code",
      "metadata": {
        "colab": {
          "base_uri": "https://localhost:8080/"
        },
        "id": "x6oBwEKp_Aud",
        "outputId": "910414c3-13ef-47e9-8131-7519e4df4b06"
      },
      "source": [
        "from google.colab import drive\n",
        "drive.mount('/content/drive')"
      ],
      "execution_count": null,
      "outputs": [
        {
          "output_type": "stream",
          "text": [
            "Drive already mounted at /content/drive; to attempt to forcibly remount, call drive.mount(\"/content/drive\", force_remount=True).\n"
          ],
          "name": "stdout"
        }
      ]
    },
    {
      "cell_type": "code",
      "metadata": {
        "id": "-j2_yzYn_EsV"
      },
      "source": [
        "df = pd.read_csv('/content/drive/MyDrive/outcomes_initial.csv').drop(columns=['Unnamed: 0']).sort_values(['animal_id', 'datetime']).reset_index().drop(columns=['index'])"
      ],
      "execution_count": null,
      "outputs": []
    },
    {
      "cell_type": "code",
      "metadata": {
        "colab": {
          "base_uri": "https://localhost:8080/",
          "height": 394
        },
        "id": "yiI6qrr3_RF9",
        "outputId": "1d6fc41b-ce02-4040-ff93-1ae44848ec03"
      },
      "source": [
        "df.head()"
      ],
      "execution_count": null,
      "outputs": [
        {
          "output_type": "execute_result",
          "data": {
            "text/html": [
              "<div>\n",
              "<style scoped>\n",
              "    .dataframe tbody tr th:only-of-type {\n",
              "        vertical-align: middle;\n",
              "    }\n",
              "\n",
              "    .dataframe tbody tr th {\n",
              "        vertical-align: top;\n",
              "    }\n",
              "\n",
              "    .dataframe thead th {\n",
              "        text-align: right;\n",
              "    }\n",
              "</style>\n",
              "<table border=\"1\" class=\"dataframe\">\n",
              "  <thead>\n",
              "    <tr style=\"text-align: right;\">\n",
              "      <th></th>\n",
              "      <th>animal_id</th>\n",
              "      <th>name</th>\n",
              "      <th>datetime</th>\n",
              "      <th>date_of_birth</th>\n",
              "      <th>outcome_type</th>\n",
              "      <th>outcome_subtype</th>\n",
              "      <th>animal_type</th>\n",
              "      <th>sex_upon_outcome</th>\n",
              "      <th>age_upon_outcome</th>\n",
              "      <th>breed</th>\n",
              "      <th>color</th>\n",
              "      <th>is_named</th>\n",
              "      <th>year</th>\n",
              "      <th>month</th>\n",
              "      <th>day</th>\n",
              "    </tr>\n",
              "  </thead>\n",
              "  <tbody>\n",
              "    <tr>\n",
              "      <th>0</th>\n",
              "      <td>A006100</td>\n",
              "      <td>Scamp</td>\n",
              "      <td>2014-03-08 17:10:00</td>\n",
              "      <td>07/09/2007</td>\n",
              "      <td>Return to Owner</td>\n",
              "      <td>Unknown</td>\n",
              "      <td>Dog</td>\n",
              "      <td>Neutered Male</td>\n",
              "      <td>6.0</td>\n",
              "      <td>Spinone Italiano Mix</td>\n",
              "      <td>Yellow/White</td>\n",
              "      <td>1</td>\n",
              "      <td>2014</td>\n",
              "      <td>3</td>\n",
              "      <td>Saturday</td>\n",
              "    </tr>\n",
              "    <tr>\n",
              "      <th>1</th>\n",
              "      <td>A006100</td>\n",
              "      <td>Scamp</td>\n",
              "      <td>2014-12-20 16:35:00</td>\n",
              "      <td>07/09/2007</td>\n",
              "      <td>Return to Owner</td>\n",
              "      <td>Unknown</td>\n",
              "      <td>Dog</td>\n",
              "      <td>Neutered Male</td>\n",
              "      <td>7.0</td>\n",
              "      <td>Spinone Italiano Mix</td>\n",
              "      <td>Yellow/White</td>\n",
              "      <td>1</td>\n",
              "      <td>2014</td>\n",
              "      <td>12</td>\n",
              "      <td>Saturday</td>\n",
              "    </tr>\n",
              "    <tr>\n",
              "      <th>2</th>\n",
              "      <td>A006100</td>\n",
              "      <td>Scamp</td>\n",
              "      <td>2017-12-07 00:00:00</td>\n",
              "      <td>07/09/2007</td>\n",
              "      <td>Return to Owner</td>\n",
              "      <td>Unknown</td>\n",
              "      <td>Dog</td>\n",
              "      <td>Neutered Male</td>\n",
              "      <td>1.0</td>\n",
              "      <td>Spinone Italiano Mix</td>\n",
              "      <td>Yellow/White</td>\n",
              "      <td>1</td>\n",
              "      <td>2017</td>\n",
              "      <td>12</td>\n",
              "      <td>Thursday</td>\n",
              "    </tr>\n",
              "    <tr>\n",
              "      <th>3</th>\n",
              "      <td>A047759</td>\n",
              "      <td>Oreo</td>\n",
              "      <td>2014-04-07 15:12:00</td>\n",
              "      <td>04/02/2004</td>\n",
              "      <td>Transfer</td>\n",
              "      <td>Partner</td>\n",
              "      <td>Dog</td>\n",
              "      <td>Neutered Male</td>\n",
              "      <td>1.0</td>\n",
              "      <td>Dachshund</td>\n",
              "      <td>Tricolor</td>\n",
              "      <td>1</td>\n",
              "      <td>2014</td>\n",
              "      <td>4</td>\n",
              "      <td>Monday</td>\n",
              "    </tr>\n",
              "    <tr>\n",
              "      <th>4</th>\n",
              "      <td>A134067</td>\n",
              "      <td>Bandit</td>\n",
              "      <td>2013-11-16 11:54:00</td>\n",
              "      <td>10/16/1997</td>\n",
              "      <td>Return to Owner</td>\n",
              "      <td>Unknown</td>\n",
              "      <td>Dog</td>\n",
              "      <td>Neutered Male</td>\n",
              "      <td>1.0</td>\n",
              "      <td>Shetland Sheepdog</td>\n",
              "      <td>Brown/White</td>\n",
              "      <td>1</td>\n",
              "      <td>2013</td>\n",
              "      <td>11</td>\n",
              "      <td>Saturday</td>\n",
              "    </tr>\n",
              "  </tbody>\n",
              "</table>\n",
              "</div>"
            ],
            "text/plain": [
              "  animal_id    name             datetime  ...  year month       day\n",
              "0   A006100   Scamp  2014-03-08 17:10:00  ...  2014     3  Saturday\n",
              "1   A006100   Scamp  2014-12-20 16:35:00  ...  2014    12  Saturday\n",
              "2   A006100   Scamp  2017-12-07 00:00:00  ...  2017    12  Thursday\n",
              "3   A047759    Oreo  2014-04-07 15:12:00  ...  2014     4    Monday\n",
              "4   A134067  Bandit  2013-11-16 11:54:00  ...  2013    11  Saturday\n",
              "\n",
              "[5 rows x 15 columns]"
            ]
          },
          "metadata": {
            "tags": []
          },
          "execution_count": 4
        }
      ]
    },
    {
      "cell_type": "code",
      "metadata": {
        "colab": {
          "base_uri": "https://localhost:8080/"
        },
        "id": "vT-VGEaj_loH",
        "outputId": "a93f9769-912d-4ea5-ca44-c4575c1eb757"
      },
      "source": [
        "df['outcome_type'].value_counts()"
      ],
      "execution_count": null,
      "outputs": [
        {
          "output_type": "execute_result",
          "data": {
            "text/plain": [
              "Adoption           58148\n",
              "Transfer           37887\n",
              "Return to Owner    22019\n",
              "Euthanasia          8701\n",
              "Died                1225\n",
              "Rto-Adopt            762\n",
              "Disposal             595\n",
              "Missing               70\n",
              "Relocate              25\n",
              "Name: outcome_type, dtype: int64"
            ]
          },
          "metadata": {
            "tags": []
          },
          "execution_count": 5
        }
      ]
    },
    {
      "cell_type": "code",
      "metadata": {
        "id": "6cYItYz5_qwp"
      },
      "source": [
        "df['prev_adoption'] = [0] * len(df)\n",
        "df['prev_transfer'] = [0] * len(df)\n",
        "df['prev_ret_to_owner'] = [0] * len(df)\n",
        "df['prev_rto_adopt'] = [0] * len(df)\n",
        "df['prev_disposal'] = [0] * len(df)\n",
        "df['prev_missing'] = [0] * len(df)\n",
        "df['prev_relocate'] = [0] * len(df)"
      ],
      "execution_count": null,
      "outputs": []
    },
    {
      "cell_type": "code",
      "metadata": {
        "colab": {
          "base_uri": "https://localhost:8080/"
        },
        "id": "7G_5JEPRIUgW",
        "outputId": "00ad96f6-b2ce-4b48-b12e-ae63192f460a"
      },
      "source": [
        "adoptions = 0\n",
        "transfers = 0\n",
        "ret_to_owners = 0\n",
        "rto_adopts = 0\n",
        "disposals = 0\n",
        "missings = 0\n",
        "relocates = 0\n",
        "\n",
        "for i in range(len(df)- 1):\n",
        "  if df['animal_id'][i] == df['animal_id'][i + 1]:\n",
        "    if df['outcome_type'][i] == 'Adoption':\n",
        "      df['prev_adoption'][i + 1] = adoptions + 1\n",
        "      adoptions += 1\n",
        "    elif df['outcome_type'][i] == 'Transfer':\n",
        "      df['prev_transfer'][i + 1] = transfers + 1\n",
        "      transfers += 1\n",
        "    elif df['outcome_type'][i] == 'Return to Owner':\n",
        "      df['prev_ret_to_owner'][i + 1] = ret_to_owners + 1\n",
        "      ret_to_owners += 1\n",
        "    elif df['outcome_type'][i] == 'Rto-Adopt':\n",
        "      df['prev_rto_adopt'][i + 1] = rto_adopts + 1\n",
        "      rto_adopts += 1\n",
        "    elif df['outcome_type'][i] == 'Disposal':\n",
        "      df['prev_disposal'][i + 1] = disposals + 1\n",
        "      disposals += 1\n",
        "    elif df['outcome_type'][i] == 'Missing':\n",
        "      df['prev_missing'][i + 1] = missings + 1\n",
        "      missings += 1\n",
        "    elif df['outcome_type'][i] == 'Relocate':\n",
        "      df['prev_relocate'][i + 1] = relocates + 1\n",
        "      relocates += 1\n",
        "  else:\n",
        "    adoptions = 0\n",
        "    transfers = 0\n",
        "    ret_to_owners = 0\n",
        "    rto_adopts = 0\n",
        "    disposals = 0\n",
        "    missings = 0\n",
        "    relocates = 0"
      ],
      "execution_count": null,
      "outputs": [
        {
          "output_type": "stream",
          "text": [
            "/usr/local/lib/python3.7/dist-packages/ipykernel_launcher.py:18: SettingWithCopyWarning: \n",
            "A value is trying to be set on a copy of a slice from a DataFrame\n",
            "\n",
            "See the caveats in the documentation: https://pandas.pydata.org/pandas-docs/stable/user_guide/indexing.html#returning-a-view-versus-a-copy\n",
            "/usr/local/lib/python3.7/dist-packages/ipykernel_launcher.py:12: SettingWithCopyWarning: \n",
            "A value is trying to be set on a copy of a slice from a DataFrame\n",
            "\n",
            "See the caveats in the documentation: https://pandas.pydata.org/pandas-docs/stable/user_guide/indexing.html#returning-a-view-versus-a-copy\n",
            "  if sys.path[0] == '':\n",
            "/usr/local/lib/python3.7/dist-packages/ipykernel_launcher.py:15: SettingWithCopyWarning: \n",
            "A value is trying to be set on a copy of a slice from a DataFrame\n",
            "\n",
            "See the caveats in the documentation: https://pandas.pydata.org/pandas-docs/stable/user_guide/indexing.html#returning-a-view-versus-a-copy\n",
            "  from ipykernel import kernelapp as app\n",
            "/usr/local/lib/python3.7/dist-packages/ipykernel_launcher.py:21: SettingWithCopyWarning: \n",
            "A value is trying to be set on a copy of a slice from a DataFrame\n",
            "\n",
            "See the caveats in the documentation: https://pandas.pydata.org/pandas-docs/stable/user_guide/indexing.html#returning-a-view-versus-a-copy\n",
            "/usr/local/lib/python3.7/dist-packages/ipykernel_launcher.py:27: SettingWithCopyWarning: \n",
            "A value is trying to be set on a copy of a slice from a DataFrame\n",
            "\n",
            "See the caveats in the documentation: https://pandas.pydata.org/pandas-docs/stable/user_guide/indexing.html#returning-a-view-versus-a-copy\n",
            "/usr/local/lib/python3.7/dist-packages/ipykernel_launcher.py:24: SettingWithCopyWarning: \n",
            "A value is trying to be set on a copy of a slice from a DataFrame\n",
            "\n",
            "See the caveats in the documentation: https://pandas.pydata.org/pandas-docs/stable/user_guide/indexing.html#returning-a-view-versus-a-copy\n"
          ],
          "name": "stderr"
        }
      ]
    },
    {
      "cell_type": "code",
      "metadata": {
        "colab": {
          "base_uri": "https://localhost:8080/",
          "height": 419
        },
        "id": "TAVdIaP9MXYR",
        "outputId": "7a16464f-9af5-45ec-f644-a6bcf06e4468"
      },
      "source": [
        "df[['animal_id', 'outcome_type', 'prev_adoption', 'prev_transfer', 'prev_ret_to_owner', 'prev_rto_adopt', 'prev_disposal', 'prev_missing', 'prev_relocate' ]]"
      ],
      "execution_count": null,
      "outputs": [
        {
          "output_type": "execute_result",
          "data": {
            "text/html": [
              "<div>\n",
              "<style scoped>\n",
              "    .dataframe tbody tr th:only-of-type {\n",
              "        vertical-align: middle;\n",
              "    }\n",
              "\n",
              "    .dataframe tbody tr th {\n",
              "        vertical-align: top;\n",
              "    }\n",
              "\n",
              "    .dataframe thead th {\n",
              "        text-align: right;\n",
              "    }\n",
              "</style>\n",
              "<table border=\"1\" class=\"dataframe\">\n",
              "  <thead>\n",
              "    <tr style=\"text-align: right;\">\n",
              "      <th></th>\n",
              "      <th>animal_id</th>\n",
              "      <th>outcome_type</th>\n",
              "      <th>prev_adoption</th>\n",
              "      <th>prev_transfer</th>\n",
              "      <th>prev_ret_to_owner</th>\n",
              "      <th>prev_rto_adopt</th>\n",
              "      <th>prev_disposal</th>\n",
              "      <th>prev_missing</th>\n",
              "      <th>prev_relocate</th>\n",
              "    </tr>\n",
              "  </thead>\n",
              "  <tbody>\n",
              "    <tr>\n",
              "      <th>0</th>\n",
              "      <td>A006100</td>\n",
              "      <td>Return to Owner</td>\n",
              "      <td>0</td>\n",
              "      <td>0</td>\n",
              "      <td>0</td>\n",
              "      <td>0</td>\n",
              "      <td>0</td>\n",
              "      <td>0</td>\n",
              "      <td>0</td>\n",
              "    </tr>\n",
              "    <tr>\n",
              "      <th>1</th>\n",
              "      <td>A006100</td>\n",
              "      <td>Return to Owner</td>\n",
              "      <td>0</td>\n",
              "      <td>0</td>\n",
              "      <td>1</td>\n",
              "      <td>0</td>\n",
              "      <td>0</td>\n",
              "      <td>0</td>\n",
              "      <td>0</td>\n",
              "    </tr>\n",
              "    <tr>\n",
              "      <th>2</th>\n",
              "      <td>A006100</td>\n",
              "      <td>Return to Owner</td>\n",
              "      <td>0</td>\n",
              "      <td>0</td>\n",
              "      <td>2</td>\n",
              "      <td>0</td>\n",
              "      <td>0</td>\n",
              "      <td>0</td>\n",
              "      <td>0</td>\n",
              "    </tr>\n",
              "    <tr>\n",
              "      <th>3</th>\n",
              "      <td>A047759</td>\n",
              "      <td>Transfer</td>\n",
              "      <td>0</td>\n",
              "      <td>0</td>\n",
              "      <td>0</td>\n",
              "      <td>0</td>\n",
              "      <td>0</td>\n",
              "      <td>0</td>\n",
              "      <td>0</td>\n",
              "    </tr>\n",
              "    <tr>\n",
              "      <th>4</th>\n",
              "      <td>A134067</td>\n",
              "      <td>Return to Owner</td>\n",
              "      <td>0</td>\n",
              "      <td>0</td>\n",
              "      <td>0</td>\n",
              "      <td>0</td>\n",
              "      <td>0</td>\n",
              "      <td>0</td>\n",
              "      <td>0</td>\n",
              "    </tr>\n",
              "    <tr>\n",
              "      <th>...</th>\n",
              "      <td>...</td>\n",
              "      <td>...</td>\n",
              "      <td>...</td>\n",
              "      <td>...</td>\n",
              "      <td>...</td>\n",
              "      <td>...</td>\n",
              "      <td>...</td>\n",
              "      <td>...</td>\n",
              "      <td>...</td>\n",
              "    </tr>\n",
              "    <tr>\n",
              "      <th>129427</th>\n",
              "      <td>A840385</td>\n",
              "      <td>Transfer</td>\n",
              "      <td>0</td>\n",
              "      <td>0</td>\n",
              "      <td>0</td>\n",
              "      <td>0</td>\n",
              "      <td>0</td>\n",
              "      <td>0</td>\n",
              "      <td>0</td>\n",
              "    </tr>\n",
              "    <tr>\n",
              "      <th>129428</th>\n",
              "      <td>A840386</td>\n",
              "      <td>Transfer</td>\n",
              "      <td>0</td>\n",
              "      <td>0</td>\n",
              "      <td>0</td>\n",
              "      <td>0</td>\n",
              "      <td>0</td>\n",
              "      <td>0</td>\n",
              "      <td>0</td>\n",
              "    </tr>\n",
              "    <tr>\n",
              "      <th>129429</th>\n",
              "      <td>A840402</td>\n",
              "      <td>Euthanasia</td>\n",
              "      <td>0</td>\n",
              "      <td>0</td>\n",
              "      <td>0</td>\n",
              "      <td>0</td>\n",
              "      <td>0</td>\n",
              "      <td>0</td>\n",
              "      <td>0</td>\n",
              "    </tr>\n",
              "    <tr>\n",
              "      <th>129430</th>\n",
              "      <td>A840404</td>\n",
              "      <td>Euthanasia</td>\n",
              "      <td>0</td>\n",
              "      <td>0</td>\n",
              "      <td>0</td>\n",
              "      <td>0</td>\n",
              "      <td>0</td>\n",
              "      <td>0</td>\n",
              "      <td>0</td>\n",
              "    </tr>\n",
              "    <tr>\n",
              "      <th>129431</th>\n",
              "      <td>A840415</td>\n",
              "      <td>Euthanasia</td>\n",
              "      <td>0</td>\n",
              "      <td>0</td>\n",
              "      <td>0</td>\n",
              "      <td>0</td>\n",
              "      <td>0</td>\n",
              "      <td>0</td>\n",
              "      <td>0</td>\n",
              "    </tr>\n",
              "  </tbody>\n",
              "</table>\n",
              "<p>129432 rows × 9 columns</p>\n",
              "</div>"
            ],
            "text/plain": [
              "       animal_id     outcome_type  ...  prev_missing  prev_relocate\n",
              "0        A006100  Return to Owner  ...             0              0\n",
              "1        A006100  Return to Owner  ...             0              0\n",
              "2        A006100  Return to Owner  ...             0              0\n",
              "3        A047759         Transfer  ...             0              0\n",
              "4        A134067  Return to Owner  ...             0              0\n",
              "...          ...              ...  ...           ...            ...\n",
              "129427   A840385         Transfer  ...             0              0\n",
              "129428   A840386         Transfer  ...             0              0\n",
              "129429   A840402       Euthanasia  ...             0              0\n",
              "129430   A840404       Euthanasia  ...             0              0\n",
              "129431   A840415       Euthanasia  ...             0              0\n",
              "\n",
              "[129432 rows x 9 columns]"
            ]
          },
          "metadata": {
            "tags": []
          },
          "execution_count": 24
        }
      ]
    },
    {
      "cell_type": "code",
      "metadata": {
        "colab": {
          "base_uri": "https://localhost:8080/"
        },
        "id": "Vi4i3uCWNAte",
        "outputId": "510a8977-69d3-4f43-a5f2-9841bf90e04c"
      },
      "source": [
        "df['prev_adoption'].value_counts()"
      ],
      "execution_count": null,
      "outputs": [
        {
          "output_type": "execute_result",
          "data": {
            "text/plain": [
              "0    121614\n",
              "1      6660\n",
              "2       932\n",
              "3       174\n",
              "4        38\n",
              "5        10\n",
              "6         3\n",
              "7         1\n",
              "Name: prev_adoption, dtype: int64"
            ]
          },
          "metadata": {
            "tags": []
          },
          "execution_count": 25
        }
      ]
    },
    {
      "cell_type": "code",
      "metadata": {
        "colab": {
          "base_uri": "https://localhost:8080/"
        },
        "id": "aNXub6yPNJNE",
        "outputId": "5c4b7a8b-3ab6-4931-e39b-7a0f22724292"
      },
      "source": [
        "df.query('prev_adoption == 7')['animal_id']"
      ],
      "execution_count": null,
      "outputs": [
        {
          "output_type": "execute_result",
          "data": {
            "text/plain": [
              "74026    A754989\n",
              "Name: animal_id, dtype: object"
            ]
          },
          "metadata": {
            "tags": []
          },
          "execution_count": 26
        }
      ]
    },
    {
      "cell_type": "code",
      "metadata": {
        "colab": {
          "base_uri": "https://localhost:8080/",
          "height": 297
        },
        "id": "wTdkKlStNRC-",
        "outputId": "9604545d-4960-44ab-c8a3-651f89bc8756"
      },
      "source": [
        "df.query('animal_id == \"A754989\"')[['animal_id', 'outcome_type', 'prev_adoption', 'prev_transfer', 'prev_ret_to_owner', 'prev_rto_adopt', 'prev_disposal', 'prev_missing', 'prev_relocate' ]]"
      ],
      "execution_count": null,
      "outputs": [
        {
          "output_type": "execute_result",
          "data": {
            "text/html": [
              "<div>\n",
              "<style scoped>\n",
              "    .dataframe tbody tr th:only-of-type {\n",
              "        vertical-align: middle;\n",
              "    }\n",
              "\n",
              "    .dataframe tbody tr th {\n",
              "        vertical-align: top;\n",
              "    }\n",
              "\n",
              "    .dataframe thead th {\n",
              "        text-align: right;\n",
              "    }\n",
              "</style>\n",
              "<table border=\"1\" class=\"dataframe\">\n",
              "  <thead>\n",
              "    <tr style=\"text-align: right;\">\n",
              "      <th></th>\n",
              "      <th>animal_id</th>\n",
              "      <th>outcome_type</th>\n",
              "      <th>prev_adoption</th>\n",
              "      <th>prev_transfer</th>\n",
              "      <th>prev_ret_to_owner</th>\n",
              "      <th>prev_rto_adopt</th>\n",
              "      <th>prev_disposal</th>\n",
              "      <th>prev_missing</th>\n",
              "      <th>prev_relocate</th>\n",
              "    </tr>\n",
              "  </thead>\n",
              "  <tbody>\n",
              "    <tr>\n",
              "      <th>74019</th>\n",
              "      <td>A754989</td>\n",
              "      <td>Adoption</td>\n",
              "      <td>0</td>\n",
              "      <td>0</td>\n",
              "      <td>0</td>\n",
              "      <td>0</td>\n",
              "      <td>0</td>\n",
              "      <td>0</td>\n",
              "      <td>0</td>\n",
              "    </tr>\n",
              "    <tr>\n",
              "      <th>74020</th>\n",
              "      <td>A754989</td>\n",
              "      <td>Adoption</td>\n",
              "      <td>1</td>\n",
              "      <td>0</td>\n",
              "      <td>0</td>\n",
              "      <td>0</td>\n",
              "      <td>0</td>\n",
              "      <td>0</td>\n",
              "      <td>0</td>\n",
              "    </tr>\n",
              "    <tr>\n",
              "      <th>74021</th>\n",
              "      <td>A754989</td>\n",
              "      <td>Adoption</td>\n",
              "      <td>2</td>\n",
              "      <td>0</td>\n",
              "      <td>0</td>\n",
              "      <td>0</td>\n",
              "      <td>0</td>\n",
              "      <td>0</td>\n",
              "      <td>0</td>\n",
              "    </tr>\n",
              "    <tr>\n",
              "      <th>74022</th>\n",
              "      <td>A754989</td>\n",
              "      <td>Adoption</td>\n",
              "      <td>3</td>\n",
              "      <td>0</td>\n",
              "      <td>0</td>\n",
              "      <td>0</td>\n",
              "      <td>0</td>\n",
              "      <td>0</td>\n",
              "      <td>0</td>\n",
              "    </tr>\n",
              "    <tr>\n",
              "      <th>74023</th>\n",
              "      <td>A754989</td>\n",
              "      <td>Adoption</td>\n",
              "      <td>4</td>\n",
              "      <td>0</td>\n",
              "      <td>0</td>\n",
              "      <td>0</td>\n",
              "      <td>0</td>\n",
              "      <td>0</td>\n",
              "      <td>0</td>\n",
              "    </tr>\n",
              "    <tr>\n",
              "      <th>74024</th>\n",
              "      <td>A754989</td>\n",
              "      <td>Adoption</td>\n",
              "      <td>5</td>\n",
              "      <td>0</td>\n",
              "      <td>0</td>\n",
              "      <td>0</td>\n",
              "      <td>0</td>\n",
              "      <td>0</td>\n",
              "      <td>0</td>\n",
              "    </tr>\n",
              "    <tr>\n",
              "      <th>74025</th>\n",
              "      <td>A754989</td>\n",
              "      <td>Adoption</td>\n",
              "      <td>6</td>\n",
              "      <td>0</td>\n",
              "      <td>0</td>\n",
              "      <td>0</td>\n",
              "      <td>0</td>\n",
              "      <td>0</td>\n",
              "      <td>0</td>\n",
              "    </tr>\n",
              "    <tr>\n",
              "      <th>74026</th>\n",
              "      <td>A754989</td>\n",
              "      <td>Adoption</td>\n",
              "      <td>7</td>\n",
              "      <td>0</td>\n",
              "      <td>0</td>\n",
              "      <td>0</td>\n",
              "      <td>0</td>\n",
              "      <td>0</td>\n",
              "      <td>0</td>\n",
              "    </tr>\n",
              "  </tbody>\n",
              "</table>\n",
              "</div>"
            ],
            "text/plain": [
              "      animal_id outcome_type  ...  prev_missing  prev_relocate\n",
              "74019   A754989     Adoption  ...             0              0\n",
              "74020   A754989     Adoption  ...             0              0\n",
              "74021   A754989     Adoption  ...             0              0\n",
              "74022   A754989     Adoption  ...             0              0\n",
              "74023   A754989     Adoption  ...             0              0\n",
              "74024   A754989     Adoption  ...             0              0\n",
              "74025   A754989     Adoption  ...             0              0\n",
              "74026   A754989     Adoption  ...             0              0\n",
              "\n",
              "[8 rows x 9 columns]"
            ]
          },
          "metadata": {
            "tags": []
          },
          "execution_count": 28
        }
      ]
    },
    {
      "cell_type": "code",
      "metadata": {
        "colab": {
          "base_uri": "https://localhost:8080/"
        },
        "id": "5il8VZsvNWTV",
        "outputId": "79852fa4-6c00-474f-f7e8-cac67e4a832f"
      },
      "source": [
        "df['prev_transfer'].value_counts()"
      ],
      "execution_count": null,
      "outputs": [
        {
          "output_type": "execute_result",
          "data": {
            "text/plain": [
              "0    128551\n",
              "1       853\n",
              "2        26\n",
              "3         2\n",
              "Name: prev_transfer, dtype: int64"
            ]
          },
          "metadata": {
            "tags": []
          },
          "execution_count": 29
        }
      ]
    },
    {
      "cell_type": "code",
      "metadata": {
        "colab": {
          "base_uri": "https://localhost:8080/"
        },
        "id": "aFhDKXqdNhnK",
        "outputId": "20a7651d-097a-4068-f929-09d00b27b087"
      },
      "source": [
        "df.query('prev_transfer == 3')['animal_id']"
      ],
      "execution_count": null,
      "outputs": [
        {
          "output_type": "execute_result",
          "data": {
            "text/plain": [
              "87616     A774102\n",
              "113860    A809074\n",
              "Name: animal_id, dtype: object"
            ]
          },
          "metadata": {
            "tags": []
          },
          "execution_count": 30
        }
      ]
    },
    {
      "cell_type": "code",
      "metadata": {
        "colab": {
          "base_uri": "https://localhost:8080/",
          "height": 390
        },
        "id": "8i-9FVclNmYQ",
        "outputId": "8ff6e36a-a788-4f63-c491-4313b1586cc0"
      },
      "source": [
        "df.query('animal_id == \"A774102\" or animal_id == \"A809074\"')[['animal_id', 'outcome_type', 'prev_adoption', 'prev_transfer', 'prev_ret_to_owner', 'prev_rto_adopt', 'prev_disposal', 'prev_missing', 'prev_relocate' ]]"
      ],
      "execution_count": null,
      "outputs": [
        {
          "output_type": "execute_result",
          "data": {
            "text/html": [
              "<div>\n",
              "<style scoped>\n",
              "    .dataframe tbody tr th:only-of-type {\n",
              "        vertical-align: middle;\n",
              "    }\n",
              "\n",
              "    .dataframe tbody tr th {\n",
              "        vertical-align: top;\n",
              "    }\n",
              "\n",
              "    .dataframe thead th {\n",
              "        text-align: right;\n",
              "    }\n",
              "</style>\n",
              "<table border=\"1\" class=\"dataframe\">\n",
              "  <thead>\n",
              "    <tr style=\"text-align: right;\">\n",
              "      <th></th>\n",
              "      <th>animal_id</th>\n",
              "      <th>outcome_type</th>\n",
              "      <th>prev_adoption</th>\n",
              "      <th>prev_transfer</th>\n",
              "      <th>prev_ret_to_owner</th>\n",
              "      <th>prev_rto_adopt</th>\n",
              "      <th>prev_disposal</th>\n",
              "      <th>prev_missing</th>\n",
              "      <th>prev_relocate</th>\n",
              "    </tr>\n",
              "  </thead>\n",
              "  <tbody>\n",
              "    <tr>\n",
              "      <th>87613</th>\n",
              "      <td>A774102</td>\n",
              "      <td>Transfer</td>\n",
              "      <td>0</td>\n",
              "      <td>0</td>\n",
              "      <td>0</td>\n",
              "      <td>0</td>\n",
              "      <td>0</td>\n",
              "      <td>0</td>\n",
              "      <td>0</td>\n",
              "    </tr>\n",
              "    <tr>\n",
              "      <th>87614</th>\n",
              "      <td>A774102</td>\n",
              "      <td>Transfer</td>\n",
              "      <td>0</td>\n",
              "      <td>1</td>\n",
              "      <td>0</td>\n",
              "      <td>0</td>\n",
              "      <td>0</td>\n",
              "      <td>0</td>\n",
              "      <td>0</td>\n",
              "    </tr>\n",
              "    <tr>\n",
              "      <th>87615</th>\n",
              "      <td>A774102</td>\n",
              "      <td>Transfer</td>\n",
              "      <td>0</td>\n",
              "      <td>2</td>\n",
              "      <td>0</td>\n",
              "      <td>0</td>\n",
              "      <td>0</td>\n",
              "      <td>0</td>\n",
              "      <td>0</td>\n",
              "    </tr>\n",
              "    <tr>\n",
              "      <th>87616</th>\n",
              "      <td>A774102</td>\n",
              "      <td>Return to Owner</td>\n",
              "      <td>0</td>\n",
              "      <td>3</td>\n",
              "      <td>0</td>\n",
              "      <td>0</td>\n",
              "      <td>0</td>\n",
              "      <td>0</td>\n",
              "      <td>0</td>\n",
              "    </tr>\n",
              "    <tr>\n",
              "      <th>87617</th>\n",
              "      <td>A774102</td>\n",
              "      <td>Return to Owner</td>\n",
              "      <td>0</td>\n",
              "      <td>0</td>\n",
              "      <td>1</td>\n",
              "      <td>0</td>\n",
              "      <td>0</td>\n",
              "      <td>0</td>\n",
              "      <td>0</td>\n",
              "    </tr>\n",
              "    <tr>\n",
              "      <th>87618</th>\n",
              "      <td>A774102</td>\n",
              "      <td>Return to Owner</td>\n",
              "      <td>0</td>\n",
              "      <td>0</td>\n",
              "      <td>2</td>\n",
              "      <td>0</td>\n",
              "      <td>0</td>\n",
              "      <td>0</td>\n",
              "      <td>0</td>\n",
              "    </tr>\n",
              "    <tr>\n",
              "      <th>87619</th>\n",
              "      <td>A774102</td>\n",
              "      <td>Return to Owner</td>\n",
              "      <td>0</td>\n",
              "      <td>0</td>\n",
              "      <td>3</td>\n",
              "      <td>0</td>\n",
              "      <td>0</td>\n",
              "      <td>0</td>\n",
              "      <td>0</td>\n",
              "    </tr>\n",
              "    <tr>\n",
              "      <th>113857</th>\n",
              "      <td>A809074</td>\n",
              "      <td>Transfer</td>\n",
              "      <td>0</td>\n",
              "      <td>0</td>\n",
              "      <td>0</td>\n",
              "      <td>0</td>\n",
              "      <td>0</td>\n",
              "      <td>0</td>\n",
              "      <td>0</td>\n",
              "    </tr>\n",
              "    <tr>\n",
              "      <th>113858</th>\n",
              "      <td>A809074</td>\n",
              "      <td>Transfer</td>\n",
              "      <td>0</td>\n",
              "      <td>1</td>\n",
              "      <td>0</td>\n",
              "      <td>0</td>\n",
              "      <td>0</td>\n",
              "      <td>0</td>\n",
              "      <td>0</td>\n",
              "    </tr>\n",
              "    <tr>\n",
              "      <th>113859</th>\n",
              "      <td>A809074</td>\n",
              "      <td>Transfer</td>\n",
              "      <td>0</td>\n",
              "      <td>2</td>\n",
              "      <td>0</td>\n",
              "      <td>0</td>\n",
              "      <td>0</td>\n",
              "      <td>0</td>\n",
              "      <td>0</td>\n",
              "    </tr>\n",
              "    <tr>\n",
              "      <th>113860</th>\n",
              "      <td>A809074</td>\n",
              "      <td>Transfer</td>\n",
              "      <td>0</td>\n",
              "      <td>3</td>\n",
              "      <td>0</td>\n",
              "      <td>0</td>\n",
              "      <td>0</td>\n",
              "      <td>0</td>\n",
              "      <td>0</td>\n",
              "    </tr>\n",
              "  </tbody>\n",
              "</table>\n",
              "</div>"
            ],
            "text/plain": [
              "       animal_id     outcome_type  ...  prev_missing  prev_relocate\n",
              "87613    A774102         Transfer  ...             0              0\n",
              "87614    A774102         Transfer  ...             0              0\n",
              "87615    A774102         Transfer  ...             0              0\n",
              "87616    A774102  Return to Owner  ...             0              0\n",
              "87617    A774102  Return to Owner  ...             0              0\n",
              "87618    A774102  Return to Owner  ...             0              0\n",
              "87619    A774102  Return to Owner  ...             0              0\n",
              "113857   A809074         Transfer  ...             0              0\n",
              "113858   A809074         Transfer  ...             0              0\n",
              "113859   A809074         Transfer  ...             0              0\n",
              "113860   A809074         Transfer  ...             0              0\n",
              "\n",
              "[11 rows x 9 columns]"
            ]
          },
          "metadata": {
            "tags": []
          },
          "execution_count": 31
        }
      ]
    },
    {
      "cell_type": "code",
      "metadata": {
        "colab": {
          "base_uri": "https://localhost:8080/"
        },
        "id": "V3qHo5SgNzUC",
        "outputId": "adc17428-c806-43f9-cccf-9b6fd63541af"
      },
      "source": [
        "df['prev_ret_to_owner'].value_counts()"
      ],
      "execution_count": null,
      "outputs": [
        {
          "output_type": "execute_result",
          "data": {
            "text/plain": [
              "0     124635\n",
              "1       3542\n",
              "2        758\n",
              "3        264\n",
              "4        104\n",
              "5         53\n",
              "6         26\n",
              "7         12\n",
              "8          7\n",
              "9          4\n",
              "10         4\n",
              "11         3\n",
              "30         1\n",
              "12         1\n",
              "13         1\n",
              "14         1\n",
              "31         1\n",
              "16         1\n",
              "17         1\n",
              "18         1\n",
              "19         1\n",
              "20         1\n",
              "21         1\n",
              "22         1\n",
              "23         1\n",
              "24         1\n",
              "25         1\n",
              "26         1\n",
              "27         1\n",
              "28         1\n",
              "29         1\n",
              "15         1\n",
              "Name: prev_ret_to_owner, dtype: int64"
            ]
          },
          "metadata": {
            "tags": []
          },
          "execution_count": 32
        }
      ]
    },
    {
      "cell_type": "code",
      "metadata": {
        "colab": {
          "base_uri": "https://localhost:8080/"
        },
        "id": "5NOXnFrmN4yO",
        "outputId": "498df4b9-42b9-4a08-a114-a186a13ad8fa"
      },
      "source": [
        "df.query('prev_ret_to_owner == 30')['animal_id']"
      ],
      "execution_count": null,
      "outputs": [
        {
          "output_type": "execute_result",
          "data": {
            "text/plain": [
              "48675    A721033\n",
              "Name: animal_id, dtype: object"
            ]
          },
          "metadata": {
            "tags": []
          },
          "execution_count": 34
        }
      ]
    },
    {
      "cell_type": "code",
      "metadata": {
        "colab": {
          "base_uri": "https://localhost:8080/",
          "height": 1000
        },
        "id": "3allIUBmOJc9",
        "outputId": "fc6baba9-af1c-4bed-80cf-416f138b74ca"
      },
      "source": [
        "df.query('animal_id == \"A721033\"')[['animal_id', 'outcome_type', 'prev_adoption', 'prev_transfer', 'prev_ret_to_owner', 'prev_rto_adopt', 'prev_disposal', 'prev_missing', 'prev_relocate' ]]"
      ],
      "execution_count": null,
      "outputs": [
        {
          "output_type": "execute_result",
          "data": {
            "text/html": [
              "<div>\n",
              "<style scoped>\n",
              "    .dataframe tbody tr th:only-of-type {\n",
              "        vertical-align: middle;\n",
              "    }\n",
              "\n",
              "    .dataframe tbody tr th {\n",
              "        vertical-align: top;\n",
              "    }\n",
              "\n",
              "    .dataframe thead th {\n",
              "        text-align: right;\n",
              "    }\n",
              "</style>\n",
              "<table border=\"1\" class=\"dataframe\">\n",
              "  <thead>\n",
              "    <tr style=\"text-align: right;\">\n",
              "      <th></th>\n",
              "      <th>animal_id</th>\n",
              "      <th>outcome_type</th>\n",
              "      <th>prev_adoption</th>\n",
              "      <th>prev_transfer</th>\n",
              "      <th>prev_ret_to_owner</th>\n",
              "      <th>prev_rto_adopt</th>\n",
              "      <th>prev_disposal</th>\n",
              "      <th>prev_missing</th>\n",
              "      <th>prev_relocate</th>\n",
              "    </tr>\n",
              "  </thead>\n",
              "  <tbody>\n",
              "    <tr>\n",
              "      <th>48644</th>\n",
              "      <td>A721033</td>\n",
              "      <td>Return to Owner</td>\n",
              "      <td>0</td>\n",
              "      <td>0</td>\n",
              "      <td>0</td>\n",
              "      <td>0</td>\n",
              "      <td>0</td>\n",
              "      <td>0</td>\n",
              "      <td>0</td>\n",
              "    </tr>\n",
              "    <tr>\n",
              "      <th>48645</th>\n",
              "      <td>A721033</td>\n",
              "      <td>Return to Owner</td>\n",
              "      <td>0</td>\n",
              "      <td>0</td>\n",
              "      <td>1</td>\n",
              "      <td>0</td>\n",
              "      <td>0</td>\n",
              "      <td>0</td>\n",
              "      <td>0</td>\n",
              "    </tr>\n",
              "    <tr>\n",
              "      <th>48646</th>\n",
              "      <td>A721033</td>\n",
              "      <td>Return to Owner</td>\n",
              "      <td>0</td>\n",
              "      <td>0</td>\n",
              "      <td>2</td>\n",
              "      <td>0</td>\n",
              "      <td>0</td>\n",
              "      <td>0</td>\n",
              "      <td>0</td>\n",
              "    </tr>\n",
              "    <tr>\n",
              "      <th>48647</th>\n",
              "      <td>A721033</td>\n",
              "      <td>Return to Owner</td>\n",
              "      <td>0</td>\n",
              "      <td>0</td>\n",
              "      <td>3</td>\n",
              "      <td>0</td>\n",
              "      <td>0</td>\n",
              "      <td>0</td>\n",
              "      <td>0</td>\n",
              "    </tr>\n",
              "    <tr>\n",
              "      <th>48648</th>\n",
              "      <td>A721033</td>\n",
              "      <td>Return to Owner</td>\n",
              "      <td>0</td>\n",
              "      <td>0</td>\n",
              "      <td>4</td>\n",
              "      <td>0</td>\n",
              "      <td>0</td>\n",
              "      <td>0</td>\n",
              "      <td>0</td>\n",
              "    </tr>\n",
              "    <tr>\n",
              "      <th>48649</th>\n",
              "      <td>A721033</td>\n",
              "      <td>Return to Owner</td>\n",
              "      <td>0</td>\n",
              "      <td>0</td>\n",
              "      <td>5</td>\n",
              "      <td>0</td>\n",
              "      <td>0</td>\n",
              "      <td>0</td>\n",
              "      <td>0</td>\n",
              "    </tr>\n",
              "    <tr>\n",
              "      <th>48650</th>\n",
              "      <td>A721033</td>\n",
              "      <td>Return to Owner</td>\n",
              "      <td>0</td>\n",
              "      <td>0</td>\n",
              "      <td>6</td>\n",
              "      <td>0</td>\n",
              "      <td>0</td>\n",
              "      <td>0</td>\n",
              "      <td>0</td>\n",
              "    </tr>\n",
              "    <tr>\n",
              "      <th>48651</th>\n",
              "      <td>A721033</td>\n",
              "      <td>Return to Owner</td>\n",
              "      <td>0</td>\n",
              "      <td>0</td>\n",
              "      <td>7</td>\n",
              "      <td>0</td>\n",
              "      <td>0</td>\n",
              "      <td>0</td>\n",
              "      <td>0</td>\n",
              "    </tr>\n",
              "    <tr>\n",
              "      <th>48652</th>\n",
              "      <td>A721033</td>\n",
              "      <td>Return to Owner</td>\n",
              "      <td>0</td>\n",
              "      <td>0</td>\n",
              "      <td>8</td>\n",
              "      <td>0</td>\n",
              "      <td>0</td>\n",
              "      <td>0</td>\n",
              "      <td>0</td>\n",
              "    </tr>\n",
              "    <tr>\n",
              "      <th>48653</th>\n",
              "      <td>A721033</td>\n",
              "      <td>Return to Owner</td>\n",
              "      <td>0</td>\n",
              "      <td>0</td>\n",
              "      <td>9</td>\n",
              "      <td>0</td>\n",
              "      <td>0</td>\n",
              "      <td>0</td>\n",
              "      <td>0</td>\n",
              "    </tr>\n",
              "    <tr>\n",
              "      <th>48654</th>\n",
              "      <td>A721033</td>\n",
              "      <td>Return to Owner</td>\n",
              "      <td>0</td>\n",
              "      <td>0</td>\n",
              "      <td>10</td>\n",
              "      <td>0</td>\n",
              "      <td>0</td>\n",
              "      <td>0</td>\n",
              "      <td>0</td>\n",
              "    </tr>\n",
              "    <tr>\n",
              "      <th>48655</th>\n",
              "      <td>A721033</td>\n",
              "      <td>Return to Owner</td>\n",
              "      <td>0</td>\n",
              "      <td>0</td>\n",
              "      <td>11</td>\n",
              "      <td>0</td>\n",
              "      <td>0</td>\n",
              "      <td>0</td>\n",
              "      <td>0</td>\n",
              "    </tr>\n",
              "    <tr>\n",
              "      <th>48656</th>\n",
              "      <td>A721033</td>\n",
              "      <td>Return to Owner</td>\n",
              "      <td>0</td>\n",
              "      <td>0</td>\n",
              "      <td>12</td>\n",
              "      <td>0</td>\n",
              "      <td>0</td>\n",
              "      <td>0</td>\n",
              "      <td>0</td>\n",
              "    </tr>\n",
              "    <tr>\n",
              "      <th>48657</th>\n",
              "      <td>A721033</td>\n",
              "      <td>Return to Owner</td>\n",
              "      <td>0</td>\n",
              "      <td>0</td>\n",
              "      <td>13</td>\n",
              "      <td>0</td>\n",
              "      <td>0</td>\n",
              "      <td>0</td>\n",
              "      <td>0</td>\n",
              "    </tr>\n",
              "    <tr>\n",
              "      <th>48658</th>\n",
              "      <td>A721033</td>\n",
              "      <td>Return to Owner</td>\n",
              "      <td>0</td>\n",
              "      <td>0</td>\n",
              "      <td>14</td>\n",
              "      <td>0</td>\n",
              "      <td>0</td>\n",
              "      <td>0</td>\n",
              "      <td>0</td>\n",
              "    </tr>\n",
              "    <tr>\n",
              "      <th>48659</th>\n",
              "      <td>A721033</td>\n",
              "      <td>Return to Owner</td>\n",
              "      <td>0</td>\n",
              "      <td>0</td>\n",
              "      <td>15</td>\n",
              "      <td>0</td>\n",
              "      <td>0</td>\n",
              "      <td>0</td>\n",
              "      <td>0</td>\n",
              "    </tr>\n",
              "    <tr>\n",
              "      <th>48660</th>\n",
              "      <td>A721033</td>\n",
              "      <td>Return to Owner</td>\n",
              "      <td>0</td>\n",
              "      <td>0</td>\n",
              "      <td>16</td>\n",
              "      <td>0</td>\n",
              "      <td>0</td>\n",
              "      <td>0</td>\n",
              "      <td>0</td>\n",
              "    </tr>\n",
              "    <tr>\n",
              "      <th>48661</th>\n",
              "      <td>A721033</td>\n",
              "      <td>Return to Owner</td>\n",
              "      <td>0</td>\n",
              "      <td>0</td>\n",
              "      <td>17</td>\n",
              "      <td>0</td>\n",
              "      <td>0</td>\n",
              "      <td>0</td>\n",
              "      <td>0</td>\n",
              "    </tr>\n",
              "    <tr>\n",
              "      <th>48662</th>\n",
              "      <td>A721033</td>\n",
              "      <td>Return to Owner</td>\n",
              "      <td>0</td>\n",
              "      <td>0</td>\n",
              "      <td>18</td>\n",
              "      <td>0</td>\n",
              "      <td>0</td>\n",
              "      <td>0</td>\n",
              "      <td>0</td>\n",
              "    </tr>\n",
              "    <tr>\n",
              "      <th>48663</th>\n",
              "      <td>A721033</td>\n",
              "      <td>Return to Owner</td>\n",
              "      <td>0</td>\n",
              "      <td>0</td>\n",
              "      <td>19</td>\n",
              "      <td>0</td>\n",
              "      <td>0</td>\n",
              "      <td>0</td>\n",
              "      <td>0</td>\n",
              "    </tr>\n",
              "    <tr>\n",
              "      <th>48664</th>\n",
              "      <td>A721033</td>\n",
              "      <td>Return to Owner</td>\n",
              "      <td>0</td>\n",
              "      <td>0</td>\n",
              "      <td>20</td>\n",
              "      <td>0</td>\n",
              "      <td>0</td>\n",
              "      <td>0</td>\n",
              "      <td>0</td>\n",
              "    </tr>\n",
              "    <tr>\n",
              "      <th>48665</th>\n",
              "      <td>A721033</td>\n",
              "      <td>Return to Owner</td>\n",
              "      <td>0</td>\n",
              "      <td>0</td>\n",
              "      <td>21</td>\n",
              "      <td>0</td>\n",
              "      <td>0</td>\n",
              "      <td>0</td>\n",
              "      <td>0</td>\n",
              "    </tr>\n",
              "    <tr>\n",
              "      <th>48666</th>\n",
              "      <td>A721033</td>\n",
              "      <td>Return to Owner</td>\n",
              "      <td>0</td>\n",
              "      <td>0</td>\n",
              "      <td>22</td>\n",
              "      <td>0</td>\n",
              "      <td>0</td>\n",
              "      <td>0</td>\n",
              "      <td>0</td>\n",
              "    </tr>\n",
              "    <tr>\n",
              "      <th>48667</th>\n",
              "      <td>A721033</td>\n",
              "      <td>Rto-Adopt</td>\n",
              "      <td>0</td>\n",
              "      <td>0</td>\n",
              "      <td>23</td>\n",
              "      <td>0</td>\n",
              "      <td>0</td>\n",
              "      <td>0</td>\n",
              "      <td>0</td>\n",
              "    </tr>\n",
              "    <tr>\n",
              "      <th>48668</th>\n",
              "      <td>A721033</td>\n",
              "      <td>Return to Owner</td>\n",
              "      <td>0</td>\n",
              "      <td>0</td>\n",
              "      <td>0</td>\n",
              "      <td>1</td>\n",
              "      <td>0</td>\n",
              "      <td>0</td>\n",
              "      <td>0</td>\n",
              "    </tr>\n",
              "    <tr>\n",
              "      <th>48669</th>\n",
              "      <td>A721033</td>\n",
              "      <td>Return to Owner</td>\n",
              "      <td>0</td>\n",
              "      <td>0</td>\n",
              "      <td>24</td>\n",
              "      <td>0</td>\n",
              "      <td>0</td>\n",
              "      <td>0</td>\n",
              "      <td>0</td>\n",
              "    </tr>\n",
              "    <tr>\n",
              "      <th>48670</th>\n",
              "      <td>A721033</td>\n",
              "      <td>Return to Owner</td>\n",
              "      <td>0</td>\n",
              "      <td>0</td>\n",
              "      <td>25</td>\n",
              "      <td>0</td>\n",
              "      <td>0</td>\n",
              "      <td>0</td>\n",
              "      <td>0</td>\n",
              "    </tr>\n",
              "    <tr>\n",
              "      <th>48671</th>\n",
              "      <td>A721033</td>\n",
              "      <td>Return to Owner</td>\n",
              "      <td>0</td>\n",
              "      <td>0</td>\n",
              "      <td>26</td>\n",
              "      <td>0</td>\n",
              "      <td>0</td>\n",
              "      <td>0</td>\n",
              "      <td>0</td>\n",
              "    </tr>\n",
              "    <tr>\n",
              "      <th>48672</th>\n",
              "      <td>A721033</td>\n",
              "      <td>Return to Owner</td>\n",
              "      <td>0</td>\n",
              "      <td>0</td>\n",
              "      <td>27</td>\n",
              "      <td>0</td>\n",
              "      <td>0</td>\n",
              "      <td>0</td>\n",
              "      <td>0</td>\n",
              "    </tr>\n",
              "    <tr>\n",
              "      <th>48673</th>\n",
              "      <td>A721033</td>\n",
              "      <td>Return to Owner</td>\n",
              "      <td>0</td>\n",
              "      <td>0</td>\n",
              "      <td>28</td>\n",
              "      <td>0</td>\n",
              "      <td>0</td>\n",
              "      <td>0</td>\n",
              "      <td>0</td>\n",
              "    </tr>\n",
              "    <tr>\n",
              "      <th>48674</th>\n",
              "      <td>A721033</td>\n",
              "      <td>Return to Owner</td>\n",
              "      <td>0</td>\n",
              "      <td>0</td>\n",
              "      <td>29</td>\n",
              "      <td>0</td>\n",
              "      <td>0</td>\n",
              "      <td>0</td>\n",
              "      <td>0</td>\n",
              "    </tr>\n",
              "    <tr>\n",
              "      <th>48675</th>\n",
              "      <td>A721033</td>\n",
              "      <td>Return to Owner</td>\n",
              "      <td>0</td>\n",
              "      <td>0</td>\n",
              "      <td>30</td>\n",
              "      <td>0</td>\n",
              "      <td>0</td>\n",
              "      <td>0</td>\n",
              "      <td>0</td>\n",
              "    </tr>\n",
              "    <tr>\n",
              "      <th>48676</th>\n",
              "      <td>A721033</td>\n",
              "      <td>Rto-Adopt</td>\n",
              "      <td>0</td>\n",
              "      <td>0</td>\n",
              "      <td>31</td>\n",
              "      <td>0</td>\n",
              "      <td>0</td>\n",
              "      <td>0</td>\n",
              "      <td>0</td>\n",
              "    </tr>\n",
              "  </tbody>\n",
              "</table>\n",
              "</div>"
            ],
            "text/plain": [
              "      animal_id     outcome_type  ...  prev_missing  prev_relocate\n",
              "48644   A721033  Return to Owner  ...             0              0\n",
              "48645   A721033  Return to Owner  ...             0              0\n",
              "48646   A721033  Return to Owner  ...             0              0\n",
              "48647   A721033  Return to Owner  ...             0              0\n",
              "48648   A721033  Return to Owner  ...             0              0\n",
              "48649   A721033  Return to Owner  ...             0              0\n",
              "48650   A721033  Return to Owner  ...             0              0\n",
              "48651   A721033  Return to Owner  ...             0              0\n",
              "48652   A721033  Return to Owner  ...             0              0\n",
              "48653   A721033  Return to Owner  ...             0              0\n",
              "48654   A721033  Return to Owner  ...             0              0\n",
              "48655   A721033  Return to Owner  ...             0              0\n",
              "48656   A721033  Return to Owner  ...             0              0\n",
              "48657   A721033  Return to Owner  ...             0              0\n",
              "48658   A721033  Return to Owner  ...             0              0\n",
              "48659   A721033  Return to Owner  ...             0              0\n",
              "48660   A721033  Return to Owner  ...             0              0\n",
              "48661   A721033  Return to Owner  ...             0              0\n",
              "48662   A721033  Return to Owner  ...             0              0\n",
              "48663   A721033  Return to Owner  ...             0              0\n",
              "48664   A721033  Return to Owner  ...             0              0\n",
              "48665   A721033  Return to Owner  ...             0              0\n",
              "48666   A721033  Return to Owner  ...             0              0\n",
              "48667   A721033        Rto-Adopt  ...             0              0\n",
              "48668   A721033  Return to Owner  ...             0              0\n",
              "48669   A721033  Return to Owner  ...             0              0\n",
              "48670   A721033  Return to Owner  ...             0              0\n",
              "48671   A721033  Return to Owner  ...             0              0\n",
              "48672   A721033  Return to Owner  ...             0              0\n",
              "48673   A721033  Return to Owner  ...             0              0\n",
              "48674   A721033  Return to Owner  ...             0              0\n",
              "48675   A721033  Return to Owner  ...             0              0\n",
              "48676   A721033        Rto-Adopt  ...             0              0\n",
              "\n",
              "[33 rows x 9 columns]"
            ]
          },
          "metadata": {
            "tags": []
          },
          "execution_count": 35
        }
      ]
    },
    {
      "cell_type": "code",
      "metadata": {
        "colab": {
          "base_uri": "https://localhost:8080/"
        },
        "id": "uqtM8zzWOWKB",
        "outputId": "67b79954-4600-403f-c7a4-54e70b838594"
      },
      "source": [
        "df['prev_rto_adopt'].value_counts()"
      ],
      "execution_count": null,
      "outputs": [
        {
          "output_type": "execute_result",
          "data": {
            "text/plain": [
              "0    129247\n",
              "1       179\n",
              "2         6\n",
              "Name: prev_rto_adopt, dtype: int64"
            ]
          },
          "metadata": {
            "tags": []
          },
          "execution_count": 36
        }
      ]
    },
    {
      "cell_type": "code",
      "metadata": {
        "colab": {
          "base_uri": "https://localhost:8080/"
        },
        "id": "iRWv5nO3OmQz",
        "outputId": "d9fc08d3-efda-485f-d11f-0df087d2ecb5"
      },
      "source": [
        "df.query('prev_ret_to_owner == 2')['animal_id']"
      ],
      "execution_count": null,
      "outputs": [
        {
          "output_type": "execute_result",
          "data": {
            "text/plain": [
              "2         A006100\n",
              "299       A416147\n",
              "325       A424158\n",
              "343       A430709\n",
              "418       A453083\n",
              "           ...   \n",
              "121512    A822633\n",
              "121525    A822659\n",
              "122217    A823880\n",
              "122678    A824774\n",
              "125714    A831798\n",
              "Name: animal_id, Length: 758, dtype: object"
            ]
          },
          "metadata": {
            "tags": []
          },
          "execution_count": 37
        }
      ]
    },
    {
      "cell_type": "code",
      "metadata": {
        "colab": {
          "base_uri": "https://localhost:8080/",
          "height": 204
        },
        "id": "p45NygG2Outp",
        "outputId": "397d1c26-3136-4441-831d-2fbe0681e9f5"
      },
      "source": [
        "df.query('animal_id == \"A416147\"')[['animal_id', 'outcome_type', 'prev_adoption', 'prev_transfer', 'prev_ret_to_owner', 'prev_rto_adopt', 'prev_disposal', 'prev_missing', 'prev_relocate' ]]"
      ],
      "execution_count": null,
      "outputs": [
        {
          "output_type": "execute_result",
          "data": {
            "text/html": [
              "<div>\n",
              "<style scoped>\n",
              "    .dataframe tbody tr th:only-of-type {\n",
              "        vertical-align: middle;\n",
              "    }\n",
              "\n",
              "    .dataframe tbody tr th {\n",
              "        vertical-align: top;\n",
              "    }\n",
              "\n",
              "    .dataframe thead th {\n",
              "        text-align: right;\n",
              "    }\n",
              "</style>\n",
              "<table border=\"1\" class=\"dataframe\">\n",
              "  <thead>\n",
              "    <tr style=\"text-align: right;\">\n",
              "      <th></th>\n",
              "      <th>animal_id</th>\n",
              "      <th>outcome_type</th>\n",
              "      <th>prev_adoption</th>\n",
              "      <th>prev_transfer</th>\n",
              "      <th>prev_ret_to_owner</th>\n",
              "      <th>prev_rto_adopt</th>\n",
              "      <th>prev_disposal</th>\n",
              "      <th>prev_missing</th>\n",
              "      <th>prev_relocate</th>\n",
              "    </tr>\n",
              "  </thead>\n",
              "  <tbody>\n",
              "    <tr>\n",
              "      <th>297</th>\n",
              "      <td>A416147</td>\n",
              "      <td>Return to Owner</td>\n",
              "      <td>0</td>\n",
              "      <td>0</td>\n",
              "      <td>0</td>\n",
              "      <td>0</td>\n",
              "      <td>0</td>\n",
              "      <td>0</td>\n",
              "      <td>0</td>\n",
              "    </tr>\n",
              "    <tr>\n",
              "      <th>298</th>\n",
              "      <td>A416147</td>\n",
              "      <td>Return to Owner</td>\n",
              "      <td>0</td>\n",
              "      <td>0</td>\n",
              "      <td>1</td>\n",
              "      <td>0</td>\n",
              "      <td>0</td>\n",
              "      <td>0</td>\n",
              "      <td>0</td>\n",
              "    </tr>\n",
              "    <tr>\n",
              "      <th>299</th>\n",
              "      <td>A416147</td>\n",
              "      <td>Return to Owner</td>\n",
              "      <td>0</td>\n",
              "      <td>0</td>\n",
              "      <td>2</td>\n",
              "      <td>0</td>\n",
              "      <td>0</td>\n",
              "      <td>0</td>\n",
              "      <td>0</td>\n",
              "    </tr>\n",
              "    <tr>\n",
              "      <th>300</th>\n",
              "      <td>A416147</td>\n",
              "      <td>Adoption</td>\n",
              "      <td>0</td>\n",
              "      <td>0</td>\n",
              "      <td>3</td>\n",
              "      <td>0</td>\n",
              "      <td>0</td>\n",
              "      <td>0</td>\n",
              "      <td>0</td>\n",
              "    </tr>\n",
              "    <tr>\n",
              "      <th>301</th>\n",
              "      <td>A416147</td>\n",
              "      <td>Adoption</td>\n",
              "      <td>1</td>\n",
              "      <td>0</td>\n",
              "      <td>0</td>\n",
              "      <td>0</td>\n",
              "      <td>0</td>\n",
              "      <td>0</td>\n",
              "      <td>0</td>\n",
              "    </tr>\n",
              "  </tbody>\n",
              "</table>\n",
              "</div>"
            ],
            "text/plain": [
              "    animal_id     outcome_type  ...  prev_missing  prev_relocate\n",
              "297   A416147  Return to Owner  ...             0              0\n",
              "298   A416147  Return to Owner  ...             0              0\n",
              "299   A416147  Return to Owner  ...             0              0\n",
              "300   A416147         Adoption  ...             0              0\n",
              "301   A416147         Adoption  ...             0              0\n",
              "\n",
              "[5 rows x 9 columns]"
            ]
          },
          "metadata": {
            "tags": []
          },
          "execution_count": 39
        }
      ]
    },
    {
      "cell_type": "code",
      "metadata": {
        "colab": {
          "base_uri": "https://localhost:8080/"
        },
        "id": "F-WWspsgO43G",
        "outputId": "54eee8cf-0547-4d72-e691-5495d1a956a2"
      },
      "source": [
        "df['prev_disposal'].value_counts()"
      ],
      "execution_count": null,
      "outputs": [
        {
          "output_type": "execute_result",
          "data": {
            "text/plain": [
              "0    129431\n",
              "1         1\n",
              "Name: prev_disposal, dtype: int64"
            ]
          },
          "metadata": {
            "tags": []
          },
          "execution_count": 40
        }
      ]
    },
    {
      "cell_type": "code",
      "metadata": {
        "colab": {
          "base_uri": "https://localhost:8080/"
        },
        "id": "-V3bEfFzPGuo",
        "outputId": "80233c79-8ee3-4331-f65c-13b3a95409ee"
      },
      "source": [
        "df.query('prev_disposal == 1')['animal_id']"
      ],
      "execution_count": null,
      "outputs": [
        {
          "output_type": "execute_result",
          "data": {
            "text/plain": [
              "74551    A755687\n",
              "Name: animal_id, dtype: object"
            ]
          },
          "metadata": {
            "tags": []
          },
          "execution_count": 41
        }
      ]
    },
    {
      "cell_type": "code",
      "metadata": {
        "colab": {
          "base_uri": "https://localhost:8080/",
          "height": 111
        },
        "id": "V1adhSvdPONG",
        "outputId": "54bab776-5498-4964-d097-310cb48d5ec2"
      },
      "source": [
        "df.query('animal_id == \"A755687\"')[['animal_id', 'outcome_type', 'prev_adoption', 'prev_transfer', 'prev_ret_to_owner', 'prev_rto_adopt', 'prev_disposal', 'prev_missing', 'prev_relocate' ]]"
      ],
      "execution_count": null,
      "outputs": [
        {
          "output_type": "execute_result",
          "data": {
            "text/html": [
              "<div>\n",
              "<style scoped>\n",
              "    .dataframe tbody tr th:only-of-type {\n",
              "        vertical-align: middle;\n",
              "    }\n",
              "\n",
              "    .dataframe tbody tr th {\n",
              "        vertical-align: top;\n",
              "    }\n",
              "\n",
              "    .dataframe thead th {\n",
              "        text-align: right;\n",
              "    }\n",
              "</style>\n",
              "<table border=\"1\" class=\"dataframe\">\n",
              "  <thead>\n",
              "    <tr style=\"text-align: right;\">\n",
              "      <th></th>\n",
              "      <th>animal_id</th>\n",
              "      <th>outcome_type</th>\n",
              "      <th>prev_adoption</th>\n",
              "      <th>prev_transfer</th>\n",
              "      <th>prev_ret_to_owner</th>\n",
              "      <th>prev_rto_adopt</th>\n",
              "      <th>prev_disposal</th>\n",
              "      <th>prev_missing</th>\n",
              "      <th>prev_relocate</th>\n",
              "    </tr>\n",
              "  </thead>\n",
              "  <tbody>\n",
              "    <tr>\n",
              "      <th>74550</th>\n",
              "      <td>A755687</td>\n",
              "      <td>Disposal</td>\n",
              "      <td>0</td>\n",
              "      <td>0</td>\n",
              "      <td>0</td>\n",
              "      <td>0</td>\n",
              "      <td>0</td>\n",
              "      <td>0</td>\n",
              "      <td>0</td>\n",
              "    </tr>\n",
              "    <tr>\n",
              "      <th>74551</th>\n",
              "      <td>A755687</td>\n",
              "      <td>Disposal</td>\n",
              "      <td>0</td>\n",
              "      <td>0</td>\n",
              "      <td>0</td>\n",
              "      <td>0</td>\n",
              "      <td>1</td>\n",
              "      <td>0</td>\n",
              "      <td>0</td>\n",
              "    </tr>\n",
              "  </tbody>\n",
              "</table>\n",
              "</div>"
            ],
            "text/plain": [
              "      animal_id outcome_type  ...  prev_missing  prev_relocate\n",
              "74550   A755687     Disposal  ...             0              0\n",
              "74551   A755687     Disposal  ...             0              0\n",
              "\n",
              "[2 rows x 9 columns]"
            ]
          },
          "metadata": {
            "tags": []
          },
          "execution_count": 42
        }
      ]
    },
    {
      "cell_type": "code",
      "metadata": {
        "colab": {
          "base_uri": "https://localhost:8080/"
        },
        "id": "Xy-VxuxDPUf7",
        "outputId": "2a885e9d-149e-411d-daff-9066571dbb97"
      },
      "source": [
        "df['prev_missing'].value_counts()"
      ],
      "execution_count": null,
      "outputs": [
        {
          "output_type": "execute_result",
          "data": {
            "text/plain": [
              "0    129419\n",
              "1        12\n",
              "2         1\n",
              "Name: prev_missing, dtype: int64"
            ]
          },
          "metadata": {
            "tags": []
          },
          "execution_count": 43
        }
      ]
    },
    {
      "cell_type": "code",
      "metadata": {
        "colab": {
          "base_uri": "https://localhost:8080/"
        },
        "id": "pIOiRQUkPail",
        "outputId": "8c109e03-b31d-4567-84df-12b702d01e6f"
      },
      "source": [
        "df.query('prev_missing == 2')['animal_id']"
      ],
      "execution_count": null,
      "outputs": [
        {
          "output_type": "execute_result",
          "data": {
            "text/plain": [
              "33041    A700840\n",
              "Name: animal_id, dtype: object"
            ]
          },
          "metadata": {
            "tags": []
          },
          "execution_count": 44
        }
      ]
    },
    {
      "cell_type": "code",
      "metadata": {
        "colab": {
          "base_uri": "https://localhost:8080/",
          "height": 142
        },
        "id": "ZuhUdoukPfYT",
        "outputId": "70e6537e-e984-44d7-8b5d-e9f414a9fdba"
      },
      "source": [
        "df.query('animal_id == \"A700840\"')[['animal_id', 'outcome_type', 'prev_adoption', 'prev_transfer', 'prev_ret_to_owner', 'prev_rto_adopt', 'prev_disposal', 'prev_missing', 'prev_relocate' ]]"
      ],
      "execution_count": null,
      "outputs": [
        {
          "output_type": "execute_result",
          "data": {
            "text/html": [
              "<div>\n",
              "<style scoped>\n",
              "    .dataframe tbody tr th:only-of-type {\n",
              "        vertical-align: middle;\n",
              "    }\n",
              "\n",
              "    .dataframe tbody tr th {\n",
              "        vertical-align: top;\n",
              "    }\n",
              "\n",
              "    .dataframe thead th {\n",
              "        text-align: right;\n",
              "    }\n",
              "</style>\n",
              "<table border=\"1\" class=\"dataframe\">\n",
              "  <thead>\n",
              "    <tr style=\"text-align: right;\">\n",
              "      <th></th>\n",
              "      <th>animal_id</th>\n",
              "      <th>outcome_type</th>\n",
              "      <th>prev_adoption</th>\n",
              "      <th>prev_transfer</th>\n",
              "      <th>prev_ret_to_owner</th>\n",
              "      <th>prev_rto_adopt</th>\n",
              "      <th>prev_disposal</th>\n",
              "      <th>prev_missing</th>\n",
              "      <th>prev_relocate</th>\n",
              "    </tr>\n",
              "  </thead>\n",
              "  <tbody>\n",
              "    <tr>\n",
              "      <th>33039</th>\n",
              "      <td>A700840</td>\n",
              "      <td>Missing</td>\n",
              "      <td>0</td>\n",
              "      <td>0</td>\n",
              "      <td>0</td>\n",
              "      <td>0</td>\n",
              "      <td>0</td>\n",
              "      <td>0</td>\n",
              "      <td>0</td>\n",
              "    </tr>\n",
              "    <tr>\n",
              "      <th>33040</th>\n",
              "      <td>A700840</td>\n",
              "      <td>Missing</td>\n",
              "      <td>0</td>\n",
              "      <td>0</td>\n",
              "      <td>0</td>\n",
              "      <td>0</td>\n",
              "      <td>0</td>\n",
              "      <td>1</td>\n",
              "      <td>0</td>\n",
              "    </tr>\n",
              "    <tr>\n",
              "      <th>33041</th>\n",
              "      <td>A700840</td>\n",
              "      <td>Transfer</td>\n",
              "      <td>0</td>\n",
              "      <td>0</td>\n",
              "      <td>0</td>\n",
              "      <td>0</td>\n",
              "      <td>0</td>\n",
              "      <td>2</td>\n",
              "      <td>0</td>\n",
              "    </tr>\n",
              "  </tbody>\n",
              "</table>\n",
              "</div>"
            ],
            "text/plain": [
              "      animal_id outcome_type  ...  prev_missing  prev_relocate\n",
              "33039   A700840      Missing  ...             0              0\n",
              "33040   A700840      Missing  ...             1              0\n",
              "33041   A700840     Transfer  ...             2              0\n",
              "\n",
              "[3 rows x 9 columns]"
            ]
          },
          "metadata": {
            "tags": []
          },
          "execution_count": 45
        }
      ]
    },
    {
      "cell_type": "code",
      "metadata": {
        "colab": {
          "base_uri": "https://localhost:8080/"
        },
        "id": "i50sIvfCPlkS",
        "outputId": "49cf8b58-632f-44cf-e678-313d2169ccb7"
      },
      "source": [
        "df['prev_relocate'].value_counts()"
      ],
      "execution_count": null,
      "outputs": [
        {
          "output_type": "execute_result",
          "data": {
            "text/plain": [
              "0    129432\n",
              "Name: prev_relocate, dtype: int64"
            ]
          },
          "metadata": {
            "tags": []
          },
          "execution_count": 46
        }
      ]
    },
    {
      "cell_type": "code",
      "metadata": {
        "id": "udviS_GpP2yS"
      },
      "source": [
        "df.to_csv('/content/drive/MyDrive/outcome_tallies.csv')"
      ],
      "execution_count": null,
      "outputs": []
    },
    {
      "cell_type": "code",
      "metadata": {
        "id": "13q-ZF1pQDam"
      },
      "source": [
        ""
      ],
      "execution_count": null,
      "outputs": []
    }
  ]
}