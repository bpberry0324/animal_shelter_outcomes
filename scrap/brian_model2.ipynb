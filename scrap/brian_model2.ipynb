{
 "cells": [
  {
   "cell_type": "code",
   "execution_count": 19,
   "id": "605a1b23-1a8b-49e3-ade0-fdc365666e04",
   "metadata": {},
   "outputs": [],
   "source": [
    "import pandas as pd\n",
    "\n",
    "df = pd.read_csv('../datasets/main.csv')"
   ]
  },
  {
   "cell_type": "code",
   "execution_count": 20,
   "id": "f826d218-f63f-41f5-b3d8-0a6f206fe694",
   "metadata": {},
   "outputs": [],
   "source": [
    "df = df[df['outcome_type'] == 'Adoption'].drop(columns=['animal_id_in', 'sex_upon_intake', 'is_named_in', 'found_location', 'name_in', 'name_out', 'year_in', 'month_in', 'day_in', 'year_out', 'month_out', 'day_out', 'outcome_type', 'outcome_subtype'])"
   ]
  },
  {
   "cell_type": "code",
   "execution_count": 21,
   "id": "82269da4-03ab-42f9-8d95-1d82444281ee",
   "metadata": {},
   "outputs": [
    {
     "data": {
      "text/html": [
       "<div>\n",
       "<style scoped>\n",
       "    .dataframe tbody tr th:only-of-type {\n",
       "        vertical-align: middle;\n",
       "    }\n",
       "\n",
       "    .dataframe tbody tr th {\n",
       "        vertical-align: top;\n",
       "    }\n",
       "\n",
       "    .dataframe thead th {\n",
       "        text-align: right;\n",
       "    }\n",
       "</style>\n",
       "<table border=\"1\" class=\"dataframe\">\n",
       "  <thead>\n",
       "    <tr style=\"text-align: right;\">\n",
       "      <th></th>\n",
       "      <th>animal_type</th>\n",
       "      <th>color</th>\n",
       "      <th>breed</th>\n",
       "      <th>intake_type</th>\n",
       "      <th>intake_condition</th>\n",
       "      <th>datetime_in</th>\n",
       "      <th>datetime_out</th>\n",
       "      <th>prev_adoption</th>\n",
       "      <th>prev_transfer</th>\n",
       "      <th>prev_ret_to_owner</th>\n",
       "      <th>prev_rto_adopt</th>\n",
       "      <th>prev_disposal</th>\n",
       "      <th>prev_missing</th>\n",
       "      <th>prev_relocate</th>\n",
       "      <th>age_upon_outcome</th>\n",
       "      <th>age_upon_intake</th>\n",
       "      <th>sex_upon_outcome</th>\n",
       "      <th>is_named_out</th>\n",
       "    </tr>\n",
       "  </thead>\n",
       "  <tbody>\n",
       "    <tr>\n",
       "      <th>12</th>\n",
       "      <td>Dog</td>\n",
       "      <td>tan black</td>\n",
       "      <td>mix dachshund</td>\n",
       "      <td>Owner Surrender</td>\n",
       "      <td>Normal</td>\n",
       "      <td>2013-10-03 15:47:00</td>\n",
       "      <td>2013-11-22 09:44:00</td>\n",
       "      <td>0</td>\n",
       "      <td>0</td>\n",
       "      <td>0</td>\n",
       "      <td>0</td>\n",
       "      <td>0</td>\n",
       "      <td>0</td>\n",
       "      <td>0</td>\n",
       "      <td>1.0</td>\n",
       "      <td>1.0</td>\n",
       "      <td>Neutered Male</td>\n",
       "      <td>1</td>\n",
       "    </tr>\n",
       "    <tr>\n",
       "      <th>14</th>\n",
       "      <td>Dog</td>\n",
       "      <td>tan black</td>\n",
       "      <td>chihuahua shorthair</td>\n",
       "      <td>Public Assist</td>\n",
       "      <td>Aged</td>\n",
       "      <td>2016-09-28 12:05:00</td>\n",
       "      <td>2016-10-07 12:34:00</td>\n",
       "      <td>0</td>\n",
       "      <td>0</td>\n",
       "      <td>0</td>\n",
       "      <td>0</td>\n",
       "      <td>0</td>\n",
       "      <td>0</td>\n",
       "      <td>0</td>\n",
       "      <td>1.0</td>\n",
       "      <td>1.0</td>\n",
       "      <td>Neutered Male</td>\n",
       "      <td>1</td>\n",
       "    </tr>\n",
       "    <tr>\n",
       "      <th>23</th>\n",
       "      <td>Dog</td>\n",
       "      <td>white sable</td>\n",
       "      <td>beagle labrador retriever</td>\n",
       "      <td>Stray</td>\n",
       "      <td>Normal</td>\n",
       "      <td>2015-10-06 12:29:00</td>\n",
       "      <td>2015-10-29 15:00:00</td>\n",
       "      <td>0</td>\n",
       "      <td>0</td>\n",
       "      <td>0</td>\n",
       "      <td>0</td>\n",
       "      <td>0</td>\n",
       "      <td>0</td>\n",
       "      <td>0</td>\n",
       "      <td>1.0</td>\n",
       "      <td>1.0</td>\n",
       "      <td>Neutered Male</td>\n",
       "      <td>1</td>\n",
       "    </tr>\n",
       "    <tr>\n",
       "      <th>33</th>\n",
       "      <td>Dog</td>\n",
       "      <td>brown black</td>\n",
       "      <td>mix shepherd german</td>\n",
       "      <td>Stray</td>\n",
       "      <td>Normal</td>\n",
       "      <td>2016-08-17 14:05:00</td>\n",
       "      <td>2016-11-15 10:37:00</td>\n",
       "      <td>0</td>\n",
       "      <td>0</td>\n",
       "      <td>0</td>\n",
       "      <td>0</td>\n",
       "      <td>0</td>\n",
       "      <td>0</td>\n",
       "      <td>0</td>\n",
       "      <td>1.0</td>\n",
       "      <td>1.0</td>\n",
       "      <td>Spayed Female</td>\n",
       "      <td>1</td>\n",
       "    </tr>\n",
       "    <tr>\n",
       "      <th>49</th>\n",
       "      <td>Dog</td>\n",
       "      <td>tricolor</td>\n",
       "      <td>mix pointer</td>\n",
       "      <td>Stray</td>\n",
       "      <td>Normal</td>\n",
       "      <td>2013-11-13 18:16:00</td>\n",
       "      <td>2013-11-16 12:24:00</td>\n",
       "      <td>0</td>\n",
       "      <td>0</td>\n",
       "      <td>0</td>\n",
       "      <td>0</td>\n",
       "      <td>0</td>\n",
       "      <td>0</td>\n",
       "      <td>0</td>\n",
       "      <td>1.0</td>\n",
       "      <td>1.0</td>\n",
       "      <td>Spayed Female</td>\n",
       "      <td>1</td>\n",
       "    </tr>\n",
       "  </tbody>\n",
       "</table>\n",
       "</div>"
      ],
      "text/plain": [
       "   animal_type        color                      breed      intake_type  \\\n",
       "12         Dog    tan black              mix dachshund  Owner Surrender   \n",
       "14         Dog    tan black        chihuahua shorthair    Public Assist   \n",
       "23         Dog  white sable  beagle labrador retriever            Stray   \n",
       "33         Dog  brown black        mix shepherd german            Stray   \n",
       "49         Dog     tricolor                mix pointer            Stray   \n",
       "\n",
       "   intake_condition          datetime_in         datetime_out  prev_adoption  \\\n",
       "12           Normal  2013-10-03 15:47:00  2013-11-22 09:44:00              0   \n",
       "14             Aged  2016-09-28 12:05:00  2016-10-07 12:34:00              0   \n",
       "23           Normal  2015-10-06 12:29:00  2015-10-29 15:00:00              0   \n",
       "33           Normal  2016-08-17 14:05:00  2016-11-15 10:37:00              0   \n",
       "49           Normal  2013-11-13 18:16:00  2013-11-16 12:24:00              0   \n",
       "\n",
       "    prev_transfer  prev_ret_to_owner  prev_rto_adopt  prev_disposal  \\\n",
       "12              0                  0               0              0   \n",
       "14              0                  0               0              0   \n",
       "23              0                  0               0              0   \n",
       "33              0                  0               0              0   \n",
       "49              0                  0               0              0   \n",
       "\n",
       "    prev_missing  prev_relocate  age_upon_outcome  age_upon_intake  \\\n",
       "12             0              0               1.0              1.0   \n",
       "14             0              0               1.0              1.0   \n",
       "23             0              0               1.0              1.0   \n",
       "33             0              0               1.0              1.0   \n",
       "49             0              0               1.0              1.0   \n",
       "\n",
       "   sex_upon_outcome  is_named_out  \n",
       "12    Neutered Male             1  \n",
       "14    Neutered Male             1  \n",
       "23    Neutered Male             1  \n",
       "33    Spayed Female             1  \n",
       "49    Spayed Female             1  "
      ]
     },
     "execution_count": 21,
     "metadata": {},
     "output_type": "execute_result"
    }
   ],
   "source": [
    "df.head()"
   ]
  },
  {
   "cell_type": "code",
   "execution_count": 22,
   "id": "da832fb8-8311-47a5-a1c2-5ddb0bc8e878",
   "metadata": {},
   "outputs": [],
   "source": [
    "df['duration'] = (pd.to_datetime(df['datetime_out']) - pd.to_datetime(df['datetime_in'])).dt.total_seconds() /60 /60/24"
   ]
  },
  {
   "cell_type": "code",
   "execution_count": 24,
   "id": "d24655ce-6819-4e0c-954d-9a6e696b07cb",
   "metadata": {},
   "outputs": [],
   "source": [
    "df.drop(columns=['datetime_in', 'datetime_out'], inplace = True)"
   ]
  },
  {
   "cell_type": "code",
   "execution_count": 25,
   "id": "c7cd46a0-189b-476f-9e37-9f6b6fa8cc25",
   "metadata": {},
   "outputs": [
    {
     "data": {
      "text/html": [
       "<div>\n",
       "<style scoped>\n",
       "    .dataframe tbody tr th:only-of-type {\n",
       "        vertical-align: middle;\n",
       "    }\n",
       "\n",
       "    .dataframe tbody tr th {\n",
       "        vertical-align: top;\n",
       "    }\n",
       "\n",
       "    .dataframe thead th {\n",
       "        text-align: right;\n",
       "    }\n",
       "</style>\n",
       "<table border=\"1\" class=\"dataframe\">\n",
       "  <thead>\n",
       "    <tr style=\"text-align: right;\">\n",
       "      <th></th>\n",
       "      <th>animal_type</th>\n",
       "      <th>color</th>\n",
       "      <th>breed</th>\n",
       "      <th>intake_type</th>\n",
       "      <th>intake_condition</th>\n",
       "      <th>prev_adoption</th>\n",
       "      <th>prev_transfer</th>\n",
       "      <th>prev_ret_to_owner</th>\n",
       "      <th>prev_rto_adopt</th>\n",
       "      <th>prev_disposal</th>\n",
       "      <th>prev_missing</th>\n",
       "      <th>prev_relocate</th>\n",
       "      <th>age_upon_outcome</th>\n",
       "      <th>age_upon_intake</th>\n",
       "      <th>sex_upon_outcome</th>\n",
       "      <th>is_named_out</th>\n",
       "      <th>duration</th>\n",
       "    </tr>\n",
       "  </thead>\n",
       "  <tbody>\n",
       "    <tr>\n",
       "      <th>12</th>\n",
       "      <td>Dog</td>\n",
       "      <td>tan black</td>\n",
       "      <td>mix dachshund</td>\n",
       "      <td>Owner Surrender</td>\n",
       "      <td>Normal</td>\n",
       "      <td>0</td>\n",
       "      <td>0</td>\n",
       "      <td>0</td>\n",
       "      <td>0</td>\n",
       "      <td>0</td>\n",
       "      <td>0</td>\n",
       "      <td>0</td>\n",
       "      <td>1.0</td>\n",
       "      <td>1.0</td>\n",
       "      <td>Neutered Male</td>\n",
       "      <td>1</td>\n",
       "      <td>49.747917</td>\n",
       "    </tr>\n",
       "    <tr>\n",
       "      <th>14</th>\n",
       "      <td>Dog</td>\n",
       "      <td>tan black</td>\n",
       "      <td>chihuahua shorthair</td>\n",
       "      <td>Public Assist</td>\n",
       "      <td>Aged</td>\n",
       "      <td>0</td>\n",
       "      <td>0</td>\n",
       "      <td>0</td>\n",
       "      <td>0</td>\n",
       "      <td>0</td>\n",
       "      <td>0</td>\n",
       "      <td>0</td>\n",
       "      <td>1.0</td>\n",
       "      <td>1.0</td>\n",
       "      <td>Neutered Male</td>\n",
       "      <td>1</td>\n",
       "      <td>9.020139</td>\n",
       "    </tr>\n",
       "    <tr>\n",
       "      <th>23</th>\n",
       "      <td>Dog</td>\n",
       "      <td>white sable</td>\n",
       "      <td>beagle labrador retriever</td>\n",
       "      <td>Stray</td>\n",
       "      <td>Normal</td>\n",
       "      <td>0</td>\n",
       "      <td>0</td>\n",
       "      <td>0</td>\n",
       "      <td>0</td>\n",
       "      <td>0</td>\n",
       "      <td>0</td>\n",
       "      <td>0</td>\n",
       "      <td>1.0</td>\n",
       "      <td>1.0</td>\n",
       "      <td>Neutered Male</td>\n",
       "      <td>1</td>\n",
       "      <td>23.104861</td>\n",
       "    </tr>\n",
       "    <tr>\n",
       "      <th>33</th>\n",
       "      <td>Dog</td>\n",
       "      <td>brown black</td>\n",
       "      <td>mix shepherd german</td>\n",
       "      <td>Stray</td>\n",
       "      <td>Normal</td>\n",
       "      <td>0</td>\n",
       "      <td>0</td>\n",
       "      <td>0</td>\n",
       "      <td>0</td>\n",
       "      <td>0</td>\n",
       "      <td>0</td>\n",
       "      <td>0</td>\n",
       "      <td>1.0</td>\n",
       "      <td>1.0</td>\n",
       "      <td>Spayed Female</td>\n",
       "      <td>1</td>\n",
       "      <td>89.855556</td>\n",
       "    </tr>\n",
       "    <tr>\n",
       "      <th>49</th>\n",
       "      <td>Dog</td>\n",
       "      <td>tricolor</td>\n",
       "      <td>mix pointer</td>\n",
       "      <td>Stray</td>\n",
       "      <td>Normal</td>\n",
       "      <td>0</td>\n",
       "      <td>0</td>\n",
       "      <td>0</td>\n",
       "      <td>0</td>\n",
       "      <td>0</td>\n",
       "      <td>0</td>\n",
       "      <td>0</td>\n",
       "      <td>1.0</td>\n",
       "      <td>1.0</td>\n",
       "      <td>Spayed Female</td>\n",
       "      <td>1</td>\n",
       "      <td>2.755556</td>\n",
       "    </tr>\n",
       "  </tbody>\n",
       "</table>\n",
       "</div>"
      ],
      "text/plain": [
       "   animal_type        color                      breed      intake_type  \\\n",
       "12         Dog    tan black              mix dachshund  Owner Surrender   \n",
       "14         Dog    tan black        chihuahua shorthair    Public Assist   \n",
       "23         Dog  white sable  beagle labrador retriever            Stray   \n",
       "33         Dog  brown black        mix shepherd german            Stray   \n",
       "49         Dog     tricolor                mix pointer            Stray   \n",
       "\n",
       "   intake_condition  prev_adoption  prev_transfer  prev_ret_to_owner  \\\n",
       "12           Normal              0              0                  0   \n",
       "14             Aged              0              0                  0   \n",
       "23           Normal              0              0                  0   \n",
       "33           Normal              0              0                  0   \n",
       "49           Normal              0              0                  0   \n",
       "\n",
       "    prev_rto_adopt  prev_disposal  prev_missing  prev_relocate  \\\n",
       "12               0              0             0              0   \n",
       "14               0              0             0              0   \n",
       "23               0              0             0              0   \n",
       "33               0              0             0              0   \n",
       "49               0              0             0              0   \n",
       "\n",
       "    age_upon_outcome  age_upon_intake sex_upon_outcome  is_named_out  \\\n",
       "12               1.0              1.0    Neutered Male             1   \n",
       "14               1.0              1.0    Neutered Male             1   \n",
       "23               1.0              1.0    Neutered Male             1   \n",
       "33               1.0              1.0    Spayed Female             1   \n",
       "49               1.0              1.0    Spayed Female             1   \n",
       "\n",
       "     duration  \n",
       "12  49.747917  \n",
       "14   9.020139  \n",
       "23  23.104861  \n",
       "33  89.855556  \n",
       "49   2.755556  "
      ]
     },
     "execution_count": 25,
     "metadata": {},
     "output_type": "execute_result"
    }
   ],
   "source": [
    "df.head()"
   ]
  },
  {
   "cell_type": "code",
   "execution_count": 28,
   "id": "15fdc0b7-842c-4023-b3bb-9c639bde81a0",
   "metadata": {},
   "outputs": [],
   "source": [
    "df['is_fixed'] = df['sex_upon_outcome'].map(lambda x: 1 if 'Neutered' in x or 'Spayed' in x else 0)"
   ]
  },
  {
   "cell_type": "code",
   "execution_count": 32,
   "id": "f7a04d47-242b-4156-b687-2a99b5d22835",
   "metadata": {},
   "outputs": [
    {
     "data": {
      "text/html": [
       "<div>\n",
       "<style scoped>\n",
       "    .dataframe tbody tr th:only-of-type {\n",
       "        vertical-align: middle;\n",
       "    }\n",
       "\n",
       "    .dataframe tbody tr th {\n",
       "        vertical-align: top;\n",
       "    }\n",
       "\n",
       "    .dataframe thead th {\n",
       "        text-align: right;\n",
       "    }\n",
       "</style>\n",
       "<table border=\"1\" class=\"dataframe\">\n",
       "  <thead>\n",
       "    <tr style=\"text-align: right;\">\n",
       "      <th></th>\n",
       "      <th>animal_type</th>\n",
       "      <th>color</th>\n",
       "      <th>breed</th>\n",
       "      <th>intake_type</th>\n",
       "      <th>intake_condition</th>\n",
       "      <th>prev_adoption</th>\n",
       "      <th>prev_transfer</th>\n",
       "      <th>prev_ret_to_owner</th>\n",
       "      <th>prev_rto_adopt</th>\n",
       "      <th>prev_disposal</th>\n",
       "      <th>prev_missing</th>\n",
       "      <th>prev_relocate</th>\n",
       "      <th>age_upon_outcome</th>\n",
       "      <th>age_upon_intake</th>\n",
       "      <th>is_named_out</th>\n",
       "      <th>duration</th>\n",
       "      <th>is_fixed</th>\n",
       "    </tr>\n",
       "  </thead>\n",
       "  <tbody>\n",
       "    <tr>\n",
       "      <th>12</th>\n",
       "      <td>Dog</td>\n",
       "      <td>tan black</td>\n",
       "      <td>mix dachshund</td>\n",
       "      <td>Owner Surrender</td>\n",
       "      <td>Normal</td>\n",
       "      <td>0</td>\n",
       "      <td>0</td>\n",
       "      <td>0</td>\n",
       "      <td>0</td>\n",
       "      <td>0</td>\n",
       "      <td>0</td>\n",
       "      <td>0</td>\n",
       "      <td>1.000</td>\n",
       "      <td>1.000</td>\n",
       "      <td>1</td>\n",
       "      <td>49.747917</td>\n",
       "      <td>1</td>\n",
       "    </tr>\n",
       "    <tr>\n",
       "      <th>14</th>\n",
       "      <td>Dog</td>\n",
       "      <td>tan black</td>\n",
       "      <td>chihuahua shorthair</td>\n",
       "      <td>Public Assist</td>\n",
       "      <td>Aged</td>\n",
       "      <td>0</td>\n",
       "      <td>0</td>\n",
       "      <td>0</td>\n",
       "      <td>0</td>\n",
       "      <td>0</td>\n",
       "      <td>0</td>\n",
       "      <td>0</td>\n",
       "      <td>1.000</td>\n",
       "      <td>1.000</td>\n",
       "      <td>1</td>\n",
       "      <td>9.020139</td>\n",
       "      <td>1</td>\n",
       "    </tr>\n",
       "    <tr>\n",
       "      <th>23</th>\n",
       "      <td>Dog</td>\n",
       "      <td>white sable</td>\n",
       "      <td>beagle labrador retriever</td>\n",
       "      <td>Stray</td>\n",
       "      <td>Normal</td>\n",
       "      <td>0</td>\n",
       "      <td>0</td>\n",
       "      <td>0</td>\n",
       "      <td>0</td>\n",
       "      <td>0</td>\n",
       "      <td>0</td>\n",
       "      <td>0</td>\n",
       "      <td>1.000</td>\n",
       "      <td>1.000</td>\n",
       "      <td>1</td>\n",
       "      <td>23.104861</td>\n",
       "      <td>1</td>\n",
       "    </tr>\n",
       "    <tr>\n",
       "      <th>33</th>\n",
       "      <td>Dog</td>\n",
       "      <td>brown black</td>\n",
       "      <td>mix shepherd german</td>\n",
       "      <td>Stray</td>\n",
       "      <td>Normal</td>\n",
       "      <td>0</td>\n",
       "      <td>0</td>\n",
       "      <td>0</td>\n",
       "      <td>0</td>\n",
       "      <td>0</td>\n",
       "      <td>0</td>\n",
       "      <td>0</td>\n",
       "      <td>1.000</td>\n",
       "      <td>1.000</td>\n",
       "      <td>1</td>\n",
       "      <td>89.855556</td>\n",
       "      <td>1</td>\n",
       "    </tr>\n",
       "    <tr>\n",
       "      <th>49</th>\n",
       "      <td>Dog</td>\n",
       "      <td>tricolor</td>\n",
       "      <td>mix pointer</td>\n",
       "      <td>Stray</td>\n",
       "      <td>Normal</td>\n",
       "      <td>0</td>\n",
       "      <td>0</td>\n",
       "      <td>0</td>\n",
       "      <td>0</td>\n",
       "      <td>0</td>\n",
       "      <td>0</td>\n",
       "      <td>0</td>\n",
       "      <td>1.000</td>\n",
       "      <td>1.000</td>\n",
       "      <td>1</td>\n",
       "      <td>2.755556</td>\n",
       "      <td>1</td>\n",
       "    </tr>\n",
       "    <tr>\n",
       "      <th>...</th>\n",
       "      <td>...</td>\n",
       "      <td>...</td>\n",
       "      <td>...</td>\n",
       "      <td>...</td>\n",
       "      <td>...</td>\n",
       "      <td>...</td>\n",
       "      <td>...</td>\n",
       "      <td>...</td>\n",
       "      <td>...</td>\n",
       "      <td>...</td>\n",
       "      <td>...</td>\n",
       "      <td>...</td>\n",
       "      <td>...</td>\n",
       "      <td>...</td>\n",
       "      <td>...</td>\n",
       "      <td>...</td>\n",
       "      <td>...</td>\n",
       "    </tr>\n",
       "    <tr>\n",
       "      <th>127099</th>\n",
       "      <td>Dog</td>\n",
       "      <td>black</td>\n",
       "      <td>retriever labrador mix</td>\n",
       "      <td>Owner Surrender</td>\n",
       "      <td>Normal</td>\n",
       "      <td>0</td>\n",
       "      <td>0</td>\n",
       "      <td>0</td>\n",
       "      <td>0</td>\n",
       "      <td>0</td>\n",
       "      <td>0</td>\n",
       "      <td>0</td>\n",
       "      <td>0.167</td>\n",
       "      <td>0.083</td>\n",
       "      <td>1</td>\n",
       "      <td>3.024306</td>\n",
       "      <td>1</td>\n",
       "    </tr>\n",
       "    <tr>\n",
       "      <th>127100</th>\n",
       "      <td>Dog</td>\n",
       "      <td>brown black</td>\n",
       "      <td>retriever labrador mix</td>\n",
       "      <td>Owner Surrender</td>\n",
       "      <td>Normal</td>\n",
       "      <td>0</td>\n",
       "      <td>0</td>\n",
       "      <td>0</td>\n",
       "      <td>0</td>\n",
       "      <td>0</td>\n",
       "      <td>0</td>\n",
       "      <td>0</td>\n",
       "      <td>0.167</td>\n",
       "      <td>0.083</td>\n",
       "      <td>1</td>\n",
       "      <td>3.043750</td>\n",
       "      <td>1</td>\n",
       "    </tr>\n",
       "    <tr>\n",
       "      <th>127102</th>\n",
       "      <td>Dog</td>\n",
       "      <td>chocolate white</td>\n",
       "      <td>pit bull mix</td>\n",
       "      <td>Owner Surrender</td>\n",
       "      <td>Normal</td>\n",
       "      <td>0</td>\n",
       "      <td>0</td>\n",
       "      <td>0</td>\n",
       "      <td>0</td>\n",
       "      <td>0</td>\n",
       "      <td>0</td>\n",
       "      <td>0</td>\n",
       "      <td>0.167</td>\n",
       "      <td>0.083</td>\n",
       "      <td>1</td>\n",
       "      <td>2.899306</td>\n",
       "      <td>1</td>\n",
       "    </tr>\n",
       "    <tr>\n",
       "      <th>127114</th>\n",
       "      <td>Cat</td>\n",
       "      <td>brown white tabby</td>\n",
       "      <td>domestic shorthair</td>\n",
       "      <td>Owner Surrender</td>\n",
       "      <td>Normal</td>\n",
       "      <td>0</td>\n",
       "      <td>0</td>\n",
       "      <td>0</td>\n",
       "      <td>0</td>\n",
       "      <td>0</td>\n",
       "      <td>0</td>\n",
       "      <td>0</td>\n",
       "      <td>2.000</td>\n",
       "      <td>2.000</td>\n",
       "      <td>1</td>\n",
       "      <td>3.177778</td>\n",
       "      <td>1</td>\n",
       "    </tr>\n",
       "    <tr>\n",
       "      <th>127116</th>\n",
       "      <td>Dog</td>\n",
       "      <td>brown brindle</td>\n",
       "      <td>tennesse treeing brindle mix</td>\n",
       "      <td>Owner Surrender</td>\n",
       "      <td>Normal</td>\n",
       "      <td>0</td>\n",
       "      <td>0</td>\n",
       "      <td>0</td>\n",
       "      <td>0</td>\n",
       "      <td>0</td>\n",
       "      <td>0</td>\n",
       "      <td>0</td>\n",
       "      <td>0.167</td>\n",
       "      <td>0.167</td>\n",
       "      <td>1</td>\n",
       "      <td>2.030556</td>\n",
       "      <td>1</td>\n",
       "    </tr>\n",
       "  </tbody>\n",
       "</table>\n",
       "<p>57116 rows × 17 columns</p>\n",
       "</div>"
      ],
      "text/plain": [
       "       animal_type              color                         breed  \\\n",
       "12             Dog          tan black                 mix dachshund   \n",
       "14             Dog          tan black           chihuahua shorthair   \n",
       "23             Dog        white sable     beagle labrador retriever   \n",
       "33             Dog        brown black           mix shepherd german   \n",
       "49             Dog           tricolor                   mix pointer   \n",
       "...            ...                ...                           ...   \n",
       "127099         Dog              black        retriever labrador mix   \n",
       "127100         Dog        brown black        retriever labrador mix   \n",
       "127102         Dog    chocolate white                  pit bull mix   \n",
       "127114         Cat  brown white tabby            domestic shorthair   \n",
       "127116         Dog      brown brindle  tennesse treeing brindle mix   \n",
       "\n",
       "            intake_type intake_condition  prev_adoption  prev_transfer  \\\n",
       "12      Owner Surrender           Normal              0              0   \n",
       "14        Public Assist             Aged              0              0   \n",
       "23                Stray           Normal              0              0   \n",
       "33                Stray           Normal              0              0   \n",
       "49                Stray           Normal              0              0   \n",
       "...                 ...              ...            ...            ...   \n",
       "127099  Owner Surrender           Normal              0              0   \n",
       "127100  Owner Surrender           Normal              0              0   \n",
       "127102  Owner Surrender           Normal              0              0   \n",
       "127114  Owner Surrender           Normal              0              0   \n",
       "127116  Owner Surrender           Normal              0              0   \n",
       "\n",
       "        prev_ret_to_owner  prev_rto_adopt  prev_disposal  prev_missing  \\\n",
       "12                      0               0              0             0   \n",
       "14                      0               0              0             0   \n",
       "23                      0               0              0             0   \n",
       "33                      0               0              0             0   \n",
       "49                      0               0              0             0   \n",
       "...                   ...             ...            ...           ...   \n",
       "127099                  0               0              0             0   \n",
       "127100                  0               0              0             0   \n",
       "127102                  0               0              0             0   \n",
       "127114                  0               0              0             0   \n",
       "127116                  0               0              0             0   \n",
       "\n",
       "        prev_relocate  age_upon_outcome  age_upon_intake  is_named_out  \\\n",
       "12                  0             1.000            1.000             1   \n",
       "14                  0             1.000            1.000             1   \n",
       "23                  0             1.000            1.000             1   \n",
       "33                  0             1.000            1.000             1   \n",
       "49                  0             1.000            1.000             1   \n",
       "...               ...               ...              ...           ...   \n",
       "127099              0             0.167            0.083             1   \n",
       "127100              0             0.167            0.083             1   \n",
       "127102              0             0.167            0.083             1   \n",
       "127114              0             2.000            2.000             1   \n",
       "127116              0             0.167            0.167             1   \n",
       "\n",
       "         duration  is_fixed  \n",
       "12      49.747917         1  \n",
       "14       9.020139         1  \n",
       "23      23.104861         1  \n",
       "33      89.855556         1  \n",
       "49       2.755556         1  \n",
       "...           ...       ...  \n",
       "127099   3.024306         1  \n",
       "127100   3.043750         1  \n",
       "127102   2.899306         1  \n",
       "127114   3.177778         1  \n",
       "127116   2.030556         1  \n",
       "\n",
       "[57116 rows x 17 columns]"
      ]
     },
     "execution_count": 32,
     "metadata": {},
     "output_type": "execute_result"
    }
   ],
   "source": [
    "df.drop(columns=['sex_upon_outcome'])"
   ]
  },
  {
   "cell_type": "code",
   "execution_count": 33,
   "id": "c603fc4e-369a-4ff4-8bd4-36ca785ffa99",
   "metadata": {},
   "outputs": [],
   "source": [
    "from sklearn.model_selection import train_test_split"
   ]
  },
  {
   "cell_type": "code",
   "execution_count": 35,
   "id": "ea3de296-7901-424d-8f10-689da853d594",
   "metadata": {},
   "outputs": [],
   "source": [
    "X = df.drop(columns=['duration'])\n",
    "y = df['duration']"
   ]
  },
  {
   "cell_type": "code",
   "execution_count": 36,
   "id": "eb787879-e111-408a-aead-cef6c59c6b94",
   "metadata": {},
   "outputs": [],
   "source": [
    "X_train, X_test, y_train, y_test = train_test_split(X, y, random_state = 42)"
   ]
  },
  {
   "cell_type": "code",
   "execution_count": 38,
   "id": "1fca9943-cd7e-4466-bb18-fa8d0f1c88f9",
   "metadata": {},
   "outputs": [],
   "source": [
    "train = pd.merge(X_train, y_train, left_index=True, right_index=True)\n",
    "test = pd.merge(X_test, y_test, left_index=True, right_index=True)"
   ]
  },
  {
   "cell_type": "code",
   "execution_count": 65,
   "id": "beaf50d7-aa38-4955-a29e-7e0bda6f361e",
   "metadata": {},
   "outputs": [],
   "source": [
    "animal_type_rank = {}\n",
    "\n",
    "for index, key in enumerate(list(train.groupby('animal_type')['duration'].mean().sort_values(ascending = False).to_dict().keys())):\n",
    "    animal_type_rank[key] = index"
   ]
  },
  {
   "cell_type": "code",
   "execution_count": 66,
   "id": "a37acf23-d399-4f22-8e7a-804407e06afc",
   "metadata": {},
   "outputs": [
    {
     "data": {
      "text/plain": [
       "{'Livestock': 0, 'Cat': 1, 'Dog': 2, 'Other': 3, 'Bird': 4}"
      ]
     },
     "execution_count": 66,
     "metadata": {},
     "output_type": "execute_result"
    }
   ],
   "source": [
    "animal_type_rank"
   ]
  },
  {
   "cell_type": "code",
   "execution_count": 69,
   "id": "7f933f37-20e2-46e5-b477-c28bdc242786",
   "metadata": {},
   "outputs": [],
   "source": [
    "train['animal_type_rank'] = train['animal_type'].map(animal_type_rank)\n",
    "test['animal_type_rank'] = test['animal_type'].map(animal_type_rank)"
   ]
  },
  {
   "cell_type": "code",
   "execution_count": 72,
   "id": "60684132-92d8-4db8-b12c-cd5dd9cddcb6",
   "metadata": {},
   "outputs": [],
   "source": [
    "train['breed_'] = train['breed'].map(lambda x: x if x in test['breed'].unique() else 'Other')\n",
    "test['breed_'] = test['breed'].map(lambda x: x if x in train['breed'].unique() else 'Other')"
   ]
  },
  {
   "cell_type": "code",
   "execution_count": 73,
   "id": "423bce95-ed01-4239-951f-b74ad3517b15",
   "metadata": {},
   "outputs": [],
   "source": [
    "breed_rank = {}\n",
    "\n",
    "for index, key in enumerate(list(train.groupby('breed_')['duration'].mean().sort_values(ascending = False).to_dict().keys())):\n",
    "    breed_rank[key] = index"
   ]
  },
  {
   "cell_type": "code",
   "execution_count": 77,
   "id": "4073e2d8-03cb-4fc0-b28f-9c4a28e307ef",
   "metadata": {},
   "outputs": [],
   "source": [
    "train['breed_rank'] = train['breed_'].map(breed_rank)\n",
    "test['breed_rank'] = test['breed_'].map(breed_rank)"
   ]
  },
  {
   "cell_type": "code",
   "execution_count": 78,
   "id": "dead9cf7-caca-4b97-99a3-bbd82cb2c54c",
   "metadata": {},
   "outputs": [],
   "source": [
    "train['color_'] = train['color'].map(lambda x: x if x in test['color'].unique() else 'Other')\n",
    "test['color_'] = test['color'].map(lambda x: x if x in train['color'].unique() else 'Other')"
   ]
  },
  {
   "cell_type": "code",
   "execution_count": 79,
   "id": "8e05d65f-7051-46d8-8ef4-391a1c751e7c",
   "metadata": {},
   "outputs": [],
   "source": [
    "color_rank = {}\n",
    "\n",
    "for index, key in enumerate(list(train.groupby('color_')['duration'].mean().sort_values(ascending = False).to_dict().keys())):\n",
    "    color_rank[key] = index"
   ]
  },
  {
   "cell_type": "code",
   "execution_count": 81,
   "id": "c9b37186-0437-4242-9b3e-f08f519b0bff",
   "metadata": {},
   "outputs": [],
   "source": [
    "train['color_rank'] = train['color_'].map(color_rank)\n",
    "test['color_rank'] = test['color_'].map(color_rank)"
   ]
  },
  {
   "cell_type": "code",
   "execution_count": 83,
   "id": "76840ecc-eb1e-4ade-99bf-58bd7db3d878",
   "metadata": {},
   "outputs": [],
   "source": [
    "train['intake_type_'] = train['intake_type'].map(lambda x: x if x in test['intake_type'].unique() else 'Other')\n",
    "test['intake_type_'] = test['intake_type'].map(lambda x: x if x in train['intake_type'].unique() else 'Other')"
   ]
  },
  {
   "cell_type": "code",
   "execution_count": 84,
   "id": "f9615d97-88ba-4688-ae64-5b5bfc19e4cc",
   "metadata": {},
   "outputs": [],
   "source": [
    "intake_type_rank = {}\n",
    "\n",
    "for index, key in enumerate(list(train.groupby('intake_type_')['duration'].mean().sort_values(ascending = False).to_dict().keys())):\n",
    "    intake_type_rank[key] = index"
   ]
  },
  {
   "cell_type": "code",
   "execution_count": 86,
   "id": "73a168be-c9d9-440c-9305-bf5252d35753",
   "metadata": {},
   "outputs": [],
   "source": [
    "train['intake_type_rank'] = train['intake_type_'].map(intake_type_rank)\n",
    "test['intake_type_rank'] = test['intake_type_'].map(intake_type_rank)"
   ]
  },
  {
   "cell_type": "code",
   "execution_count": 87,
   "id": "b416379b-74cd-4edb-bdce-7c2c0c7e6681",
   "metadata": {},
   "outputs": [],
   "source": [
    "train['intake_condition_'] = train['intake_condition'].map(lambda x: x if x in test['intake_condition'].unique() else 'Other')\n",
    "test['intake_condition_'] = test['intake_condition'].map(lambda x: x if x in train['intake_condition'].unique() else 'Other')"
   ]
  },
  {
   "cell_type": "code",
   "execution_count": 88,
   "id": "c8c7cf73-be67-4397-aa73-2f178522b456",
   "metadata": {},
   "outputs": [],
   "source": [
    "intake_condition_rank = {}\n",
    "\n",
    "for index, key in enumerate(list(train.groupby('intake_condition_')['duration'].mean().sort_values(ascending = False).to_dict().keys())):\n",
    "    intake_condition_rank[key] = index"
   ]
  },
  {
   "cell_type": "code",
   "execution_count": 89,
   "id": "fd525ecc-9fdd-4ce4-ae9f-8fe1af56a530",
   "metadata": {},
   "outputs": [],
   "source": [
    "train['intake_condition_rank'] = train['intake_condition_'].map(intake_condition_rank)\n",
    "test['intake_condition_rank'] = test['intake_condition_'].map(intake_condition_rank)"
   ]
  },
  {
   "cell_type": "code",
   "execution_count": 92,
   "id": "4f680fed-a79b-41bb-8689-ca2d23a6ffe2",
   "metadata": {},
   "outputs": [],
   "source": [
    "train.drop(columns=['animal_type', 'color', 'breed', 'intake_type', 'intake_condition', 'color_', 'breed_', 'intake_type_', 'intake_condition_', 'sex_upon_outcome'], inplace=True)\n",
    "test.drop(columns=['animal_type', 'color', 'breed', 'intake_type', 'intake_condition', 'color_', 'breed_', 'intake_type_', 'intake_condition_', 'sex_upon_outcome'], inplace=True)"
   ]
  },
  {
   "cell_type": "code",
   "execution_count": 94,
   "id": "0df71cb1-9a80-49b9-85bf-9f034fcce393",
   "metadata": {},
   "outputs": [],
   "source": [
    "train.drop(columns=['age_upon_intake'], inplace = True)\n",
    "test.drop(columns=['age_upon_intake'], inplace = True)"
   ]
  },
  {
   "cell_type": "code",
   "execution_count": 97,
   "id": "6f30fa99-f29f-4d6f-9e4f-198bfdad2ae0",
   "metadata": {},
   "outputs": [],
   "source": [
    "from sklearn.model_selection import cross_val_score\n",
    "from sklearn.linear_model import LinearRegression"
   ]
  },
  {
   "cell_type": "code",
   "execution_count": 115,
   "id": "92487c55-ca92-49ac-b4cc-99e24e818788",
   "metadata": {},
   "outputs": [],
   "source": [
    "buffer = train[['color_rank', 'breed_rank', 'animal_type_rank', 'duration']]"
   ]
  },
  {
   "cell_type": "code",
   "execution_count": 116,
   "id": "352f93cd-e57b-4deb-bd7d-7c726694dace",
   "metadata": {},
   "outputs": [],
   "source": [
    "X = buffer.drop(columns=['duration'])\n",
    "y = buffer['duration']"
   ]
  },
  {
   "cell_type": "code",
   "execution_count": 117,
   "id": "a6ff9e90-d326-4cc0-bfd0-aeaf87ff553b",
   "metadata": {},
   "outputs": [],
   "source": [
    "X_train, X_test, y_train, y_test = train_test_split(X, y, random_state = 42)"
   ]
  },
  {
   "cell_type": "code",
   "execution_count": 118,
   "id": "0a81c2bb-fa15-40d8-bda6-41d712382888",
   "metadata": {},
   "outputs": [],
   "source": [
    "lr = LinearRegression()"
   ]
  },
  {
   "cell_type": "code",
   "execution_count": 119,
   "id": "5cbb5b06-e4bc-4a0a-abd9-7cf3697c4e6d",
   "metadata": {},
   "outputs": [
    {
     "data": {
      "text/plain": [
       "(32127, 3)"
      ]
     },
     "execution_count": 119,
     "metadata": {},
     "output_type": "execute_result"
    }
   ],
   "source": [
    "X_train.shape"
   ]
  },
  {
   "cell_type": "code",
   "execution_count": 120,
   "id": "858522b6-15d2-41d7-8fb8-a9c0af512372",
   "metadata": {},
   "outputs": [
    {
     "data": {
      "text/plain": [
       "(32127,)"
      ]
     },
     "execution_count": 120,
     "metadata": {},
     "output_type": "execute_result"
    }
   ],
   "source": [
    "y_train.shape"
   ]
  },
  {
   "cell_type": "code",
   "execution_count": 121,
   "id": "be2d4090-c39c-4025-8d13-ff678e62fe73",
   "metadata": {},
   "outputs": [
    {
     "data": {
      "text/plain": [
       "LinearRegression()"
      ]
     },
     "execution_count": 121,
     "metadata": {},
     "output_type": "execute_result"
    }
   ],
   "source": [
    "lr.fit(X_train, y_train)"
   ]
  },
  {
   "cell_type": "code",
   "execution_count": 122,
   "id": "6ad87e8f-10eb-4669-a8cd-649bf08236ed",
   "metadata": {},
   "outputs": [
    {
     "data": {
      "text/plain": [
       "0.0511666982216501"
      ]
     },
     "execution_count": 122,
     "metadata": {},
     "output_type": "execute_result"
    }
   ],
   "source": [
    "lr.score(X_train, y_train)"
   ]
  },
  {
   "cell_type": "code",
   "execution_count": 123,
   "id": "b3088601-25ce-4f01-bf8d-60cd09230c0c",
   "metadata": {},
   "outputs": [
    {
     "data": {
      "text/plain": [
       "0.04832627441829951"
      ]
     },
     "execution_count": 123,
     "metadata": {},
     "output_type": "execute_result"
    }
   ],
   "source": [
    "lr.score(X_test, y_test)"
   ]
  },
  {
   "cell_type": "code",
   "execution_count": null,
   "id": "a53171ac-28c5-44a0-b424-171c78226547",
   "metadata": {},
   "outputs": [],
   "source": []
  }
 ],
 "metadata": {
  "kernelspec": {
   "display_name": "Python 3",
   "language": "python",
   "name": "python3"
  },
  "language_info": {
   "codemirror_mode": {
    "name": "ipython",
    "version": 3
   },
   "file_extension": ".py",
   "mimetype": "text/x-python",
   "name": "python",
   "nbconvert_exporter": "python",
   "pygments_lexer": "ipython3",
   "version": "3.8.8"
  }
 },
 "nbformat": 4,
 "nbformat_minor": 5
}
