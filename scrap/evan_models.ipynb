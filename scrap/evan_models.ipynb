{
  "nbformat": 4,
  "nbformat_minor": 0,
  "metadata": {
    "colab": {
      "name": "evan_models.ipynb",
      "provenance": [],
      "toc_visible": true,
      "machine_shape": "hm"
    },
    "kernelspec": {
      "name": "python3",
      "display_name": "Python 3"
    },
    "language_info": {
      "name": "python"
    },
    "accelerator": "TPU"
  },
  "cells": [
    {
      "cell_type": "markdown",
      "metadata": {
        "id": "pRYa3_1DwaKv"
      },
      "source": [
        "# Imports & Resources"
      ]
    },
    {
      "cell_type": "code",
      "metadata": {
        "id": "Diole-MQtqS5",
        "colab": {
          "base_uri": "https://localhost:8080/"
        },
        "outputId": "1e7a02f1-7f9a-482f-dade-1b89c087decb"
      },
      "source": [
        "from google.colab import drive\n",
        "drive.mount('/content/drive')"
      ],
      "execution_count": null,
      "outputs": [
        {
          "output_type": "stream",
          "text": [
            "Drive already mounted at /content/drive; to attempt to forcibly remount, call drive.mount(\"/content/drive\", force_remount=True).\n"
          ],
          "name": "stdout"
        }
      ]
    },
    {
      "cell_type": "code",
      "metadata": {
        "id": "-Y7hRI7reBnW"
      },
      "source": [
        "import pandas as pd\n",
        "import numpy as np\n",
        "import datetime as dt\n",
        "import matplotlib.pyplot as plt\n",
        "\n",
        "from sklearn.preprocessing import StandardScaler, LabelEncoder, OneHotEncoder\n",
        "from sklearn.model_selection import train_test_split\n",
        "from sklearn.metrics import classification_report\n",
        "from sklearn.ensemble import RandomForestClassifier\n",
        "\n",
        "\n",
        "import tensorflow as tf\n",
        "from tensorflow.keras.models import Sequential\n",
        "from tensorflow.keras.layers import Dense, Dropout, BatchNormalization\n",
        "from tensorflow.keras.optimizers import Adam\n",
        "from tensorflow.keras.callbacks import EarlyStopping\n",
        "from tensorflow.keras.regularizers import l2\n",
        "\n",
        "from keras.utils import np_utils\n",
        "\n",
        "# fix the pip install\n",
        "#from keras_visualizer import visualizer"
      ],
      "execution_count": null,
      "outputs": []
    },
    {
      "cell_type": "code",
      "metadata": {
        "id": "iUad4_u1eEgF"
      },
      "source": [
        "df = pd.read_csv('https://raw.githubusercontent.com/bpberry0324/animal_shelter_outcomes/main/datasets/main.csv')"
      ],
      "execution_count": null,
      "outputs": []
    },
    {
      "cell_type": "code",
      "metadata": {
        "colab": {
          "base_uri": "https://localhost:8080/",
          "height": 365
        },
        "id": "H2ZnF9XveNbL",
        "outputId": "ee7bb793-566e-4428-e292-09527ca9360f"
      },
      "source": [
        "df.head()"
      ],
      "execution_count": null,
      "outputs": [
        {
          "output_type": "execute_result",
          "data": {
            "text/html": [
              "<div>\n",
              "<style scoped>\n",
              "    .dataframe tbody tr th:only-of-type {\n",
              "        vertical-align: middle;\n",
              "    }\n",
              "\n",
              "    .dataframe tbody tr th {\n",
              "        vertical-align: top;\n",
              "    }\n",
              "\n",
              "    .dataframe thead th {\n",
              "        text-align: right;\n",
              "    }\n",
              "</style>\n",
              "<table border=\"1\" class=\"dataframe\">\n",
              "  <thead>\n",
              "    <tr style=\"text-align: right;\">\n",
              "      <th></th>\n",
              "      <th>animal_id_in</th>\n",
              "      <th>animal_type</th>\n",
              "      <th>color</th>\n",
              "      <th>breed</th>\n",
              "      <th>intake_type</th>\n",
              "      <th>outcome_type</th>\n",
              "      <th>intake_condition</th>\n",
              "      <th>outcome_subtype</th>\n",
              "      <th>datetime_in</th>\n",
              "      <th>datetime_out</th>\n",
              "      <th>year_in</th>\n",
              "      <th>month_in</th>\n",
              "      <th>day_in</th>\n",
              "      <th>year_out</th>\n",
              "      <th>month_out</th>\n",
              "      <th>day_out</th>\n",
              "      <th>prev_adoption</th>\n",
              "      <th>prev_transfer</th>\n",
              "      <th>prev_ret_to_owner</th>\n",
              "      <th>prev_rto_adopt</th>\n",
              "      <th>prev_disposal</th>\n",
              "      <th>prev_missing</th>\n",
              "      <th>prev_relocate</th>\n",
              "      <th>age_upon_outcome</th>\n",
              "      <th>age_upon_intake</th>\n",
              "      <th>sex_upon_intake</th>\n",
              "      <th>sex_upon_outcome</th>\n",
              "      <th>is_named_in</th>\n",
              "      <th>is_named_out</th>\n",
              "      <th>found_location</th>\n",
              "      <th>name_in</th>\n",
              "      <th>name_out</th>\n",
              "    </tr>\n",
              "  </thead>\n",
              "  <tbody>\n",
              "    <tr>\n",
              "      <th>0</th>\n",
              "      <td>A006100</td>\n",
              "      <td>Dog</td>\n",
              "      <td>yellow white</td>\n",
              "      <td>spinone italiano mix</td>\n",
              "      <td>Public Assist</td>\n",
              "      <td>Return to Owner</td>\n",
              "      <td>Normal</td>\n",
              "      <td>Unknown</td>\n",
              "      <td>2014-12-19 10:21:00</td>\n",
              "      <td>2014-12-20 16:35:00</td>\n",
              "      <td>2014</td>\n",
              "      <td>12</td>\n",
              "      <td>Friday</td>\n",
              "      <td>2014</td>\n",
              "      <td>12</td>\n",
              "      <td>Saturday</td>\n",
              "      <td>0</td>\n",
              "      <td>0</td>\n",
              "      <td>1</td>\n",
              "      <td>0</td>\n",
              "      <td>0</td>\n",
              "      <td>0</td>\n",
              "      <td>0</td>\n",
              "      <td>7.0</td>\n",
              "      <td>7.0</td>\n",
              "      <td>Neutered Male</td>\n",
              "      <td>Neutered Male</td>\n",
              "      <td>1</td>\n",
              "      <td>1</td>\n",
              "      <td>8700 Research Blvd in Austin (TX)</td>\n",
              "      <td>Scamp</td>\n",
              "      <td>Scamp</td>\n",
              "    </tr>\n",
              "    <tr>\n",
              "      <th>1</th>\n",
              "      <td>A006100</td>\n",
              "      <td>Dog</td>\n",
              "      <td>yellow white</td>\n",
              "      <td>spinone italiano mix</td>\n",
              "      <td>Public Assist</td>\n",
              "      <td>Return to Owner</td>\n",
              "      <td>Normal</td>\n",
              "      <td>Unknown</td>\n",
              "      <td>2014-03-07 14:26:00</td>\n",
              "      <td>2014-03-08 17:10:00</td>\n",
              "      <td>2014</td>\n",
              "      <td>3</td>\n",
              "      <td>Friday</td>\n",
              "      <td>2014</td>\n",
              "      <td>3</td>\n",
              "      <td>Saturday</td>\n",
              "      <td>0</td>\n",
              "      <td>0</td>\n",
              "      <td>0</td>\n",
              "      <td>0</td>\n",
              "      <td>0</td>\n",
              "      <td>0</td>\n",
              "      <td>0</td>\n",
              "      <td>6.0</td>\n",
              "      <td>6.0</td>\n",
              "      <td>Neutered Male</td>\n",
              "      <td>Neutered Male</td>\n",
              "      <td>1</td>\n",
              "      <td>1</td>\n",
              "      <td>8700 Research in Austin (TX)</td>\n",
              "      <td>Scamp</td>\n",
              "      <td>Scamp</td>\n",
              "    </tr>\n",
              "    <tr>\n",
              "      <th>2</th>\n",
              "      <td>A047759</td>\n",
              "      <td>Dog</td>\n",
              "      <td>tricolor</td>\n",
              "      <td>dachshund</td>\n",
              "      <td>Owner Surrender</td>\n",
              "      <td>Transfer</td>\n",
              "      <td>Normal</td>\n",
              "      <td>Partner</td>\n",
              "      <td>2014-04-02 15:55:00</td>\n",
              "      <td>2014-04-07 15:12:00</td>\n",
              "      <td>2014</td>\n",
              "      <td>4</td>\n",
              "      <td>Wednesday</td>\n",
              "      <td>2014</td>\n",
              "      <td>4</td>\n",
              "      <td>Monday</td>\n",
              "      <td>0</td>\n",
              "      <td>0</td>\n",
              "      <td>0</td>\n",
              "      <td>0</td>\n",
              "      <td>0</td>\n",
              "      <td>0</td>\n",
              "      <td>0</td>\n",
              "      <td>1.0</td>\n",
              "      <td>1.0</td>\n",
              "      <td>Neutered Male</td>\n",
              "      <td>Neutered Male</td>\n",
              "      <td>1</td>\n",
              "      <td>1</td>\n",
              "      <td>Austin (TX)</td>\n",
              "      <td>Oreo</td>\n",
              "      <td>Oreo</td>\n",
              "    </tr>\n",
              "    <tr>\n",
              "      <th>3</th>\n",
              "      <td>A134067</td>\n",
              "      <td>Dog</td>\n",
              "      <td>brown white</td>\n",
              "      <td>sheepdog shetland</td>\n",
              "      <td>Public Assist</td>\n",
              "      <td>Return to Owner</td>\n",
              "      <td>Injured</td>\n",
              "      <td>Unknown</td>\n",
              "      <td>2013-11-16 09:02:00</td>\n",
              "      <td>2013-11-16 11:54:00</td>\n",
              "      <td>2013</td>\n",
              "      <td>11</td>\n",
              "      <td>Saturday</td>\n",
              "      <td>2013</td>\n",
              "      <td>11</td>\n",
              "      <td>Saturday</td>\n",
              "      <td>0</td>\n",
              "      <td>0</td>\n",
              "      <td>0</td>\n",
              "      <td>0</td>\n",
              "      <td>0</td>\n",
              "      <td>0</td>\n",
              "      <td>0</td>\n",
              "      <td>1.0</td>\n",
              "      <td>1.0</td>\n",
              "      <td>Neutered Male</td>\n",
              "      <td>Neutered Male</td>\n",
              "      <td>1</td>\n",
              "      <td>1</td>\n",
              "      <td>12034 Research Blvd in Austin (TX)</td>\n",
              "      <td>Bandit</td>\n",
              "      <td>Bandit</td>\n",
              "    </tr>\n",
              "    <tr>\n",
              "      <th>4</th>\n",
              "      <td>A141142</td>\n",
              "      <td>Dog</td>\n",
              "      <td>white black</td>\n",
              "      <td>retriever labrador bull pit</td>\n",
              "      <td>Stray</td>\n",
              "      <td>Return to Owner</td>\n",
              "      <td>Aged</td>\n",
              "      <td>Unknown</td>\n",
              "      <td>2013-11-16 14:46:00</td>\n",
              "      <td>2013-11-17 11:40:00</td>\n",
              "      <td>2013</td>\n",
              "      <td>11</td>\n",
              "      <td>Saturday</td>\n",
              "      <td>2013</td>\n",
              "      <td>11</td>\n",
              "      <td>Sunday</td>\n",
              "      <td>0</td>\n",
              "      <td>0</td>\n",
              "      <td>0</td>\n",
              "      <td>0</td>\n",
              "      <td>0</td>\n",
              "      <td>0</td>\n",
              "      <td>0</td>\n",
              "      <td>1.0</td>\n",
              "      <td>1.0</td>\n",
              "      <td>Spayed Female</td>\n",
              "      <td>Spayed Female</td>\n",
              "      <td>1</td>\n",
              "      <td>1</td>\n",
              "      <td>Austin (TX)</td>\n",
              "      <td>Bettie</td>\n",
              "      <td>Bettie</td>\n",
              "    </tr>\n",
              "  </tbody>\n",
              "</table>\n",
              "</div>"
            ],
            "text/plain": [
              "  animal_id_in animal_type  ... name_in name_out\n",
              "0      A006100         Dog  ...   Scamp    Scamp\n",
              "1      A006100         Dog  ...   Scamp    Scamp\n",
              "2      A047759         Dog  ...    Oreo     Oreo\n",
              "3      A134067         Dog  ...  Bandit   Bandit\n",
              "4      A141142         Dog  ...  Bettie   Bettie\n",
              "\n",
              "[5 rows x 32 columns]"
            ]
          },
          "metadata": {
            "tags": []
          },
          "execution_count": 115
        }
      ]
    },
    {
      "cell_type": "markdown",
      "metadata": {
        "id": "sQKU-Czjwf56"
      },
      "source": [
        "# Pre-processing"
      ]
    },
    {
      "cell_type": "code",
      "metadata": {
        "id": "Y2eQAFAWeVkg"
      },
      "source": [
        "df = df.drop(columns=['datetime_in', 'datetime_out', 'name_out', 'name_in', 'day_out', \n",
        "                      'month_out', 'year_out', 'found_location'])"
      ],
      "execution_count": null,
      "outputs": []
    },
    {
      "cell_type": "code",
      "metadata": {
        "id": "qVzkWc9ygogv"
      },
      "source": [
        "df_dummied = df.copy().drop(columns=['animal_id_in','outcome_subtype','outcome_type'])\n",
        "df_dummied = pd.get_dummies(df_dummied, drop_first=True)\n",
        "df_dummied['animal_id_in'] = df['animal_id_in']\n",
        "df_dummied['outcome_subtype'] = df['outcome_subtype']\n",
        "df_dummied['outcome_type'] = df['outcome_type']\n",
        "\n",
        "df = df_dummied"
      ],
      "execution_count": null,
      "outputs": []
    },
    {
      "cell_type": "code",
      "metadata": {
        "id": "WjpJ6VVAhzx7"
      },
      "source": [
        "X = df.drop(columns=['animal_id_in','outcome_type','outcome_subtype'])\n",
        "y = df['outcome_type']"
      ],
      "execution_count": null,
      "outputs": []
    },
    {
      "cell_type": "code",
      "metadata": {
        "id": "WqtpGDsYiGVm"
      },
      "source": [
        "# making our label categorical\n",
        "encoder = LabelEncoder()\n",
        "encoded_y = encoder.fit_transform(y)\n",
        "y = np_utils.to_categorical(encoded_y)"
      ],
      "execution_count": null,
      "outputs": []
    },
    {
      "cell_type": "code",
      "metadata": {
        "id": "JaIXgC9bkJyq"
      },
      "source": [
        "X_train, X_test, y_train, y_test = train_test_split(X, y, \n",
        "                                                    random_state=13, \n",
        "                                                    stratify=y,\n",
        "                                                    test_size=.2)\n",
        "sc = StandardScaler()\n",
        "X_train_sc = sc.fit_transform(X_train)\n",
        "X_test_sc = sc.transform(X_test)"
      ],
      "execution_count": null,
      "outputs": []
    },
    {
      "cell_type": "markdown",
      "metadata": {
        "id": "EKWhQLdmsUNj"
      },
      "source": [
        "# Sequential Neural Network"
      ]
    },
    {
      "cell_type": "code",
      "metadata": {
        "id": "wOw_2ySjjKlS"
      },
      "source": [
        "def animal_outcome_engine():\n",
        "  model = Sequential()\n",
        "  model.add(Dense(512, activation='relu', input_dim=X_train.shape[1], kernel_regularizer=l2(.001)))\n",
        "  model.add(Dropout(0.25))\n",
        "\n",
        "  model.add(Dense(1024, activation='relu'))\n",
        "  model.add(Dropout(0.25))\n",
        "\n",
        "  model.add(Dense(512, activation='relu'))\n",
        "  model.add(Dropout(0.25))\n",
        "\n",
        "  model.add(Dense(9, activation='softmax'))\n",
        "  model.compile(loss='categorical_crossentropy', optimizer='adam', metrics=['accuracy'])\n",
        "  return model"
      ],
      "execution_count": null,
      "outputs": []
    },
    {
      "cell_type": "code",
      "metadata": {
        "id": "uHoeZCL4kB8W"
      },
      "source": [
        "model = animal_outcome_engine()\n",
        "early_stop = EarlyStopping(monitor='val_loss', min_delta=0, patience=3, \n",
        "                           verbose=1, mode='auto')\n",
        "history = model.fit(X_train_sc, y_train, \n",
        "                    validation_data=(X_test_sc, y_test),\n",
        "                    epochs=50, \n",
        "                    batch_size=64,\n",
        "                    verbos=1, \n",
        "                    callbacks=[early_stop])"
      ],
      "execution_count": null,
      "outputs": []
    },
    {
      "cell_type": "markdown",
      "metadata": {
        "id": "GLatXOacyOMY"
      },
      "source": [
        "## Metrics"
      ]
    },
    {
      "cell_type": "code",
      "metadata": {
        "colab": {
          "base_uri": "https://localhost:8080/",
          "height": 281
        },
        "id": "f3y8rOUlygFX",
        "outputId": "647e45a1-e646-4d89-b89c-9d56c22a240c"
      },
      "source": [
        "plt.plot(history.history['accuracy'], label='Accuracy')\n",
        "plt.plot(history.history['val_accuracy'], label='Val_Accuracy')\n",
        "plt.legend()\n",
        "plt.title('Accuracy');"
      ],
      "execution_count": null,
      "outputs": [
        {
          "output_type": "display_data",
          "data": {
            "image/png": "[encoded data removed]",
            "text/plain": [
              "<Figure size 432x288 with 1 Axes>"
            ]
          },
          "metadata": {
            "tags": [],
            "needs_background": "light"
          }
        }
      ]
    },
    {
      "cell_type": "code",
      "metadata": {
        "colab": {
          "base_uri": "https://localhost:8080/",
          "height": 281
        },
        "id": "DngMxpuLy_Hs",
        "outputId": "64e602f0-a7bf-4fe3-f8a3-c0952887a702"
      },
      "source": [
        "plt.plot(history.history['loss'], label='Loss')\n",
        "plt.plot(history.history['val_loss'], label='Val_Loss')\n",
        "plt.legend()\n",
        "plt.title('Loss');"
      ],
      "execution_count": null,
      "outputs": [
        {
          "output_type": "display_data",
          "data": {
            "image/png": "[encoded data removed]",
            "text/plain": [
              "<Figure size 432x288 with 1 Axes>"
            ]
          },
          "metadata": {
            "tags": [],
            "needs_background": "light"
          }
        }
      ]
    },
    {
      "cell_type": "markdown",
      "metadata": {
        "id": "toc8P64Nwlv6"
      },
      "source": [
        "## Saving"
      ]
    },
    {
      "cell_type": "code",
      "metadata": {
        "id": "h-2ENUhQp4CJ"
      },
      "source": [
        "model.save('/content/drive/MyDrive/Colab Notebooks/animal_shelter_testing/animal_engine.h5')"
      ],
      "execution_count": null,
      "outputs": []
    },
    {
      "cell_type": "markdown",
      "metadata": {
        "id": "wPAEqMnKwO-9"
      },
      "source": [
        "## Topology"
      ]
    },
    {
      "cell_type": "code",
      "metadata": {
        "id": "JWm3bvMOtD-7",
        "colab": {
          "base_uri": "https://localhost:8080/"
        },
        "outputId": "f82732ef-eca1-451c-eceb-20a7403de590"
      },
      "source": [
        "model.summary()"
      ],
      "execution_count": null,
      "outputs": [
        {
          "output_type": "stream",
          "text": [
            "Model: \"sequential_5\"\n",
            "_________________________________________________________________\n",
            "Layer (type)                 Output Shape              Param #   \n",
            "=================================================================\n",
            "dense_20 (Dense)             (None, 512)               1293312   \n",
            "_________________________________________________________________\n",
            "dropout_15 (Dropout)         (None, 512)               0         \n",
            "_________________________________________________________________\n",
            "dense_21 (Dense)             (None, 1024)              525312    \n",
            "_________________________________________________________________\n",
            "dropout_16 (Dropout)         (None, 1024)              0         \n",
            "_________________________________________________________________\n",
            "dense_22 (Dense)             (None, 512)               524800    \n",
            "_________________________________________________________________\n",
            "dropout_17 (Dropout)         (None, 512)               0         \n",
            "_________________________________________________________________\n",
            "dense_23 (Dense)             (None, 9)                 4617      \n",
            "=================================================================\n",
            "Total params: 2,348,041\n",
            "Trainable params: 2,348,041\n",
            "Non-trainable params: 0\n",
            "_________________________________________________________________\n"
          ],
          "name": "stdout"
        }
      ]
    },
    {
      "cell_type": "code",
      "metadata": {
        "colab": {
          "base_uri": "https://localhost:8080/",
          "height": 865
        },
        "id": "-7k8DjpFt7B-",
        "outputId": "b38148db-6b22-4df8-d6b1-e9a0e57535d0"
      },
      "source": [
        "tf.keras.utils.plot_model(model,\n",
        "                          show_shapes=True,\n",
        "                          show_layer_names=True) "
      ],
      "execution_count": null,
      "outputs": [
        {
          "output_type": "execute_result",
          "data": {
            "image/png": "[encoded data removed]",
            "text/plain": [
              "<IPython.core.display.Image object>"
            ]
          },
          "metadata": {
            "tags": []
          },
          "execution_count": 70
        }
      ]
    },
    {
      "cell_type": "markdown",
      "metadata": {
        "id": "DPCiWxfBz3aY"
      },
      "source": [
        "# Random Forest"
      ]
    },
    {
      "cell_type": "code",
      "metadata": {
        "colab": {
          "base_uri": "https://localhost:8080/"
        },
        "id": "mk9qhPHUz5rA",
        "outputId": "92f1b9ca-e287-44ea-cab3-3fad48ac6c4a"
      },
      "source": [
        "clf = RandomForestClassifier(max_depth=None, random_state=13)\n",
        "clf.fit(X_train,y_train)"
      ],
      "execution_count": null,
      "outputs": [
        {
          "output_type": "execute_result",
          "data": {
            "text/plain": [
              "RandomForestClassifier(bootstrap=True, ccp_alpha=0.0, class_weight=None,\n",
              "                       criterion='gini', max_depth=None, max_features='auto',\n",
              "                       max_leaf_nodes=None, max_samples=None,\n",
              "                       min_impurity_decrease=0.0, min_impurity_split=None,\n",
              "                       min_samples_leaf=1, min_samples_split=2,\n",
              "                       min_weight_fraction_leaf=0.0, n_estimators=100,\n",
              "                       n_jobs=None, oob_score=False, random_state=13, verbose=0,\n",
              "                       warm_start=False)"
            ]
          },
          "metadata": {
            "tags": []
          },
          "execution_count": 84
        }
      ]
    },
    {
      "cell_type": "markdown",
      "metadata": {
        "id": "LCI2We573G_e"
      },
      "source": [
        "## Scoring"
      ]
    },
    {
      "cell_type": "code",
      "metadata": {
        "colab": {
          "base_uri": "https://localhost:8080/"
        },
        "id": "Kklx_74_0TAz",
        "outputId": "f87e44c1-cf77-4a68-ef9e-f4d66bc051dd"
      },
      "source": [
        "# Training Data Should Be Near 1\n",
        "clf.score(X_train, y_train)"
      ],
      "execution_count": null,
      "outputs": [
        {
          "output_type": "execute_result",
          "data": {
            "text/plain": [
              "0.9952711006242934"
            ]
          },
          "metadata": {
            "tags": []
          },
          "execution_count": 85
        }
      ]
    },
    {
      "cell_type": "code",
      "metadata": {
        "colab": {
          "base_uri": "https://localhost:8080/"
        },
        "id": "qK2iIkOh2WG3",
        "outputId": "567aa788-8a7d-4fc0-ac2b-f47ca7e3001a"
      },
      "source": [
        "# Testing Data\n",
        "clf.score(X_test, y_test)"
      ],
      "execution_count": null,
      "outputs": [
        {
          "output_type": "execute_result",
          "data": {
            "text/plain": [
              "0.6947579535176374"
            ]
          },
          "metadata": {
            "tags": []
          },
          "execution_count": 87
        }
      ]
    },
    {
      "cell_type": "markdown",
      "metadata": {
        "id": "LZi2OUYPne4P"
      },
      "source": [
        "# One Hot Encoding -> Neural Net\n",
        "\n",
        "One Hot Encoding will help standardize the inputs we get. If we deploy, this will be crucial."
      ]
    },
    {
      "cell_type": "code",
      "metadata": {
        "id": "KlZCRBXPkRAM"
      },
      "source": [
        "testing_df = pd.read_csv('https://raw.githubusercontent.com/bpberry0324/animal_shelter_outcomes/main/datasets/main.csv')\n",
        "testing_df = testing_df.drop(columns=['datetime_in', 'datetime_out', 'name_out', 'name_in', 'day_out', \n",
        "                                      'month_out', 'year_out', 'found_location', 'age_upon_outcome', 'sex_upon_outcome'])\n",
        "\n",
        "X = testing_df.drop(columns=['animal_id_in','outcome_type','outcome_subtype',\n",
        "                             'is_named_out'])\n",
        "y = testing_df['outcome_type']"
      ],
      "execution_count": null,
      "outputs": []
    },
    {
      "cell_type": "code",
      "metadata": {
        "id": "g-yRVOUzn453"
      },
      "source": [
        "enc = OneHotEncoder(drop='first')\n",
        "enc.fit(X)\n",
        "X = enc.transform(X)\n",
        "\n",
        "# making our label categorical\n",
        "labelencoder = LabelEncoder()\n",
        "encoded_y = labelencoder.fit_transform(y)\n",
        "y = np_utils.to_categorical(encoded_y)"
      ],
      "execution_count": null,
      "outputs": []
    },
    {
      "cell_type": "code",
      "metadata": {
        "id": "uGWnAt5kpLsV"
      },
      "source": [
        "X_train, X_test, y_train, y_test = train_test_split(X, y, \n",
        "                                                    random_state=13, \n",
        "                                                    stratify=y,\n",
        "                                                    test_size=.2)\n",
        "#sc = StandardScaler()\n",
        "#X_train_sc = sc.fit_transform(X_train)\n",
        "#X_test_sc = sc.transform(X_test)"
      ],
      "execution_count": null,
      "outputs": []
    },
    {
      "cell_type": "code",
      "metadata": {
        "colab": {
          "base_uri": "https://localhost:8080/"
        },
        "id": "4CFjvDi6tRmT",
        "outputId": "f747337f-3ad7-4272-8223-47f3ded024aa"
      },
      "source": [
        "X_train.shape"
      ],
      "execution_count": null,
      "outputs": [
        {
          "output_type": "execute_result",
          "data": {
            "text/plain": [
              "(101715, 2604)"
            ]
          },
          "metadata": {
            "tags": []
          },
          "execution_count": 17
        }
      ]
    },
    {
      "cell_type": "code",
      "metadata": {
        "id": "vWhEPaW4pjvn"
      },
      "source": [
        "def animal_outcome_engine():\n",
        "  model = Sequential()\n",
        "  model.add(Dense(512, activation='relu', \n",
        "                  input_dim=X_train.shape[1], \n",
        "                  kernel_regularizer=l2(.0005)))\n",
        "  model.add(Dropout(0.25))\n",
        "\n",
        "  model.add(Dense(512, activation='relu'))\n",
        "  model.add(Dropout(0.25))\n",
        "\n",
        "  model.add(Dense(512, activation='relu'))\n",
        "  model.add(Dropout(0.25))\n",
        "\n",
        "  model.add(Dense(512, activation='relu'))\n",
        "  model.add(Dropout(0.25))\n",
        "  \n",
        "  model.add(Dense(512, activation='relu'))\n",
        "  model.add(Dropout(0.25))\n",
        "\n",
        "  model.add(Dense(9, activation='softmax'))\n",
        "  model.compile(loss='categorical_crossentropy', optimizer='adam', metrics=['accuracy'])\n",
        "  return model"
      ],
      "execution_count": null,
      "outputs": []
    },
    {
      "cell_type": "code",
      "metadata": {
        "id": "b_v1ocA3rRRK",
        "colab": {
          "base_uri": "https://localhost:8080/"
        },
        "outputId": "61fbb2d2-8907-490b-b218-04a9eb1317a5"
      },
      "source": [
        "model = animal_outcome_engine()\n",
        "early_stop = EarlyStopping(monitor='val_loss', min_delta=0, patience=3, \n",
        "                           verbose=1, mode='auto')\n",
        "history = model.fit(X_train, y_train, \n",
        "                    validation_data=(X_test, y_test),\n",
        "                    epochs=50, \n",
        "                    batch_size=64,\n",
        "                    verbose=1,\n",
        "                    callbacks=[early_stop])"
      ],
      "execution_count": null,
      "outputs": [
        {
          "output_type": "stream",
          "text": [
            "Epoch 1/50\n"
          ],
          "name": "stdout"
        },
        {
          "output_type": "stream",
          "text": [
            "/usr/local/lib/python3.7/dist-packages/tensorflow/python/framework/indexed_slices.py:449: UserWarning: Converting sparse IndexedSlices(IndexedSlices(indices=Tensor(\"gradient_tape/sequential_4/dense_23/embedding_lookup_sparse/Reshape_1:0\", shape=(None,), dtype=int32), values=Tensor(\"gradient_tape/sequential_4/dense_23/embedding_lookup_sparse/Reshape:0\", shape=(None, 512), dtype=float32), dense_shape=Tensor(\"gradient_tape/sequential_4/dense_23/embedding_lookup_sparse/Cast:0\", shape=(2,), dtype=int32))) to a dense Tensor of unknown shape. This may consume a large amount of memory.\n",
            "  \"shape. This may consume a large amount of memory.\" % value)\n"
          ],
          "name": "stderr"
        },
        {
          "output_type": "stream",
          "text": [
            "1590/1590 [==============================] - 29s 18ms/step - loss: 0.9635 - accuracy: 0.6389 - val_loss: 0.9134 - val_accuracy: 0.6629\n",
            "Epoch 2/50\n",
            "1590/1590 [==============================] - 29s 18ms/step - loss: 0.9235 - accuracy: 0.6563 - val_loss: 0.9065 - val_accuracy: 0.6608\n",
            "Epoch 3/50\n",
            "1590/1590 [==============================] - 29s 18ms/step - loss: 0.9171 - accuracy: 0.6606 - val_loss: 0.9043 - val_accuracy: 0.6651\n",
            "Epoch 4/50\n",
            "1590/1590 [==============================] - 29s 18ms/step - loss: 0.9112 - accuracy: 0.6639 - val_loss: 0.8992 - val_accuracy: 0.6677\n",
            "Epoch 5/50\n",
            "1590/1590 [==============================] - 29s 18ms/step - loss: 0.9078 - accuracy: 0.6646 - val_loss: 0.9038 - val_accuracy: 0.6661\n",
            "Epoch 6/50\n",
            "1590/1590 [==============================] - 29s 18ms/step - loss: 0.9036 - accuracy: 0.6673 - val_loss: 0.9061 - val_accuracy: 0.6582\n",
            "Epoch 7/50\n",
            "1590/1590 [==============================] - 29s 18ms/step - loss: 0.9024 - accuracy: 0.6701 - val_loss: 0.8913 - val_accuracy: 0.6714\n",
            "Epoch 8/50\n",
            "1590/1590 [==============================] - 29s 18ms/step - loss: 0.9011 - accuracy: 0.6707 - val_loss: 0.8882 - val_accuracy: 0.6719\n",
            "Epoch 9/50\n",
            "1590/1590 [==============================] - 29s 18ms/step - loss: 0.8985 - accuracy: 0.6707 - val_loss: 0.8928 - val_accuracy: 0.6718\n",
            "Epoch 10/50\n",
            "1590/1590 [==============================] - 29s 18ms/step - loss: 0.8962 - accuracy: 0.6713 - val_loss: 0.8953 - val_accuracy: 0.6723\n",
            "Epoch 11/50\n",
            "1590/1590 [==============================] - 29s 18ms/step - loss: 0.8966 - accuracy: 0.6716 - val_loss: 0.8882 - val_accuracy: 0.6754\n",
            "Epoch 00011: early stopping\n"
          ],
          "name": "stdout"
        }
      ]
    },
    {
      "cell_type": "markdown",
      "metadata": {
        "id": "eLWuKjNsscUv"
      },
      "source": [
        "### Accuracy and Loss"
      ]
    },
    {
      "cell_type": "code",
      "metadata": {
        "colab": {
          "base_uri": "https://localhost:8080/"
        },
        "id": "BfsoL1RKsbgI",
        "outputId": "ef4a0396-84b6-41b3-ec32-3a3f511f46de"
      },
      "source": [
        "print('Final accuracy: ', history.history['accuracy'][-1])\n",
        "print('Final val_accuracy: ', history.history['val_accuracy'][-1])\n",
        "print('Final loss: ', history.history['loss'][-1])\n",
        "print('Final val_loss: ', history.history['val_loss'][-1])"
      ],
      "execution_count": null,
      "outputs": [
        {
          "output_type": "stream",
          "text": [
            "Final accuracy:  0.6693112850189209\n",
            "Final val_accuracy:  0.6722639799118042\n",
            "Final loss:  0.894604504108429\n",
            "Final val_loss:  0.886498212814331\n"
          ],
          "name": "stdout"
        }
      ]
    },
    {
      "cell_type": "code",
      "metadata": {
        "colab": {
          "base_uri": "https://localhost:8080/",
          "height": 281
        },
        "id": "UR-U5sFK7T-S",
        "outputId": "b2f460b7-5287-4338-f502-20dcd6ad0947"
      },
      "source": [
        "plt.plot(history.history['accuracy'], label='Accuracy')\n",
        "plt.plot(history.history['val_accuracy'], label='Val_Accuracy')\n",
        "plt.legend()\n",
        "plt.title('Accuracy');"
      ],
      "execution_count": null,
      "outputs": [
        {
          "output_type": "display_data",
          "data": {
            "image/png": "[encoded data removed]",
            "text/plain": [
              "<Figure size 432x288 with 1 Axes>"
            ]
          },
          "metadata": {
            "tags": [],
            "needs_background": "light"
          }
        }
      ]
    },
    {
      "cell_type": "code",
      "metadata": {
        "colab": {
          "base_uri": "https://localhost:8080/",
          "height": 281
        },
        "id": "YR9UUNWh7aAF",
        "outputId": "f6c80800-8c45-4a90-b638-2a3a51929482"
      },
      "source": [
        "plt.plot(history.history['loss'], label='Loss')\n",
        "plt.plot(history.history['val_loss'], label='Val_Loss')\n",
        "plt.legend()\n",
        "plt.title('Loss');"
      ],
      "execution_count": null,
      "outputs": [
        {
          "output_type": "display_data",
          "data": {
            "image/png": "[encoded data removed]",
            "text/plain": [
              "<Figure size 432x288 with 1 Axes>"
            ]
          },
          "metadata": {
            "tags": [],
            "needs_background": "light"
          }
        }
      ]
    },
    {
      "cell_type": "code",
      "metadata": {
        "id": "Xhsq5YFc7dAZ"
      },
      "source": [
        "model.save('/content/drive/MyDrive/Colab Notebooks/animal_shelter_testing/an_engine_onehot.h5')"
      ],
      "execution_count": null,
      "outputs": []
    },
    {
      "cell_type": "markdown",
      "metadata": {
        "id": "ZgG0YGXZZUwu"
      },
      "source": [
        "## One Hot Encoder Workflow"
      ]
    },
    {
      "cell_type": "code",
      "metadata": {
        "colab": {
          "base_uri": "https://localhost:8080/"
        },
        "id": "C24wbOS6WUa5",
        "outputId": "63d2b879-47b5-4e18-a15d-5526e708127b"
      },
      "source": [
        "# This input can't be sent to a model, the one hot encoder will\n",
        "# preserve the structure of our previous inputs and allow us to \n",
        "# send variables at our model. \n",
        "# Using pandas get_dummies is not a reliable way to deal with user\n",
        "# input as we would have to bring structures from our data into\n",
        "# deployment. This increases the likelihood something will go wrong.\n",
        "input = X.iloc[0]\n",
        "input"
      ],
      "execution_count": null,
      "outputs": [
        {
          "output_type": "execute_result",
          "data": {
            "text/plain": [
              "animal_type                           Dog\n",
              "color                        yellow white\n",
              "breed                spinone italiano mix\n",
              "intake_type                 Public Assist\n",
              "intake_condition                   Normal\n",
              "year_in                              2014\n",
              "month_in                               12\n",
              "day_in                             Friday\n",
              "prev_adoption                           0\n",
              "prev_transfer                           0\n",
              "prev_ret_to_owner                       1\n",
              "prev_rto_adopt                          0\n",
              "prev_disposal                           0\n",
              "prev_missing                            0\n",
              "prev_relocate                           0\n",
              "age_upon_outcome                        7\n",
              "age_upon_intake                         7\n",
              "sex_upon_intake             Neutered Male\n",
              "sex_upon_outcome            Neutered Male\n",
              "is_named_in                             1\n",
              "Name: 0, dtype: object"
            ]
          },
          "metadata": {
            "tags": []
          },
          "execution_count": 102
        }
      ]
    },
    {
      "cell_type": "code",
      "metadata": {
        "colab": {
          "base_uri": "https://localhost:8080/",
          "height": 36
        },
        "id": "r5M7_a5PY1bc",
        "outputId": "c47bcbaf-34a1-492a-a89a-93f80ddf83ba"
      },
      "source": [
        "# we should get this output\n",
        "y[0]"
      ],
      "execution_count": null,
      "outputs": [
        {
          "output_type": "execute_result",
          "data": {
            "application/vnd.google.colaboratory.intrinsic+json": {
              "type": "string"
            },
            "text/plain": [
              "'Return to Owner'"
            ]
          },
          "metadata": {
            "tags": []
          },
          "execution_count": 112
        }
      ]
    },
    {
      "cell_type": "code",
      "metadata": {
        "id": "WLUtSePDXUMF"
      },
      "source": [
        "# \"sanitize\" the input, we need to reshape because...\n",
        "# I'd show what it looks like, but visually it is not different \n",
        "# in this output\n",
        "sanitized_input = input.values.reshape(1,-1)"
      ],
      "execution_count": null,
      "outputs": []
    },
    {
      "cell_type": "code",
      "metadata": {
        "colab": {
          "base_uri": "https://localhost:8080/"
        },
        "id": "36Goi6GBXkAa",
        "outputId": "68ea0f3c-bd0b-40ce-f51e-51dcb7724de2"
      },
      "source": [
        "# due to the size of our data, sklearn will convert our\n",
        "# array into a sparse matrix. This makes it more wieldy.\n",
        "encoded_input = enc.transform(sanitized_input)\n",
        "encoded_input"
      ],
      "execution_count": null,
      "outputs": [
        {
          "output_type": "execute_result",
          "data": {
            "text/plain": [
              "<1x2638 sparse matrix of type '<class 'numpy.float64'>'\n",
              "\twith 13 stored elements in Compressed Sparse Row format>"
            ]
          },
          "metadata": {
            "tags": []
          },
          "execution_count": 108
        }
      ]
    },
    {
      "cell_type": "code",
      "metadata": {
        "id": "NyjeBSxjrGvH"
      },
      "source": [
        "# to see the categories\n",
        "#enc.categories_"
      ],
      "execution_count": null,
      "outputs": []
    },
    {
      "cell_type": "code",
      "metadata": {
        "colab": {
          "base_uri": "https://localhost:8080/"
        },
        "id": "YoU_2bsnTgxq",
        "outputId": "dc454b75-c955-4282-f7ef-f142cae59f17"
      },
      "source": [
        "# Predictions from the model\n",
        "pred = model.predict(encoded_input)\n",
        "pred"
      ],
      "execution_count": null,
      "outputs": [
        {
          "output_type": "execute_result",
          "data": {
            "text/plain": [
              "array([[6.7888260e-02, 3.7035442e-04, 4.5254317e-05, 3.9439112e-02,\n",
              "        2.9435669e-05, 7.3359987e-13, 8.4773642e-01, 3.5551293e-05,\n",
              "        4.4455681e-02]], dtype=float32)"
            ]
          },
          "metadata": {
            "tags": []
          },
          "execution_count": 110
        }
      ]
    },
    {
      "cell_type": "code",
      "metadata": {
        "colab": {
          "base_uri": "https://localhost:8080/"
        },
        "id": "JkgblFYGYQlK",
        "outputId": "d30d160b-f204-4cd1-ab78-2650cd3a5006"
      },
      "source": [
        "pred.round() "
      ],
      "execution_count": null,
      "outputs": [
        {
          "output_type": "execute_result",
          "data": {
            "text/plain": [
              "array([[0., 0., 0., 0., 0., 0., 1., 0., 0.]], dtype=float32)"
            ]
          },
          "metadata": {
            "tags": []
          },
          "execution_count": 111
        }
      ]
    },
    {
      "cell_type": "code",
      "metadata": {
        "colab": {
          "base_uri": "https://localhost:8080/",
          "height": 36
        },
        "id": "U9x1NeHUV8em",
        "outputId": "6e47c1bc-8658-404e-dd91-a62ae0683009"
      },
      "source": [
        "# success\n",
        "labelencoder.classes_[-3] "
      ],
      "execution_count": null,
      "outputs": [
        {
          "output_type": "execute_result",
          "data": {
            "application/vnd.google.colaboratory.intrinsic+json": {
              "type": "string"
            },
            "text/plain": [
              "'Return to Owner'"
            ]
          },
          "metadata": {
            "tags": []
          },
          "execution_count": 93
        }
      ]
    },
    {
      "cell_type": "markdown",
      "metadata": {
        "id": "iMtCh0Icjnbq"
      },
      "source": [
        "# Time Predictions\n",
        "\n"
      ]
    },
    {
      "cell_type": "code",
      "metadata": {
        "id": "Dy0Dx2T5jnJp"
      },
      "source": [
        "df = pd.read_csv('https://raw.githubusercontent.com/bpberry0324/animal_shelter_outcomes/main/datasets/main.csv')"
      ],
      "execution_count": null,
      "outputs": []
    },
    {
      "cell_type": "code",
      "metadata": {
        "id": "uwKl4PYPkBvS"
      },
      "source": [
        "df['date_in'] = pd.to_datetime(df['datetime_in'], infer_datetime_format=True)\n",
        "df['date_out'] = pd.to_datetime(df['datetime_out'], infer_datetime_format=True)"
      ],
      "execution_count": null,
      "outputs": []
    },
    {
      "cell_type": "code",
      "metadata": {
        "id": "8-4W7z27p3Jt"
      },
      "source": [
        "df['time_spent'] = df['date_out'] - df['date_in']\n",
        "df['time_spent'] = df['time_spent'].dt.total_seconds()"
      ],
      "execution_count": null,
      "outputs": []
    },
    {
      "cell_type": "code",
      "metadata": {
        "id": "ZOFFafL1rYIq"
      },
      "source": [
        "adopted = df[df['outcome_type'] == 'Adoption']"
      ],
      "execution_count": null,
      "outputs": []
    },
    {
      "cell_type": "code",
      "metadata": {
        "id": "4NmzFNg3sabP"
      },
      "source": [
        "adopted = adopted.drop(columns=['datetime_in', 'datetime_out', 'name_out', 'name_in', 'day_out', \n",
        "                      'month_out', 'year_out', 'found_location', 'outcome_type', 'outcome_subtype',\n",
        "                      'age_upon_outcome','sex_upon_outcome','is_named_out', 'date_in', 'date_out'])"
      ],
      "execution_count": null,
      "outputs": []
    },
    {
      "cell_type": "code",
      "metadata": {
        "colab": {
          "base_uri": "https://localhost:8080/"
        },
        "id": "QklJJIJwsnIj",
        "outputId": "e007c264-44b5-4c71-e770-129185db2569"
      },
      "source": [
        "adopted.columns"
      ],
      "execution_count": null,
      "outputs": [
        {
          "output_type": "execute_result",
          "data": {
            "text/plain": [
              "Index(['animal_id_in', 'animal_type', 'color', 'breed', 'intake_type',\n",
              "       'intake_condition', 'year_in', 'month_in', 'day_in', 'prev_adoption',\n",
              "       'prev_transfer', 'prev_ret_to_owner', 'prev_rto_adopt', 'prev_disposal',\n",
              "       'prev_missing', 'prev_relocate', 'age_upon_intake', 'sex_upon_intake',\n",
              "       'is_named_in', 'time_spent'],\n",
              "      dtype='object')"
            ]
          },
          "metadata": {
            "tags": []
          },
          "execution_count": 164
        }
      ]
    },
    {
      "cell_type": "code",
      "metadata": {
        "id": "7_9pJ06irxtM"
      },
      "source": [
        "X = adopted.drop(columns=['time_spent','animal_id_in'])\n",
        "# predicting the hours?\n",
        "y = adopted['time_spent'] / 360"
      ],
      "execution_count": null,
      "outputs": []
    },
    {
      "cell_type": "code",
      "metadata": {
        "colab": {
          "base_uri": "https://localhost:8080/"
        },
        "id": "2q8HZbaT10Kl",
        "outputId": "50638776-6fac-4c67-abdf-119b34c00d9c"
      },
      "source": [
        "y.mean()"
      ],
      "execution_count": null,
      "outputs": [
        {
          "output_type": "execute_result",
          "data": {
            "text/plain": [
              "7821.188420640976"
            ]
          },
          "metadata": {
            "tags": []
          },
          "execution_count": 166
        }
      ]
    },
    {
      "cell_type": "code",
      "metadata": {
        "id": "6SbMLdDkwcXQ"
      },
      "source": [
        "enc = OneHotEncoder(drop='first')\n",
        "enc.fit(X)\n",
        "X = enc.transform(X)"
      ],
      "execution_count": null,
      "outputs": []
    },
    {
      "cell_type": "code",
      "metadata": {
        "id": "aKOb1IgiwoXz"
      },
      "source": [
        "X_train, X_test, y_train, y_test = train_test_split(X, y, \n",
        "                                                    random_state=13, \n",
        "                                                    test_size=.2)\n",
        "#sc = StandardScaler()\n",
        "#X_train_sc = sc.fit_transform(X_train)\n",
        "#X_test_sc = sc.transform(X_test)"
      ],
      "execution_count": null,
      "outputs": []
    },
    {
      "cell_type": "code",
      "metadata": {
        "colab": {
          "base_uri": "https://localhost:8080/"
        },
        "id": "28eyu1n8x6Jn",
        "outputId": "0929a023-5f9c-4dc3-9086-10366f7fee26"
      },
      "source": [
        "X_train.shape"
      ],
      "execution_count": null,
      "outputs": [
        {
          "output_type": "execute_result",
          "data": {
            "text/plain": [
              "(45692, 1973)"
            ]
          },
          "metadata": {
            "tags": []
          },
          "execution_count": 169
        }
      ]
    },
    {
      "cell_type": "code",
      "metadata": {
        "colab": {
          "base_uri": "https://localhost:8080/"
        },
        "id": "wPwsgcIc0Yy_",
        "outputId": "cf7b6cb3-3e50-4db5-9afb-3fcb96a0adbf"
      },
      "source": [
        "type(X_train), type(X_test), type(y_train), type(y_test)"
      ],
      "execution_count": null,
      "outputs": [
        {
          "output_type": "execute_result",
          "data": {
            "text/plain": [
              "(scipy.sparse.csr.csr_matrix,\n",
              " scipy.sparse.csr.csr_matrix,\n",
              " pandas.core.series.Series,\n",
              " pandas.core.series.Series)"
            ]
          },
          "metadata": {
            "tags": []
          },
          "execution_count": 170
        }
      ]
    },
    {
      "cell_type": "code",
      "metadata": {
        "id": "jHEamSxe1DvO"
      },
      "source": [
        "X_train = X_train.toarray()\n",
        "X_test = X_test.toarray()"
      ],
      "execution_count": null,
      "outputs": []
    },
    {
      "cell_type": "code",
      "metadata": {
        "id": "92__E3Lovonn"
      },
      "source": [
        "def animal_outcome_engine():\n",
        "  model = Sequential()\n",
        "  model.add(Dense(512, activation='relu', \n",
        "                  input_dim=X_train.shape[1], \n",
        "                  kernel_regularizer=l2(.01)))\n",
        "  model.add(Dropout(0.25))\n",
        "\n",
        "  model.add(Dense(512, activation='relu'))\n",
        "  model.add(Dropout(0.25))\n",
        "  \n",
        "  model.add(Dense(512, activation='relu'))\n",
        "  model.add(Dropout(0.25))\n",
        "\n",
        "  model.add(Dense(1))\n",
        "  model.compile(loss='mse', optimizer='adam', metrics=['mae'])\n",
        "  return model"
      ],
      "execution_count": null,
      "outputs": []
    },
    {
      "cell_type": "code",
      "metadata": {
        "colab": {
          "base_uri": "https://localhost:8080/"
        },
        "id": "ZfZWzWKOvo-X",
        "outputId": "b5cfbb1e-38a8-464b-9bc3-9bfe96c1514b"
      },
      "source": [
        "model = animal_outcome_engine()\n",
        "early_stop = EarlyStopping(monitor='val_loss', min_delta=0, patience=3, \n",
        "                           verbose=1, mode='auto')\n",
        "history = model.fit(X_train, y_train, \n",
        "                    validation_data=(X_test, y_test),\n",
        "                    epochs=50, \n",
        "                    batch_size=32,\n",
        "                    verbose=1,\n",
        "                    callbacks=[early_stop])"
      ],
      "execution_count": null,
      "outputs": [
        {
          "output_type": "stream",
          "text": [
            "Epoch 1/50\n",
            "1428/1428 [==============================] - 15s 10ms/step - loss: 185311920.0000 - mae: 6523.1348 - val_loss: 172397296.0000 - val_mae: 6247.3164\n",
            "Epoch 2/50\n",
            "1428/1428 [==============================] - 14s 10ms/step - loss: 176281088.0000 - mae: 6193.6060 - val_loss: 171527024.0000 - val_mae: 5846.4019\n",
            "Epoch 3/50\n",
            "1428/1428 [==============================] - 15s 10ms/step - loss: 173516624.0000 - mae: 6098.5981 - val_loss: 170312464.0000 - val_mae: 6127.6875\n",
            "Epoch 4/50\n",
            "1428/1428 [==============================] - 13s 9ms/step - loss: 170802416.0000 - mae: 6028.2686 - val_loss: 170835568.0000 - val_mae: 6164.4971\n",
            "Epoch 5/50\n",
            "1428/1428 [==============================] - 13s 9ms/step - loss: 167815232.0000 - mae: 5955.9443 - val_loss: 169727408.0000 - val_mae: 6018.0518\n",
            "Epoch 6/50\n",
            "1428/1428 [==============================] - 13s 9ms/step - loss: 162661184.0000 - mae: 5867.4360 - val_loss: 184731408.0000 - val_mae: 7463.2129\n",
            "Epoch 7/50\n",
            "1428/1428 [==============================] - 13s 9ms/step - loss: 156807232.0000 - mae: 5783.9526 - val_loss: 174336816.0000 - val_mae: 6410.4678\n",
            "Epoch 8/50\n",
            "1428/1428 [==============================] - 12s 8ms/step - loss: 148627280.0000 - mae: 5662.3867 - val_loss: 174667600.0000 - val_mae: 6006.4390\n",
            "Epoch 00008: early stopping\n"
          ],
          "name": "stdout"
        }
      ]
    },
    {
      "cell_type": "markdown",
      "metadata": {
        "id": "1rrv89l6DCc4"
      },
      "source": [
        "# Binary Classification for Adoption\n",
        "\n",
        "Seeing if we switch to only predicting adoptions if our results are better."
      ]
    },
    {
      "cell_type": "code",
      "metadata": {
        "id": "LBZMoHlKDKj3"
      },
      "source": [
        "testing_df = pd.read_csv('https://raw.githubusercontent.com/bpberry0324/animal_shelter_outcomes/main/datasets/main.csv')\n",
        "testing_df = testing_df.drop(columns=['datetime_in', 'datetime_out', 'name_out', 'name_in', 'day_out', \n",
        "                                      'month_out', 'year_out', 'found_location', 'age_upon_outcome', 'sex_upon_outcome'])\n",
        "\n",
        "X = testing_df.drop(columns=['animal_id_in','outcome_type','outcome_subtype',\n",
        "                             'is_named_out'])\n",
        "y = testing_df['outcome_type']"
      ],
      "execution_count": null,
      "outputs": []
    },
    {
      "cell_type": "code",
      "metadata": {
        "colab": {
          "base_uri": "https://localhost:8080/"
        },
        "id": "CmWRXTFTDm3c",
        "outputId": "29839b69-6641-4ea2-d852-2a5e1511e8bd"
      },
      "source": [
        "y.unique()"
      ],
      "execution_count": null,
      "outputs": [
        {
          "output_type": "execute_result",
          "data": {
            "text/plain": [
              "array(['Return to Owner', 'Transfer', 'Relocate', 'Adoption',\n",
              "       'Euthanasia', 'Died', 'Rto-Adopt', 'Missing', 'Disposal'],\n",
              "      dtype=object)"
            ]
          },
          "metadata": {
            "tags": []
          },
          "execution_count": 74
        }
      ]
    },
    {
      "cell_type": "code",
      "metadata": {
        "id": "5Mh36nfrDe3_"
      },
      "source": [
        "y = y.apply(lambda x: x if x=='Adoption' else 'Not Adopted')"
      ],
      "execution_count": null,
      "outputs": []
    },
    {
      "cell_type": "code",
      "metadata": {
        "colab": {
          "base_uri": "https://localhost:8080/"
        },
        "id": "QgbtEnVhDz6J",
        "outputId": "7f2f66f7-7d84-4a41-c278-cea4c3a30a10"
      },
      "source": [
        "y.value_counts(normalize=True)"
      ],
      "execution_count": null,
      "outputs": [
        {
          "output_type": "execute_result",
          "data": {
            "text/plain": [
              "Not Adopted    0.550777\n",
              "Adoption       0.449223\n",
              "Name: outcome_type, dtype: float64"
            ]
          },
          "metadata": {
            "tags": []
          },
          "execution_count": 76
        }
      ]
    },
    {
      "cell_type": "code",
      "metadata": {
        "id": "fbRR3rMLDZbN"
      },
      "source": [
        "enc = OneHotEncoder(drop='first')\n",
        "enc.fit(X)\n",
        "X = enc.transform(X)"
      ],
      "execution_count": null,
      "outputs": []
    },
    {
      "cell_type": "code",
      "metadata": {
        "id": "UrT1rQCSE9UX"
      },
      "source": [
        "# making our label categorical\n",
        "labelencoder = LabelEncoder()\n",
        "y = labelencoder.fit_transform(y)"
      ],
      "execution_count": null,
      "outputs": []
    },
    {
      "cell_type": "code",
      "metadata": {
        "id": "mK4zaSS3D3zP"
      },
      "source": [
        "X_train, X_test, y_train, y_test = train_test_split(X, y, \n",
        "                                                    random_state=13, \n",
        "                                                    stratify=y,\n",
        "                                                    test_size=.2)"
      ],
      "execution_count": null,
      "outputs": []
    },
    {
      "cell_type": "code",
      "metadata": {
        "id": "fkA9EupDEBZJ"
      },
      "source": [
        "def animal_outcome_engine():\n",
        "  model = Sequential()\n",
        "  model.add(Dense(512, activation='relu', \n",
        "                  input_dim=X_train.shape[1], \n",
        "                  kernel_regularizer=l2(.0005)))\n",
        "  model.add(Dropout(0.5))\n",
        "\n",
        "  model.add(Dense(512, activation='relu'))\n",
        "  model.add(Dropout(0.5))\n",
        "\n",
        "  model.add(Dense(512, activation='relu'))\n",
        "  model.add(Dropout(0.5))\n",
        "\n",
        "  model.add(Dense(512, activation='relu'))\n",
        "  model.add(Dropout(0.5))\n",
        "  \n",
        "  model.add(Dense(512, activation='relu'))\n",
        "  model.add(Dropout(0.5))\n",
        "\n",
        "  model.add(Dense(1, activation='sigmoid'))\n",
        "  model.compile(loss='binary_crossentropy', optimizer='adam', metrics=['accuracy'])\n",
        "  return model"
      ],
      "execution_count": null,
      "outputs": []
    },
    {
      "cell_type": "code",
      "metadata": {
        "colab": {
          "base_uri": "https://localhost:8080/"
        },
        "id": "F52VMblUEEs5",
        "outputId": "5b0375ba-f0b9-4de2-cf7a-c78570127dcc"
      },
      "source": [
        "model = animal_outcome_engine()\n",
        "early_stop = EarlyStopping(monitor='val_loss', min_delta=0, patience=3, \n",
        "                           verbose=1, mode='auto')\n",
        "history = model.fit(X_train, y_train, \n",
        "                    validation_data=(X_test, y_test),\n",
        "                    epochs=50, \n",
        "                    batch_size=64,\n",
        "                    verbose=1,\n",
        "                    callbacks=[early_stop])"
      ],
      "execution_count": null,
      "outputs": [
        {
          "output_type": "stream",
          "text": [
            "Epoch 1/50\n"
          ],
          "name": "stdout"
        },
        {
          "output_type": "stream",
          "text": [
            "/usr/local/lib/python3.7/dist-packages/tensorflow/python/framework/indexed_slices.py:449: UserWarning: Converting sparse IndexedSlices(IndexedSlices(indices=Tensor(\"gradient_tape/sequential_12/dense_71/embedding_lookup_sparse/Reshape_1:0\", shape=(None,), dtype=int32), values=Tensor(\"gradient_tape/sequential_12/dense_71/embedding_lookup_sparse/Reshape:0\", shape=(None, 512), dtype=float32), dense_shape=Tensor(\"gradient_tape/sequential_12/dense_71/embedding_lookup_sparse/Cast:0\", shape=(2,), dtype=int32))) to a dense Tensor of unknown shape. This may consume a large amount of memory.\n",
            "  \"shape. This may consume a large amount of memory.\" % value)\n"
          ],
          "name": "stderr"
        },
        {
          "output_type": "stream",
          "text": [
            "1590/1590 [==============================] - 29s 18ms/step - loss: 0.5855 - accuracy: 0.7040 - val_loss: 0.5583 - val_accuracy: 0.7247\n",
            "Epoch 2/50\n",
            "1590/1590 [==============================] - 29s 18ms/step - loss: 0.5686 - accuracy: 0.7200 - val_loss: 0.5546 - val_accuracy: 0.7353\n",
            "Epoch 3/50\n",
            "1590/1590 [==============================] - 29s 18ms/step - loss: 0.5659 - accuracy: 0.7217 - val_loss: 0.5518 - val_accuracy: 0.7306\n",
            "Epoch 4/50\n",
            "1590/1590 [==============================] - 30s 19ms/step - loss: 0.5644 - accuracy: 0.7238 - val_loss: 0.5501 - val_accuracy: 0.7318\n",
            "Epoch 5/50\n",
            "1590/1590 [==============================] - 30s 18ms/step - loss: 0.5624 - accuracy: 0.7236 - val_loss: 0.5538 - val_accuracy: 0.7299\n",
            "Epoch 6/50\n",
            "1590/1590 [==============================] - 30s 19ms/step - loss: 0.5614 - accuracy: 0.7258 - val_loss: 0.5491 - val_accuracy: 0.7350\n",
            "Epoch 7/50\n",
            "1590/1590 [==============================] - 30s 19ms/step - loss: 0.5607 - accuracy: 0.7255 - val_loss: 0.5549 - val_accuracy: 0.7295\n",
            "Epoch 8/50\n",
            "1590/1590 [==============================] - 29s 18ms/step - loss: 0.5604 - accuracy: 0.7254 - val_loss: 0.5521 - val_accuracy: 0.7323\n",
            "Epoch 9/50\n",
            "1590/1590 [==============================] - 30s 19ms/step - loss: 0.5583 - accuracy: 0.7256 - val_loss: 0.5591 - val_accuracy: 0.7261\n",
            "Epoch 00009: early stopping\n"
          ],
          "name": "stdout"
        }
      ]
    },
    {
      "cell_type": "code",
      "metadata": {
        "id": "zg6c7vKsEJZO"
      },
      "source": [
        ""
      ],
      "execution_count": null,
      "outputs": []
    }
  ]
}