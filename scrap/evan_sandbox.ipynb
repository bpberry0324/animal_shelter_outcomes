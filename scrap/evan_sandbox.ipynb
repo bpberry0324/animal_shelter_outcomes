{
 "cells": [
  {
   "cell_type": "code",
   "execution_count": 1,
   "metadata": {
    "id": "1xXm-jkYgMlc"
   },
   "outputs": [],
   "source": [
    "import pandas as pd\n",
    "import numpy as np\n",
    "import matplotlib.pyplot as plt\n",
    "\n",
    "from sklearn.preprocessing import StandardScaler, LabelEncoder\n",
    "from sklearn.model_selection import train_test_split\n",
    "from sklearn.metrics import accuracy_score\n",
    "\n",
    "\n",
    "from tensorflow.keras.models import Sequential\n",
    "from tensorflow.keras.layers import Dense, Dropout, GRU\n",
    "from tensorflow.keras.optimizers import Adam\n",
    "from keras.utils import np_utils"
   ]
  },
  {
   "cell_type": "code",
   "execution_count": 2,
   "metadata": {
    "id": "DC4x_bAxgc0g"
   },
   "outputs": [],
   "source": [
    "intakes = pd.read_csv('/content/drive/MyDrive/Colab Notebooks/group_project/datasets/intakes_initial.csv')\n",
    "outcomes = pd.read_csv('/content/drive/MyDrive/Colab Notebooks/group_project/datasets/outcomes_initial.csv')"
   ]
  },
  {
   "cell_type": "code",
   "execution_count": 9,
   "metadata": {
    "colab": {
     "base_uri": "https://localhost:8080/"
    },
    "id": "p2aIJ8sfbfJL",
    "outputId": "7a422235-246b-4154-e0db-f05d9bb2c9f7"
   },
   "outputs": [
    {
     "data": {
      "text/plain": [
       "Adoption           0.449255\n",
       "Transfer           0.292717\n",
       "Return to Owner    0.170120\n",
       "Euthanasia         0.067224\n",
       "Died               0.009464\n",
       "Rto-Adopt          0.005887\n",
       "Disposal           0.004597\n",
       "Missing            0.000541\n",
       "Relocate           0.000193\n",
       "Name: outcome_type, dtype: float64"
      ]
     },
     "execution_count": 9,
     "metadata": {
      "tags": []
     },
     "output_type": "execute_result"
    }
   ],
   "source": [
    "outcomes['outcome_type'].value_counts(normalize=True)"
   ]
  },
  {
   "cell_type": "code",
   "execution_count": 3,
   "metadata": {
    "id": "0mIudpzlglVS"
   },
   "outputs": [],
   "source": [
    "intakes = intakes.drop(columns=['Unnamed: 0'])\n",
    "outcomes = outcomes.drop(columns=['Unnamed: 0'])"
   ]
  },
  {
   "cell_type": "code",
   "execution_count": 4,
   "metadata": {
    "colab": {
     "base_uri": "https://localhost:8080/",
     "height": 264
    },
    "id": "bnYKaTwHnXz0",
    "outputId": "7582f6a5-df43-4103-b785-ce0269d0352e"
   },
   "outputs": [
    {
     "data": {
      "text/html": [
       "<div>\n",
       "<style scoped>\n",
       "    .dataframe tbody tr th:only-of-type {\n",
       "        vertical-align: middle;\n",
       "    }\n",
       "\n",
       "    .dataframe tbody tr th {\n",
       "        vertical-align: top;\n",
       "    }\n",
       "\n",
       "    .dataframe thead th {\n",
       "        text-align: right;\n",
       "    }\n",
       "</style>\n",
       "<table border=\"1\" class=\"dataframe\">\n",
       "  <thead>\n",
       "    <tr style=\"text-align: right;\">\n",
       "      <th></th>\n",
       "      <th>animal_id</th>\n",
       "      <th>name</th>\n",
       "      <th>datetime</th>\n",
       "      <th>found_location</th>\n",
       "      <th>intake_type</th>\n",
       "      <th>intake_condition</th>\n",
       "      <th>animal_type</th>\n",
       "      <th>sex_upon_intake</th>\n",
       "      <th>age_upon_intake</th>\n",
       "      <th>breed</th>\n",
       "      <th>color</th>\n",
       "      <th>is_named</th>\n",
       "      <th>year</th>\n",
       "      <th>month</th>\n",
       "      <th>day</th>\n",
       "    </tr>\n",
       "  </thead>\n",
       "  <tbody>\n",
       "    <tr>\n",
       "      <th>22</th>\n",
       "      <td>A754715</td>\n",
       "      <td>Rheia</td>\n",
       "      <td>2019-07-29 17:19:00</td>\n",
       "      <td>Austin (TX)</td>\n",
       "      <td>Owner Surrender</td>\n",
       "      <td>Normal</td>\n",
       "      <td>Dog</td>\n",
       "      <td>Spayed Female</td>\n",
       "      <td>2.000</td>\n",
       "      <td>Labrador Retriever Mix</td>\n",
       "      <td>Black/White</td>\n",
       "      <td>1</td>\n",
       "      <td>2019</td>\n",
       "      <td>7</td>\n",
       "      <td>Monday</td>\n",
       "    </tr>\n",
       "    <tr>\n",
       "      <th>3074</th>\n",
       "      <td>A754715</td>\n",
       "      <td>Rheia</td>\n",
       "      <td>2017-07-23 15:00:00</td>\n",
       "      <td>Autumn Bay in Austin (TX)</td>\n",
       "      <td>Stray</td>\n",
       "      <td>Normal</td>\n",
       "      <td>Dog</td>\n",
       "      <td>Intact Female</td>\n",
       "      <td>0.417</td>\n",
       "      <td>Labrador Retriever Mix</td>\n",
       "      <td>Black/White</td>\n",
       "      <td>1</td>\n",
       "      <td>2017</td>\n",
       "      <td>7</td>\n",
       "      <td>Sunday</td>\n",
       "    </tr>\n",
       "    <tr>\n",
       "      <th>86875</th>\n",
       "      <td>A754715</td>\n",
       "      <td>Rheia</td>\n",
       "      <td>2018-07-09 16:26:00</td>\n",
       "      <td>Round Rock (TX)</td>\n",
       "      <td>Owner Surrender</td>\n",
       "      <td>Normal</td>\n",
       "      <td>Dog</td>\n",
       "      <td>Spayed Female</td>\n",
       "      <td>1.000</td>\n",
       "      <td>Labrador Retriever Mix</td>\n",
       "      <td>Black/White</td>\n",
       "      <td>1</td>\n",
       "      <td>2018</td>\n",
       "      <td>7</td>\n",
       "      <td>Monday</td>\n",
       "    </tr>\n",
       "  </tbody>\n",
       "</table>\n",
       "</div>"
      ],
      "text/plain": [
       "      animal_id   name             datetime  ...  year month     day\n",
       "22      A754715  Rheia  2019-07-29 17:19:00  ...  2019     7  Monday\n",
       "3074    A754715  Rheia  2017-07-23 15:00:00  ...  2017     7  Sunday\n",
       "86875   A754715  Rheia  2018-07-09 16:26:00  ...  2018     7  Monday\n",
       "\n",
       "[3 rows x 15 columns]"
      ]
     },
     "execution_count": 4,
     "metadata": {
      "tags": []
     },
     "output_type": "execute_result"
    }
   ],
   "source": [
    "intakes[intakes['animal_id'] == 'A754715']"
   ]
  },
  {
   "cell_type": "code",
   "execution_count": 5,
   "metadata": {
    "colab": {
     "base_uri": "https://localhost:8080/",
     "height": 264
    },
    "id": "is2DNXMkyD6n",
    "outputId": "9544ef34-0d70-4781-a31b-13b91a61c158"
   },
   "outputs": [
    {
     "data": {
      "text/html": [
       "<div>\n",
       "<style scoped>\n",
       "    .dataframe tbody tr th:only-of-type {\n",
       "        vertical-align: middle;\n",
       "    }\n",
       "\n",
       "    .dataframe tbody tr th {\n",
       "        vertical-align: top;\n",
       "    }\n",
       "\n",
       "    .dataframe thead th {\n",
       "        text-align: right;\n",
       "    }\n",
       "</style>\n",
       "<table border=\"1\" class=\"dataframe\">\n",
       "  <thead>\n",
       "    <tr style=\"text-align: right;\">\n",
       "      <th></th>\n",
       "      <th>animal_id</th>\n",
       "      <th>name</th>\n",
       "      <th>datetime</th>\n",
       "      <th>date_of_birth</th>\n",
       "      <th>outcome_type</th>\n",
       "      <th>outcome_subtype</th>\n",
       "      <th>animal_type</th>\n",
       "      <th>sex_upon_outcome</th>\n",
       "      <th>age_upon_outcome</th>\n",
       "      <th>breed</th>\n",
       "      <th>color</th>\n",
       "      <th>is_named</th>\n",
       "      <th>year</th>\n",
       "      <th>month</th>\n",
       "      <th>day</th>\n",
       "    </tr>\n",
       "  </thead>\n",
       "  <tbody>\n",
       "    <tr>\n",
       "      <th>90714</th>\n",
       "      <td>A754715</td>\n",
       "      <td>Rheia</td>\n",
       "      <td>2017-07-29 13:38:00</td>\n",
       "      <td>02/09/2017</td>\n",
       "      <td>Adoption</td>\n",
       "      <td>Unknown</td>\n",
       "      <td>Dog</td>\n",
       "      <td>Spayed Female</td>\n",
       "      <td>0.417</td>\n",
       "      <td>Labrador Retriever Mix</td>\n",
       "      <td>Black/White</td>\n",
       "      <td>1</td>\n",
       "      <td>2017</td>\n",
       "      <td>7</td>\n",
       "      <td>Saturday</td>\n",
       "    </tr>\n",
       "    <tr>\n",
       "      <th>101817</th>\n",
       "      <td>A754715</td>\n",
       "      <td>Rheia</td>\n",
       "      <td>2018-08-06 17:16:00</td>\n",
       "      <td>02/09/2017</td>\n",
       "      <td>Adoption</td>\n",
       "      <td>Unknown</td>\n",
       "      <td>Dog</td>\n",
       "      <td>Spayed Female</td>\n",
       "      <td>1.000</td>\n",
       "      <td>Labrador Retriever Mix</td>\n",
       "      <td>Black/White</td>\n",
       "      <td>1</td>\n",
       "      <td>2018</td>\n",
       "      <td>8</td>\n",
       "      <td>Monday</td>\n",
       "    </tr>\n",
       "    <tr>\n",
       "      <th>120108</th>\n",
       "      <td>A754715</td>\n",
       "      <td>Rheia</td>\n",
       "      <td>2019-08-15 13:42:00</td>\n",
       "      <td>02/09/2017</td>\n",
       "      <td>Adoption</td>\n",
       "      <td>Unknown</td>\n",
       "      <td>Dog</td>\n",
       "      <td>Spayed Female</td>\n",
       "      <td>2.000</td>\n",
       "      <td>Labrador Retriever Mix</td>\n",
       "      <td>Black/White</td>\n",
       "      <td>1</td>\n",
       "      <td>2019</td>\n",
       "      <td>8</td>\n",
       "      <td>Thursday</td>\n",
       "    </tr>\n",
       "  </tbody>\n",
       "</table>\n",
       "</div>"
      ],
      "text/plain": [
       "       animal_id   name             datetime  ...  year month       day\n",
       "90714    A754715  Rheia  2017-07-29 13:38:00  ...  2017     7  Saturday\n",
       "101817   A754715  Rheia  2018-08-06 17:16:00  ...  2018     8    Monday\n",
       "120108   A754715  Rheia  2019-08-15 13:42:00  ...  2019     8  Thursday\n",
       "\n",
       "[3 rows x 15 columns]"
      ]
     },
     "execution_count": 5,
     "metadata": {
      "tags": []
     },
     "output_type": "execute_result"
    }
   ],
   "source": [
    "outcomes[outcomes['animal_id'] == 'A754715']"
   ]
  },
  {
   "cell_type": "code",
   "execution_count": 10,
   "metadata": {
    "id": "HQF59agTsD8h"
   },
   "outputs": [],
   "source": [
    "intakes['datetime'] = intakes['datetime'].apply(pd.to_datetime)\n",
    "outcomes['datetime'] = outcomes['datetime'].apply(pd.to_datetime)"
   ]
  },
  {
   "cell_type": "code",
   "execution_count": 11,
   "metadata": {
    "id": "32XIKyogsVhM"
   },
   "outputs": [],
   "source": [
    "intakes['intake_num'] = intakes.groupby(['animal_id'])['datetime'].rank(method='dense', ascending=False)\n",
    "intakes['tracking_id'] = intakes['animal_id'] + '_' + intakes['intake_num'].astype('int').astype('str')\n",
    "outcomes['outcome_num'] = outcomes.groupby(['animal_id'])['datetime'].rank(method='dense', ascending=False)\n",
    "outcomes['tracking_id'] = outcomes['animal_id'] + '_' + outcomes['outcome_num'].astype('int').astype('str')"
   ]
  },
  {
   "cell_type": "code",
   "execution_count": 12,
   "metadata": {
    "id": "7Y__eftsu0VJ"
   },
   "outputs": [],
   "source": [
    "outcomes.set_index('tracking_id', inplace=True)\n",
    "intakes.set_index('tracking_id', inplace=True)\n",
    "\n",
    "full_df = pd.merge(outcomes, intakes, how='inner', \n",
    "                  right_index=True, left_index=True, suffixes=['_out', '_in'])"
   ]
  },
  {
   "cell_type": "code",
   "execution_count": 13,
   "metadata": {
    "colab": {
     "base_uri": "https://localhost:8080/"
    },
    "id": "pJ7TH6uwdEMu",
    "outputId": "ccd0ee2a-5d32-4fac-e676-f4fe44eebd97"
   },
   "outputs": [
    {
     "data": {
      "text/plain": [
       "Adoption           0.447472\n",
       "Transfer           0.292740\n",
       "Return to Owner    0.171673\n",
       "Euthanasia         0.067695\n",
       "Died               0.009084\n",
       "Rto-Adopt          0.005973\n",
       "Disposal           0.004652\n",
       "Missing            0.000524\n",
       "Relocate           0.000188\n",
       "Name: outcome_type, dtype: float64"
      ]
     },
     "execution_count": 13,
     "metadata": {
      "tags": []
     },
     "output_type": "execute_result"
    }
   ],
   "source": [
    "full_df['outcome_type'].value_counts(normalize=True)"
   ]
  },
  {
   "cell_type": "code",
   "execution_count": null,
   "metadata": {
    "colab": {
     "base_uri": "https://localhost:8080/"
    },
    "id": "63Q6rw1E24gR",
    "outputId": "645763a4-63ca-46d2-e0e0-b7b22259ea54"
   },
   "outputs": [
    {
     "data": {
      "text/plain": [
       "Index(['animal_id_out', 'name_out', 'datetime_out', 'date_of_birth',\n",
       "       'outcome_type', 'outcome_subtype', 'animal_type_out',\n",
       "       'sex_upon_outcome', 'age_upon_outcome', 'breed_out', 'color_out',\n",
       "       'is_named_out', 'year_out', 'month_out', 'day_out', 'outcome_num',\n",
       "       'animal_id_in', 'name_in', 'datetime_in', 'found_location',\n",
       "       'intake_type', 'intake_condition', 'animal_type_in', 'sex_upon_intake',\n",
       "       'age_upon_intake', 'breed_in', 'color_in', 'is_named_in', 'year_in',\n",
       "       'month_in', 'day_in', 'intake_num'],\n",
       "      dtype='object')"
      ]
     },
     "execution_count": 9,
     "metadata": {
      "tags": []
     },
     "output_type": "execute_result"
    }
   ],
   "source": [
    "full_df.columns"
   ]
  },
  {
   "cell_type": "code",
   "execution_count": null,
   "metadata": {
    "id": "yAdPSOeE4Feh"
   },
   "outputs": [],
   "source": [
    "full_df = full_df.drop(columns=['name_out','name_in','animal_id_out','breed_out','color_out','is_named_out','year_out','month_out',\n",
    "                      'day_out','outcome_num','animal_id_in','animal_type_in','intake_num'])"
   ]
  },
  {
   "cell_type": "code",
   "execution_count": null,
   "metadata": {
    "colab": {
     "base_uri": "https://localhost:8080/"
    },
    "id": "7Bk2ED9IBBvU",
    "outputId": "20a13f5a-3076-4d4b-e771-066c0a94dab6"
   },
   "outputs": [
    {
     "data": {
      "text/plain": [
       "Index(['datetime_out', 'date_of_birth', 'outcome_type', 'outcome_subtype',\n",
       "       'animal_type_out', 'sex_upon_outcome', 'age_upon_outcome',\n",
       "       'datetime_in', 'found_location', 'intake_type', 'intake_condition',\n",
       "       'sex_upon_intake', 'age_upon_intake', 'breed_in', 'color_in',\n",
       "       'is_named_in', 'year_in', 'month_in', 'day_in'],\n",
       "      dtype='object')"
      ]
     },
     "execution_count": 11,
     "metadata": {
      "tags": []
     },
     "output_type": "execute_result"
    }
   ],
   "source": [
    "full_df.columns"
   ]
  },
  {
   "cell_type": "code",
   "execution_count": null,
   "metadata": {
    "id": "hTz4Sm2h5-mQ"
   },
   "outputs": [],
   "source": [
    "full_df.columns = ['date_out', 'dob', 'outcome_type', 'outcome_subtype',\n",
    "                   'animal_type', 'sex_out', 'age_out', 'date_in',\n",
    "                   'found_loc', 'intake_type', 'intake_condition', 'sex_in',\n",
    "                   'age_in', 'breed', 'color', 'named_in','year_in','month_in','day_in']"
   ]
  },
  {
   "cell_type": "code",
   "execution_count": null,
   "metadata": {
    "colab": {
     "base_uri": "https://localhost:8080/",
     "height": 493
    },
    "id": "HbVMbNm8_o20",
    "outputId": "70b3d16e-f63b-451f-8de1-bc2dd5221a08"
   },
   "outputs": [
    {
     "data": {
      "text/html": [
       "<div>\n",
       "<style scoped>\n",
       "    .dataframe tbody tr th:only-of-type {\n",
       "        vertical-align: middle;\n",
       "    }\n",
       "\n",
       "    .dataframe tbody tr th {\n",
       "        vertical-align: top;\n",
       "    }\n",
       "\n",
       "    .dataframe thead th {\n",
       "        text-align: right;\n",
       "    }\n",
       "</style>\n",
       "<table border=\"1\" class=\"dataframe\">\n",
       "  <thead>\n",
       "    <tr style=\"text-align: right;\">\n",
       "      <th></th>\n",
       "      <th>date_out</th>\n",
       "      <th>dob</th>\n",
       "      <th>outcome_type</th>\n",
       "      <th>outcome_subtype</th>\n",
       "      <th>animal_type</th>\n",
       "      <th>sex_out</th>\n",
       "      <th>age_out</th>\n",
       "      <th>date_in</th>\n",
       "      <th>found_loc</th>\n",
       "      <th>intake_type</th>\n",
       "      <th>intake_condition</th>\n",
       "      <th>sex_in</th>\n",
       "      <th>age_in</th>\n",
       "      <th>breed</th>\n",
       "      <th>color</th>\n",
       "      <th>named_in</th>\n",
       "      <th>year_in</th>\n",
       "      <th>month_in</th>\n",
       "      <th>day_in</th>\n",
       "    </tr>\n",
       "    <tr>\n",
       "      <th>tracking_id</th>\n",
       "      <th></th>\n",
       "      <th></th>\n",
       "      <th></th>\n",
       "      <th></th>\n",
       "      <th></th>\n",
       "      <th></th>\n",
       "      <th></th>\n",
       "      <th></th>\n",
       "      <th></th>\n",
       "      <th></th>\n",
       "      <th></th>\n",
       "      <th></th>\n",
       "      <th></th>\n",
       "      <th></th>\n",
       "      <th></th>\n",
       "      <th></th>\n",
       "      <th></th>\n",
       "      <th></th>\n",
       "      <th></th>\n",
       "    </tr>\n",
       "  </thead>\n",
       "  <tbody>\n",
       "    <tr>\n",
       "      <th>A006100_1</th>\n",
       "      <td>2017-12-07 00:00:00</td>\n",
       "      <td>07/09/2007</td>\n",
       "      <td>Return to Owner</td>\n",
       "      <td>Unknown</td>\n",
       "      <td>Dog</td>\n",
       "      <td>Neutered Male</td>\n",
       "      <td>1.0</td>\n",
       "      <td>2017-12-07 14:07:00</td>\n",
       "      <td>Colony Creek And Hunters Trace in Austin (TX)</td>\n",
       "      <td>Stray</td>\n",
       "      <td>Normal</td>\n",
       "      <td>Neutered Male</td>\n",
       "      <td>1.0</td>\n",
       "      <td>Spinone Italiano Mix</td>\n",
       "      <td>Yellow/White</td>\n",
       "      <td>1</td>\n",
       "      <td>2017</td>\n",
       "      <td>12</td>\n",
       "      <td>Thursday</td>\n",
       "    </tr>\n",
       "    <tr>\n",
       "      <th>A006100_2</th>\n",
       "      <td>2014-12-20 16:35:00</td>\n",
       "      <td>07/09/2007</td>\n",
       "      <td>Return to Owner</td>\n",
       "      <td>Unknown</td>\n",
       "      <td>Dog</td>\n",
       "      <td>Neutered Male</td>\n",
       "      <td>7.0</td>\n",
       "      <td>2014-12-19 10:21:00</td>\n",
       "      <td>8700 Research Blvd in Austin (TX)</td>\n",
       "      <td>Public Assist</td>\n",
       "      <td>Normal</td>\n",
       "      <td>Neutered Male</td>\n",
       "      <td>7.0</td>\n",
       "      <td>Spinone Italiano Mix</td>\n",
       "      <td>Yellow/White</td>\n",
       "      <td>1</td>\n",
       "      <td>2014</td>\n",
       "      <td>12</td>\n",
       "      <td>Friday</td>\n",
       "    </tr>\n",
       "    <tr>\n",
       "      <th>A006100_3</th>\n",
       "      <td>2014-03-08 17:10:00</td>\n",
       "      <td>07/09/2007</td>\n",
       "      <td>Return to Owner</td>\n",
       "      <td>Unknown</td>\n",
       "      <td>Dog</td>\n",
       "      <td>Neutered Male</td>\n",
       "      <td>6.0</td>\n",
       "      <td>2014-03-07 14:26:00</td>\n",
       "      <td>8700 Research in Austin (TX)</td>\n",
       "      <td>Public Assist</td>\n",
       "      <td>Normal</td>\n",
       "      <td>Neutered Male</td>\n",
       "      <td>6.0</td>\n",
       "      <td>Spinone Italiano Mix</td>\n",
       "      <td>Yellow/White</td>\n",
       "      <td>1</td>\n",
       "      <td>2014</td>\n",
       "      <td>3</td>\n",
       "      <td>Friday</td>\n",
       "    </tr>\n",
       "    <tr>\n",
       "      <th>A047759_1</th>\n",
       "      <td>2014-04-07 15:12:00</td>\n",
       "      <td>04/02/2004</td>\n",
       "      <td>Transfer</td>\n",
       "      <td>Partner</td>\n",
       "      <td>Dog</td>\n",
       "      <td>Neutered Male</td>\n",
       "      <td>1.0</td>\n",
       "      <td>2014-04-02 15:55:00</td>\n",
       "      <td>Austin (TX)</td>\n",
       "      <td>Owner Surrender</td>\n",
       "      <td>Normal</td>\n",
       "      <td>Neutered Male</td>\n",
       "      <td>1.0</td>\n",
       "      <td>Dachshund</td>\n",
       "      <td>Tricolor</td>\n",
       "      <td>1</td>\n",
       "      <td>2014</td>\n",
       "      <td>4</td>\n",
       "      <td>Wednesday</td>\n",
       "    </tr>\n",
       "    <tr>\n",
       "      <th>A134067_1</th>\n",
       "      <td>2013-11-16 11:54:00</td>\n",
       "      <td>10/16/1997</td>\n",
       "      <td>Return to Owner</td>\n",
       "      <td>Unknown</td>\n",
       "      <td>Dog</td>\n",
       "      <td>Neutered Male</td>\n",
       "      <td>1.0</td>\n",
       "      <td>2013-11-16 09:02:00</td>\n",
       "      <td>12034 Research Blvd in Austin (TX)</td>\n",
       "      <td>Public Assist</td>\n",
       "      <td>Injured</td>\n",
       "      <td>Neutered Male</td>\n",
       "      <td>1.0</td>\n",
       "      <td>Shetland Sheepdog</td>\n",
       "      <td>Brown/White</td>\n",
       "      <td>1</td>\n",
       "      <td>2013</td>\n",
       "      <td>11</td>\n",
       "      <td>Saturday</td>\n",
       "    </tr>\n",
       "  </tbody>\n",
       "</table>\n",
       "</div>"
      ],
      "text/plain": [
       "                       date_out         dob  ... month_in     day_in\n",
       "tracking_id                                  ...                    \n",
       "A006100_1   2017-12-07 00:00:00  07/09/2007  ...       12   Thursday\n",
       "A006100_2   2014-12-20 16:35:00  07/09/2007  ...       12     Friday\n",
       "A006100_3   2014-03-08 17:10:00  07/09/2007  ...        3     Friday\n",
       "A047759_1   2014-04-07 15:12:00  04/02/2004  ...        4  Wednesday\n",
       "A134067_1   2013-11-16 11:54:00  10/16/1997  ...       11   Saturday\n",
       "\n",
       "[5 rows x 19 columns]"
      ]
     },
     "execution_count": 13,
     "metadata": {
      "tags": []
     },
     "output_type": "execute_result"
    }
   ],
   "source": [
    "full_df.head()"
   ]
  },
  {
   "cell_type": "code",
   "execution_count": null,
   "metadata": {
    "id": "UuVCs0V4-MsQ"
   },
   "outputs": [],
   "source": [
    "model_frame = full_df.drop(columns=['dob','found_loc','date_out','found_loc','date_in','year_in'])"
   ]
  },
  {
   "cell_type": "code",
   "execution_count": null,
   "metadata": {
    "id": "E-JSBkPPbaMq"
   },
   "outputs": [],
   "source": []
  },
  {
   "cell_type": "code",
   "execution_count": null,
   "metadata": {
    "colab": {
     "base_uri": "https://localhost:8080/"
    },
    "id": "rn1GSmOXNQJU",
    "outputId": "ee07bf0f-45fe-4501-cb19-32a7aeb56dbc"
   },
   "outputs": [
    {
     "data": {
      "text/plain": [
       "Index(['outcome_type', 'outcome_subtype', 'animal_type', 'sex_out', 'age_out',\n",
       "       'intake_type', 'intake_condition', 'sex_in', 'age_in', 'breed', 'color',\n",
       "       'named_in', 'month_in', 'day_in'],\n",
       "      dtype='object')"
      ]
     },
     "execution_count": 15,
     "metadata": {
      "tags": []
     },
     "output_type": "execute_result"
    }
   ],
   "source": [
    "model_frame.columns"
   ]
  },
  {
   "cell_type": "code",
   "execution_count": null,
   "metadata": {
    "id": "8Nnw6d4NLoP2"
   },
   "outputs": [],
   "source": [
    "model_frame = pd.get_dummies(model_frame,drop_first=True,columns=['animal_type','sex_out','intake_type','intake_condition',\n",
    "                                                                  'sex_in','breed','color','month_in','day_in'])"
   ]
  },
  {
   "cell_type": "code",
   "execution_count": null,
   "metadata": {
    "id": "uhZ6OSqpMn7i"
   },
   "outputs": [],
   "source": [
    "model_frame.to_csv('/content/drive/MyDrive/Colab Notebooks/group_project/datasets/model_frame.csv',)"
   ]
  }
 ],
 "metadata": {
  "accelerator": "TPU",
  "colab": {
   "collapsed_sections": [],
   "name": "evan_sandbox.ipynb",
   "provenance": []
  },
  "kernelspec": {
   "display_name": "Python 3",
   "language": "python",
   "name": "python3"
  },
  "language_info": {
   "codemirror_mode": {
    "name": "ipython",
    "version": 3
   },
   "file_extension": ".py",
   "mimetype": "text/x-python",
   "name": "python",
   "nbconvert_exporter": "python",
   "pygments_lexer": "ipython3",
   "version": "3.8.8"
  }
 },
 "nbformat": 4,
 "nbformat_minor": 4
}
