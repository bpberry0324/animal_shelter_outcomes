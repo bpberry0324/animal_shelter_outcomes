{
 "cells": [
  {
   "cell_type": "code",
   "execution_count": 104,
   "id": "4023d00d-3763-4bb5-95dd-64a46bd7f9a5",
   "metadata": {},
   "outputs": [],
   "source": [
    "import pandas as pd\n",
    "import numpy as np\n",
    "pd.options.mode.chained_assignment = None\n",
    "\n",
    "import matplotlib.pyplot as plt\n",
    "import seaborn as sns\n",
    "\n",
    "from sklearn.preprocessing import StandardScaler, PolynomialFeatures\n",
    "from sklearn.linear_model import Ridge, Lasso, ElasticNet, LinearRegression, RidgeCV, LassoCV, ElasticNetCV, LogisticRegression\n",
    "from sklearn.model_selection import cross_val_score, train_test_split\n",
    "from sklearn.preprocessing import OneHotEncoder"
   ]
  },
  {
   "cell_type": "markdown",
   "id": "120631b0-fa8f-4f3f-92b6-033c0c997575",
   "metadata": {},
   "source": [
    "# I. Data Cleaning"
   ]
  },
  {
   "cell_type": "code",
   "execution_count": 105,
   "id": "1fe9e078-2231-4a16-aba0-bd4d1e6a16eb",
   "metadata": {},
   "outputs": [],
   "source": [
    "df = pd.read_csv('../datasets/katie-animals_w_outcome.csv')"
   ]
  },
  {
   "cell_type": "code",
   "execution_count": 10,
   "id": "1c3b060b-c117-4f93-b7fa-f2703736d62f",
   "metadata": {},
   "outputs": [],
   "source": [
    "df['adopted'] = (df['outcome_type'] == 'Adoption').map({True: 1, False:0})"
   ]
  },
  {
   "cell_type": "code",
   "execution_count": 11,
   "id": "0ec7a05d-7451-4a88-bcfb-28a2a31cae34",
   "metadata": {},
   "outputs": [],
   "source": [
    "df.drop(columns=['outcome_type'], inplace=True)\n",
    "df['month_in'] = df['month_in'].astype(str)"
   ]
  },
  {
   "cell_type": "markdown",
   "id": "3156e3a8-ba62-44cb-8a4d-80207225d3e7",
   "metadata": {},
   "source": [
    "### Creating ALL DataFrames"
   ]
  },
  {
   "cell_type": "code",
   "execution_count": 13,
   "id": "3d38f181-95bd-4189-bffd-b4588bc18c35",
   "metadata": {},
   "outputs": [
    {
     "data": {
      "text/plain": [
       "Stray                 0.693474\n",
       "Owner Surrender       0.199970\n",
       "Public Assist         0.061222\n",
       "Wildlife              0.039837\n",
       "Abandoned             0.003476\n",
       "Euthanasia Request    0.002021\n",
       "Name: intake_type, dtype: float64"
      ]
     },
     "execution_count": 13,
     "metadata": {},
     "output_type": "execute_result"
    }
   ],
   "source": [
    "df['intake_type'].value_counts(normalize=True)"
   ]
  },
  {
   "cell_type": "code",
   "execution_count": 14,
   "id": "a0830ddd-8e19-47ea-b62f-1bd615717661",
   "metadata": {},
   "outputs": [],
   "source": [
    "stray = df[df['intake_type']== 'Stray']\n",
    "owner_surrender = df[df['intake_type']== 'Owner Surrender']\n",
    "public_assist = df[df['intake_type']== 'Public Assist']\n",
    "wildlife = df[df['intake_type']== 'Wildlife']\n",
    "abandoned = df[df['intake_type']== 'Abandoned']\n",
    "euthanasia = df[df['intake_type']== 'Euthanasia Request']"
   ]
  },
  {
   "cell_type": "code",
   "execution_count": 15,
   "id": "7debf751-504b-4c35-b1e6-d574a8cd23a3",
   "metadata": {},
   "outputs": [],
   "source": [
    "stray.reset_index(inplace=True)\n",
    "owner_surrender.reset_index(inplace=True)\n",
    "public_assist.reset_index(inplace=True)\n",
    "wildlife.reset_index(inplace=True)\n",
    "abandoned.reset_index(inplace=True)\n",
    "euthanasia.reset_index(inplace=True)"
   ]
  },
  {
   "cell_type": "code",
   "execution_count": 26,
   "id": "446276b9-cac7-46b5-a61c-c83f099815c2",
   "metadata": {},
   "outputs": [],
   "source": [
    "stray = onehot_dataframe(stray)\n",
    "stray.drop(columns='index', inplace=True)\n",
    "\n",
    "owner_surrender= onehot_dataframe(owner_surrender)\n",
    "owner_surrender.drop(columns='index', inplace=True)\n",
    "\n",
    "public_assist = onehot_dataframe(public_assist)\n",
    "public_assist.drop(columns='index', inplace=True)\n",
    "\n",
    "wildlife = onehot_dataframe(wildlife)\n",
    "wildlife.drop(columns='index', inplace=True)\n",
    "\n",
    "abandoned = onehot_dataframe(abandoned)\n",
    "abandoned.drop(columns='index', inplace=True)\n",
    "\n",
    "euthanasia = onehot_dataframe(euthanasia)\n",
    "euthanasia.drop(columns='index', inplace=True)"
   ]
  },
  {
   "cell_type": "markdown",
   "id": "a9dbb51e-6cf2-4b4f-9213-4ddb5e568276",
   "metadata": {},
   "source": [
    "### One Hot Encoding"
   ]
  },
  {
   "cell_type": "code",
   "execution_count": 25,
   "id": "9d8f0b34-6b80-4d98-b119-64e3660649f0",
   "metadata": {},
   "outputs": [],
   "source": [
    "def onehot_dataframe(df):\n",
    "    '''\n",
    "\n",
    "    Takes in a dataframe, and returns a dataframe that will be similar to the \n",
    "    get_dummies from pandas.\n",
    "    YOU MUST HAVE ONE HOT ENCODER IMPORTED FOR THIS TO WORK!\n",
    "    '''\n",
    "\n",
    "    # get our numeric columns\n",
    "    numeric = df.select_dtypes(exclude=object)\n",
    "\n",
    "    # get our categorical columns\n",
    "    categorical = df.select_dtypes([object])\n",
    "\n",
    "    # preserve the names of our categorical data\n",
    "    categorical_fnames = categorical.dtypes.keys() # preserve the names\n",
    "\n",
    "    # make sure you are importing one hot encoder, or this function will not work\n",
    "    enc = OneHotEncoder(drop='first',sparse=False)\n",
    "\n",
    "    # categorical is now an array of arrays \n",
    "    categorical = enc.fit_transform(categorical) \n",
    "\n",
    "    dummy_cat_names = enc.get_feature_names(categorical_fnames)\n",
    "\n",
    "    categorical_df = pd.DataFrame(categorical, columns=dummy_cat_names)\n",
    "\n",
    "    return pd.concat([numeric, categorical_df], axis=1)  "
   ]
  },
  {
   "cell_type": "markdown",
   "id": "c30429fc-bfa1-4634-ab5b-8829db657c9c",
   "metadata": {},
   "source": [
    "# III. Modeling"
   ]
  },
  {
   "cell_type": "markdown",
   "id": "990daf09-d35e-45cf-a3c3-c3a245735584",
   "metadata": {},
   "source": [
    "### Baseline"
   ]
  },
  {
   "cell_type": "code",
   "execution_count": 40,
   "id": "79a2bb04-470f-4746-b26f-aeaca62717c5",
   "metadata": {},
   "outputs": [
    {
     "name": "stdout",
     "output_type": "stream",
     "text": [
      "Stray\n",
      "0    0.550385\n",
      "1    0.449615\n",
      "Name: adopted, dtype: float64\n",
      "---\n",
      "Owner Surrender\n",
      "1    0.633628\n",
      "0    0.366372\n",
      "Name: adopted, dtype: float64\n",
      "---\n",
      "Public Assist\n",
      "0    0.85573\n",
      "1    0.14427\n",
      "Name: adopted, dtype: float64\n",
      "---\n",
      "Wildlife\n",
      "0    0.998618\n",
      "1    0.001382\n",
      "Name: adopted, dtype: float64\n",
      "---\n",
      "Abandoned\n",
      "0    0.504525\n",
      "1    0.495475\n",
      "Name: adopted, dtype: float64\n",
      "---\n",
      "Euthanasia Request\n",
      "0    0.945525\n",
      "1    0.054475\n",
      "Name: adopted, dtype: float64\n",
      "---\n"
     ]
    }
   ],
   "source": [
    "print('Stray')\n",
    "print(stray['adopted'].value_counts(normalize=True))\n",
    "print('---')\n",
    "print('Owner Surrender')\n",
    "print(owner_surrender['adopted'].value_counts(normalize=True))\n",
    "print('---')\n",
    "print('Public Assist')\n",
    "print(public_assist['adopted'].value_counts(normalize=True))\n",
    "print('---')\n",
    "print('Wildlife')\n",
    "print(wildlife['adopted'].value_counts(normalize=True))\n",
    "print('---')\n",
    "print('Abandoned')\n",
    "print(abandoned['adopted'].value_counts(normalize=True))\n",
    "print('---')\n",
    "print('Euthanasia Request')\n",
    "print(euthanasia['adopted'].value_counts(normalize=True))\n",
    "print('---')"
   ]
  },
  {
   "cell_type": "code",
   "execution_count": 41,
   "id": "66a8d9e7-a2e6-4186-9fa6-0bd81289c22c",
   "metadata": {},
   "outputs": [],
   "source": [
    "import numpy as np\n",
    "import pandas as pd\n",
    "import matplotlib.pyplot as plt\n",
    "import seaborn as sns\n",
    "from sklearn.model_selection import train_test_split\n",
    "from sklearn import preprocessing\n",
    "from sklearn.preprocessing import StandardScaler\n",
    "from sklearn.pipeline import Pipeline\n",
    "from sklearn.linear_model import LogisticRegression\n",
    "from sklearn.tree import DecisionTreeClassifier\n",
    "from sklearn.ensemble import RandomForestClassifier\n",
    "from sklearn.svm import SVC\n",
    "from sklearn.svm import LinearSVC\n",
    "from sklearn.model_selection import GridSearchCV\n",
    "from sklearn.model_selection import cross_val_score\n",
    "from sklearn.metrics import precision_score, recall_score, confusion_matrix, classification_report, accuracy_score, f1_score, ConfusionMatrixDisplay\n",
    "from sklearn import metrics\n",
    "from sklearn.metrics import roc_curve, auc, roc_auc_score\n",
    "from sklearn.neighbors import KNeighborsClassifier\n",
    "from sklearn.ensemble import RandomForestClassifier, AdaBoostClassifier, GradientBoostingClassifier, ExtraTreesClassifier\n",
    "from xgboost import XGBClassifier\n",
    "from sklearn.naive_bayes import BernoulliNB, MultinomialNB"
   ]
  },
  {
   "cell_type": "code",
   "execution_count": 26,
   "id": "5607b5d2-9fac-42f4-8e1b-4737a13531c4",
   "metadata": {},
   "outputs": [],
   "source": [
    "def rmse(predictions, targets):\n",
    "    return np.sqrt(((predictions - targets) ** 2).mean())"
   ]
  },
  {
   "cell_type": "code",
   "execution_count": null,
   "id": "cd6eb5e5-2ef0-46b4-9079-28d5101f6a76",
   "metadata": {},
   "outputs": [],
   "source": []
  },
  {
   "cell_type": "markdown",
   "id": "f23c2ef2-b008-4bde-8696-6787ee1d09e9",
   "metadata": {},
   "source": [
    "# #1 Model - Stray"
   ]
  },
  {
   "cell_type": "code",
   "execution_count": 108,
   "id": "1d81be5d-4664-4037-8c00-6ec2b71a7cd4",
   "metadata": {},
   "outputs": [],
   "source": [
    "features = (stray.drop(columns = ['adopted']).columns)\n",
    "X = stray[features]\n",
    "y = stray['adopted']"
   ]
  },
  {
   "cell_type": "code",
   "execution_count": 109,
   "id": "8aa26dcd-f143-4312-90d6-d3b983c626ad",
   "metadata": {},
   "outputs": [],
   "source": [
    "X_train, X_test, y_train, y_test = train_test_split(X, y, random_state = 42, stratify=y)"
   ]
  },
  {
   "cell_type": "code",
   "execution_count": 110,
   "id": "b283814f-7005-4bad-9516-804b88b99a5a",
   "metadata": {},
   "outputs": [],
   "source": [
    "from sklearn.preprocessing import StandardScaler\n",
    "\n",
    "# Instantiate\n",
    "scaler = StandardScaler()\n",
    "\n",
    "X_train_sc = scaler.fit_transform(X_train)\n",
    "X_test_sc = scaler.transform(X_test)"
   ]
  },
  {
   "cell_type": "code",
   "execution_count": 111,
   "id": "05ef4942-0820-4774-be82-f533afccc237",
   "metadata": {},
   "outputs": [],
   "source": [
    "def pipe(model):\n",
    "    #instantiate model\n",
    "    model = model()\n",
    "    #fit to scaled data\n",
    "    model.fit(X_train_sc, y_train)\n",
    "    \n",
    "    #make predictions\n",
    "    predictions = model.predict(X_test_sc)\n",
    "\n",
    "    #print results\n",
    "    print(f'{model} training score: {model.score(X_train_sc, y_train)}')\n",
    "    print(f'{model} testing score: {model.score(X_test_sc, y_test)}')\n",
    "\n",
    "    return"
   ]
  },
  {
   "cell_type": "code",
   "execution_count": 112,
   "id": "07632f48-cafb-423f-b198-fad59fc08bd9",
   "metadata": {},
   "outputs": [
    {
     "name": "stderr",
     "output_type": "stream",
     "text": [
      "/Users/ksylvia/opt/anaconda3/lib/python3.8/site-packages/sklearn/linear_model/_logistic.py:763: ConvergenceWarning: lbfgs failed to converge (status=1):\n",
      "STOP: TOTAL NO. of ITERATIONS REACHED LIMIT.\n",
      "\n",
      "Increase the number of iterations (max_iter) or scale the data as shown in:\n",
      "    https://scikit-learn.org/stable/modules/preprocessing.html\n",
      "Please also refer to the documentation for alternative solver options:\n",
      "    https://scikit-learn.org/stable/modules/linear_model.html#logistic-regression\n",
      "  n_iter_i = _check_optimize_result(\n"
     ]
    },
    {
     "name": "stdout",
     "output_type": "stream",
     "text": [
      "LogisticRegression() training score: 0.7741652552625212\n",
      "LogisticRegression() testing score: 0.7572018327813819\n"
     ]
    }
   ],
   "source": [
    "pipe(LogisticRegression)"
   ]
  },
  {
   "cell_type": "code",
   "execution_count": 113,
   "id": "67954431-5209-4d6f-a395-c14e989613b2",
   "metadata": {},
   "outputs": [
    {
     "name": "stdout",
     "output_type": "stream",
     "text": [
      "DecisionTreeClassifier() training score: 0.9992438906363417\n",
      "DecisionTreeClassifier() testing score: 0.7974413646055437\n"
     ]
    }
   ],
   "source": [
    "pipe(DecisionTreeClassifier)"
   ]
  },
  {
   "cell_type": "code",
   "execution_count": 114,
   "id": "fb5debe6-8441-47e4-a55e-50aae20e53e9",
   "metadata": {},
   "outputs": [
    {
     "name": "stdout",
     "output_type": "stream",
     "text": [
      "AdaBoostClassifier() training score: 0.8230704089039439\n",
      "AdaBoostClassifier() testing score: 0.8181282039649775\n"
     ]
    }
   ],
   "source": [
    "pipe(AdaBoostClassifier)"
   ]
  },
  {
   "cell_type": "code",
   "execution_count": 115,
   "id": "da64e057-6038-47bd-b1f2-28a39c554458",
   "metadata": {},
   "outputs": [
    {
     "name": "stdout",
     "output_type": "stream",
     "text": [
      "GradientBoostingClassifier() training score: 0.8329754415678684\n",
      "GradientBoostingClassifier() testing score: 0.8286530871478474\n"
     ]
    }
   ],
   "source": [
    "pipe(GradientBoostingClassifier)"
   ]
  },
  {
   "cell_type": "code",
   "execution_count": 119,
   "id": "b2020a3c-235a-427b-a3ad-af3f7cd1887c",
   "metadata": {},
   "outputs": [
    {
     "name": "stdout",
     "output_type": "stream",
     "text": [
      "RandomForestClassifier() training score: 0.9992438906363417\n",
      "RandomForestClassifier() testing score: 0.8293335752846709\n"
     ]
    }
   ],
   "source": [
    "pipe(RandomForestClassifier)"
   ]
  },
  {
   "cell_type": "code",
   "execution_count": 116,
   "id": "7995fe0a-1c99-45f1-abe1-0a81a3b33ef4",
   "metadata": {},
   "outputs": [],
   "source": [
    "gbc = GradientBoostingClassifier()\n",
    "\n",
    "gbc.fit(X_train_sc, y_train)\n",
    "\n",
    "#make predictions\n",
    "preds = gbc.predict(X_test_sc)"
   ]
  },
  {
   "cell_type": "code",
   "execution_count": 117,
   "id": "60714fcf-91d3-4631-a06b-17643cd53018",
   "metadata": {},
   "outputs": [
    {
     "name": "stdout",
     "output_type": "stream",
     "text": [
      "              precision    recall  f1-score   support\n",
      "\n",
      "           0       0.92      0.76      0.83     12132\n",
      "           1       0.76      0.92      0.83      9911\n",
      "\n",
      "    accuracy                           0.83     22043\n",
      "   macro avg       0.84      0.84      0.83     22043\n",
      "weighted avg       0.84      0.83      0.83     22043\n",
      "\n",
      "[[9188 2944]\n",
      " [ 833 9078]]\n"
     ]
    }
   ],
   "source": [
    "print(classification_report(y_test,preds))\n",
    "print(confusion_matrix(y_test, preds))"
   ]
  },
  {
   "cell_type": "code",
   "execution_count": 118,
   "id": "1e2b2b58-8680-4a36-8c37-e66986dfe4e8",
   "metadata": {},
   "outputs": [
    {
     "data": {
      "image/png": "[encoded data removed]",
      "text/plain": [
       "<Figure size 432x288 with 2 Axes>"
      ]
     },
     "metadata": {
      "needs_background": "light"
     },
     "output_type": "display_data"
    }
   ],
   "source": [
    "cm = confusion_matrix(y_test, preds)\n",
    "\n",
    "ConfusionMatrixDisplay(cm, display_labels=gbc.classes_).plot(cmap='Blues');"
   ]
  },
  {
   "cell_type": "markdown",
   "id": "b5a63f13-87d0-412f-968b-833a6eee54f3",
   "metadata": {},
   "source": [
    "### **Summary: 28% increase from baseline!**"
   ]
  },
  {
   "cell_type": "markdown",
   "id": "bfebf26b-5dc0-498d-930e-45b832b0b688",
   "metadata": {},
   "source": [
    "# #2 Model - Owner Surrender"
   ]
  },
  {
   "cell_type": "code",
   "execution_count": 42,
   "id": "7c86cd28-3049-4a35-a797-72a691cbfb00",
   "metadata": {},
   "outputs": [],
   "source": [
    "features = (owner_surrender.drop(columns = ['adopted']).columns)\n",
    "X = owner_surrender[features]\n",
    "y = owner_surrender['adopted']"
   ]
  },
  {
   "cell_type": "code",
   "execution_count": 43,
   "id": "98c486ff-4db3-4dc4-b079-be571fe8e0d0",
   "metadata": {},
   "outputs": [],
   "source": [
    "X_train, X_test, y_train, y_test = train_test_split(X, y, random_state = 42, stratify=y)"
   ]
  },
  {
   "cell_type": "code",
   "execution_count": 44,
   "id": "c9be3f5f-8eea-41b6-95c8-3164c01a923d",
   "metadata": {},
   "outputs": [],
   "source": [
    "from sklearn.preprocessing import StandardScaler\n",
    "\n",
    "# Instantiate\n",
    "scaler = StandardScaler()\n",
    "\n",
    "X_train_sc = scaler.fit_transform(X_train)\n",
    "X_test_sc = scaler.transform(X_test)"
   ]
  },
  {
   "cell_type": "code",
   "execution_count": 45,
   "id": "eae54ed5-c995-4bc3-b3b4-202de9e4dfd1",
   "metadata": {},
   "outputs": [],
   "source": [
    "def pipe(model):\n",
    "    #instantiate model\n",
    "    model = model()\n",
    "    #fit to scaled data\n",
    "    model.fit(X_train_sc, y_train)\n",
    "    \n",
    "    #make predictions\n",
    "    predictions = model.predict(X_test_sc)\n",
    "\n",
    "    #print results\n",
    "    print(f'{model} training score: {model.score(X_train_sc, y_train)}')\n",
    "    print(f'{model} testing score: {model.score(X_test_sc, y_test)}')\n",
    "\n",
    "    return"
   ]
  },
  {
   "cell_type": "code",
   "execution_count": 46,
   "id": "15b93868-0e12-44a7-8c10-ba2215159888",
   "metadata": {},
   "outputs": [
    {
     "name": "stdout",
     "output_type": "stream",
     "text": [
      "LogisticRegression() training score: 0.7325886301657227\n",
      "LogisticRegression() testing score: 0.6912065439672802\n"
     ]
    }
   ],
   "source": [
    "pipe(LogisticRegression)"
   ]
  },
  {
   "cell_type": "code",
   "execution_count": 47,
   "id": "f9233696-1d1f-4a4b-b443-3548082b76b0",
   "metadata": {},
   "outputs": [
    {
     "name": "stdout",
     "output_type": "stream",
     "text": [
      "DecisionTreeClassifier() training score: 0.9994755611495699\n",
      "DecisionTreeClassifier() testing score: 0.686330029888312\n"
     ]
    }
   ],
   "source": [
    "pipe(DecisionTreeClassifier)"
   ]
  },
  {
   "cell_type": "code",
   "execution_count": 48,
   "id": "252d1508-d0cf-470f-9811-ab5e21958fee",
   "metadata": {},
   "outputs": [
    {
     "name": "stdout",
     "output_type": "stream",
     "text": [
      "AdaBoostClassifier() training score: 0.7174323473882945\n",
      "AdaBoostClassifier() testing score: 0.7110272140946987\n"
     ]
    }
   ],
   "source": [
    "pipe(AdaBoostClassifier)"
   ]
  },
  {
   "cell_type": "code",
   "execution_count": 52,
   "id": "3bda373e-1fe9-4903-bc8b-4d7fa835b7bc",
   "metadata": {},
   "outputs": [
    {
     "name": "stdout",
     "output_type": "stream",
     "text": [
      "GradientBoostingClassifier() training score: 0.7386196769456681\n",
      "GradientBoostingClassifier() testing score: 0.7330501809029416\n"
     ]
    }
   ],
   "source": [
    "pipe(GradientBoostingClassifier)"
   ]
  },
  {
   "cell_type": "code",
   "execution_count": 54,
   "id": "e7c86ad9-9255-4c1b-8fb2-56441abeb6e0",
   "metadata": {},
   "outputs": [],
   "source": [
    "gbc = GradientBoostingClassifier()\n",
    "\n",
    "gbc.fit(X_train_sc, y_train)\n",
    "\n",
    "#make predictions\n",
    "preds = gbc.predict(X_test_sc)"
   ]
  },
  {
   "cell_type": "code",
   "execution_count": 55,
   "id": "e8e558e5-05f2-4051-bf14-212ecffa74e2",
   "metadata": {},
   "outputs": [
    {
     "name": "stdout",
     "output_type": "stream",
     "text": [
      "              precision    recall  f1-score   support\n",
      "\n",
      "           0       0.79      0.37      0.50      2329\n",
      "           1       0.72      0.94      0.82      4028\n",
      "\n",
      "    accuracy                           0.73      6357\n",
      "   macro avg       0.76      0.66      0.66      6357\n",
      "weighted avg       0.75      0.73      0.70      6357\n",
      "\n",
      "[[ 861 1468]\n",
      " [ 230 3798]]\n"
     ]
    }
   ],
   "source": [
    "print(classification_report(y_test,preds))\n",
    "print(confusion_matrix(y_test, preds))"
   ]
  },
  {
   "cell_type": "code",
   "execution_count": 56,
   "id": "60269169-ef1c-4f43-81d7-b9373e8100a9",
   "metadata": {},
   "outputs": [
    {
     "data": {
      "image/png": "[encoded data removed]",
      "text/plain": [
       "<Figure size 432x288 with 2 Axes>"
      ]
     },
     "metadata": {
      "needs_background": "light"
     },
     "output_type": "display_data"
    }
   ],
   "source": [
    "cm = confusion_matrix(y_test, preds)\n",
    "\n",
    "ConfusionMatrixDisplay(cm, display_labels=gbc.classes_).plot(cmap='Blues');"
   ]
  },
  {
   "cell_type": "markdown",
   "id": "e729df54-0f6b-4e3c-9e47-65e232083253",
   "metadata": {},
   "source": [
    "### **Summary: 10% increase from baseline!**"
   ]
  },
  {
   "cell_type": "markdown",
   "id": "42f9c72c-7989-4b77-883d-ce1f36f8e683",
   "metadata": {},
   "source": [
    "# #3 Model - Public Assist"
   ]
  },
  {
   "cell_type": "code",
   "execution_count": 70,
   "id": "f110b8e9-015e-4561-9c7e-99941c47840e",
   "metadata": {},
   "outputs": [],
   "source": [
    "features = (public_assist.drop(columns = ['adopted']).columns)\n",
    "X = public_assist[features]\n",
    "y = public_assist['adopted']"
   ]
  },
  {
   "cell_type": "code",
   "execution_count": 71,
   "id": "320b16a2-6baa-4b0d-a8e0-09e9c886527a",
   "metadata": {},
   "outputs": [],
   "source": [
    "X_train, X_test, y_train, y_test = train_test_split(X, y, random_state = 42, stratify=y)"
   ]
  },
  {
   "cell_type": "code",
   "execution_count": 72,
   "id": "2bc1a72f-b7a9-4084-a748-f5df35ef0c85",
   "metadata": {},
   "outputs": [],
   "source": [
    "from sklearn.preprocessing import StandardScaler\n",
    "\n",
    "# Instantiate\n",
    "scaler = StandardScaler()\n",
    "\n",
    "X_train_sc = scaler.fit_transform(X_train)\n",
    "X_test_sc = scaler.transform(X_test)"
   ]
  },
  {
   "cell_type": "code",
   "execution_count": 73,
   "id": "4192914a-561c-43a4-8f9d-772bbc835121",
   "metadata": {},
   "outputs": [],
   "source": [
    "def pipe(model):\n",
    "    #instantiate model\n",
    "    model = model()\n",
    "    #fit to scaled data\n",
    "    model.fit(X_train_sc, y_train)\n",
    "    \n",
    "    #print results\n",
    "    print(f'{model} training score: {model.score(X_train_sc, y_train)}')\n",
    "    print(f'{model} testing score: {model.score(X_test_sc, y_test)}')\n",
    "\n",
    "    return"
   ]
  },
  {
   "cell_type": "code",
   "execution_count": 74,
   "id": "baa0ed84-d186-46ee-9a52-d0023393f148",
   "metadata": {},
   "outputs": [
    {
     "name": "stdout",
     "output_type": "stream",
     "text": [
      "LogisticRegression() training score: 0.9045906132237067\n",
      "LogisticRegression() testing score: 0.8782117163412128\n"
     ]
    },
    {
     "name": "stderr",
     "output_type": "stream",
     "text": [
      "/Users/ksylvia/opt/anaconda3/lib/python3.8/site-packages/sklearn/linear_model/_logistic.py:763: ConvergenceWarning: lbfgs failed to converge (status=1):\n",
      "STOP: TOTAL NO. of ITERATIONS REACHED LIMIT.\n",
      "\n",
      "Increase the number of iterations (max_iter) or scale the data as shown in:\n",
      "    https://scikit-learn.org/stable/modules/preprocessing.html\n",
      "Please also refer to the documentation for alternative solver options:\n",
      "    https://scikit-learn.org/stable/modules/linear_model.html#logistic-regression\n",
      "  n_iter_i = _check_optimize_result(\n"
     ]
    }
   ],
   "source": [
    "pipe(LogisticRegression)"
   ]
  },
  {
   "cell_type": "code",
   "execution_count": 75,
   "id": "7885107d-4e9d-4e1b-962f-10f746ffc3d7",
   "metadata": {},
   "outputs": [
    {
     "name": "stdout",
     "output_type": "stream",
     "text": [
      "DecisionTreeClassifier() training score: 0.999314833847208\n",
      "DecisionTreeClassifier() testing score: 0.8663926002055499\n"
     ]
    }
   ],
   "source": [
    "pipe(DecisionTreeClassifier)"
   ]
  },
  {
   "cell_type": "code",
   "execution_count": 76,
   "id": "9fd97248-fb45-4ce1-8ed2-434903b5d647",
   "metadata": {},
   "outputs": [
    {
     "name": "stdout",
     "output_type": "stream",
     "text": [
      "AdaBoostClassifier() training score: 0.894998287084618\n",
      "AdaBoostClassifier() testing score: 0.8920863309352518\n"
     ]
    }
   ],
   "source": [
    "pipe(AdaBoostClassifier)"
   ]
  },
  {
   "cell_type": "code",
   "execution_count": 77,
   "id": "31ad5b78-48d5-4e13-9511-d7d0a984af87",
   "metadata": {},
   "outputs": [
    {
     "name": "stdout",
     "output_type": "stream",
     "text": [
      "GradientBoostingClassifier() training score: 0.906988694758479\n",
      "GradientBoostingClassifier() testing score: 0.8987667009249743\n"
     ]
    }
   ],
   "source": [
    "pipe(GradientBoostingClassifier)"
   ]
  },
  {
   "cell_type": "code",
   "execution_count": 78,
   "id": "9a9dae93-da7e-44d0-8684-e7a2ab5e03d5",
   "metadata": {},
   "outputs": [],
   "source": [
    "gbc = GradientBoostingClassifier()\n",
    "\n",
    "gbc.fit(X_train_sc, y_train)\n",
    "\n",
    "#make predictions\n",
    "preds = gbc.predict(X_test_sc)"
   ]
  },
  {
   "cell_type": "code",
   "execution_count": 79,
   "id": "ea2d979b-2374-43d5-8149-461034d28e3a",
   "metadata": {},
   "outputs": [
    {
     "name": "stdout",
     "output_type": "stream",
     "text": [
      "              precision    recall  f1-score   support\n",
      "\n",
      "           0       0.92      0.97      0.94      1665\n",
      "           1       0.71      0.49      0.58       281\n",
      "\n",
      "    accuracy                           0.90      1946\n",
      "   macro avg       0.81      0.73      0.76      1946\n",
      "weighted avg       0.89      0.90      0.89      1946\n",
      "\n",
      "[[1609   56]\n",
      " [ 143  138]]\n"
     ]
    }
   ],
   "source": [
    "print(classification_report(y_test,preds))\n",
    "print(confusion_matrix(y_test, preds))"
   ]
  },
  {
   "cell_type": "code",
   "execution_count": 80,
   "id": "f80b5e3b-92c9-4c1e-a4e5-86f44002b49e",
   "metadata": {},
   "outputs": [
    {
     "data": {
      "image/png": "[encoded data removed]",
      "text/plain": [
       "<Figure size 432x288 with 2 Axes>"
      ]
     },
     "metadata": {
      "needs_background": "light"
     },
     "output_type": "display_data"
    }
   ],
   "source": [
    "cm = confusion_matrix(y_test, preds)\n",
    "\n",
    "ConfusionMatrixDisplay(cm, display_labels=gbc.classes_).plot(cmap='Blues');"
   ]
  },
  {
   "cell_type": "markdown",
   "id": "bc6a5ee3-44b5-48e2-b0df-f9cadd299ef7",
   "metadata": {},
   "source": [
    "### **Summary: 5% increase from baseline!**"
   ]
  },
  {
   "cell_type": "markdown",
   "id": "92adaa00-0cf2-444d-be67-1e1f201994d8",
   "metadata": {},
   "source": [
    "# #4 Model - Euthanasia Request"
   ]
  },
  {
   "cell_type": "code",
   "execution_count": 57,
   "id": "0fb8c42c-d626-4a91-a5d6-d44a69002dbd",
   "metadata": {},
   "outputs": [],
   "source": [
    "features = (euthanasia.drop(columns = ['adopted']).columns)\n",
    "X = euthanasia[features]\n",
    "y = euthanasia['adopted']"
   ]
  },
  {
   "cell_type": "code",
   "execution_count": 58,
   "id": "001711cd-1add-435a-a462-37f81a102c49",
   "metadata": {},
   "outputs": [],
   "source": [
    "X_train, X_test, y_train, y_test = train_test_split(X, y, random_state = 42, stratify=y)"
   ]
  },
  {
   "cell_type": "code",
   "execution_count": 59,
   "id": "e756a9fa-7782-4299-ab8d-abeb07354834",
   "metadata": {},
   "outputs": [],
   "source": [
    "from sklearn.preprocessing import StandardScaler\n",
    "\n",
    "# Instantiate\n",
    "scaler = StandardScaler()\n",
    "\n",
    "X_train_sc = scaler.fit_transform(X_train)\n",
    "X_test_sc = scaler.transform(X_test)"
   ]
  },
  {
   "cell_type": "code",
   "execution_count": 60,
   "id": "5af1dbeb-6972-4c2b-9665-e5ea7ba354ee",
   "metadata": {},
   "outputs": [],
   "source": [
    "def pipe(model):\n",
    "    #instantiate model\n",
    "    model = model()\n",
    "    #fit to scaled data\n",
    "    model.fit(X_train_sc, y_train)\n",
    "    \n",
    "    #print results\n",
    "    print(f'{model} training score: {model.score(X_train_sc, y_train)}')\n",
    "    print(f'{model} testing score: {model.score(X_test_sc, y_test)}')\n",
    "\n",
    "    return"
   ]
  },
  {
   "cell_type": "code",
   "execution_count": 61,
   "id": "3952646f-2066-4a7e-898d-41e6439688ba",
   "metadata": {},
   "outputs": [
    {
     "name": "stdout",
     "output_type": "stream",
     "text": [
      "LogisticRegression() training score: 1.0\n",
      "LogisticRegression() testing score: 0.9076923076923077\n"
     ]
    }
   ],
   "source": [
    "pipe(LogisticRegression)"
   ]
  },
  {
   "cell_type": "code",
   "execution_count": 62,
   "id": "08f12873-e1b3-4429-a09a-affdc63d00fb",
   "metadata": {},
   "outputs": [
    {
     "name": "stdout",
     "output_type": "stream",
     "text": [
      "DecisionTreeClassifier() training score: 1.0\n",
      "DecisionTreeClassifier() testing score: 0.9538461538461539\n"
     ]
    }
   ],
   "source": [
    "pipe(DecisionTreeClassifier)"
   ]
  },
  {
   "cell_type": "code",
   "execution_count": 63,
   "id": "d8c4504a-e1ce-48f3-8f0a-eab4e4070d0d",
   "metadata": {},
   "outputs": [
    {
     "name": "stdout",
     "output_type": "stream",
     "text": [
      "AdaBoostClassifier() training score: 1.0\n",
      "AdaBoostClassifier() testing score: 0.9538461538461539\n"
     ]
    }
   ],
   "source": [
    "pipe(AdaBoostClassifier)"
   ]
  },
  {
   "cell_type": "code",
   "execution_count": 64,
   "id": "ddb17051-08e1-4c23-b657-9860f4d7458a",
   "metadata": {},
   "outputs": [
    {
     "name": "stdout",
     "output_type": "stream",
     "text": [
      "GradientBoostingClassifier() training score: 1.0\n",
      "GradientBoostingClassifier() testing score: 0.9538461538461539\n"
     ]
    }
   ],
   "source": [
    "pipe(GradientBoostingClassifier)"
   ]
  },
  {
   "cell_type": "code",
   "execution_count": 66,
   "id": "8e1a121a-8120-4987-b58d-e22c742e3049",
   "metadata": {},
   "outputs": [],
   "source": [
    "gbc = GradientBoostingClassifier()\n",
    "\n",
    "gbc.fit(X_train_sc, y_train)\n",
    "\n",
    "#make predictions\n",
    "preds = gbc.predict(X_test_sc)"
   ]
  },
  {
   "cell_type": "code",
   "execution_count": 68,
   "id": "2a5b883b-e69a-44ed-9e2e-2467b0443e98",
   "metadata": {},
   "outputs": [
    {
     "name": "stdout",
     "output_type": "stream",
     "text": [
      "              precision    recall  f1-score   support\n",
      "\n",
      "           0       0.95      1.00      0.98        61\n",
      "           1       1.00      0.25      0.40         4\n",
      "\n",
      "    accuracy                           0.95        65\n",
      "   macro avg       0.98      0.62      0.69        65\n",
      "weighted avg       0.96      0.95      0.94        65\n",
      "\n",
      "[[61  0]\n",
      " [ 3  1]]\n"
     ]
    }
   ],
   "source": [
    "print(classification_report(y_test,preds))\n",
    "print(confusion_matrix(y_test, preds))"
   ]
  },
  {
   "cell_type": "code",
   "execution_count": 69,
   "id": "844f0350-8826-4084-84f8-94d5565c234e",
   "metadata": {},
   "outputs": [
    {
     "data": {
      "image/png": "[encoded data removed]",
      "text/plain": [
       "<Figure size 432x288 with 2 Axes>"
      ]
     },
     "metadata": {
      "needs_background": "light"
     },
     "output_type": "display_data"
    }
   ],
   "source": [
    "cm = confusion_matrix(y_test, preds)\n",
    "\n",
    "ConfusionMatrixDisplay(cm, display_labels=gbc.classes_).plot(cmap='Blues');"
   ]
  },
  {
   "cell_type": "markdown",
   "id": "44889383-8259-4114-ac8e-1097e93f4404",
   "metadata": {},
   "source": [
    "### **Summary: 1% increase from baseline!**"
   ]
  },
  {
   "cell_type": "markdown",
   "id": "a3c8dd25-94ae-4875-9fff-977cf0641af0",
   "metadata": {},
   "source": [
    "# #5 Model - Wildlife"
   ]
  },
  {
   "cell_type": "code",
   "execution_count": 81,
   "id": "5a67ae72-6ae0-4e96-91d5-ba4ad323a90b",
   "metadata": {},
   "outputs": [],
   "source": [
    "features = (wildlife.drop(columns = ['adopted']).columns)\n",
    "X = wildlife[features]\n",
    "y = wildlife['adopted']"
   ]
  },
  {
   "cell_type": "code",
   "execution_count": 82,
   "id": "20931f6e-f854-4026-b105-c24b8546bbec",
   "metadata": {},
   "outputs": [],
   "source": [
    "X_train, X_test, y_train, y_test = train_test_split(X, y, random_state = 42, stratify=y)"
   ]
  },
  {
   "cell_type": "code",
   "execution_count": 83,
   "id": "4a38282f-dd56-4088-af55-5f33213a7eec",
   "metadata": {},
   "outputs": [],
   "source": [
    "from sklearn.preprocessing import StandardScaler\n",
    "\n",
    "# Instantiate\n",
    "scaler = StandardScaler()\n",
    "\n",
    "X_train_sc = scaler.fit_transform(X_train)\n",
    "X_test_sc = scaler.transform(X_test)"
   ]
  },
  {
   "cell_type": "code",
   "execution_count": 84,
   "id": "c2105474-e7f8-4b61-b586-248591d18701",
   "metadata": {},
   "outputs": [],
   "source": [
    "def pipe(model):\n",
    "    #instantiate model\n",
    "    model = model()\n",
    "    #fit to scaled data\n",
    "    model.fit(X_train_sc, y_train)\n",
    "    \n",
    "    #print results\n",
    "    print(f'{model} training score: {model.score(X_train_sc, y_train)}')\n",
    "    print(f'{model} testing score: {model.score(X_test_sc, y_test)}')\n",
    "\n",
    "    return"
   ]
  },
  {
   "cell_type": "code",
   "execution_count": 85,
   "id": "6c08a083-551d-4d71-b84f-8a61095e0c40",
   "metadata": {},
   "outputs": [
    {
     "name": "stdout",
     "output_type": "stream",
     "text": [
      "LogisticRegression() training score: 1.0\n",
      "LogisticRegression() testing score: 0.9976322020520916\n"
     ]
    }
   ],
   "source": [
    "pipe(LogisticRegression)"
   ]
  },
  {
   "cell_type": "code",
   "execution_count": 86,
   "id": "1612f5b9-e068-4830-bc14-3cbf5211d6f5",
   "metadata": {},
   "outputs": [
    {
     "name": "stdout",
     "output_type": "stream",
     "text": [
      "DecisionTreeClassifier() training score: 1.0\n",
      "DecisionTreeClassifier() testing score: 0.9984214680347278\n"
     ]
    }
   ],
   "source": [
    "pipe(DecisionTreeClassifier)"
   ]
  },
  {
   "cell_type": "code",
   "execution_count": 87,
   "id": "1622f58a-1218-4a9b-8623-f6199795660f",
   "metadata": {},
   "outputs": [
    {
     "name": "stdout",
     "output_type": "stream",
     "text": [
      "AdaBoostClassifier() training score: 1.0\n",
      "AdaBoostClassifier() testing score: 0.9992107340173638\n"
     ]
    }
   ],
   "source": [
    "pipe(AdaBoostClassifier)"
   ]
  },
  {
   "cell_type": "code",
   "execution_count": 88,
   "id": "1a93774a-7cd3-48ac-868b-cba0680a79fe",
   "metadata": {},
   "outputs": [
    {
     "name": "stdout",
     "output_type": "stream",
     "text": [
      "GradientBoostingClassifier() training score: 1.0\n",
      "GradientBoostingClassifier() testing score: 0.9984214680347278\n"
     ]
    }
   ],
   "source": [
    "pipe(GradientBoostingClassifier)"
   ]
  },
  {
   "cell_type": "code",
   "execution_count": 89,
   "id": "b824f2e8-0ccc-4ca6-944a-af92246724f8",
   "metadata": {},
   "outputs": [],
   "source": [
    "gbc = GradientBoostingClassifier()\n",
    "\n",
    "gbc.fit(X_train_sc, y_train)\n",
    "\n",
    "#make predictions\n",
    "preds = gbc.predict(X_test_sc)"
   ]
  },
  {
   "cell_type": "code",
   "execution_count": 90,
   "id": "ffe433d9-dfd7-4190-ada0-885824165420",
   "metadata": {},
   "outputs": [
    {
     "name": "stdout",
     "output_type": "stream",
     "text": [
      "              precision    recall  f1-score   support\n",
      "\n",
      "           0       1.00      1.00      1.00      1265\n",
      "           1       0.00      0.00      0.00         2\n",
      "\n",
      "    accuracy                           1.00      1267\n",
      "   macro avg       0.50      0.50      0.50      1267\n",
      "weighted avg       1.00      1.00      1.00      1267\n",
      "\n",
      "[[1265    0]\n",
      " [   2    0]]\n"
     ]
    },
    {
     "name": "stderr",
     "output_type": "stream",
     "text": [
      "/Users/ksylvia/opt/anaconda3/lib/python3.8/site-packages/sklearn/metrics/_classification.py:1245: UndefinedMetricWarning: Precision and F-score are ill-defined and being set to 0.0 in labels with no predicted samples. Use `zero_division` parameter to control this behavior.\n",
      "  _warn_prf(average, modifier, msg_start, len(result))\n",
      "/Users/ksylvia/opt/anaconda3/lib/python3.8/site-packages/sklearn/metrics/_classification.py:1245: UndefinedMetricWarning: Precision and F-score are ill-defined and being set to 0.0 in labels with no predicted samples. Use `zero_division` parameter to control this behavior.\n",
      "  _warn_prf(average, modifier, msg_start, len(result))\n",
      "/Users/ksylvia/opt/anaconda3/lib/python3.8/site-packages/sklearn/metrics/_classification.py:1245: UndefinedMetricWarning: Precision and F-score are ill-defined and being set to 0.0 in labels with no predicted samples. Use `zero_division` parameter to control this behavior.\n",
      "  _warn_prf(average, modifier, msg_start, len(result))\n"
     ]
    }
   ],
   "source": [
    "print(classification_report(y_test,preds))\n",
    "print(confusion_matrix(y_test, preds))"
   ]
  },
  {
   "cell_type": "code",
   "execution_count": 91,
   "id": "94a68372-3b1a-448e-ba19-1c8fa225fa71",
   "metadata": {},
   "outputs": [
    {
     "data": {
      "image/png": "[encoded data removed]",
      "text/plain": [
       "<Figure size 432x288 with 2 Axes>"
      ]
     },
     "metadata": {
      "needs_background": "light"
     },
     "output_type": "display_data"
    }
   ],
   "source": [
    "cm = confusion_matrix(y_test, preds)\n",
    "\n",
    "ConfusionMatrixDisplay(cm, display_labels=gbc.classes_).plot(cmap='Blues');"
   ]
  },
  {
   "cell_type": "markdown",
   "id": "1a03516f-7f4c-4033-ab33-38ffbab168a4",
   "metadata": {},
   "source": [
    "### **Summary: Right in line with baseline!**"
   ]
  },
  {
   "cell_type": "code",
   "execution_count": null,
   "id": "757900e2-6cca-4d58-9186-3d71dc7e1500",
   "metadata": {},
   "outputs": [],
   "source": []
  },
  {
   "cell_type": "markdown",
   "id": "7beac6f4-ec69-446c-96d0-e542548986ed",
   "metadata": {},
   "source": [
    "# #6 Model - Abandoned"
   ]
  },
  {
   "cell_type": "code",
   "execution_count": 92,
   "id": "cf405233-b92e-47b7-a5bc-3d84542d65b4",
   "metadata": {},
   "outputs": [],
   "source": [
    "features = (abandoned.drop(columns = ['adopted']).columns)\n",
    "X = abandoned[features]\n",
    "y = abandoned['adopted']"
   ]
  },
  {
   "cell_type": "code",
   "execution_count": 93,
   "id": "99531512-abf2-4bd5-9001-74be8aff3b52",
   "metadata": {},
   "outputs": [],
   "source": [
    "X_train, X_test, y_train, y_test = train_test_split(X, y, random_state = 42, stratify=y)"
   ]
  },
  {
   "cell_type": "code",
   "execution_count": 94,
   "id": "02062894-7756-4380-9049-71c6734662ba",
   "metadata": {},
   "outputs": [],
   "source": [
    "from sklearn.preprocessing import StandardScaler\n",
    "\n",
    "# Instantiate\n",
    "scaler = StandardScaler()\n",
    "\n",
    "X_train_sc = scaler.fit_transform(X_train)\n",
    "X_test_sc = scaler.transform(X_test)"
   ]
  },
  {
   "cell_type": "code",
   "execution_count": 95,
   "id": "e308cce9-60fd-4ec5-afd5-960a37c393a2",
   "metadata": {},
   "outputs": [],
   "source": [
    "def pipe(model):\n",
    "    #instantiate model\n",
    "    model = model()\n",
    "    #fit to scaled data\n",
    "    model.fit(X_train_sc, y_train)\n",
    "    \n",
    "    #print results\n",
    "    print(f'{model} training score: {model.score(X_train_sc, y_train)}')\n",
    "    print(f'{model} testing score: {model.score(X_test_sc, y_test)}')\n",
    "\n",
    "    return"
   ]
  },
  {
   "cell_type": "code",
   "execution_count": 96,
   "id": "6ee1a30a-5bae-4276-8065-202111bbb319",
   "metadata": {},
   "outputs": [
    {
     "name": "stdout",
     "output_type": "stream",
     "text": [
      "LogisticRegression() training score: 0.9637462235649547\n",
      "LogisticRegression() testing score: 0.7387387387387387\n"
     ]
    }
   ],
   "source": [
    "pipe(LogisticRegression)"
   ]
  },
  {
   "cell_type": "code",
   "execution_count": 97,
   "id": "739ec833-00c9-4b03-ae66-599c3d7143bb",
   "metadata": {},
   "outputs": [
    {
     "name": "stdout",
     "output_type": "stream",
     "text": [
      "DecisionTreeClassifier() training score: 1.0\n",
      "DecisionTreeClassifier() testing score: 0.8108108108108109\n"
     ]
    }
   ],
   "source": [
    "pipe(DecisionTreeClassifier)"
   ]
  },
  {
   "cell_type": "code",
   "execution_count": 98,
   "id": "bc1d4aab-298c-4d2a-9343-b63f286b78c3",
   "metadata": {},
   "outputs": [
    {
     "name": "stdout",
     "output_type": "stream",
     "text": [
      "AdaBoostClassifier() training score: 0.9305135951661632\n",
      "AdaBoostClassifier() testing score: 0.8198198198198198\n"
     ]
    }
   ],
   "source": [
    "pipe(AdaBoostClassifier)"
   ]
  },
  {
   "cell_type": "code",
   "execution_count": 99,
   "id": "45b1fbfe-869d-4955-8b3e-d276d3dd8c6b",
   "metadata": {},
   "outputs": [
    {
     "name": "stdout",
     "output_type": "stream",
     "text": [
      "GradientBoostingClassifier() training score: 0.9607250755287009\n",
      "GradientBoostingClassifier() testing score: 0.8018018018018018\n"
     ]
    }
   ],
   "source": [
    "pipe(GradientBoostingClassifier)"
   ]
  },
  {
   "cell_type": "code",
   "execution_count": 100,
   "id": "fbcaf570-4953-4de0-91ed-621d5b52986f",
   "metadata": {},
   "outputs": [],
   "source": [
    "gbc = GradientBoostingClassifier()\n",
    "\n",
    "gbc.fit(X_train_sc, y_train)\n",
    "\n",
    "#make predictions\n",
    "preds = gbc.predict(X_test_sc)"
   ]
  },
  {
   "cell_type": "code",
   "execution_count": 101,
   "id": "4ea16b8a-5973-4b7c-86d3-cae0c41f4ea7",
   "metadata": {},
   "outputs": [
    {
     "name": "stdout",
     "output_type": "stream",
     "text": [
      "              precision    recall  f1-score   support\n",
      "\n",
      "           0       0.89      0.70      0.78        56\n",
      "           1       0.75      0.91      0.82        55\n",
      "\n",
      "    accuracy                           0.80       111\n",
      "   macro avg       0.82      0.80      0.80       111\n",
      "weighted avg       0.82      0.80      0.80       111\n",
      "\n",
      "[[39 17]\n",
      " [ 5 50]]\n"
     ]
    }
   ],
   "source": [
    "print(classification_report(y_test,preds))\n",
    "print(confusion_matrix(y_test, preds))"
   ]
  },
  {
   "cell_type": "code",
   "execution_count": 102,
   "id": "d1978288-20d9-402c-b800-ed97800596ae",
   "metadata": {},
   "outputs": [
    {
     "data": {
      "image/png": "[encoded data removed]",
      "text/plain": [
       "<Figure size 432x288 with 2 Axes>"
      ]
     },
     "metadata": {
      "needs_background": "light"
     },
     "output_type": "display_data"
    }
   ],
   "source": [
    "cm = confusion_matrix(y_test, preds)\n",
    "\n",
    "ConfusionMatrixDisplay(cm, display_labels=gbc.classes_).plot(cmap='Blues');"
   ]
  },
  {
   "cell_type": "markdown",
   "id": "4a252a5b-fcb0-4f29-ade5-481e9122ba54",
   "metadata": {},
   "source": [
    "### **Summary: 30% ABOVE baseline!**"
   ]
  },
  {
   "cell_type": "code",
   "execution_count": null,
   "id": "10368666-85ef-4ca8-a9b3-5ece925bc84a",
   "metadata": {},
   "outputs": [],
   "source": []
  }
 ],
 "metadata": {
  "kernelspec": {
   "display_name": "Python 3",
   "language": "python",
   "name": "python3"
  },
  "language_info": {
   "codemirror_mode": {
    "name": "ipython",
    "version": 3
   },
   "file_extension": ".py",
   "mimetype": "text/x-python",
   "name": "python",
   "nbconvert_exporter": "python",
   "pygments_lexer": "ipython3",
   "version": "3.8.8"
  }
 },
 "nbformat": 4,
 "nbformat_minor": 5
}
