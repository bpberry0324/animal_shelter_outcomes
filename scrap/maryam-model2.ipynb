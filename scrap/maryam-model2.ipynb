{
 "cells": [
  {
   "cell_type": "markdown",
   "metadata": {},
   "source": [
    "## Importing Libraries"
   ]
  },
  {
   "cell_type": "code",
   "execution_count": 1,
   "metadata": {},
   "outputs": [],
   "source": [
    "import warnings\n",
    "warnings.filterwarnings('ignore')\n",
    "\n",
    "from sklearn import metrics \n",
    "from sklearn.preprocessing import StandardScaler\n",
    "from sklearn.preprocessing import LabelEncoder\n",
    "\n",
    "from sklearn.metrics import accuracy_score, confusion_matrix, recall_score\n",
    "from sklearn.metrics import balanced_accuracy_score, precision_score\n",
    "from sklearn.model_selection import train_test_split\n",
    "\n",
    "from tensorflow.keras.models import Sequential\n",
    "from tensorflow.keras.layers import Dense, Dropout, GRU\n",
    "from tensorflow.keras.callbacks import EarlyStopping\n",
    "\n",
    "from sklearn.ensemble import RandomForestClassifier\n",
    "from sklearn.ensemble import AdaBoostClassifier\n",
    "\n",
    "import pandas as pd\n",
    "import matplotlib.pyplot as plt"
   ]
  },
  {
   "cell_type": "markdown",
   "metadata": {},
   "source": [
    "## Reading Dataset"
   ]
  },
  {
   "cell_type": "code",
   "execution_count": 2,
   "metadata": {},
   "outputs": [
    {
     "data": {
      "text/html": [
       "<div>\n",
       "<style scoped>\n",
       "    .dataframe tbody tr th:only-of-type {\n",
       "        vertical-align: middle;\n",
       "    }\n",
       "\n",
       "    .dataframe tbody tr th {\n",
       "        vertical-align: top;\n",
       "    }\n",
       "\n",
       "    .dataframe thead th {\n",
       "        text-align: right;\n",
       "    }\n",
       "</style>\n",
       "<table border=\"1\" class=\"dataframe\">\n",
       "  <thead>\n",
       "    <tr style=\"text-align: right;\">\n",
       "      <th></th>\n",
       "      <th>prev_adoption</th>\n",
       "      <th>prev_transfer</th>\n",
       "      <th>prev_ret_to_owner</th>\n",
       "      <th>prev_rto_adopt</th>\n",
       "      <th>prev_disposal</th>\n",
       "      <th>prev_missing</th>\n",
       "      <th>prev_relocate</th>\n",
       "      <th>intake_type</th>\n",
       "      <th>intake_condition</th>\n",
       "      <th>animal_type_in</th>\n",
       "      <th>sex_upon_intake</th>\n",
       "      <th>age_upon_intake</th>\n",
       "      <th>breed</th>\n",
       "      <th>color</th>\n",
       "      <th>is_named_in</th>\n",
       "      <th>year_in</th>\n",
       "      <th>month_in</th>\n",
       "      <th>day_in</th>\n",
       "      <th>outcome_type</th>\n",
       "    </tr>\n",
       "  </thead>\n",
       "  <tbody>\n",
       "    <tr>\n",
       "      <th>0</th>\n",
       "      <td>0</td>\n",
       "      <td>0</td>\n",
       "      <td>2</td>\n",
       "      <td>0</td>\n",
       "      <td>0</td>\n",
       "      <td>0</td>\n",
       "      <td>0</td>\n",
       "      <td>Stray</td>\n",
       "      <td>Normal</td>\n",
       "      <td>Dog</td>\n",
       "      <td>Neutered Male</td>\n",
       "      <td>1.0</td>\n",
       "      <td>mix spinone italiano</td>\n",
       "      <td>yellow white</td>\n",
       "      <td>1</td>\n",
       "      <td>2017</td>\n",
       "      <td>12</td>\n",
       "      <td>Thursday</td>\n",
       "      <td>Return to Owner</td>\n",
       "    </tr>\n",
       "    <tr>\n",
       "      <th>1</th>\n",
       "      <td>0</td>\n",
       "      <td>0</td>\n",
       "      <td>1</td>\n",
       "      <td>0</td>\n",
       "      <td>0</td>\n",
       "      <td>0</td>\n",
       "      <td>0</td>\n",
       "      <td>Public Assist</td>\n",
       "      <td>Normal</td>\n",
       "      <td>Dog</td>\n",
       "      <td>Neutered Male</td>\n",
       "      <td>7.0</td>\n",
       "      <td>mix spinone italiano</td>\n",
       "      <td>yellow white</td>\n",
       "      <td>1</td>\n",
       "      <td>2014</td>\n",
       "      <td>12</td>\n",
       "      <td>Friday</td>\n",
       "      <td>Return to Owner</td>\n",
       "    </tr>\n",
       "    <tr>\n",
       "      <th>2</th>\n",
       "      <td>0</td>\n",
       "      <td>0</td>\n",
       "      <td>0</td>\n",
       "      <td>0</td>\n",
       "      <td>0</td>\n",
       "      <td>0</td>\n",
       "      <td>0</td>\n",
       "      <td>Public Assist</td>\n",
       "      <td>Normal</td>\n",
       "      <td>Dog</td>\n",
       "      <td>Neutered Male</td>\n",
       "      <td>6.0</td>\n",
       "      <td>mix spinone italiano</td>\n",
       "      <td>yellow white</td>\n",
       "      <td>1</td>\n",
       "      <td>2014</td>\n",
       "      <td>3</td>\n",
       "      <td>Friday</td>\n",
       "      <td>Return to Owner</td>\n",
       "    </tr>\n",
       "    <tr>\n",
       "      <th>3</th>\n",
       "      <td>0</td>\n",
       "      <td>0</td>\n",
       "      <td>0</td>\n",
       "      <td>0</td>\n",
       "      <td>0</td>\n",
       "      <td>0</td>\n",
       "      <td>0</td>\n",
       "      <td>Owner Surrender</td>\n",
       "      <td>Normal</td>\n",
       "      <td>Dog</td>\n",
       "      <td>Neutered Male</td>\n",
       "      <td>1.0</td>\n",
       "      <td>dachshund</td>\n",
       "      <td>tricolor</td>\n",
       "      <td>1</td>\n",
       "      <td>2014</td>\n",
       "      <td>4</td>\n",
       "      <td>Wednesday</td>\n",
       "      <td>Transfer</td>\n",
       "    </tr>\n",
       "    <tr>\n",
       "      <th>4</th>\n",
       "      <td>0</td>\n",
       "      <td>0</td>\n",
       "      <td>0</td>\n",
       "      <td>0</td>\n",
       "      <td>0</td>\n",
       "      <td>0</td>\n",
       "      <td>0</td>\n",
       "      <td>Public Assist</td>\n",
       "      <td>Injured</td>\n",
       "      <td>Dog</td>\n",
       "      <td>Neutered Male</td>\n",
       "      <td>1.0</td>\n",
       "      <td>sheepdog shetland</td>\n",
       "      <td>brown white</td>\n",
       "      <td>1</td>\n",
       "      <td>2013</td>\n",
       "      <td>11</td>\n",
       "      <td>Saturday</td>\n",
       "      <td>Return to Owner</td>\n",
       "    </tr>\n",
       "  </tbody>\n",
       "</table>\n",
       "</div>"
      ],
      "text/plain": [
       "   prev_adoption  prev_transfer  prev_ret_to_owner  prev_rto_adopt  \\\n",
       "0              0              0                  2               0   \n",
       "1              0              0                  1               0   \n",
       "2              0              0                  0               0   \n",
       "3              0              0                  0               0   \n",
       "4              0              0                  0               0   \n",
       "\n",
       "   prev_disposal  prev_missing  prev_relocate      intake_type  \\\n",
       "0              0             0              0            Stray   \n",
       "1              0             0              0    Public Assist   \n",
       "2              0             0              0    Public Assist   \n",
       "3              0             0              0  Owner Surrender   \n",
       "4              0             0              0    Public Assist   \n",
       "\n",
       "  intake_condition animal_type_in sex_upon_intake  age_upon_intake  \\\n",
       "0           Normal            Dog   Neutered Male              1.0   \n",
       "1           Normal            Dog   Neutered Male              7.0   \n",
       "2           Normal            Dog   Neutered Male              6.0   \n",
       "3           Normal            Dog   Neutered Male              1.0   \n",
       "4          Injured            Dog   Neutered Male              1.0   \n",
       "\n",
       "                  breed         color  is_named_in  year_in  month_in  \\\n",
       "0  mix spinone italiano  yellow white            1     2017        12   \n",
       "1  mix spinone italiano  yellow white            1     2014        12   \n",
       "2  mix spinone italiano  yellow white            1     2014         3   \n",
       "3             dachshund      tricolor            1     2014         4   \n",
       "4     sheepdog shetland   brown white            1     2013        11   \n",
       "\n",
       "      day_in     outcome_type  \n",
       "0   Thursday  Return to Owner  \n",
       "1     Friday  Return to Owner  \n",
       "2     Friday  Return to Owner  \n",
       "3  Wednesday         Transfer  \n",
       "4   Saturday  Return to Owner  "
      ]
     },
     "execution_count": 2,
     "metadata": {},
     "output_type": "execute_result"
    }
   ],
   "source": [
    "df = pd.read_csv('main.csv')\n",
    "df.head()"
   ]
  },
  {
   "cell_type": "markdown",
   "metadata": {},
   "source": [
    "## Encoding Categorical Data"
   ]
  },
  {
   "cell_type": "code",
   "execution_count": 3,
   "metadata": {},
   "outputs": [],
   "source": [
    "LE = LabelEncoder()\n",
    "for col in df.columns[1:]:\n",
    "    if df[col].dtype == 'object':\n",
    "        try:\n",
    "            df[col] = LE.fit_transform(df[col])\n",
    "        except:\n",
    "            print(col)"
   ]
  },
  {
   "cell_type": "markdown",
   "metadata": {},
   "source": [
    "## Setting X and y"
   ]
  },
  {
   "cell_type": "code",
   "execution_count": 25,
   "metadata": {},
   "outputs": [
    {
     "data": {
      "text/html": [
       "<div>\n",
       "<style scoped>\n",
       "    .dataframe tbody tr th:only-of-type {\n",
       "        vertical-align: middle;\n",
       "    }\n",
       "\n",
       "    .dataframe tbody tr th {\n",
       "        vertical-align: top;\n",
       "    }\n",
       "\n",
       "    .dataframe thead th {\n",
       "        text-align: right;\n",
       "    }\n",
       "</style>\n",
       "<table border=\"1\" class=\"dataframe\">\n",
       "  <thead>\n",
       "    <tr style=\"text-align: right;\">\n",
       "      <th></th>\n",
       "      <th>prev_adoption</th>\n",
       "      <th>prev_transfer</th>\n",
       "      <th>prev_ret_to_owner</th>\n",
       "      <th>prev_rto_adopt</th>\n",
       "      <th>prev_disposal</th>\n",
       "      <th>prev_missing</th>\n",
       "      <th>prev_relocate</th>\n",
       "      <th>intake_type</th>\n",
       "      <th>intake_condition</th>\n",
       "      <th>animal_type_in</th>\n",
       "      <th>sex_upon_intake</th>\n",
       "      <th>age_upon_intake</th>\n",
       "      <th>breed</th>\n",
       "      <th>color</th>\n",
       "      <th>is_named_in</th>\n",
       "      <th>year_in</th>\n",
       "      <th>month_in</th>\n",
       "      <th>day_in</th>\n",
       "    </tr>\n",
       "  </thead>\n",
       "  <tbody>\n",
       "    <tr>\n",
       "      <th>0</th>\n",
       "      <td>0</td>\n",
       "      <td>0</td>\n",
       "      <td>2</td>\n",
       "      <td>0</td>\n",
       "      <td>0</td>\n",
       "      <td>0</td>\n",
       "      <td>0</td>\n",
       "      <td>4</td>\n",
       "      <td>5</td>\n",
       "      <td>2</td>\n",
       "      <td>2</td>\n",
       "      <td>1.000</td>\n",
       "      <td>1435</td>\n",
       "      <td>373</td>\n",
       "      <td>1</td>\n",
       "      <td>2017</td>\n",
       "      <td>12</td>\n",
       "      <td>4</td>\n",
       "    </tr>\n",
       "    <tr>\n",
       "      <th>1</th>\n",
       "      <td>0</td>\n",
       "      <td>0</td>\n",
       "      <td>1</td>\n",
       "      <td>0</td>\n",
       "      <td>0</td>\n",
       "      <td>0</td>\n",
       "      <td>0</td>\n",
       "      <td>3</td>\n",
       "      <td>5</td>\n",
       "      <td>2</td>\n",
       "      <td>2</td>\n",
       "      <td>7.000</td>\n",
       "      <td>1435</td>\n",
       "      <td>373</td>\n",
       "      <td>1</td>\n",
       "      <td>2014</td>\n",
       "      <td>12</td>\n",
       "      <td>0</td>\n",
       "    </tr>\n",
       "    <tr>\n",
       "      <th>2</th>\n",
       "      <td>0</td>\n",
       "      <td>0</td>\n",
       "      <td>0</td>\n",
       "      <td>0</td>\n",
       "      <td>0</td>\n",
       "      <td>0</td>\n",
       "      <td>0</td>\n",
       "      <td>3</td>\n",
       "      <td>5</td>\n",
       "      <td>2</td>\n",
       "      <td>2</td>\n",
       "      <td>6.000</td>\n",
       "      <td>1435</td>\n",
       "      <td>373</td>\n",
       "      <td>1</td>\n",
       "      <td>2014</td>\n",
       "      <td>3</td>\n",
       "      <td>0</td>\n",
       "    </tr>\n",
       "    <tr>\n",
       "      <th>3</th>\n",
       "      <td>0</td>\n",
       "      <td>0</td>\n",
       "      <td>0</td>\n",
       "      <td>0</td>\n",
       "      <td>0</td>\n",
       "      <td>0</td>\n",
       "      <td>0</td>\n",
       "      <td>2</td>\n",
       "      <td>5</td>\n",
       "      <td>2</td>\n",
       "      <td>2</td>\n",
       "      <td>1.000</td>\n",
       "      <td>638</td>\n",
       "      <td>335</td>\n",
       "      <td>1</td>\n",
       "      <td>2014</td>\n",
       "      <td>4</td>\n",
       "      <td>6</td>\n",
       "    </tr>\n",
       "    <tr>\n",
       "      <th>4</th>\n",
       "      <td>0</td>\n",
       "      <td>0</td>\n",
       "      <td>0</td>\n",
       "      <td>0</td>\n",
       "      <td>0</td>\n",
       "      <td>0</td>\n",
       "      <td>0</td>\n",
       "      <td>3</td>\n",
       "      <td>3</td>\n",
       "      <td>2</td>\n",
       "      <td>2</td>\n",
       "      <td>1.000</td>\n",
       "      <td>1771</td>\n",
       "      <td>91</td>\n",
       "      <td>1</td>\n",
       "      <td>2013</td>\n",
       "      <td>11</td>\n",
       "      <td>2</td>\n",
       "    </tr>\n",
       "    <tr>\n",
       "      <th>...</th>\n",
       "      <td>...</td>\n",
       "      <td>...</td>\n",
       "      <td>...</td>\n",
       "      <td>...</td>\n",
       "      <td>...</td>\n",
       "      <td>...</td>\n",
       "      <td>...</td>\n",
       "      <td>...</td>\n",
       "      <td>...</td>\n",
       "      <td>...</td>\n",
       "      <td>...</td>\n",
       "      <td>...</td>\n",
       "      <td>...</td>\n",
       "      <td>...</td>\n",
       "      <td>...</td>\n",
       "      <td>...</td>\n",
       "      <td>...</td>\n",
       "      <td>...</td>\n",
       "    </tr>\n",
       "    <tr>\n",
       "      <th>127907</th>\n",
       "      <td>0</td>\n",
       "      <td>0</td>\n",
       "      <td>0</td>\n",
       "      <td>0</td>\n",
       "      <td>0</td>\n",
       "      <td>0</td>\n",
       "      <td>0</td>\n",
       "      <td>2</td>\n",
       "      <td>5</td>\n",
       "      <td>2</td>\n",
       "      <td>0</td>\n",
       "      <td>0.083</td>\n",
       "      <td>1391</td>\n",
       "      <td>87</td>\n",
       "      <td>1</td>\n",
       "      <td>2021</td>\n",
       "      <td>8</td>\n",
       "      <td>0</td>\n",
       "    </tr>\n",
       "    <tr>\n",
       "      <th>127908</th>\n",
       "      <td>0</td>\n",
       "      <td>0</td>\n",
       "      <td>0</td>\n",
       "      <td>0</td>\n",
       "      <td>0</td>\n",
       "      <td>0</td>\n",
       "      <td>0</td>\n",
       "      <td>2</td>\n",
       "      <td>5</td>\n",
       "      <td>2</td>\n",
       "      <td>0</td>\n",
       "      <td>0.083</td>\n",
       "      <td>1391</td>\n",
       "      <td>87</td>\n",
       "      <td>1</td>\n",
       "      <td>2021</td>\n",
       "      <td>8</td>\n",
       "      <td>0</td>\n",
       "    </tr>\n",
       "    <tr>\n",
       "      <th>127909</th>\n",
       "      <td>0</td>\n",
       "      <td>0</td>\n",
       "      <td>0</td>\n",
       "      <td>0</td>\n",
       "      <td>0</td>\n",
       "      <td>0</td>\n",
       "      <td>0</td>\n",
       "      <td>5</td>\n",
       "      <td>5</td>\n",
       "      <td>4</td>\n",
       "      <td>4</td>\n",
       "      <td>2.000</td>\n",
       "      <td>163</td>\n",
       "      <td>87</td>\n",
       "      <td>0</td>\n",
       "      <td>2021</td>\n",
       "      <td>8</td>\n",
       "      <td>0</td>\n",
       "    </tr>\n",
       "    <tr>\n",
       "      <th>127910</th>\n",
       "      <td>0</td>\n",
       "      <td>0</td>\n",
       "      <td>0</td>\n",
       "      <td>0</td>\n",
       "      <td>0</td>\n",
       "      <td>0</td>\n",
       "      <td>0</td>\n",
       "      <td>5</td>\n",
       "      <td>5</td>\n",
       "      <td>4</td>\n",
       "      <td>4</td>\n",
       "      <td>2.000</td>\n",
       "      <td>163</td>\n",
       "      <td>87</td>\n",
       "      <td>0</td>\n",
       "      <td>2021</td>\n",
       "      <td>8</td>\n",
       "      <td>0</td>\n",
       "    </tr>\n",
       "    <tr>\n",
       "      <th>127911</th>\n",
       "      <td>0</td>\n",
       "      <td>0</td>\n",
       "      <td>0</td>\n",
       "      <td>0</td>\n",
       "      <td>0</td>\n",
       "      <td>0</td>\n",
       "      <td>0</td>\n",
       "      <td>5</td>\n",
       "      <td>9</td>\n",
       "      <td>4</td>\n",
       "      <td>4</td>\n",
       "      <td>1.000</td>\n",
       "      <td>821</td>\n",
       "      <td>87</td>\n",
       "      <td>0</td>\n",
       "      <td>2021</td>\n",
       "      <td>8</td>\n",
       "      <td>2</td>\n",
       "    </tr>\n",
       "  </tbody>\n",
       "</table>\n",
       "<p>127912 rows × 18 columns</p>\n",
       "</div>"
      ],
      "text/plain": [
       "        prev_adoption  prev_transfer  prev_ret_to_owner  prev_rto_adopt  \\\n",
       "0                   0              0                  2               0   \n",
       "1                   0              0                  1               0   \n",
       "2                   0              0                  0               0   \n",
       "3                   0              0                  0               0   \n",
       "4                   0              0                  0               0   \n",
       "...               ...            ...                ...             ...   \n",
       "127907              0              0                  0               0   \n",
       "127908              0              0                  0               0   \n",
       "127909              0              0                  0               0   \n",
       "127910              0              0                  0               0   \n",
       "127911              0              0                  0               0   \n",
       "\n",
       "        prev_disposal  prev_missing  prev_relocate  intake_type  \\\n",
       "0                   0             0              0            4   \n",
       "1                   0             0              0            3   \n",
       "2                   0             0              0            3   \n",
       "3                   0             0              0            2   \n",
       "4                   0             0              0            3   \n",
       "...               ...           ...            ...          ...   \n",
       "127907              0             0              0            2   \n",
       "127908              0             0              0            2   \n",
       "127909              0             0              0            5   \n",
       "127910              0             0              0            5   \n",
       "127911              0             0              0            5   \n",
       "\n",
       "        intake_condition  animal_type_in  sex_upon_intake  age_upon_intake  \\\n",
       "0                      5               2                2            1.000   \n",
       "1                      5               2                2            7.000   \n",
       "2                      5               2                2            6.000   \n",
       "3                      5               2                2            1.000   \n",
       "4                      3               2                2            1.000   \n",
       "...                  ...             ...              ...              ...   \n",
       "127907                 5               2                0            0.083   \n",
       "127908                 5               2                0            0.083   \n",
       "127909                 5               4                4            2.000   \n",
       "127910                 5               4                4            2.000   \n",
       "127911                 9               4                4            1.000   \n",
       "\n",
       "        breed  color  is_named_in  year_in  month_in  day_in  \n",
       "0        1435    373            1     2017        12       4  \n",
       "1        1435    373            1     2014        12       0  \n",
       "2        1435    373            1     2014         3       0  \n",
       "3         638    335            1     2014         4       6  \n",
       "4        1771     91            1     2013        11       2  \n",
       "...       ...    ...          ...      ...       ...     ...  \n",
       "127907   1391     87            1     2021         8       0  \n",
       "127908   1391     87            1     2021         8       0  \n",
       "127909    163     87            0     2021         8       0  \n",
       "127910    163     87            0     2021         8       0  \n",
       "127911    821     87            0     2021         8       2  \n",
       "\n",
       "[127912 rows x 18 columns]"
      ]
     },
     "execution_count": 25,
     "metadata": {},
     "output_type": "execute_result"
    }
   ],
   "source": [
    "y = df['outcome_type']\n",
    "X = df.drop(['outcome_type'], axis = 1)\n",
    "X"
   ]
  },
  {
   "cell_type": "markdown",
   "metadata": {},
   "source": [
    "## Train-Test Split"
   ]
  },
  {
   "cell_type": "code",
   "execution_count": 5,
   "metadata": {},
   "outputs": [],
   "source": [
    "X_train, X_test, y_train, y_test = train_test_split(X,y, test_size=.30, random_state=43, stratify=y)"
   ]
  },
  {
   "cell_type": "markdown",
   "metadata": {},
   "source": [
    "## Scaling Data"
   ]
  },
  {
   "cell_type": "code",
   "execution_count": 6,
   "metadata": {},
   "outputs": [],
   "source": [
    "sc = StandardScaler()\n",
    "X_train = sc.fit_transform(X_train)\n",
    "X_test = sc.transform(X_test)"
   ]
  },
  {
   "cell_type": "code",
   "execution_count": 7,
   "metadata": {},
   "outputs": [
    {
     "data": {
      "text/plain": [
       "(127912, 18)"
      ]
     },
     "execution_count": 7,
     "metadata": {},
     "output_type": "execute_result"
    }
   ],
   "source": [
    "X.shape"
   ]
  },
  {
   "cell_type": "markdown",
   "metadata": {},
   "source": [
    "## CNN Model"
   ]
  },
  {
   "cell_type": "code",
   "execution_count": 8,
   "metadata": {},
   "outputs": [],
   "source": [
    "model = Sequential()\n",
    "model.add(Dense(activation = \"relu\", input_dim = 18, units = 64))\n",
    "model.add(Dropout(rate=0.2))\n",
    "model.add(Dense(activation = \"relu\", units = 128))\n",
    "model.add(Dropout(rate=0.4))\n",
    "model.add(Dense(activation = \"softmax\", units = 25))\n",
    "model.add(Dense(activation = \"softmax\", units = 9))"
   ]
  },
  {
   "cell_type": "code",
   "execution_count": 9,
   "metadata": {},
   "outputs": [
    {
     "name": "stdout",
     "output_type": "stream",
     "text": [
      "Model: \"sequential\"\n",
      "_________________________________________________________________\n",
      "Layer (type)                 Output Shape              Param #   \n",
      "=================================================================\n",
      "dense (Dense)                (None, 64)                1216      \n",
      "_________________________________________________________________\n",
      "dropout (Dropout)            (None, 64)                0         \n",
      "_________________________________________________________________\n",
      "dense_1 (Dense)              (None, 128)               8320      \n",
      "_________________________________________________________________\n",
      "dropout_1 (Dropout)          (None, 128)               0         \n",
      "_________________________________________________________________\n",
      "dense_2 (Dense)              (None, 25)                3225      \n",
      "_________________________________________________________________\n",
      "dense_3 (Dense)              (None, 9)                 234       \n",
      "=================================================================\n",
      "Total params: 12,995\n",
      "Trainable params: 12,995\n",
      "Non-trainable params: 0\n",
      "_________________________________________________________________\n"
     ]
    }
   ],
   "source": [
    "model.summary()"
   ]
  },
  {
   "cell_type": "markdown",
   "metadata": {},
   "source": [
    "### Compile Model "
   ]
  },
  {
   "cell_type": "code",
   "execution_count": 10,
   "metadata": {},
   "outputs": [],
   "source": [
    "model.compile(optimizer = 'adam' ,  loss='sparse_categorical_crossentropy', metrics=['acc'] )"
   ]
  },
  {
   "cell_type": "markdown",
   "metadata": {},
   "source": [
    "### Fitting CNN Model with early stopping"
   ]
  },
  {
   "cell_type": "code",
   "execution_count": 11,
   "metadata": {},
   "outputs": [],
   "source": [
    "early_stop = EarlyStopping(patience=5)"
   ]
  },
  {
   "cell_type": "code",
   "execution_count": 13,
   "metadata": {
    "scrolled": true
   },
   "outputs": [
    {
     "name": "stdout",
     "output_type": "stream",
     "text": [
      "Epoch 1/20\n",
      "1400/1400 [==============================] - 2s 2ms/step - loss: 0.8884 - acc: 0.6505 - val_loss: 0.8871 - val_acc: 0.6490\n",
      "Epoch 2/20\n",
      "1400/1400 [==============================] - 2s 2ms/step - loss: 0.8872 - acc: 0.6499 - val_loss: 0.8893 - val_acc: 0.6463\n",
      "Epoch 3/20\n",
      "1400/1400 [==============================] - 2s 2ms/step - loss: 0.8870 - acc: 0.6500 - val_loss: 0.8862 - val_acc: 0.6483\n",
      "Epoch 4/20\n",
      "1400/1400 [==============================] - 3s 2ms/step - loss: 0.8859 - acc: 0.6510 - val_loss: 0.8868 - val_acc: 0.6469\n",
      "Epoch 5/20\n",
      "1400/1400 [==============================] - 3s 2ms/step - loss: 0.8865 - acc: 0.6507 - val_loss: 0.8834 - val_acc: 0.6495\n",
      "Epoch 6/20\n",
      "1400/1400 [==============================] - 2s 2ms/step - loss: 0.8853 - acc: 0.6507 - val_loss: 0.8834 - val_acc: 0.6487\n",
      "Epoch 7/20\n",
      "1400/1400 [==============================] - 2s 2ms/step - loss: 0.8840 - acc: 0.6510 - val_loss: 0.8816 - val_acc: 0.6498\n",
      "Epoch 8/20\n",
      "1400/1400 [==============================] - 3s 2ms/step - loss: 0.8845 - acc: 0.6515 - val_loss: 0.8821 - val_acc: 0.6502\n",
      "Epoch 9/20\n",
      "1400/1400 [==============================] - 3s 2ms/step - loss: 0.8836 - acc: 0.6525 - val_loss: 0.8827 - val_acc: 0.6482\n",
      "Epoch 10/20\n",
      "1400/1400 [==============================] - 3s 2ms/step - loss: 0.8835 - acc: 0.6517 - val_loss: 0.8802 - val_acc: 0.6510\n",
      "Epoch 11/20\n",
      "1400/1400 [==============================] - 3s 2ms/step - loss: 0.8824 - acc: 0.6517 - val_loss: 0.8833 - val_acc: 0.6482\n",
      "Epoch 12/20\n",
      "1400/1400 [==============================] - 3s 2ms/step - loss: 0.8827 - acc: 0.6521 - val_loss: 0.8808 - val_acc: 0.6508\n",
      "Epoch 13/20\n",
      "1400/1400 [==============================] - 4s 3ms/step - loss: 0.8815 - acc: 0.6522 - val_loss: 0.8811 - val_acc: 0.6497\n",
      "Epoch 14/20\n",
      "1400/1400 [==============================] - 3s 2ms/step - loss: 0.8801 - acc: 0.6519 - val_loss: 0.8792 - val_acc: 0.6506\n",
      "Epoch 15/20\n",
      "1400/1400 [==============================] - 3s 2ms/step - loss: 0.8794 - acc: 0.6530 - val_loss: 0.8803 - val_acc: 0.6491\n",
      "Epoch 16/20\n",
      "1400/1400 [==============================] - 3s 2ms/step - loss: 0.8793 - acc: 0.6527 - val_loss: 0.8787 - val_acc: 0.6497\n",
      "Epoch 17/20\n",
      "1400/1400 [==============================] - 3s 2ms/step - loss: 0.8805 - acc: 0.6528 - val_loss: 0.8783 - val_acc: 0.6512\n",
      "Epoch 18/20\n",
      "1400/1400 [==============================] - 3s 2ms/step - loss: 0.8795 - acc: 0.6536 - val_loss: 0.8777 - val_acc: 0.6498\n",
      "Epoch 19/20\n",
      "1400/1400 [==============================] - 3s 2ms/step - loss: 0.8797 - acc: 0.6523 - val_loss: 0.8774 - val_acc: 0.6500\n",
      "Epoch 20/20\n",
      "1400/1400 [==============================] - 3s 2ms/step - loss: 0.8786 - acc: 0.6522 - val_loss: 0.8777 - val_acc: 0.6496\n"
     ]
    }
   ],
   "source": [
    "history= model.fit(X_train, y_train,validation_data=(X_test, y_test), epochs=20, batch_size=64, callbacks=[early_stop]);"
   ]
  },
  {
   "cell_type": "markdown",
   "metadata": {},
   "source": [
    "### Visualization - Model's Performance"
   ]
  },
  {
   "cell_type": "code",
   "execution_count": 14,
   "metadata": {},
   "outputs": [
    {
     "data": {
      "image/png": "[encoded data removed]",
      "text/plain": [
       "<Figure size 1008x504 with 2 Axes>"
      ]
     },
     "metadata": {
      "needs_background": "light"
     },
     "output_type": "display_data"
    }
   ],
   "source": [
    "plt.figure(figsize=(14, 7))\n",
    "plt.subplot(1, 2, 1)\n",
    "\n",
    "plt.plot(history.history['loss'], label='Train Loss')\n",
    "plt.plot(history.history['val_loss'], label='Test loss')\n",
    "plt.xlabel('iterations') \n",
    "plt.ylabel('loss') \n",
    "plt.title(\"Loss Comparision\")\n",
    "plt.legend();\n",
    "\n",
    "plt.subplot(1, 2, 2)\n",
    "plt.plot(history.history['acc'], label='Train accuracy')\n",
    "plt.plot(history.history['val_acc'], label='Test accuracy')\n",
    "plt.xlabel('iterations') \n",
    "plt.ylabel('Accuracy') \n",
    "plt.title(\"Accuracy Comparision\")\n",
    "plt.legend();"
   ]
  },
  {
   "cell_type": "code",
   "execution_count": 17,
   "metadata": {},
   "outputs": [],
   "source": [
    "model.save(\"model.h5\")"
   ]
  },
  {
   "cell_type": "markdown",
   "metadata": {},
   "source": [
    "### Model Evaluation"
   ]
  },
  {
   "cell_type": "code",
   "execution_count": 18,
   "metadata": {},
   "outputs": [
    {
     "name": "stdout",
     "output_type": "stream",
     "text": [
      "4264/4264 [==============================] - 3s 684us/step - loss: 0.8777 - acc: 0.6496\n",
      "Loss :  0.8776691555976868\n",
      "accuracy :  0.6495543718338013\n"
     ]
    }
   ],
   "source": [
    "loss, accuracy = model.evaluate(X_test, y_test, batch_size=9)\n",
    "print(\"Loss : \", loss)\n",
    "print(\"accuracy : \", accuracy)"
   ]
  },
  {
   "cell_type": "markdown",
   "metadata": {},
   "source": [
    "## AdaBoost Classifier"
   ]
  },
  {
   "cell_type": "code",
   "execution_count": 19,
   "metadata": {},
   "outputs": [
    {
     "data": {
      "text/plain": [
       "AdaBoostClassifier(n_estimators=100, random_state=0)"
      ]
     },
     "execution_count": 19,
     "metadata": {},
     "output_type": "execute_result"
    }
   ],
   "source": [
    "ab = AdaBoostClassifier(n_estimators=100, random_state=0)\n",
    "ab.fit(X_train, y_train)"
   ]
  },
  {
   "cell_type": "markdown",
   "metadata": {},
   "source": [
    "### Predicting values"
   ]
  },
  {
   "cell_type": "code",
   "execution_count": 20,
   "metadata": {},
   "outputs": [],
   "source": [
    "y_pred_0 = ab.predict(X_train)\n",
    "y_pred_1 = ab.predict(X_test)"
   ]
  },
  {
   "cell_type": "code",
   "execution_count": 21,
   "metadata": {},
   "outputs": [
    {
     "name": "stdout",
     "output_type": "stream",
     "text": [
      "\n",
      "Train data\n",
      "Accuracy score   : 0.30478679443364826\n",
      "Balanced Accuracy: 0.17428353626914986\n",
      "precision score  : 0.37495807567391914\n",
      "Recall score     : 0.30478679443364826\n",
      "\n",
      "Test data\n",
      "Accuracy score   : 0.30601448897691147\n",
      "Balanced Accuracy: 0.16001369625757533\n",
      "precision score  : 0.3740361478003704\n",
      "Recall score     : 0.30601448897691147\n"
     ]
    }
   ],
   "source": [
    "print(\"\\nTrain data\")\n",
    "print(\"Accuracy score   :\",accuracy_score(y_train, y_pred_0))\n",
    "print(\"Balanced Accuracy:\",balanced_accuracy_score(y_train, y_pred_0))\n",
    "print(\"precision score  :\",precision_score(y_train, y_pred_0, average='weighted'))\n",
    "print(\"Recall score     :\",recall_score(y_train, y_pred_0, average='weighted'))\n",
    "\n",
    "print(\"\\nTest data\")\n",
    "print(\"Accuracy score   :\",accuracy_score(y_test, y_pred_1))\n",
    "print(\"Balanced Accuracy:\",balanced_accuracy_score(y_test, y_pred_1))\n",
    "print(\"precision score  :\",precision_score(y_test, y_pred_1, average='weighted'))\n",
    "print(\"Recall score     :\",recall_score(y_test, y_pred_1, average='weighted'))"
   ]
  },
  {
   "cell_type": "markdown",
   "metadata": {},
   "source": [
    "## Random Forest Classifier"
   ]
  },
  {
   "cell_type": "code",
   "execution_count": 22,
   "metadata": {},
   "outputs": [
    {
     "data": {
      "text/plain": [
       "RandomForestClassifier(criterion='entropy', n_estimators=20, random_state=42)"
      ]
     },
     "execution_count": 22,
     "metadata": {},
     "output_type": "execute_result"
    }
   ],
   "source": [
    "rf = RandomForestClassifier(n_estimators = 20, criterion = 'entropy', random_state = 42)\n",
    "rf.fit(X_train, y_train)"
   ]
  },
  {
   "cell_type": "markdown",
   "metadata": {},
   "source": [
    "### Predicting values"
   ]
  },
  {
   "cell_type": "code",
   "execution_count": 23,
   "metadata": {},
   "outputs": [],
   "source": [
    "y_pred_0 = rf.predict(X_train)\n",
    "y_pred_1 = rf.predict(X_test)"
   ]
  },
  {
   "cell_type": "markdown",
   "metadata": {},
   "source": [
    "### Model Evaluation"
   ]
  },
  {
   "cell_type": "code",
   "execution_count": 24,
   "metadata": {},
   "outputs": [
    {
     "name": "stdout",
     "output_type": "stream",
     "text": [
      "\n",
      "Train data\n",
      "Accuracy score   : 0.9880497665795528\n",
      "Balanced Accuracy: 0.9404276318302496\n",
      "precision score  : 0.9880038042287124\n",
      "Recall score     : 0.9880497665795528\n",
      "\n",
      "Test data\n",
      "Accuracy score   : 0.6637306509615886\n",
      "Balanced Accuracy: 0.32220220183854065\n",
      "precision score  : 0.6612037993031961\n",
      "Recall score     : 0.6637306509615886\n"
     ]
    }
   ],
   "source": [
    "print(\"\\nTrain data\")\n",
    "print(\"Accuracy score   :\",accuracy_score(y_train, y_pred_0))\n",
    "print(\"Balanced Accuracy:\",balanced_accuracy_score(y_train, y_pred_0))\n",
    "print(\"precision score  :\",precision_score(y_train, y_pred_0, average='weighted'))\n",
    "print(\"Recall score     :\",recall_score(y_train, y_pred_0, average='weighted'))\n",
    "\n",
    "print(\"\\nTest data\")\n",
    "print(\"Accuracy score   :\",accuracy_score(y_test, y_pred_1))\n",
    "print(\"Balanced Accuracy:\",balanced_accuracy_score(y_test, y_pred_1))\n",
    "print(\"precision score  :\",precision_score(y_test, y_pred_1, average='weighted'))\n",
    "print(\"Recall score     :\",recall_score(y_test, y_pred_1, average='weighted'))"
   ]
  },
  {
   "cell_type": "code",
   "execution_count": null,
   "metadata": {},
   "outputs": [],
   "source": []
  }
 ],
 "metadata": {
  "kernelspec": {
   "display_name": "Python 3",
   "language": "python",
   "name": "python3"
  },
  "language_info": {
   "codemirror_mode": {
    "name": "ipython",
    "version": 3
   },
   "file_extension": ".py",
   "mimetype": "text/x-python",
   "name": "python",
   "nbconvert_exporter": "python",
   "pygments_lexer": "ipython3",
   "version": "3.8.5"
  }
 },
 "nbformat": 4,
 "nbformat_minor": 4
}
