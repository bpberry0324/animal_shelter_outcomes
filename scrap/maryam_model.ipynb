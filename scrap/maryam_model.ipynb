{
 "cells": [
  {
   "cell_type": "code",
   "execution_count": 25,
   "metadata": {},
   "outputs": [],
   "source": [
    "import warnings\n",
    "warnings.filterwarnings('ignore')\n",
    "import tensorflow as tf\n",
    "from sklearn import metrics \n",
    "from sklearn.preprocessing import StandardScaler\n",
    "from tensorflow.keras.models import Sequential\n",
    "from tensorflow.keras.layers import Dense, Dropout, GRU\n",
    "from tensorflow.keras.callbacks import EarlyStopping\n",
    "from sklearn.metrics import confusion_matrix\n",
    "from sklearn.model_selection import train_test_split\n",
    "import pandas as pd\n",
    "import matplotlib.pyplot as plt"
   ]
  },
  {
   "cell_type": "code",
   "execution_count": 26,
   "metadata": {},
   "outputs": [
    {
     "data": {
      "text/html": [
       "<div>\n",
       "<style scoped>\n",
       "    .dataframe tbody tr th:only-of-type {\n",
       "        vertical-align: middle;\n",
       "    }\n",
       "\n",
       "    .dataframe tbody tr th {\n",
       "        vertical-align: top;\n",
       "    }\n",
       "\n",
       "    .dataframe thead th {\n",
       "        text-align: right;\n",
       "    }\n",
       "</style>\n",
       "<table border=\"1\" class=\"dataframe\">\n",
       "  <thead>\n",
       "    <tr style=\"text-align: right;\">\n",
       "      <th></th>\n",
       "      <th>id_count</th>\n",
       "      <th>intake_type</th>\n",
       "      <th>animal_type</th>\n",
       "      <th>intake_sex</th>\n",
       "      <th>intake_age</th>\n",
       "      <th>breed</th>\n",
       "      <th>color</th>\n",
       "      <th>is_named</th>\n",
       "      <th>intake_year</th>\n",
       "      <th>intake_month</th>\n",
       "      <th>intake_day</th>\n",
       "      <th>outcome_type</th>\n",
       "      <th>outcome_sex</th>\n",
       "      <th>outcome_age</th>\n",
       "      <th>outcome_year</th>\n",
       "      <th>outcome_month</th>\n",
       "      <th>outcome_day</th>\n",
       "    </tr>\n",
       "  </thead>\n",
       "  <tbody>\n",
       "    <tr>\n",
       "      <th>0</th>\n",
       "      <td>A006100-1</td>\n",
       "      <td>3</td>\n",
       "      <td>2</td>\n",
       "      <td>2</td>\n",
       "      <td>6.0</td>\n",
       "      <td>2438</td>\n",
       "      <td>597</td>\n",
       "      <td>1</td>\n",
       "      <td>2014</td>\n",
       "      <td>3</td>\n",
       "      <td>0</td>\n",
       "      <td>6</td>\n",
       "      <td>2</td>\n",
       "      <td>6.0</td>\n",
       "      <td>2014</td>\n",
       "      <td>3</td>\n",
       "      <td>2</td>\n",
       "    </tr>\n",
       "    <tr>\n",
       "      <th>1</th>\n",
       "      <td>A006100-2</td>\n",
       "      <td>3</td>\n",
       "      <td>2</td>\n",
       "      <td>2</td>\n",
       "      <td>7.0</td>\n",
       "      <td>2438</td>\n",
       "      <td>597</td>\n",
       "      <td>1</td>\n",
       "      <td>2014</td>\n",
       "      <td>12</td>\n",
       "      <td>0</td>\n",
       "      <td>6</td>\n",
       "      <td>2</td>\n",
       "      <td>7.0</td>\n",
       "      <td>2014</td>\n",
       "      <td>12</td>\n",
       "      <td>2</td>\n",
       "    </tr>\n",
       "    <tr>\n",
       "      <th>2</th>\n",
       "      <td>A006100-3</td>\n",
       "      <td>4</td>\n",
       "      <td>2</td>\n",
       "      <td>2</td>\n",
       "      <td>1.0</td>\n",
       "      <td>2438</td>\n",
       "      <td>597</td>\n",
       "      <td>1</td>\n",
       "      <td>2017</td>\n",
       "      <td>12</td>\n",
       "      <td>4</td>\n",
       "      <td>6</td>\n",
       "      <td>2</td>\n",
       "      <td>1.0</td>\n",
       "      <td>2017</td>\n",
       "      <td>12</td>\n",
       "      <td>4</td>\n",
       "    </tr>\n",
       "    <tr>\n",
       "      <th>3</th>\n",
       "      <td>A047759-1</td>\n",
       "      <td>2</td>\n",
       "      <td>2</td>\n",
       "      <td>2</td>\n",
       "      <td>1.0</td>\n",
       "      <td>1033</td>\n",
       "      <td>512</td>\n",
       "      <td>1</td>\n",
       "      <td>2014</td>\n",
       "      <td>4</td>\n",
       "      <td>6</td>\n",
       "      <td>8</td>\n",
       "      <td>2</td>\n",
       "      <td>1.0</td>\n",
       "      <td>2014</td>\n",
       "      <td>4</td>\n",
       "      <td>1</td>\n",
       "    </tr>\n",
       "    <tr>\n",
       "      <th>4</th>\n",
       "      <td>A134067-1</td>\n",
       "      <td>3</td>\n",
       "      <td>2</td>\n",
       "      <td>2</td>\n",
       "      <td>1.0</td>\n",
       "      <td>2317</td>\n",
       "      <td>203</td>\n",
       "      <td>1</td>\n",
       "      <td>2013</td>\n",
       "      <td>11</td>\n",
       "      <td>2</td>\n",
       "      <td>6</td>\n",
       "      <td>2</td>\n",
       "      <td>1.0</td>\n",
       "      <td>2013</td>\n",
       "      <td>11</td>\n",
       "      <td>2</td>\n",
       "    </tr>\n",
       "  </tbody>\n",
       "</table>\n",
       "</div>"
      ],
      "text/plain": [
       "    id_count  intake_type  animal_type  intake_sex  intake_age  breed  color  \\\n",
       "0  A006100-1            3            2           2         6.0   2438    597   \n",
       "1  A006100-2            3            2           2         7.0   2438    597   \n",
       "2  A006100-3            4            2           2         1.0   2438    597   \n",
       "3  A047759-1            2            2           2         1.0   1033    512   \n",
       "4  A134067-1            3            2           2         1.0   2317    203   \n",
       "\n",
       "   is_named  intake_year  intake_month  intake_day  outcome_type  outcome_sex  \\\n",
       "0         1         2014             3           0             6            2   \n",
       "1         1         2014            12           0             6            2   \n",
       "2         1         2017            12           4             6            2   \n",
       "3         1         2014             4           6             8            2   \n",
       "4         1         2013            11           2             6            2   \n",
       "\n",
       "   outcome_age  outcome_year  outcome_month  outcome_day  \n",
       "0          6.0          2014              3            2  \n",
       "1          7.0          2014             12            2  \n",
       "2          1.0          2017             12            4  \n",
       "3          1.0          2014              4            1  \n",
       "4          1.0          2013             11            2  "
      ]
     },
     "execution_count": 26,
     "metadata": {},
     "output_type": "execute_result"
    }
   ],
   "source": [
    "df = pd.read_csv('datasets/final_data.csv')\n",
    "df.head()"
   ]
  },
  {
   "cell_type": "code",
   "execution_count": 27,
   "metadata": {},
   "outputs": [],
   "source": [
    "y = df['outcome_type']\n",
    "X = df.drop(['outcome_type','id_count'], axis = 1)"
   ]
  },
  {
   "cell_type": "code",
   "execution_count": 28,
   "metadata": {},
   "outputs": [],
   "source": [
    "X_train, X_test, y_train, y_test = train_test_split(X,y, test_size=.30, random_state=43)"
   ]
  },
  {
   "cell_type": "code",
   "execution_count": 29,
   "metadata": {},
   "outputs": [],
   "source": [
    "sc = StandardScaler()\n",
    "X_train = sc.fit_transform(X_train)\n",
    "X_test = sc.transform(X_test)"
   ]
  },
  {
   "cell_type": "code",
   "execution_count": 30,
   "metadata": {},
   "outputs": [
    {
     "data": {
      "text/plain": [
       "(127889, 15)"
      ]
     },
     "execution_count": 30,
     "metadata": {},
     "output_type": "execute_result"
    }
   ],
   "source": [
    "X.shape"
   ]
  },
  {
   "cell_type": "code",
   "execution_count": 31,
   "metadata": {},
   "outputs": [],
   "source": [
    "model = Sequential()\n",
    "model.add(Dense(activation = \"relu\", input_dim = 15, units = 100))\n",
    "model.add(Dropout(rate=0.2))\n",
    "model.add(Dense(activation = \"relu\", units = 80))\n",
    "model.add(Dropout(rate=0.4))\n",
    "model.add(Dense(activation = \"softmax\", units = 25))\n",
    "model.add(Dense(activation = \"softmax\", units = 9))"
   ]
  },
  {
   "cell_type": "code",
   "execution_count": 32,
   "metadata": {},
   "outputs": [
    {
     "name": "stdout",
     "output_type": "stream",
     "text": [
      "Model: \"sequential_2\"\n",
      "_________________________________________________________________\n",
      "Layer (type)                 Output Shape              Param #   \n",
      "=================================================================\n",
      "dense_8 (Dense)              (None, 100)               1600      \n",
      "_________________________________________________________________\n",
      "dropout_4 (Dropout)          (None, 100)               0         \n",
      "_________________________________________________________________\n",
      "dense_9 (Dense)              (None, 80)                8080      \n",
      "_________________________________________________________________\n",
      "dropout_5 (Dropout)          (None, 80)                0         \n",
      "_________________________________________________________________\n",
      "dense_10 (Dense)             (None, 25)                2025      \n",
      "_________________________________________________________________\n",
      "dense_11 (Dense)             (None, 9)                 234       \n",
      "=================================================================\n",
      "Total params: 11,939\n",
      "Trainable params: 11,939\n",
      "Non-trainable params: 0\n",
      "_________________________________________________________________\n"
     ]
    }
   ],
   "source": [
    "model.summary()"
   ]
  },
  {
   "cell_type": "code",
   "execution_count": 33,
   "metadata": {},
   "outputs": [],
   "source": [
    "model.compile(optimizer = 'adam' ,  loss='sparse_categorical_crossentropy', metrics=['acc'] )"
   ]
  },
  {
   "cell_type": "code",
   "execution_count": 34,
   "metadata": {},
   "outputs": [],
   "source": [
    "early_stop = EarlyStopping(patience=5)"
   ]
  },
  {
   "cell_type": "code",
   "execution_count": 35,
   "metadata": {
    "scrolled": true
   },
   "outputs": [
    {
     "name": "stdout",
     "output_type": "stream",
     "text": [
      "Epoch 1/10\n",
      "9947/9947 [==============================] - 24s 2ms/step - loss: 0.9352 - acc: 0.6983 - val_loss: 0.7999 - val_acc: 0.7422\n",
      "Epoch 2/10\n",
      "9947/9947 [==============================] - 22s 2ms/step - loss: 0.7862 - acc: 0.7406 - val_loss: 0.7555 - val_acc: 0.7511\n",
      "Epoch 3/10\n",
      "9947/9947 [==============================] - 23s 2ms/step - loss: 0.7551 - acc: 0.7462 - val_loss: 0.7275 - val_acc: 0.7551\n",
      "Epoch 4/10\n",
      "9947/9947 [==============================] - 21s 2ms/step - loss: 0.7388 - acc: 0.7482 - val_loss: 0.7201 - val_acc: 0.7574\n",
      "Epoch 5/10\n",
      "9947/9947 [==============================] - 30s 3ms/step - loss: 0.7316 - acc: 0.7499 - val_loss: 0.7143 - val_acc: 0.7576\n",
      "Epoch 6/10\n",
      "9947/9947 [==============================] - 30s 3ms/step - loss: 0.7248 - acc: 0.7528 - val_loss: 0.7132 - val_acc: 0.7574\n",
      "Epoch 7/10\n",
      "9947/9947 [==============================] - 28s 3ms/step - loss: 0.7224 - acc: 0.7531 - val_loss: 0.7076 - val_acc: 0.7586\n",
      "Epoch 8/10\n",
      "9947/9947 [==============================] - 23s 2ms/step - loss: 0.7199 - acc: 0.7525 - val_loss: 0.7056 - val_acc: 0.7592\n",
      "Epoch 9/10\n",
      "9947/9947 [==============================] - 28s 3ms/step - loss: 0.7176 - acc: 0.7533 - val_loss: 0.7028 - val_acc: 0.7608\n",
      "Epoch 10/10\n",
      "9947/9947 [==============================] - 28s 3ms/step - loss: 0.7149 - acc: 0.7542 - val_loss: 0.7004 - val_acc: 0.7616\n"
     ]
    }
   ],
   "source": [
    "history= model.fit(X_train, y_train,validation_data=(X_test, y_test), epochs=10,batch_size=9,callbacks=[early_stop]);"
   ]
  },
  {
   "cell_type": "code",
   "execution_count": 36,
   "metadata": {},
   "outputs": [
    {
     "data": {
      "image/png": "[encoded data removed]",
      "text/plain": [
       "<Figure size 1008x504 with 2 Axes>"
      ]
     },
     "metadata": {
      "needs_background": "light"
     },
     "output_type": "display_data"
    }
   ],
   "source": [
    "plt.figure(figsize=(14, 7))\n",
    "plt.subplot(1, 2, 1)\n",
    "\n",
    "plt.plot(history.history['loss'], label='Train Loss')\n",
    "plt.plot(history.history['val_loss'], label='Test loss')\n",
    "plt.xlabel('iterations') \n",
    "plt.ylabel('loss') \n",
    "plt.title(\"Loss Comparision\")\n",
    "plt.legend();\n",
    "\n",
    "plt.subplot(1, 2, 2)\n",
    "plt.plot(history.history['acc'], label='Train accuracy')\n",
    "plt.plot(history.history['val_acc'], label='Test accuracy')\n",
    "plt.xlabel('iterations') \n",
    "plt.ylabel('Accuracy') \n",
    "plt.title(\"Accuracy Comparision\")\n",
    "plt.legend();"
   ]
  },
  {
   "cell_type": "code",
   "execution_count": 37,
   "metadata": {},
   "outputs": [],
   "source": [
    "model.save(\"my_model.h5\")"
   ]
  },
  {
   "cell_type": "code",
   "execution_count": 38,
   "metadata": {},
   "outputs": [
    {
     "name": "stdout",
     "output_type": "stream",
     "text": [
      "4263/4263 [==============================] - 5s 1ms/step - loss: 0.7004 - acc: 0.7616\n",
      "Loss :  0.700409471988678\n",
      "accuracy :  0.7615919709205627\n"
     ]
    }
   ],
   "source": [
    "loss, accuracy = model.evaluate(X_test, y_test, batch_size=9)\n",
    "print(\"Loss : \", loss)\n",
    "print(\"accuracy : \", accuracy)"
   ]
  },
  {
   "cell_type": "code",
   "execution_count": null,
   "metadata": {},
   "outputs": [],
   "source": []
  }
 ],
 "metadata": {
  "kernelspec": {
   "display_name": "Python 3",
   "language": "python",
   "name": "python3"
  },
  "language_info": {
   "codemirror_mode": {
    "name": "ipython",
    "version": 3
   },
   "file_extension": ".py",
   "mimetype": "text/x-python",
   "name": "python",
   "nbconvert_exporter": "python",
   "pygments_lexer": "ipython3",
   "version": "3.8.5"
  }
 },
 "nbformat": 4,
 "nbformat_minor": 4
}
